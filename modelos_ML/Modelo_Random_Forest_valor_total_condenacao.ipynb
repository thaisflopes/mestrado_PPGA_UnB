{
  "cells": [
    {
      "cell_type": "markdown",
      "metadata": {
        "id": "view-in-github",
        "colab_type": "text"
      },
      "source": [
        "<a href=\"https://colab.research.google.com/github/thaisflopes/mestrado_PPGA_UnB/blob/main/modelos_ML/Modelo_Random_Forest_valor_total_condenacao.ipynb\" target=\"_parent\"><img src=\"https://colab.research.google.com/assets/colab-badge.svg\" alt=\"Open In Colab\"/></a>"
      ]
    },
    {
      "cell_type": "code",
      "execution_count": null,
      "metadata": {
        "id": "PW92CVu4MnQD"
      },
      "outputs": [],
      "source": [
        "#Bibliotecas\n",
        "import pandas as pd\n",
        "import numpy as np\n",
        "import time\n",
        "from sklearn.compose import ColumnTransformer\n",
        "from sklearn.preprocessing import LabelEncoder, OneHotEncoder, MinMaxScaler\n",
        "from sklearn.model_selection import train_test_split\n",
        "from imblearn.under_sampling import RandomUnderSampler\n",
        "from sklearn.metrics import precision_score, accuracy_score, recall_score, f1_score, roc_auc_score, confusion_matrix\n",
        "from sklearn.ensemble import RandomForestClassifier\n",
        "from sklearn.inspection import permutation_importance\n",
        "import matplotlib.pyplot as plt\n",
        "import seaborn as sns"
      ]
    },
    {
      "cell_type": "code",
      "execution_count": null,
      "metadata": {
        "id": "xkHutfqzMvbX"
      },
      "outputs": [],
      "source": [
        "#Início da contagem de tempo\n",
        "inicio = time.time()"
      ]
    },
    {
      "cell_type": "markdown",
      "metadata": {
        "id": "xEjYBlU1746M"
      },
      "source": [
        "### Baixando bases de dados"
      ]
    },
    {
      "cell_type": "code",
      "execution_count": null,
      "metadata": {
        "id": "HSkfXRDvM0Xn"
      },
      "outputs": [],
      "source": [
        "#Baixando dados pelo Anaconda\n",
        "data = pd.read_csv('dados_modelos_ML.csv')"
      ]
    },
    {
      "cell_type": "code",
      "execution_count": null,
      "metadata": {
        "colab": {
          "base_uri": "https://localhost:8080/"
        },
        "id": "0R-iZVkeMyek",
        "outputId": "699fd54b-5860-4762-b135-57b93e97d5ef"
      },
      "outputs": [
        {
          "name": "stdout",
          "output_type": "stream",
          "text": [
            "\n",
            " Tipos de dados do DataFrame:\n",
            " empresa_re                      object\n",
            "num_proc_ano                     int64\n",
            "operacao                        object\n",
            "jurisdicao                      object\n",
            "instancia                       object\n",
            "situacao_processual_sentenca    object\n",
            "n_autores                        int64\n",
            "valor_pedido_inicial            object\n",
            "valor_dano_moral                object\n",
            "valor_dano_material             object\n",
            "valor_total_condenacao          object\n",
            "obj_problemas_operacionais        bool\n",
            "obj_bagagem                       bool\n",
            "obj_contrato                      bool\n",
            "obj_outros                        bool\n",
            "causa_nao_informado               bool\n",
            "causa_forca_maior                 bool\n",
            "causa_fortuitos                   bool\n",
            "causa_terceiros                   bool\n",
            "causa_cliente                     bool\n",
            "causa_aerea                       bool\n",
            "causa_outros                      bool\n",
            "mes_distribuicao                 int64\n",
            "regiao                          object\n",
            "dtype: object\n"
          ]
        }
      ],
      "source": [
        "#Visualizando dados\n",
        "print('\\n Tipos de dados do DataFrame:\\n', data.dtypes)"
      ]
    },
    {
      "cell_type": "code",
      "execution_count": null,
      "metadata": {
        "colab": {
          "base_uri": "https://localhost:8080/"
        },
        "id": "LCpm2wJ1PnpA",
        "outputId": "870ca54e-1061-4c11-d30c-2970ece75fd8"
      },
      "outputs": [
        {
          "name": "stdout",
          "output_type": "stream",
          "text": [
            "valor_total_condenacao\n",
            "Baixo    103018\n",
            "Médio     77477\n",
            "Alto      26799\n",
            "Name: count, dtype: int64\n"
          ]
        }
      ],
      "source": [
        "# Verificando a distribuição da classe\n",
        "print(data['valor_total_condenacao'].value_counts())"
      ]
    },
    {
      "cell_type": "markdown",
      "metadata": {
        "id": "ZDZv5yid746P"
      },
      "source": [
        "### Preparando inputs e output"
      ]
    },
    {
      "cell_type": "code",
      "execution_count": null,
      "metadata": {
        "id": "FpgxMNTdNC-O"
      },
      "outputs": [],
      "source": [
        "#Separando inputs e output\n",
        "X = data.drop(['valor_total_condenacao'], axis=1)\n",
        "y = data['valor_total_condenacao']"
      ]
    },
    {
      "cell_type": "markdown",
      "metadata": {
        "id": "QvKOu1uj746P"
      },
      "source": [
        "### Transformando dados categóricos para numéricos"
      ]
    },
    {
      "cell_type": "markdown",
      "metadata": {
        "id": "8DopdQNKPnpB"
      },
      "source": [
        "#### X"
      ]
    },
    {
      "cell_type": "code",
      "execution_count": null,
      "metadata": {
        "id": "KAoLWVmETdGz"
      },
      "outputs": [],
      "source": [
        "# Dividindo as variáveis numéricas e categóricas\n",
        "categorical_columns = X.select_dtypes(include=['object']).columns\n",
        "numeric_columns = X.select_dtypes(exclude=['object']).columns"
      ]
    },
    {
      "cell_type": "code",
      "execution_count": null,
      "metadata": {
        "id": "22WdvrK0PnpB"
      },
      "outputs": [],
      "source": [
        "# Definindo as transformações\n",
        "preprocessor = ColumnTransformer(\n",
        "    transformers=[\n",
        "        ('cat', OneHotEncoder(handle_unknown='ignore', sparse_output=False), categorical_columns), # Transformando as colunas categóricas por OneHotEncoder\n",
        "        ('num', MinMaxScaler(), numeric_columns)  # Escalando as variáveis numéricas para o intervalo [0, 1]\n",
        "    ])"
      ]
    },
    {
      "cell_type": "code",
      "execution_count": null,
      "metadata": {
        "colab": {
          "base_uri": "https://localhost:8080/"
        },
        "id": "4g84RlQePnpB",
        "outputId": "e59b55ff-bb23-48cd-93ee-f6f6740eec97"
      },
      "outputs": [
        {
          "name": "stdout",
          "output_type": "stream",
          "text": [
            "\n",
            "Atributos codificados:\n",
            " [[1.         0.         0.         ... 0.         0.         0.08333333]\n",
            " [1.         0.         0.         ... 0.         0.         0.08333333]\n",
            " [1.         0.         0.         ... 0.         0.         0.08333333]\n",
            " ...\n",
            " [0.         0.         0.         ... 0.         0.         0.58333333]\n",
            " [0.         0.         0.         ... 0.         0.         0.58333333]\n",
            " [0.         0.         0.         ... 0.         0.         0.58333333]]\n"
          ]
        }
      ],
      "source": [
        "# Aplicando as transformações\n",
        "X_ajustado = preprocessor.fit_transform(X)\n",
        "print('\\nAtributos codificados:\\n', X_ajustado)"
      ]
    },
    {
      "cell_type": "markdown",
      "metadata": {
        "id": "xgOnOad0PnpB"
      },
      "source": [
        "#### y"
      ]
    },
    {
      "cell_type": "code",
      "execution_count": null,
      "metadata": {
        "colab": {
          "base_uri": "https://localhost:8080/"
        },
        "id": "dnbOUKYdTdGz",
        "outputId": "02af0ba3-56bc-4930-8aa2-15ab8c040bda"
      },
      "outputs": [
        {
          "name": "stdout",
          "output_type": "stream",
          "text": [
            "\n",
            "Classes encoded:\n",
            " [1 1 2 ... 1 2 1]\n"
          ]
        }
      ],
      "source": [
        "#Transformando a classe a ser predita por LabelEncoder\n",
        "\n",
        "#Definindo a ordem desejada\n",
        "le = LabelEncoder()\n",
        "le.fit(['Baixo', 'Médio', 'Alto'])\n",
        "\n",
        "#Transformando as classes\n",
        "y_ajustado = le.transform(y)\n",
        "print('\\nClasses encoded:\\n', y_ajustado)"
      ]
    },
    {
      "cell_type": "markdown",
      "metadata": {
        "id": "lZwmeVwqTdG0"
      },
      "source": [
        "### Dividindo dados de treino e teste"
      ]
    },
    {
      "cell_type": "code",
      "execution_count": null,
      "metadata": {
        "id": "Cbp_hBnhTdG0"
      },
      "outputs": [],
      "source": [
        "#Usamos train_test_split com a opção stratify=y para garantir que cada conjunto (treino e teste) mantenha a proporção das categorias.\n",
        "X_train, X_test, y_train, y_test = train_test_split(X_ajustado, y_ajustado, test_size=0.2, stratify=y_ajustado, random_state=42)"
      ]
    },
    {
      "cell_type": "code",
      "execution_count": null,
      "metadata": {
        "colab": {
          "base_uri": "https://localhost:8080/"
        },
        "id": "cB5exsOKPnpC",
        "outputId": "812153ef-5927-4dfe-8309-052d8900b90b"
      },
      "outputs": [
        {
          "data": {
            "text/plain": [
              "((165835, 45), (41459, 45), (165835,), (41459,))"
            ]
          },
          "execution_count": 18,
          "metadata": {},
          "output_type": "execute_result"
        }
      ],
      "source": [
        "#Verificando tamanho das bases\n",
        "X_train.shape, X_test.shape, y_train.shape, y_test.shape"
      ]
    },
    {
      "cell_type": "markdown",
      "metadata": {
        "id": "U20-yrnx746P"
      },
      "source": [
        "### Modelo Random Forest"
      ]
    },
    {
      "cell_type": "code",
      "execution_count": null,
      "metadata": {
        "id": "VUpRbABX8aib"
      },
      "outputs": [],
      "source": [
        "#Instanciando o modelo\n",
        "rf = RandomForestClassifier(bootstrap=True, n_jobs=-1, random_state=42, n_estimators=1000, min_samples_split=4, max_depth=12, criterion='gini')"
      ]
    },
    {
      "cell_type": "code",
      "execution_count": null,
      "metadata": {
        "colab": {
          "base_uri": "https://localhost:8080/"
        },
        "id": "-3DRSWnMbwhi",
        "outputId": "f26a0b50-8167-4b73-d0f0-627b76b97e9b"
      },
      "outputs": [
        {
          "name": "stdout",
          "output_type": "stream",
          "text": [
            "1    82414\n",
            "2    61982\n",
            "0    21439\n",
            "Name: count, dtype: int64\n"
          ]
        }
      ],
      "source": [
        "# Transformando y_train em um DataFrame para utilizar value_counts\n",
        "y_train_df = pd.Series(y_train)\n",
        "\n",
        "# Exibindo a distribuição de classes\n",
        "print(y_train_df.value_counts())"
      ]
    },
    {
      "cell_type": "markdown",
      "metadata": {
        "id": "3DnkeJemPnpC"
      },
      "source": [
        "#### Com balanceamento dos dados"
      ]
    },
    {
      "cell_type": "code",
      "execution_count": null,
      "metadata": {
        "id": "VMkNs7xIPnpC"
      },
      "outputs": [],
      "source": [
        "# Aplicando undersampling aos dados de treino\n",
        "rus = RandomUnderSampler(sampling_strategy='auto', random_state=42)\n",
        "X_train_resampled, y_train_resampled = rus.fit_resample(X_train, y_train)"
      ]
    },
    {
      "cell_type": "code",
      "execution_count": null,
      "metadata": {
        "colab": {
          "base_uri": "https://localhost:8080/"
        },
        "id": "agfYzo0JPnpC",
        "outputId": "5cdd7277-9a27-49f8-88c1-f6372a6d8a3f"
      },
      "outputs": [
        {
          "data": {
            "text/plain": [
              "((64317, 45), (64317,))"
            ]
          },
          "execution_count": 24,
          "metadata": {},
          "output_type": "execute_result"
        }
      ],
      "source": [
        "#Verificando tamanho das bases\n",
        "X_train_resampled.shape, y_train_resampled.shape"
      ]
    },
    {
      "cell_type": "code",
      "execution_count": null,
      "metadata": {
        "colab": {
          "base_uri": "https://localhost:8080/"
        },
        "id": "SJq_2bIgPnpC",
        "outputId": "da7fd097-6fa0-4f97-d0e7-ab4b1f23d771"
      },
      "outputs": [
        {
          "name": "stdout",
          "output_type": "stream",
          "text": [
            "0    21439\n",
            "1    21439\n",
            "2    21439\n",
            "Name: count, dtype: int64\n"
          ]
        }
      ],
      "source": [
        "# Transformando y_train_resampled em um DataFrame para utilizar value_counts\n",
        "y_train_resampled_df = pd.Series(y_train_resampled)\n",
        "\n",
        "# Exibindo a distribuição de classes\n",
        "print(y_train_resampled_df.value_counts())"
      ]
    },
    {
      "cell_type": "code",
      "execution_count": null,
      "metadata": {
        "colab": {
          "base_uri": "https://localhost:8080/",
          "height": 98
        },
        "id": "AsVPKfB-PnpC",
        "outputId": "e8ff00ee-12c3-427d-ccb3-cd33df8f6f97"
      },
      "outputs": [
        {
          "data": {
            "text/html": [
              "<style>#sk-container-id-1 {\n",
              "  /* Definition of color scheme common for light and dark mode */\n",
              "  --sklearn-color-text: black;\n",
              "  --sklearn-color-line: gray;\n",
              "  /* Definition of color scheme for unfitted estimators */\n",
              "  --sklearn-color-unfitted-level-0: #fff5e6;\n",
              "  --sklearn-color-unfitted-level-1: #f6e4d2;\n",
              "  --sklearn-color-unfitted-level-2: #ffe0b3;\n",
              "  --sklearn-color-unfitted-level-3: chocolate;\n",
              "  /* Definition of color scheme for fitted estimators */\n",
              "  --sklearn-color-fitted-level-0: #f0f8ff;\n",
              "  --sklearn-color-fitted-level-1: #d4ebff;\n",
              "  --sklearn-color-fitted-level-2: #b3dbfd;\n",
              "  --sklearn-color-fitted-level-3: cornflowerblue;\n",
              "\n",
              "  /* Specific color for light theme */\n",
              "  --sklearn-color-text-on-default-background: var(--sg-text-color, var(--theme-code-foreground, var(--jp-content-font-color1, black)));\n",
              "  --sklearn-color-background: var(--sg-background-color, var(--theme-background, var(--jp-layout-color0, white)));\n",
              "  --sklearn-color-border-box: var(--sg-text-color, var(--theme-code-foreground, var(--jp-content-font-color1, black)));\n",
              "  --sklearn-color-icon: #696969;\n",
              "\n",
              "  @media (prefers-color-scheme: dark) {\n",
              "    /* Redefinition of color scheme for dark theme */\n",
              "    --sklearn-color-text-on-default-background: var(--sg-text-color, var(--theme-code-foreground, var(--jp-content-font-color1, white)));\n",
              "    --sklearn-color-background: var(--sg-background-color, var(--theme-background, var(--jp-layout-color0, #111)));\n",
              "    --sklearn-color-border-box: var(--sg-text-color, var(--theme-code-foreground, var(--jp-content-font-color1, white)));\n",
              "    --sklearn-color-icon: #878787;\n",
              "  }\n",
              "}\n",
              "\n",
              "#sk-container-id-1 {\n",
              "  color: var(--sklearn-color-text);\n",
              "}\n",
              "\n",
              "#sk-container-id-1 pre {\n",
              "  padding: 0;\n",
              "}\n",
              "\n",
              "#sk-container-id-1 input.sk-hidden--visually {\n",
              "  border: 0;\n",
              "  clip: rect(1px 1px 1px 1px);\n",
              "  clip: rect(1px, 1px, 1px, 1px);\n",
              "  height: 1px;\n",
              "  margin: -1px;\n",
              "  overflow: hidden;\n",
              "  padding: 0;\n",
              "  position: absolute;\n",
              "  width: 1px;\n",
              "}\n",
              "\n",
              "#sk-container-id-1 div.sk-dashed-wrapped {\n",
              "  border: 1px dashed var(--sklearn-color-line);\n",
              "  margin: 0 0.4em 0.5em 0.4em;\n",
              "  box-sizing: border-box;\n",
              "  padding-bottom: 0.4em;\n",
              "  background-color: var(--sklearn-color-background);\n",
              "}\n",
              "\n",
              "#sk-container-id-1 div.sk-container {\n",
              "  /* jupyter's `normalize.less` sets `[hidden] { display: none; }`\n",
              "     but bootstrap.min.css set `[hidden] { display: none !important; }`\n",
              "     so we also need the `!important` here to be able to override the\n",
              "     default hidden behavior on the sphinx rendered scikit-learn.org.\n",
              "     See: https://github.com/scikit-learn/scikit-learn/issues/21755 */\n",
              "  display: inline-block !important;\n",
              "  position: relative;\n",
              "}\n",
              "\n",
              "#sk-container-id-1 div.sk-text-repr-fallback {\n",
              "  display: none;\n",
              "}\n",
              "\n",
              "div.sk-parallel-item,\n",
              "div.sk-serial,\n",
              "div.sk-item {\n",
              "  /* draw centered vertical line to link estimators */\n",
              "  background-image: linear-gradient(var(--sklearn-color-text-on-default-background), var(--sklearn-color-text-on-default-background));\n",
              "  background-size: 2px 100%;\n",
              "  background-repeat: no-repeat;\n",
              "  background-position: center center;\n",
              "}\n",
              "\n",
              "/* Parallel-specific style estimator block */\n",
              "\n",
              "#sk-container-id-1 div.sk-parallel-item::after {\n",
              "  content: \"\";\n",
              "  width: 100%;\n",
              "  border-bottom: 2px solid var(--sklearn-color-text-on-default-background);\n",
              "  flex-grow: 1;\n",
              "}\n",
              "\n",
              "#sk-container-id-1 div.sk-parallel {\n",
              "  display: flex;\n",
              "  align-items: stretch;\n",
              "  justify-content: center;\n",
              "  background-color: var(--sklearn-color-background);\n",
              "  position: relative;\n",
              "}\n",
              "\n",
              "#sk-container-id-1 div.sk-parallel-item {\n",
              "  display: flex;\n",
              "  flex-direction: column;\n",
              "}\n",
              "\n",
              "#sk-container-id-1 div.sk-parallel-item:first-child::after {\n",
              "  align-self: flex-end;\n",
              "  width: 50%;\n",
              "}\n",
              "\n",
              "#sk-container-id-1 div.sk-parallel-item:last-child::after {\n",
              "  align-self: flex-start;\n",
              "  width: 50%;\n",
              "}\n",
              "\n",
              "#sk-container-id-1 div.sk-parallel-item:only-child::after {\n",
              "  width: 0;\n",
              "}\n",
              "\n",
              "/* Serial-specific style estimator block */\n",
              "\n",
              "#sk-container-id-1 div.sk-serial {\n",
              "  display: flex;\n",
              "  flex-direction: column;\n",
              "  align-items: center;\n",
              "  background-color: var(--sklearn-color-background);\n",
              "  padding-right: 1em;\n",
              "  padding-left: 1em;\n",
              "}\n",
              "\n",
              "\n",
              "/* Toggleable style: style used for estimator/Pipeline/ColumnTransformer box that is\n",
              "clickable and can be expanded/collapsed.\n",
              "- Pipeline and ColumnTransformer use this feature and define the default style\n",
              "- Estimators will overwrite some part of the style using the `sk-estimator` class\n",
              "*/\n",
              "\n",
              "/* Pipeline and ColumnTransformer style (default) */\n",
              "\n",
              "#sk-container-id-1 div.sk-toggleable {\n",
              "  /* Default theme specific background. It is overwritten whether we have a\n",
              "  specific estimator or a Pipeline/ColumnTransformer */\n",
              "  background-color: var(--sklearn-color-background);\n",
              "}\n",
              "\n",
              "/* Toggleable label */\n",
              "#sk-container-id-1 label.sk-toggleable__label {\n",
              "  cursor: pointer;\n",
              "  display: block;\n",
              "  width: 100%;\n",
              "  margin-bottom: 0;\n",
              "  padding: 0.5em;\n",
              "  box-sizing: border-box;\n",
              "  text-align: center;\n",
              "}\n",
              "\n",
              "#sk-container-id-1 label.sk-toggleable__label-arrow:before {\n",
              "  /* Arrow on the left of the label */\n",
              "  content: \"▸\";\n",
              "  float: left;\n",
              "  margin-right: 0.25em;\n",
              "  color: var(--sklearn-color-icon);\n",
              "}\n",
              "\n",
              "#sk-container-id-1 label.sk-toggleable__label-arrow:hover:before {\n",
              "  color: var(--sklearn-color-text);\n",
              "}\n",
              "\n",
              "/* Toggleable content - dropdown */\n",
              "\n",
              "#sk-container-id-1 div.sk-toggleable__content {\n",
              "  max-height: 0;\n",
              "  max-width: 0;\n",
              "  overflow: hidden;\n",
              "  text-align: left;\n",
              "  /* unfitted */\n",
              "  background-color: var(--sklearn-color-unfitted-level-0);\n",
              "}\n",
              "\n",
              "#sk-container-id-1 div.sk-toggleable__content.fitted {\n",
              "  /* fitted */\n",
              "  background-color: var(--sklearn-color-fitted-level-0);\n",
              "}\n",
              "\n",
              "#sk-container-id-1 div.sk-toggleable__content pre {\n",
              "  margin: 0.2em;\n",
              "  border-radius: 0.25em;\n",
              "  color: var(--sklearn-color-text);\n",
              "  /* unfitted */\n",
              "  background-color: var(--sklearn-color-unfitted-level-0);\n",
              "}\n",
              "\n",
              "#sk-container-id-1 div.sk-toggleable__content.fitted pre {\n",
              "  /* unfitted */\n",
              "  background-color: var(--sklearn-color-fitted-level-0);\n",
              "}\n",
              "\n",
              "#sk-container-id-1 input.sk-toggleable__control:checked~div.sk-toggleable__content {\n",
              "  /* Expand drop-down */\n",
              "  max-height: 200px;\n",
              "  max-width: 100%;\n",
              "  overflow: auto;\n",
              "}\n",
              "\n",
              "#sk-container-id-1 input.sk-toggleable__control:checked~label.sk-toggleable__label-arrow:before {\n",
              "  content: \"▾\";\n",
              "}\n",
              "\n",
              "/* Pipeline/ColumnTransformer-specific style */\n",
              "\n",
              "#sk-container-id-1 div.sk-label input.sk-toggleable__control:checked~label.sk-toggleable__label {\n",
              "  color: var(--sklearn-color-text);\n",
              "  background-color: var(--sklearn-color-unfitted-level-2);\n",
              "}\n",
              "\n",
              "#sk-container-id-1 div.sk-label.fitted input.sk-toggleable__control:checked~label.sk-toggleable__label {\n",
              "  background-color: var(--sklearn-color-fitted-level-2);\n",
              "}\n",
              "\n",
              "/* Estimator-specific style */\n",
              "\n",
              "/* Colorize estimator box */\n",
              "#sk-container-id-1 div.sk-estimator input.sk-toggleable__control:checked~label.sk-toggleable__label {\n",
              "  /* unfitted */\n",
              "  background-color: var(--sklearn-color-unfitted-level-2);\n",
              "}\n",
              "\n",
              "#sk-container-id-1 div.sk-estimator.fitted input.sk-toggleable__control:checked~label.sk-toggleable__label {\n",
              "  /* fitted */\n",
              "  background-color: var(--sklearn-color-fitted-level-2);\n",
              "}\n",
              "\n",
              "#sk-container-id-1 div.sk-label label.sk-toggleable__label,\n",
              "#sk-container-id-1 div.sk-label label {\n",
              "  /* The background is the default theme color */\n",
              "  color: var(--sklearn-color-text-on-default-background);\n",
              "}\n",
              "\n",
              "/* On hover, darken the color of the background */\n",
              "#sk-container-id-1 div.sk-label:hover label.sk-toggleable__label {\n",
              "  color: var(--sklearn-color-text);\n",
              "  background-color: var(--sklearn-color-unfitted-level-2);\n",
              "}\n",
              "\n",
              "/* Label box, darken color on hover, fitted */\n",
              "#sk-container-id-1 div.sk-label.fitted:hover label.sk-toggleable__label.fitted {\n",
              "  color: var(--sklearn-color-text);\n",
              "  background-color: var(--sklearn-color-fitted-level-2);\n",
              "}\n",
              "\n",
              "/* Estimator label */\n",
              "\n",
              "#sk-container-id-1 div.sk-label label {\n",
              "  font-family: monospace;\n",
              "  font-weight: bold;\n",
              "  display: inline-block;\n",
              "  line-height: 1.2em;\n",
              "}\n",
              "\n",
              "#sk-container-id-1 div.sk-label-container {\n",
              "  text-align: center;\n",
              "}\n",
              "\n",
              "/* Estimator-specific */\n",
              "#sk-container-id-1 div.sk-estimator {\n",
              "  font-family: monospace;\n",
              "  border: 1px dotted var(--sklearn-color-border-box);\n",
              "  border-radius: 0.25em;\n",
              "  box-sizing: border-box;\n",
              "  margin-bottom: 0.5em;\n",
              "  /* unfitted */\n",
              "  background-color: var(--sklearn-color-unfitted-level-0);\n",
              "}\n",
              "\n",
              "#sk-container-id-1 div.sk-estimator.fitted {\n",
              "  /* fitted */\n",
              "  background-color: var(--sklearn-color-fitted-level-0);\n",
              "}\n",
              "\n",
              "/* on hover */\n",
              "#sk-container-id-1 div.sk-estimator:hover {\n",
              "  /* unfitted */\n",
              "  background-color: var(--sklearn-color-unfitted-level-2);\n",
              "}\n",
              "\n",
              "#sk-container-id-1 div.sk-estimator.fitted:hover {\n",
              "  /* fitted */\n",
              "  background-color: var(--sklearn-color-fitted-level-2);\n",
              "}\n",
              "\n",
              "/* Specification for estimator info (e.g. \"i\" and \"?\") */\n",
              "\n",
              "/* Common style for \"i\" and \"?\" */\n",
              "\n",
              ".sk-estimator-doc-link,\n",
              "a:link.sk-estimator-doc-link,\n",
              "a:visited.sk-estimator-doc-link {\n",
              "  float: right;\n",
              "  font-size: smaller;\n",
              "  line-height: 1em;\n",
              "  font-family: monospace;\n",
              "  background-color: var(--sklearn-color-background);\n",
              "  border-radius: 1em;\n",
              "  height: 1em;\n",
              "  width: 1em;\n",
              "  text-decoration: none !important;\n",
              "  margin-left: 1ex;\n",
              "  /* unfitted */\n",
              "  border: var(--sklearn-color-unfitted-level-1) 1pt solid;\n",
              "  color: var(--sklearn-color-unfitted-level-1);\n",
              "}\n",
              "\n",
              ".sk-estimator-doc-link.fitted,\n",
              "a:link.sk-estimator-doc-link.fitted,\n",
              "a:visited.sk-estimator-doc-link.fitted {\n",
              "  /* fitted */\n",
              "  border: var(--sklearn-color-fitted-level-1) 1pt solid;\n",
              "  color: var(--sklearn-color-fitted-level-1);\n",
              "}\n",
              "\n",
              "/* On hover */\n",
              "div.sk-estimator:hover .sk-estimator-doc-link:hover,\n",
              ".sk-estimator-doc-link:hover,\n",
              "div.sk-label-container:hover .sk-estimator-doc-link:hover,\n",
              ".sk-estimator-doc-link:hover {\n",
              "  /* unfitted */\n",
              "  background-color: var(--sklearn-color-unfitted-level-3);\n",
              "  color: var(--sklearn-color-background);\n",
              "  text-decoration: none;\n",
              "}\n",
              "\n",
              "div.sk-estimator.fitted:hover .sk-estimator-doc-link.fitted:hover,\n",
              ".sk-estimator-doc-link.fitted:hover,\n",
              "div.sk-label-container:hover .sk-estimator-doc-link.fitted:hover,\n",
              ".sk-estimator-doc-link.fitted:hover {\n",
              "  /* fitted */\n",
              "  background-color: var(--sklearn-color-fitted-level-3);\n",
              "  color: var(--sklearn-color-background);\n",
              "  text-decoration: none;\n",
              "}\n",
              "\n",
              "/* Span, style for the box shown on hovering the info icon */\n",
              ".sk-estimator-doc-link span {\n",
              "  display: none;\n",
              "  z-index: 9999;\n",
              "  position: relative;\n",
              "  font-weight: normal;\n",
              "  right: .2ex;\n",
              "  padding: .5ex;\n",
              "  margin: .5ex;\n",
              "  width: min-content;\n",
              "  min-width: 20ex;\n",
              "  max-width: 50ex;\n",
              "  color: var(--sklearn-color-text);\n",
              "  box-shadow: 2pt 2pt 4pt #999;\n",
              "  /* unfitted */\n",
              "  background: var(--sklearn-color-unfitted-level-0);\n",
              "  border: .5pt solid var(--sklearn-color-unfitted-level-3);\n",
              "}\n",
              "\n",
              ".sk-estimator-doc-link.fitted span {\n",
              "  /* fitted */\n",
              "  background: var(--sklearn-color-fitted-level-0);\n",
              "  border: var(--sklearn-color-fitted-level-3);\n",
              "}\n",
              "\n",
              ".sk-estimator-doc-link:hover span {\n",
              "  display: block;\n",
              "}\n",
              "\n",
              "/* \"?\"-specific style due to the `<a>` HTML tag */\n",
              "\n",
              "#sk-container-id-1 a.estimator_doc_link {\n",
              "  float: right;\n",
              "  font-size: 1rem;\n",
              "  line-height: 1em;\n",
              "  font-family: monospace;\n",
              "  background-color: var(--sklearn-color-background);\n",
              "  border-radius: 1rem;\n",
              "  height: 1rem;\n",
              "  width: 1rem;\n",
              "  text-decoration: none;\n",
              "  /* unfitted */\n",
              "  color: var(--sklearn-color-unfitted-level-1);\n",
              "  border: var(--sklearn-color-unfitted-level-1) 1pt solid;\n",
              "}\n",
              "\n",
              "#sk-container-id-1 a.estimator_doc_link.fitted {\n",
              "  /* fitted */\n",
              "  border: var(--sklearn-color-fitted-level-1) 1pt solid;\n",
              "  color: var(--sklearn-color-fitted-level-1);\n",
              "}\n",
              "\n",
              "/* On hover */\n",
              "#sk-container-id-1 a.estimator_doc_link:hover {\n",
              "  /* unfitted */\n",
              "  background-color: var(--sklearn-color-unfitted-level-3);\n",
              "  color: var(--sklearn-color-background);\n",
              "  text-decoration: none;\n",
              "}\n",
              "\n",
              "#sk-container-id-1 a.estimator_doc_link.fitted:hover {\n",
              "  /* fitted */\n",
              "  background-color: var(--sklearn-color-fitted-level-3);\n",
              "}\n",
              "</style><div id=\"sk-container-id-1\" class=\"sk-top-container\"><div class=\"sk-text-repr-fallback\"><pre>RandomForestClassifier(max_depth=12, min_samples_split=4, n_estimators=1000,\n",
              "                       n_jobs=-1, random_state=42)</pre><b>In a Jupyter environment, please rerun this cell to show the HTML representation or trust the notebook. <br />On GitHub, the HTML representation is unable to render, please try loading this page with nbviewer.org.</b></div><div class=\"sk-container\" hidden><div class=\"sk-item\"><div class=\"sk-estimator fitted sk-toggleable\"><input class=\"sk-toggleable__control sk-hidden--visually\" id=\"sk-estimator-id-1\" type=\"checkbox\" checked><label for=\"sk-estimator-id-1\" class=\"sk-toggleable__label fitted sk-toggleable__label-arrow fitted\">&nbsp;&nbsp;RandomForestClassifier<a class=\"sk-estimator-doc-link fitted\" rel=\"noreferrer\" target=\"_blank\" href=\"https://scikit-learn.org/1.4/modules/generated/sklearn.ensemble.RandomForestClassifier.html\">?<span>Documentation for RandomForestClassifier</span></a><span class=\"sk-estimator-doc-link fitted\">i<span>Fitted</span></span></label><div class=\"sk-toggleable__content fitted\"><pre>RandomForestClassifier(max_depth=12, min_samples_split=4, n_estimators=1000,\n",
              "                       n_jobs=-1, random_state=42)</pre></div> </div></div></div></div>"
            ],
            "text/plain": [
              "RandomForestClassifier(max_depth=12, min_samples_split=4, n_estimators=1000,\n",
              "                       n_jobs=-1, random_state=42)"
            ]
          },
          "execution_count": 26,
          "metadata": {},
          "output_type": "execute_result"
        }
      ],
      "source": [
        "#Treinando o modelo\n",
        "rf.fit(X_train_resampled, y_train_resampled)"
      ]
    },
    {
      "cell_type": "code",
      "execution_count": null,
      "metadata": {
        "id": "zlJHhwKXPnpC"
      },
      "outputs": [],
      "source": [
        "#Avaliando o modelo\n",
        "y_pred = rf.predict(X_test)\n",
        "y_proba = rf.predict_proba(X_test)\n",
        "precisao_ponderada = precision_score(y_test, y_pred, average='weighted')\n",
        "acuracia = accuracy_score(y_test, y_pred)\n",
        "recall_ponderado = recall_score(y_test, y_pred, average='weighted')\n",
        "f1score_ponderado = f1_score(y_test, y_pred, average='weighted')\n",
        "auc_roc = roc_auc_score(y_test, y_proba, multi_class='ovo')\n",
        "conf_mat = confusion_matrix(y_test, y_pred)"
      ]
    },
    {
      "cell_type": "code",
      "execution_count": null,
      "metadata": {
        "colab": {
          "base_uri": "https://localhost:8080/"
        },
        "id": "TkdvHOYBPnpD",
        "outputId": "274bf021-f7ad-4086-dd58-26fb65f7b3a3"
      },
      "outputs": [
        {
          "name": "stdout",
          "output_type": "stream",
          "text": [
            "Precisão ponderada: 0.8539\n",
            "Acurácia: 0.8192\n",
            "Recall ponderado: 0.8192\n",
            "F1-score: 0.8275\n",
            "AUC_ROC: 0.9463\n",
            "Confusion Matrix:\n",
            "[[ 4781    44   535]\n",
            " [  873 18143  1588]\n",
            " [ 3608   846 11041]]\n"
          ]
        }
      ],
      "source": [
        "#Exibindo os resultados\n",
        "print(f'Precisão ponderada: {precisao_ponderada:.4f}')\n",
        "print(f'Acurácia: {acuracia:.4f}')\n",
        "print(f'Recall ponderado: {recall_ponderado:.4f}')\n",
        "print(f'F1-score: {f1score_ponderado:.4f}')\n",
        "print(f'AUC_ROC: {auc_roc:.4f}')\n",
        "print('Confusion Matrix:')\n",
        "print(conf_mat)"
      ]
    },
    {
      "cell_type": "markdown",
      "metadata": {
        "id": "TJH8EVkLVWvn"
      },
      "source": [
        "##### Importância das Variáveis - Permutation Importance"
      ]
    },
    {
      "cell_type": "code",
      "execution_count": null,
      "metadata": {
        "id": "Qe5p_6AqkwuR"
      },
      "outputs": [],
      "source": [
        "# Calculando a importância das variáveis com permutation importance\n",
        "result = permutation_importance(rf, X_test, y_test, n_repeats=10, random_state=42, n_jobs=-1)\n",
        "\n",
        "# Importâncias das variáveis\n",
        "importance = result.importances_mean\n",
        "\n",
        "# Criando um gráfico para visualizar as importâncias das variáveis\n",
        "features = preprocessor.transformers_[0][1].get_feature_names_out(categorical_columns).tolist() + numeric_columns.tolist()\n",
        "\n",
        "# Ordenando as importâncias\n",
        "indices = np.argsort(importance)[::-1]"
      ]
    },
    {
      "cell_type": "code",
      "execution_count": null,
      "metadata": {
        "id": "KB6Kxld9kwuR",
        "outputId": "78009962-c785-4532-b136-717e960b9ea4"
      },
      "outputs": [
        {
          "data": {
            "image/png": "[encoded data removed]",
            "text/plain": [
              "<Figure size 1200x800 with 1 Axes>"
            ]
          },
          "metadata": {},
          "output_type": "display_data"
        }
      ],
      "source": [
        "# Criando o gráfico\n",
        "plt.figure(figsize=(12, 8))\n",
        "bars = plt.barh(np.array(features)[indices], importance[indices])\n",
        "\n",
        "# Ajustando os rótulos para valores positivos e negativos\n",
        "for bar in bars:\n",
        "    valor = bar.get_width()\n",
        "    # Ajusta a posição do texto com base no sinal do valor\n",
        "    if valor < 0:\n",
        "        ha = 'right'  # Texto à direita da barra\n",
        "        x_pos = valor - 0.0001  # Pequeno deslocamento para fora da barra\n",
        "    else:\n",
        "        ha = 'left'  # Texto à esquerda da barra\n",
        "        x_pos = valor + 0.0001  # Pequeno deslocamento para fora da barra\n",
        "\n",
        "    # Adiciona o texto\n",
        "    plt.text(x_pos,  # Posição horizontal\n",
        "             bar.get_y() + bar.get_height() / 2,  # Centralizado verticalmente\n",
        "             f'{valor:.4f}',  # Valor com 4 casas decimais\n",
        "             va='center', ha=ha, fontsize=8, color='black')\n",
        "\n",
        "# Configurando o gráfico\n",
        "plt.xlabel('Importância', fontsize=10)\n",
        "plt.ylabel('Variáveis', fontsize=10)\n",
        "plt.title('Importância das Variáveis do Modelo Random Forest', fontsize=12)\n",
        "plt.gca().invert_yaxis()  # Mostra as variáveis mais importantes no topo\n",
        "plt.gca().tick_params(axis='y', labelsize=10)  # Ajusta o tamanho da fonte das variáveis\n",
        "plt.gca().tick_params(axis='x', labelsize=10)  # Ajusta o tamanho da fonte do eixo X\n",
        "plt.tight_layout()\n",
        "\n",
        "# Salvar a figura em um arquivo\n",
        "plt.savefig(\"permutation_importance_random_forest.png\", format=\"png\", dpi=300)\n",
        "\n",
        "# Exibindo o gráfico\n",
        "plt.show()"
      ]
    },
    {
      "cell_type": "markdown",
      "metadata": {
        "id": "cV1S1ZXdUdjI"
      },
      "source": [
        "##### Correlação das variáveis"
      ]
    },
    {
      "cell_type": "code",
      "execution_count": null,
      "metadata": {
        "colab": {
          "base_uri": "https://localhost:8080/",
          "height": 458
        },
        "id": "LHdwlouaUgwM",
        "outputId": "6adce13f-2dc2-4d81-bbe4-ec63f11ad38f"
      },
      "outputs": [
        {
          "name": "stdout",
          "output_type": "stream",
          "text": [
            "\n",
            "Correlação das variáveis:\n"
          ]
        },
        {
          "data": {
            "text/html": [
              "<div>\n",
              "<style scoped>\n",
              "    .dataframe tbody tr th:only-of-type {\n",
              "        vertical-align: middle;\n",
              "    }\n",
              "\n",
              "    .dataframe tbody tr th {\n",
              "        vertical-align: top;\n",
              "    }\n",
              "\n",
              "    .dataframe thead th {\n",
              "        text-align: right;\n",
              "    }\n",
              "</style>\n",
              "<table border=\"1\" class=\"dataframe\">\n",
              "  <thead>\n",
              "    <tr style=\"text-align: right;\">\n",
              "      <th></th>\n",
              "      <th>Variável 1</th>\n",
              "      <th>Variável 2</th>\n",
              "      <th>Correlação</th>\n",
              "    </tr>\n",
              "  </thead>\n",
              "  <tbody>\n",
              "    <tr>\n",
              "      <th>135</th>\n",
              "      <td>situacao_processual_sentenca_Condenação</td>\n",
              "      <td>situacao_processual_sentenca_Acordo</td>\n",
              "      <td>1.000000</td>\n",
              "    </tr>\n",
              "    <tr>\n",
              "      <th>64</th>\n",
              "      <td>jurisdicao_Vara Cível</td>\n",
              "      <td>jurisdicao_Juizado Especial Cível</td>\n",
              "      <td>0.929828</td>\n",
              "    </tr>\n",
              "    <tr>\n",
              "      <th>666</th>\n",
              "      <td>causa_nao_informado</td>\n",
              "      <td>empresa_re_Azul</td>\n",
              "      <td>0.910104</td>\n",
              "    </tr>\n",
              "    <tr>\n",
              "      <th>103</th>\n",
              "      <td>instancia_Não informado</td>\n",
              "      <td>instancia_1ª Instância</td>\n",
              "      <td>0.835570</td>\n",
              "    </tr>\n",
              "    <tr>\n",
              "      <th>324</th>\n",
              "      <td>valor_dano_material_Médio</td>\n",
              "      <td>valor_dano_material_Baixo</td>\n",
              "      <td>0.798854</td>\n",
              "    </tr>\n",
              "    <tr>\n",
              "      <th>...</th>\n",
              "      <td>...</td>\n",
              "      <td>...</td>\n",
              "      <td>...</td>\n",
              "    </tr>\n",
              "    <tr>\n",
              "      <th>783</th>\n",
              "      <td>causa_terceiros</td>\n",
              "      <td>empresa_re_Latam</td>\n",
              "      <td>NaN</td>\n",
              "    </tr>\n",
              "    <tr>\n",
              "      <th>823</th>\n",
              "      <td>causa_cliente</td>\n",
              "      <td>empresa_re_Latam</td>\n",
              "      <td>NaN</td>\n",
              "    </tr>\n",
              "    <tr>\n",
              "      <th>864</th>\n",
              "      <td>causa_aerea</td>\n",
              "      <td>empresa_re_Latam</td>\n",
              "      <td>NaN</td>\n",
              "    </tr>\n",
              "    <tr>\n",
              "      <th>906</th>\n",
              "      <td>causa_outros</td>\n",
              "      <td>empresa_re_Latam</td>\n",
              "      <td>NaN</td>\n",
              "    </tr>\n",
              "    <tr>\n",
              "      <th>949</th>\n",
              "      <td>mes_distribuicao</td>\n",
              "      <td>empresa_re_Latam</td>\n",
              "      <td>NaN</td>\n",
              "    </tr>\n",
              "  </tbody>\n",
              "</table>\n",
              "<p>990 rows × 3 columns</p>\n",
              "</div>"
            ],
            "text/plain": [
              "                                  Variável 1  \\\n",
              "135  situacao_processual_sentenca_Condenação   \n",
              "64                     jurisdicao_Vara Cível   \n",
              "666                      causa_nao_informado   \n",
              "103                  instancia_Não informado   \n",
              "324                valor_dano_material_Médio   \n",
              "..                                       ...   \n",
              "783                          causa_terceiros   \n",
              "823                            causa_cliente   \n",
              "864                              causa_aerea   \n",
              "906                             causa_outros   \n",
              "949                         mes_distribuicao   \n",
              "\n",
              "                              Variável 2  Correlação  \n",
              "135  situacao_processual_sentenca_Acordo    1.000000  \n",
              "64     jurisdicao_Juizado Especial Cível    0.929828  \n",
              "666                      empresa_re_Azul    0.910104  \n",
              "103               instancia_1ª Instância    0.835570  \n",
              "324            valor_dano_material_Baixo    0.798854  \n",
              "..                                   ...         ...  \n",
              "783                     empresa_re_Latam         NaN  \n",
              "823                     empresa_re_Latam         NaN  \n",
              "864                     empresa_re_Latam         NaN  \n",
              "906                     empresa_re_Latam         NaN  \n",
              "949                     empresa_re_Latam         NaN  \n",
              "\n",
              "[990 rows x 3 columns]"
            ]
          },
          "execution_count": 33,
          "metadata": {},
          "output_type": "execute_result"
        }
      ],
      "source": [
        "#Convertendo X_test para DataFrame\n",
        "column_names = preprocessor.transformers_[0][1].get_feature_names_out(categorical_columns).tolist() + numeric_columns.tolist()\n",
        "X_test_df = pd.DataFrame(X_test, columns=column_names)\n",
        "\n",
        "# Calculando a correlação entre as variáveis de X_test\n",
        "correlacao = X_test_df.corr()\n",
        "\n",
        "# Criando uma lista de tuplas com as variáveis e suas correlações\n",
        "variaveis_correlacionadas = []\n",
        "\n",
        "# Iterando sobre a matriz de correlação e extraindo os pares de variáveis e seus valores de correlação\n",
        "for i in range(len(correlacao.columns)):\n",
        "    for j in range(i):\n",
        "        if i != j:  # Não incluir a correlação de uma variável consigo mesma\n",
        "            variaveis_correlacionadas.append((correlacao.columns[i], correlacao.columns[j], correlacao.iloc[i, j]))\n",
        "\n",
        "# Criando um DataFrame com os pares de variáveis e suas correlações\n",
        "df_correlacao = pd.DataFrame(variaveis_correlacionadas, columns=['Variável 1', 'Variável 2', 'Correlação'])\n",
        "\n",
        "# Ordenando a tabela pela correlação de forma decrescente (do maior para o menor valor absoluto)\n",
        "df_correlacao['Correlação'] = df_correlacao['Correlação'].abs()  # Usar o valor absoluto para ordenação\n",
        "df_correlacao_sorted = df_correlacao.sort_values(by='Correlação', ascending=False)\n",
        "\n",
        "# Exibindo a tabela ordenada\n",
        "print(\"\\nCorrelação das variáveis:\")\n",
        "df_correlacao_sorted"
      ]
    },
    {
      "cell_type": "code",
      "execution_count": null,
      "metadata": {
        "colab": {
          "base_uri": "https://localhost:8080/",
          "height": 774
        },
        "id": "c_3mlIH-Uj9H",
        "outputId": "62b0c1ba-3386-441b-869f-1115ccfab3ef"
      },
      "outputs": [
        {
          "name": "stdout",
          "output_type": "stream",
          "text": [
            "\n",
            "Variáveis com Correlação Alta (Maior que 0.5 ou menor que -0.5):\n"
          ]
        },
        {
          "data": {
            "text/html": [
              "<div>\n",
              "<style scoped>\n",
              "    .dataframe tbody tr th:only-of-type {\n",
              "        vertical-align: middle;\n",
              "    }\n",
              "\n",
              "    .dataframe tbody tr th {\n",
              "        vertical-align: top;\n",
              "    }\n",
              "\n",
              "    .dataframe thead th {\n",
              "        text-align: right;\n",
              "    }\n",
              "</style>\n",
              "<table border=\"1\" class=\"dataframe\">\n",
              "  <thead>\n",
              "    <tr style=\"text-align: right;\">\n",
              "      <th></th>\n",
              "      <th>Variável 1</th>\n",
              "      <th>Variável 2</th>\n",
              "      <th>Correlação</th>\n",
              "    </tr>\n",
              "  </thead>\n",
              "  <tbody>\n",
              "    <tr>\n",
              "      <th>13</th>\n",
              "      <td>situacao_processual_sentenca_Condenação</td>\n",
              "      <td>situacao_processual_sentenca_Acordo</td>\n",
              "      <td>1.000000</td>\n",
              "    </tr>\n",
              "    <tr>\n",
              "      <th>7</th>\n",
              "      <td>jurisdicao_Vara Cível</td>\n",
              "      <td>jurisdicao_Juizado Especial Cível</td>\n",
              "      <td>0.929828</td>\n",
              "    </tr>\n",
              "    <tr>\n",
              "      <th>20</th>\n",
              "      <td>causa_nao_informado</td>\n",
              "      <td>empresa_re_Azul</td>\n",
              "      <td>0.910104</td>\n",
              "    </tr>\n",
              "    <tr>\n",
              "      <th>12</th>\n",
              "      <td>instancia_Não informado</td>\n",
              "      <td>instancia_1ª Instância</td>\n",
              "      <td>0.835570</td>\n",
              "    </tr>\n",
              "    <tr>\n",
              "      <th>18</th>\n",
              "      <td>valor_dano_material_Médio</td>\n",
              "      <td>valor_dano_material_Baixo</td>\n",
              "      <td>0.798854</td>\n",
              "    </tr>\n",
              "    <tr>\n",
              "      <th>0</th>\n",
              "      <td>empresa_re_Gol</td>\n",
              "      <td>empresa_re_Azul</td>\n",
              "      <td>0.784549</td>\n",
              "    </tr>\n",
              "    <tr>\n",
              "      <th>16</th>\n",
              "      <td>valor_dano_moral_Médio</td>\n",
              "      <td>valor_dano_moral_Baixo</td>\n",
              "      <td>0.775826</td>\n",
              "    </tr>\n",
              "    <tr>\n",
              "      <th>5</th>\n",
              "      <td>operacao_Outros</td>\n",
              "      <td>empresa_re_Gol</td>\n",
              "      <td>0.761142</td>\n",
              "    </tr>\n",
              "    <tr>\n",
              "      <th>21</th>\n",
              "      <td>causa_nao_informado</td>\n",
              "      <td>empresa_re_Gol</td>\n",
              "      <td>0.714021</td>\n",
              "    </tr>\n",
              "    <tr>\n",
              "      <th>25</th>\n",
              "      <td>causa_nao_informado</td>\n",
              "      <td>instancia_Não informado</td>\n",
              "      <td>0.707243</td>\n",
              "    </tr>\n",
              "    <tr>\n",
              "      <th>1</th>\n",
              "      <td>operacao_Doméstico</td>\n",
              "      <td>empresa_re_Azul</td>\n",
              "      <td>0.697312</td>\n",
              "    </tr>\n",
              "    <tr>\n",
              "      <th>6</th>\n",
              "      <td>operacao_Outros</td>\n",
              "      <td>operacao_Doméstico</td>\n",
              "      <td>0.693410</td>\n",
              "    </tr>\n",
              "    <tr>\n",
              "      <th>26</th>\n",
              "      <td>causa_fortuitos</td>\n",
              "      <td>empresa_re_United</td>\n",
              "      <td>0.667584</td>\n",
              "    </tr>\n",
              "    <tr>\n",
              "      <th>10</th>\n",
              "      <td>instancia_Não informado</td>\n",
              "      <td>empresa_re_Azul</td>\n",
              "      <td>0.658808</td>\n",
              "    </tr>\n",
              "    <tr>\n",
              "      <th>14</th>\n",
              "      <td>valor_pedido_inicial_Médio</td>\n",
              "      <td>valor_pedido_inicial_Baixo</td>\n",
              "      <td>0.656068</td>\n",
              "    </tr>\n",
              "    <tr>\n",
              "      <th>22</th>\n",
              "      <td>causa_nao_informado</td>\n",
              "      <td>operacao_Doméstico</td>\n",
              "      <td>0.626000</td>\n",
              "    </tr>\n",
              "    <tr>\n",
              "      <th>19</th>\n",
              "      <td>obj_bagagem</td>\n",
              "      <td>obj_problemas_operacionais</td>\n",
              "      <td>0.606302</td>\n",
              "    </tr>\n",
              "    <tr>\n",
              "      <th>24</th>\n",
              "      <td>causa_nao_informado</td>\n",
              "      <td>instancia_1ª Instância</td>\n",
              "      <td>0.595926</td>\n",
              "    </tr>\n",
              "    <tr>\n",
              "      <th>4</th>\n",
              "      <td>operacao_Outros</td>\n",
              "      <td>empresa_re_Azul</td>\n",
              "      <td>0.594983</td>\n",
              "    </tr>\n",
              "    <tr>\n",
              "      <th>11</th>\n",
              "      <td>instancia_Não informado</td>\n",
              "      <td>empresa_re_Gol</td>\n",
              "      <td>0.583793</td>\n",
              "    </tr>\n",
              "    <tr>\n",
              "      <th>8</th>\n",
              "      <td>instancia_1ª Instância</td>\n",
              "      <td>empresa_re_Azul</td>\n",
              "      <td>0.562528</td>\n",
              "    </tr>\n",
              "    <tr>\n",
              "      <th>27</th>\n",
              "      <td>causa_aerea</td>\n",
              "      <td>causa_nao_informado</td>\n",
              "      <td>0.554392</td>\n",
              "    </tr>\n",
              "    <tr>\n",
              "      <th>17</th>\n",
              "      <td>valor_dano_material_Baixo</td>\n",
              "      <td>valor_dano_material_Alto</td>\n",
              "      <td>0.549135</td>\n",
              "    </tr>\n",
              "    <tr>\n",
              "      <th>23</th>\n",
              "      <td>causa_nao_informado</td>\n",
              "      <td>operacao_Outros</td>\n",
              "      <td>0.542085</td>\n",
              "    </tr>\n",
              "    <tr>\n",
              "      <th>2</th>\n",
              "      <td>operacao_Internacional</td>\n",
              "      <td>empresa_re_TAP</td>\n",
              "      <td>0.541835</td>\n",
              "    </tr>\n",
              "    <tr>\n",
              "      <th>9</th>\n",
              "      <td>instancia_1ª Instância</td>\n",
              "      <td>empresa_re_Gol</td>\n",
              "      <td>0.515074</td>\n",
              "    </tr>\n",
              "    <tr>\n",
              "      <th>3</th>\n",
              "      <td>operacao_Internacional</td>\n",
              "      <td>operacao_Doméstico</td>\n",
              "      <td>0.514533</td>\n",
              "    </tr>\n",
              "    <tr>\n",
              "      <th>15</th>\n",
              "      <td>valor_dano_moral_Baixo</td>\n",
              "      <td>valor_dano_moral_Alto</td>\n",
              "      <td>0.512360</td>\n",
              "    </tr>\n",
              "  </tbody>\n",
              "</table>\n",
              "</div>"
            ],
            "text/plain": [
              "                                 Variável 1  \\\n",
              "13  situacao_processual_sentenca_Condenação   \n",
              "7                     jurisdicao_Vara Cível   \n",
              "20                      causa_nao_informado   \n",
              "12                  instancia_Não informado   \n",
              "18                valor_dano_material_Médio   \n",
              "0                            empresa_re_Gol   \n",
              "16                   valor_dano_moral_Médio   \n",
              "5                           operacao_Outros   \n",
              "21                      causa_nao_informado   \n",
              "25                      causa_nao_informado   \n",
              "1                        operacao_Doméstico   \n",
              "6                           operacao_Outros   \n",
              "26                          causa_fortuitos   \n",
              "10                  instancia_Não informado   \n",
              "14               valor_pedido_inicial_Médio   \n",
              "22                      causa_nao_informado   \n",
              "19                              obj_bagagem   \n",
              "24                      causa_nao_informado   \n",
              "4                           operacao_Outros   \n",
              "11                  instancia_Não informado   \n",
              "8                    instancia_1ª Instância   \n",
              "27                              causa_aerea   \n",
              "17                valor_dano_material_Baixo   \n",
              "23                      causa_nao_informado   \n",
              "2                    operacao_Internacional   \n",
              "9                    instancia_1ª Instância   \n",
              "3                    operacao_Internacional   \n",
              "15                   valor_dano_moral_Baixo   \n",
              "\n",
              "                             Variável 2  Correlação  \n",
              "13  situacao_processual_sentenca_Acordo    1.000000  \n",
              "7     jurisdicao_Juizado Especial Cível    0.929828  \n",
              "20                      empresa_re_Azul    0.910104  \n",
              "12               instancia_1ª Instância    0.835570  \n",
              "18            valor_dano_material_Baixo    0.798854  \n",
              "0                       empresa_re_Azul    0.784549  \n",
              "16               valor_dano_moral_Baixo    0.775826  \n",
              "5                        empresa_re_Gol    0.761142  \n",
              "21                       empresa_re_Gol    0.714021  \n",
              "25              instancia_Não informado    0.707243  \n",
              "1                       empresa_re_Azul    0.697312  \n",
              "6                    operacao_Doméstico    0.693410  \n",
              "26                    empresa_re_United    0.667584  \n",
              "10                      empresa_re_Azul    0.658808  \n",
              "14           valor_pedido_inicial_Baixo    0.656068  \n",
              "22                   operacao_Doméstico    0.626000  \n",
              "19           obj_problemas_operacionais    0.606302  \n",
              "24               instancia_1ª Instância    0.595926  \n",
              "4                       empresa_re_Azul    0.594983  \n",
              "11                       empresa_re_Gol    0.583793  \n",
              "8                       empresa_re_Azul    0.562528  \n",
              "27                  causa_nao_informado    0.554392  \n",
              "17             valor_dano_material_Alto    0.549135  \n",
              "23                      operacao_Outros    0.542085  \n",
              "2                        empresa_re_TAP    0.541835  \n",
              "9                        empresa_re_Gol    0.515074  \n",
              "3                    operacao_Doméstico    0.514533  \n",
              "15                valor_dano_moral_Alto    0.512360  "
            ]
          },
          "execution_count": 34,
          "metadata": {},
          "output_type": "execute_result"
        }
      ],
      "source": [
        "# Exibindo as correlações mais altas (> 0.5 ou <-0.5)\n",
        "limiar_correlacao = 0.5\n",
        "variaveis_correlacionadas_altas = []\n",
        "\n",
        "for i in range(len(correlacao.columns)):\n",
        "    for j in range(i):\n",
        "        if abs(correlacao.iloc[i, j]) > limiar_correlacao:\n",
        "            variaveis_correlacionadas_altas.append((correlacao.columns[i], correlacao.columns[j], correlacao.iloc[i, j]))\n",
        "\n",
        "# Criando um DataFrame com as variáveis mais correlacionadas\n",
        "df_correlacao_alta = pd.DataFrame(variaveis_correlacionadas_altas, columns=['Variável 1', 'Variável 2', 'Correlação'])\n",
        "\n",
        "# Ordenando a tabela pela correlação de forma decrescente (do maior para o menor valor absoluto)\n",
        "df_correlacao_alta['Correlação'] = df_correlacao_alta['Correlação'].abs()  # Usar o valor absoluto para ordenação\n",
        "df_correlacao_alta_sorted = df_correlacao_alta.sort_values(by='Correlação', ascending=False)\n",
        "\n",
        "# Exibindo a tabela ordenada\n",
        "print(\"\\nVariáveis com Correlação Alta (Maior que 0.5 ou menor que -0.5):\")\n",
        "df_correlacao_alta_sorted"
      ]
    },
    {
      "cell_type": "code",
      "execution_count": null,
      "metadata": {
        "id": "n7E-2XiDUnDT"
      },
      "outputs": [],
      "source": [
        "# Salvando correlaçãoes\n",
        "df_correlacao_alta_sorted.to_excel('correlacao_random_forest.xlsx', index=False)"
      ]
    },
    {
      "cell_type": "code",
      "execution_count": null,
      "metadata": {
        "colab": {
          "base_uri": "https://localhost:8080/"
        },
        "id": "xbsnEK3eNUUX",
        "outputId": "5d102417-3ce0-4161-f5dd-86b52722cdf8"
      },
      "outputs": [
        {
          "name": "stdout",
          "output_type": "stream",
          "text": [
            "\n",
            " Tempo de processamento (min): 12.650359110037487\n"
          ]
        }
      ],
      "source": [
        "#Fim da contagem de tempo\n",
        "fim = time.time()\n",
        "print('\\n Tempo de processamento (min):', (fim - inicio)/60)"
      ]
    }
  ],
  "metadata": {
    "colab": {
      "provenance": [],
      "include_colab_link": true
    },
    "kernelspec": {
      "display_name": "Python 3 (ipykernel)",
      "language": "python",
      "name": "python3"
    },
    "language_info": {
      "codemirror_mode": {
        "name": "ipython",
        "version": 3
      },
      "file_extension": ".py",
      "mimetype": "text/x-python",
      "name": "python",
      "nbconvert_exporter": "python",
      "pygments_lexer": "ipython3",
      "version": "3.12.4"
    }
  },
  "nbformat": 4,
  "nbformat_minor": 0
}