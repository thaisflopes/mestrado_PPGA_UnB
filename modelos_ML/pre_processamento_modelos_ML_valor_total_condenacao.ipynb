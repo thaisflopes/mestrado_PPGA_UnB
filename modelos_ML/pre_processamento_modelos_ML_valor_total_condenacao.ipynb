{
  "cells": [
    {
      "cell_type": "markdown",
      "metadata": {
        "id": "view-in-github",
        "colab_type": "text"
      },
      "source": [
        "<a href=\"https://colab.research.google.com/github/thaisflopes/mestrado_PPGA_UnB/blob/main/modelos_ML/pre_processamento_modelos_ML_valor_total_condenacao.ipynb\" target=\"_parent\"><img src=\"https://colab.research.google.com/assets/colab-badge.svg\" alt=\"Open In Colab\"/></a>"
      ]
    },
    {
      "cell_type": "code",
      "execution_count": null,
      "metadata": {
        "id": "PW92CVu4MnQD"
      },
      "outputs": [],
      "source": [
        "#Bibliotecas\n",
        "import pandas as pd\n",
        "import numpy as np"
      ]
    },
    {
      "cell_type": "markdown",
      "metadata": {
        "id": "xEjYBlU1746M",
        "jp-MarkdownHeadingCollapsed": true
      },
      "source": [
        "### Baixando bases de dados"
      ]
    },
    {
      "cell_type": "code",
      "execution_count": null,
      "metadata": {
        "id": "b1EU-m4vvWbo"
      },
      "outputs": [],
      "source": [
        "# Baixando a bases de dados de judicialização\n",
        "data = pd.read_csv('dados_judicializacao_AED.csv')"
      ]
    },
    {
      "cell_type": "code",
      "execution_count": null,
      "metadata": {
        "colab": {
          "base_uri": "https://localhost:8080/"
        },
        "id": "TGwzUMtBYcza",
        "outputId": "37bc99d1-c574-473e-ba85-c4ce715c38d0"
      },
      "outputs": [
        {
          "name": "stdout",
          "output_type": "stream",
          "text": [
            "Número de linhas inicial: 555546\n"
          ]
        }
      ],
      "source": [
        "#Contabilizando a quantidade de linhas inicial\n",
        "num_linhas_inicial = data.shape[0]\n",
        "\n",
        "print(\"Número de linhas inicial:\", num_linhas_inicial)"
      ]
    },
    {
      "cell_type": "code",
      "execution_count": null,
      "metadata": {
        "colab": {
          "base_uri": "https://localhost:8080/"
        },
        "id": "0R-iZVkeMyek",
        "outputId": "ff30bc0f-7dbd-423f-83d8-6be2aeae3fc9"
      },
      "outputs": [
        {
          "name": "stdout",
          "output_type": "stream",
          "text": [
            "\n",
            " Tipos de dados do DataFrame:\n",
            " empresa_re                       object\n",
            "num_proc_ano                      int64\n",
            "data_distribuicao                object\n",
            "UF                               object\n",
            "operacao                         object\n",
            "jurisdicao                       object\n",
            "instancia                        object\n",
            "situacao_processual_sentenca     object\n",
            "n_autores                         int64\n",
            "data_voo                         object\n",
            "valor_pedido_inicial            float64\n",
            "valor_dano_moral                float64\n",
            "valor_dano_material             float64\n",
            "valor_total_condenacao          float64\n",
            "valor_pago                      float64\n",
            "obj_problemas_operacionais         bool\n",
            "obj_bagagem                        bool\n",
            "obj_contrato                       bool\n",
            "obj_outros                         bool\n",
            "causa_nao_informado                bool\n",
            "causa_forca_maior                  bool\n",
            "causa_fortuitos                    bool\n",
            "causa_terceiros                    bool\n",
            "causa_cliente                      bool\n",
            "causa_aerea                        bool\n",
            "causa_outros                       bool\n",
            "obj_principal                    object\n",
            "subobj_principal                 object\n",
            "causa_alegada                    object\n",
            "mes_distribuicao                  int64\n",
            "regiao                           object\n",
            "dtype: object\n"
          ]
        }
      ],
      "source": [
        "#Visualizando dados\n",
        "print('\\n Tipos de dados do DataFrame:\\n', data.dtypes)"
      ]
    },
    {
      "cell_type": "markdown",
      "metadata": {
        "id": "bAASbGjx746N"
      },
      "source": [
        "### Preparando as variáveis para os modelos\n",
        "\n",
        "Variáveis que não serão usadas: data_distribuicao, UF, data_voo, obj_principal, subobj_principal, causa_alegada, valor_pago\n",
        "\n",
        "Variáveis com alterações:\n",
        "- filtrar apenas dados em que a situacao_processual_sentenca é Condenação ou Acordo\n",
        "- valor_pedido_inicial: transformar em Baixo, Médio e Alto\n",
        "- valor_dano_moral: transformar em Baixo, Médio e Alto\n",
        "- valor_dano_material: transformar em Baixo, Médio e Alto\n",
        "- valor_total_condenacao: transformar em Baixo, Médio e Alto\n",
        "\n",
        "Variáveis sem alterações: empresa_re, num_proc_ano, operacao, jurisdicao, instancia, situacao_processual_sentenca, n_autores, obj_problemas_operacionais, obj_bagagem, obj_contrato, obj_outros, causa_nao_informado, causa_forca_maior, causa_fortuitos, causa_terceiros, causa_cliente, causa_aerea, causa_outros, mes_distribuicao, regiao"
      ]
    },
    {
      "cell_type": "markdown",
      "metadata": {
        "id": "NP2qfUuZf-EW",
        "jp-MarkdownHeadingCollapsed": true
      },
      "source": [
        "#### Excluindo variáveis que não serão usadas"
      ]
    },
    {
      "cell_type": "code",
      "execution_count": null,
      "metadata": {
        "id": "8W1Y8HXPf9U7"
      },
      "outputs": [],
      "source": [
        "# Excluindo colunas que não serão usadas\n",
        "data = data.drop(['data_distribuicao', 'UF', 'data_voo', 'obj_principal', 'subobj_principal', 'causa_alegada', 'valor_pago'], axis=1)"
      ]
    },
    {
      "cell_type": "markdown",
      "metadata": {
        "jp-MarkdownHeadingCollapsed": true,
        "id": "M_8RlkUYlEdF"
      },
      "source": [
        "#### Filtrando apenas as linhas em que a situacao_processual_sentenca é Condenação ou Acordo"
      ]
    },
    {
      "cell_type": "code",
      "execution_count": null,
      "metadata": {
        "id": "OzS4NDVplEdF",
        "outputId": "3474c511-6b1d-4898-c080-c700a16a1437"
      },
      "outputs": [
        {
          "data": {
            "text/plain": [
              "situacao_processual_sentenca\n",
              "Outros                                       304091\n",
              "Condenação                                   126041\n",
              "Acordo                                        81266\n",
              "Decisão favorável à aérea (improcedência)     38858\n",
              "Extinção sem julgamento do mérito              5290\n",
              "Name: count, dtype: int64"
            ]
          },
          "execution_count": 10,
          "metadata": {},
          "output_type": "execute_result"
        }
      ],
      "source": [
        "# Conferindo valores situacao_processual_sentenca\n",
        "data.situacao_processual_sentenca.value_counts()"
      ]
    },
    {
      "cell_type": "code",
      "execution_count": null,
      "metadata": {
        "id": "OJjCYn2MlEdF",
        "outputId": "d606e350-cff0-4b5f-b2e8-932454887914"
      },
      "outputs": [
        {
          "name": "stdout",
          "output_type": "stream",
          "text": [
            "Mínimo: 0.0\n",
            "Máximo: 1094059.0\n",
            "valor_total_condenacao\n",
            "0.00        82641\n",
            "5000.00     10324\n",
            "3000.00     10111\n",
            "4000.00      8169\n",
            "2000.00      6759\n",
            "            ...  \n",
            "8033.83         1\n",
            "2444.44         1\n",
            "5884.75         1\n",
            "250.93          1\n",
            "69277.59        1\n",
            "Name: count, Length: 51874, dtype: int64\n"
          ]
        }
      ],
      "source": [
        "# Filtrando as linhas onde situacao_processual_sentenca = Condenação\n",
        "data = data[(data['situacao_processual_sentenca'] == 'Condenação') | (data['situacao_processual_sentenca'] == 'Acordo')]\n",
        "\n",
        "# Calculando o mínimo e o máximo da coluna 'valor_pago'\n",
        "minimo = data['valor_total_condenacao'].min()\n",
        "maximo = data['valor_total_condenacao'].max()\n",
        "\n",
        "print(f\"Mínimo: {minimo}\")\n",
        "print(f\"Máximo: {maximo}\")\n",
        "\n",
        "# Calculando a frequência de cada número na coluna 'valor_pago'\n",
        "frequencia = data['valor_total_condenacao'].value_counts()\n",
        "\n",
        "print(frequencia)"
      ]
    },
    {
      "cell_type": "code",
      "execution_count": null,
      "metadata": {
        "id": "nDNlygj0lEdG",
        "outputId": "908fe7d3-8d5d-40a8-9e8c-25dfb5a6eae3"
      },
      "outputs": [
        {
          "name": "stdout",
          "output_type": "stream",
          "text": [
            "Número de linhas após o filtro de situação processual e sentença: 207307\n"
          ]
        }
      ],
      "source": [
        "#Contabilizando a quantidade de linhas após o filtro de situação processual e sentença\n",
        "num_linhas_filtro = data.shape[0]\n",
        "\n",
        "print(\"Número de linhas após o filtro de situação processual e sentença:\", num_linhas_filtro)"
      ]
    },
    {
      "cell_type": "markdown",
      "metadata": {
        "id": "DdPJBZwtfQ3E"
      },
      "source": [
        "#### Indenizações"
      ]
    },
    {
      "cell_type": "code",
      "execution_count": null,
      "metadata": {
        "colab": {
          "base_uri": "https://localhost:8080/"
        },
        "id": "nT-BpfpwdjGC",
        "outputId": "8f61b4f0-b377-4642-edca-10d5d81bbff1"
      },
      "outputs": [
        {
          "name": "stdout",
          "output_type": "stream",
          "text": [
            "Número de linhas após a remoção dos outliers: 207294\n"
          ]
        }
      ],
      "source": [
        "#Removendo outliers (valores acima de 1 milhão)\n",
        "\n",
        "#Lista de colunas para verificar os outliers\n",
        "colunas_indenizacoes = ['valor_pedido_inicial', 'valor_dano_moral', 'valor_dano_material', 'valor_total_condenacao']\n",
        "\n",
        "#Definindo valor máximo para remoção de outliers\n",
        "valor_maximo = 1e6  # R$ 1.000.000\n",
        "\n",
        "#Removendo as linhas que têm valores maiores que 1.000.000 nas colunas especificadas\n",
        "data = data[~((data[colunas_indenizacoes] > valor_maximo).any(axis=1))]\n",
        "\n",
        "#Contabilizando a quantidade de linhas após a remoção dos outliers\n",
        "num_linhas_sem_outlier = data.shape[0]\n",
        "\n",
        "print(\"Número de linhas após a remoção dos outliers:\", num_linhas_sem_outlier)"
      ]
    },
    {
      "cell_type": "markdown",
      "metadata": {
        "id": "D1wCUD6VaZwh",
        "jp-MarkdownHeadingCollapsed": true
      },
      "source": [
        "##### Valor pedido inicial"
      ]
    },
    {
      "cell_type": "code",
      "execution_count": null,
      "metadata": {
        "colab": {
          "base_uri": "https://localhost:8080/"
        },
        "id": "Wuzgo58cligJ",
        "outputId": "d3d42893-955c-4339-a76e-f9116c8d181c"
      },
      "outputs": [
        {
          "name": "stdout",
          "output_type": "stream",
          "text": [
            "10000.0 15000.0 20472.545000000002\n"
          ]
        }
      ],
      "source": [
        "#Calculando os percentis 25, 50 e 75 da coluna 'valor_pedido_inicial'\n",
        "percentil_25_pedido_inicial = data['valor_pedido_inicial'].quantile(0.25)\n",
        "percentil_50_pedido_inicial = data['valor_pedido_inicial'].quantile(0.50)\n",
        "percentil_75_pedido_inicial = data['valor_pedido_inicial'].quantile(0.75)\n",
        "\n",
        "print(percentil_25_pedido_inicial, percentil_50_pedido_inicial, percentil_75_pedido_inicial)"
      ]
    },
    {
      "cell_type": "code",
      "execution_count": null,
      "metadata": {
        "colab": {
          "base_uri": "https://localhost:8080/"
        },
        "id": "JhPg5nj-nLC0",
        "outputId": "314a6d5b-f6c0-4851-a58f-3e9e76dbeba4"
      },
      "outputs": [
        {
          "name": "stdout",
          "output_type": "stream",
          "text": [
            "Mínimo (com base nos valores únicos): 0.0\n",
            "Percentil 25 (com base nos valores únicos): 10332.64\n",
            "Percentil 50 (com base nos valores únicos): 15322.92\n",
            "Percentil 75 (com base nos valores únicos): 22281.32\n",
            "Máximo (com base nos valores únicos): 950000.0\n"
          ]
        }
      ],
      "source": [
        "#Obtendo os valores únicos da coluna 'valor_pedido_inicial'\n",
        "valores_unicos_pedido_inicial = data['valor_pedido_inicial'].dropna().unique()\n",
        "\n",
        "#Calculando os percentis 25, 50 e 75 dos valores únicos\n",
        "valor_minimo_pedido_inicial = np.min(valores_unicos_pedido_inicial)\n",
        "percentil_25_pedido_inicial = np.percentile(valores_unicos_pedido_inicial, 25)\n",
        "percentil_50_pedido_inicial = np.percentile(valores_unicos_pedido_inicial, 50)\n",
        "percentil_75_pedido_inicial = np.percentile(valores_unicos_pedido_inicial, 75)\n",
        "valor_maximo_pedido_inicial = np.max(valores_unicos_pedido_inicial)\n",
        "\n",
        "#Exibindo os percentis e os valores mínimos e máximos\n",
        "print(f\"Mínimo (com base nos valores únicos): {valor_minimo_pedido_inicial}\")\n",
        "print(f\"Percentil 25 (com base nos valores únicos): {percentil_25_pedido_inicial}\")\n",
        "print(f\"Percentil 50 (com base nos valores únicos): {percentil_50_pedido_inicial}\")\n",
        "print(f\"Percentil 75 (com base nos valores únicos): {percentil_75_pedido_inicial}\")\n",
        "print(f\"Máximo (com base nos valores únicos): {valor_maximo_pedido_inicial}\")"
      ]
    },
    {
      "cell_type": "code",
      "execution_count": null,
      "metadata": {
        "colab": {
          "base_uri": "https://localhost:8080/",
          "height": 209
        },
        "id": "_o3iTbZ6lino",
        "outputId": "a084e6d2-00b8-4026-f138-db04b695ff6d"
      },
      "outputs": [
        {
          "data": {
            "text/plain": [
              "valor_pedido_inicial\n",
              "Médio    94899\n",
              "Baixo    70221\n",
              "Alto     42174\n",
              "Name: count, dtype: int64"
            ]
          },
          "execution_count": 18,
          "metadata": {},
          "output_type": "execute_result"
        }
      ],
      "source": [
        "# Definindo as condições para as categorias com base nos percentis calculados\n",
        "\n",
        "condicoes = [\n",
        "    pd.isnull(data['valor_pedido_inicial']),  # Nulos\n",
        "    data['valor_pedido_inicial'] <= percentil_25_pedido_inicial,  # Baixo: até o percentil 25\n",
        "    (data['valor_pedido_inicial'] > percentil_25_pedido_inicial) & (data['valor_pedido_inicial'] <= percentil_75_pedido_inicial),  # Médio: entre o percentil 25 e 75\n",
        "    data['valor_pedido_inicial'] > percentil_75_pedido_inicial  # Alto: acima do percentil 75\n",
        "]\n",
        "\n",
        "# Definir as opções para as categorias\n",
        "nulos = None\n",
        "opcoes = [nulos, 'Baixo', 'Médio', 'Alto']\n",
        "\n",
        "# Substituindo os valores da coluna 'valor_pedido_inicial' com as categorias\n",
        "data['valor_pedido_inicial'] = np.select(condicoes, opcoes)\n",
        "\n",
        "# Contar a frequência dos valores na coluna 'valor_pedido_inicial'\n",
        "data['valor_pedido_inicial'].value_counts()"
      ]
    },
    {
      "cell_type": "markdown",
      "metadata": {
        "id": "h_ZlGIOFgvkt",
        "jp-MarkdownHeadingCollapsed": true
      },
      "source": [
        "##### Dano Moral"
      ]
    },
    {
      "cell_type": "code",
      "execution_count": null,
      "metadata": {
        "colab": {
          "base_uri": "https://localhost:8080/"
        },
        "id": "nNMyHqR3YWoN",
        "outputId": "6fc94b5c-37c4-4439-9fc8-640aa1cc9d13"
      },
      "outputs": [
        {
          "name": "stdout",
          "output_type": "stream",
          "text": [
            "0.0 0.0 2000.0\n"
          ]
        }
      ],
      "source": [
        "#Calculando os percentis 25, 50 e 75 da coluna 'valor_dano_moral'\n",
        "percentil_25_dano_moral = data['valor_dano_moral'].quantile(0.25)\n",
        "percentil_50_dano_moral = data['valor_dano_moral'].quantile(0.50)\n",
        "percentil_75_dano_moral = data['valor_dano_moral'].quantile(0.75)\n",
        "\n",
        "print(percentil_25_dano_moral, percentil_50_dano_moral, percentil_75_dano_moral)"
      ]
    },
    {
      "cell_type": "code",
      "execution_count": null,
      "metadata": {
        "colab": {
          "base_uri": "https://localhost:8080/"
        },
        "id": "SRSww0AvbYB3",
        "outputId": "b9ebc9a6-0c84-47b2-806a-0c18212100de"
      },
      "outputs": [
        {
          "name": "stdout",
          "output_type": "stream",
          "text": [
            "Mínimo (com base nos valores únicos): 0.0\n",
            "Percentil 25 (com base nos valores únicos): 1520.935\n",
            "Percentil 50 (com base nos valores únicos): 3236.54\n",
            "Percentil 75 (com base nos valores únicos): 5970.86\n",
            "Máximo (com base nos valores únicos): 465000.0\n"
          ]
        }
      ],
      "source": [
        "#Calculando os percentis 25, 50 e 75 da coluna 'valor_dano_moral' somente com os valores únicos\n",
        "\n",
        "#Obtendo os valores únicos da coluna 'valor_dano_moral'\n",
        "valores_unicos_dano_moral = data['valor_dano_moral'].dropna().unique()\n",
        "\n",
        "#Calculando os percentis 25, 50 e 75 dos valores únicos\n",
        "valor_minimo_dano_moral = np.min(valores_unicos_dano_moral)\n",
        "percentil_25_dano_moral = np.percentile(valores_unicos_dano_moral, 25)\n",
        "percentil_50_dano_moral = np.percentile(valores_unicos_dano_moral, 50)\n",
        "percentil_75_dano_moral = np.percentile(valores_unicos_dano_moral, 75)\n",
        "valor_maximo_dano_moral = np.max(valores_unicos_dano_moral)\n",
        "\n",
        "#Exibindo os percentis e os valores mínimos e máximos\n",
        "print(f\"Mínimo (com base nos valores únicos): {valor_minimo_dano_moral}\")\n",
        "print(f\"Percentil 25 (com base nos valores únicos): {percentil_25_dano_moral}\")\n",
        "print(f\"Percentil 50 (com base nos valores únicos): {percentil_50_dano_moral}\")\n",
        "print(f\"Percentil 75 (com base nos valores únicos): {percentil_75_dano_moral}\")\n",
        "print(f\"Máximo (com base nos valores únicos): {valor_maximo_dano_moral}\")"
      ]
    },
    {
      "cell_type": "code",
      "execution_count": null,
      "metadata": {
        "colab": {
          "base_uri": "https://localhost:8080/",
          "height": 209
        },
        "id": "itr-w4KpYUQo",
        "outputId": "f462480f-dcd3-438e-ac16-183e0a0fe906"
      },
      "outputs": [
        {
          "data": {
            "text/plain": [
              "valor_dano_moral\n",
              "Baixo    151253\n",
              "Médio     37675\n",
              "Alto      18366\n",
              "Name: count, dtype: int64"
            ]
          },
          "execution_count": 22,
          "metadata": {},
          "output_type": "execute_result"
        }
      ],
      "source": [
        "# Definindo as condições para as categorias com base nos percentis calculados\n",
        "\n",
        "condicoes = [\n",
        "    pd.isnull(data['valor_dano_moral']),  # Nulos\n",
        "    data['valor_dano_moral'] <= percentil_25_dano_moral,  # Baixo: até o percentil 25\n",
        "    (data['valor_dano_moral'] > percentil_25_dano_moral) & (data['valor_dano_moral'] <= percentil_75_dano_moral),  # Médio: entre o percentil 25 e 75\n",
        "    data['valor_dano_moral'] > percentil_75_dano_moral  # Alto: acima do percentil 75\n",
        "]\n",
        "\n",
        "# Definir as opções para as categorias\n",
        "nulos = None\n",
        "opcoes = [nulos, 'Baixo', 'Médio', 'Alto']\n",
        "\n",
        "# Substituindo os valores da coluna 'valor_dano_moral' com as categorias\n",
        "data['valor_dano_moral'] = np.select(condicoes, opcoes)\n",
        "\n",
        "# Contar a frequência dos valores na coluna 'valor_dano_moral'\n",
        "data['valor_dano_moral'].value_counts()"
      ]
    },
    {
      "cell_type": "markdown",
      "metadata": {
        "id": "dpi4pBcCo8np",
        "jp-MarkdownHeadingCollapsed": true
      },
      "source": [
        "##### Dano Material"
      ]
    },
    {
      "cell_type": "code",
      "execution_count": null,
      "metadata": {
        "colab": {
          "base_uri": "https://localhost:8080/"
        },
        "id": "BeK0qhpEliwQ",
        "outputId": "803ed7eb-8c91-4262-c6b3-241eb7096df1"
      },
      "outputs": [
        {
          "name": "stdout",
          "output_type": "stream",
          "text": [
            "0.0 0.0 0.0\n"
          ]
        }
      ],
      "source": [
        "#Calculando os percentis 25, 50 e 75 da coluna 'valor_dano_material'\n",
        "percentil_25_dano_material = data['valor_dano_material'].quantile(0.25)\n",
        "percentil_50_dano_material = data['valor_dano_material'].quantile(0.50)\n",
        "percentil_75_dano_material = data['valor_dano_material'].quantile(0.75)\n",
        "\n",
        "print(percentil_25_dano_material, percentil_50_dano_material, percentil_75_dano_material)"
      ]
    },
    {
      "cell_type": "code",
      "execution_count": null,
      "metadata": {
        "colab": {
          "base_uri": "https://localhost:8080/"
        },
        "id": "mwllT-lMpkQz",
        "outputId": "da404a70-a233-4c1c-85de-08de870af669"
      },
      "outputs": [
        {
          "name": "stdout",
          "output_type": "stream",
          "text": [
            "Mínimo (com base nos valores únicos): 0.0\n",
            "Percentil 25 (com base nos valores únicos): 450.605\n",
            "Percentil 50 (com base nos valores únicos): 1107.85\n",
            "Percentil 75 (com base nos valores únicos): 2638.105\n",
            "Máximo (com base nos valores únicos): 453880.56\n"
          ]
        }
      ],
      "source": [
        "# Obtendo os valores únicos da coluna 'valor_dano_material'\n",
        "valores_unicos_dano_material = data['valor_dano_material'].dropna().unique()\n",
        "\n",
        "# Calculando os percentis 25, 50 e 75 dos valores únicos\n",
        "valor_minimo_dano_material = np.min(valores_unicos_dano_material)\n",
        "percentil_25_dano_material = np.percentile(valores_unicos_dano_material, 25)\n",
        "percentil_50_dano_material = np.percentile(valores_unicos_dano_material, 50)\n",
        "percentil_75_dano_material = np.percentile(valores_unicos_dano_material, 75)\n",
        "valor_maximo_dano_material = np.max(valores_unicos_dano_material)\n",
        "\n",
        "# Exibindo os percentis e os valores mínimos e máximos\n",
        "print(f\"Mínimo (com base nos valores únicos): {valor_minimo_dano_material}\")\n",
        "print(f\"Percentil 25 (com base nos valores únicos): {percentil_25_dano_material}\")\n",
        "print(f\"Percentil 50 (com base nos valores únicos): {percentil_50_dano_material}\")\n",
        "print(f\"Percentil 75 (com base nos valores únicos): {percentil_75_dano_material}\")\n",
        "print(f\"Máximo (com base nos valores únicos): {valor_maximo_dano_material}\")"
      ]
    },
    {
      "cell_type": "code",
      "execution_count": null,
      "metadata": {
        "colab": {
          "base_uri": "https://localhost:8080/",
          "height": 209
        },
        "id": "n4e18tbOprmw",
        "outputId": "4e0e703a-9216-417d-fb14-351e124dde84"
      },
      "outputs": [
        {
          "data": {
            "text/plain": [
              "valor_dano_material\n",
              "Baixo    181275\n",
              "Médio     17482\n",
              "Alto       8537\n",
              "Name: count, dtype: int64"
            ]
          },
          "execution_count": 26,
          "metadata": {},
          "output_type": "execute_result"
        }
      ],
      "source": [
        "# Definindo as condições para as categorias com base nos percentis calculados\n",
        "\n",
        "condicoes = [\n",
        "    pd.isnull(data['valor_dano_material']),  # Nulos\n",
        "    data['valor_dano_material'] <= percentil_25_dano_material,  # Baixo: até o percentil 25\n",
        "    (data['valor_dano_material'] > percentil_25_dano_material) & (data['valor_dano_material'] <= percentil_75_dano_material),  # Médio: entre o percentil 25 e 75\n",
        "    data['valor_dano_material'] > percentil_75_dano_material  # Alto: acima do percentil 75\n",
        "]\n",
        "\n",
        "# Definir as opções para as categorias\n",
        "nulos = None\n",
        "opcoes = [nulos, 'Baixo', 'Médio', 'Alto']\n",
        "\n",
        "# Substituindo os valores da coluna 'valor_dano_material' com as categorias\n",
        "data['valor_dano_material'] = np.select(condicoes, opcoes)\n",
        "\n",
        "# Contar a frequência dos valores na coluna 'valor_dano_material'\n",
        "data['valor_dano_material'].value_counts()"
      ]
    },
    {
      "cell_type": "markdown",
      "metadata": {
        "id": "P0I1_elqlEdH"
      },
      "source": [
        "##### Valor total da condenação"
      ]
    },
    {
      "cell_type": "code",
      "execution_count": null,
      "metadata": {
        "id": "GuM2NmzhlEdH",
        "outputId": "fbe3c53e-e5f5-44b3-f603-9bc2bf8be80a"
      },
      "outputs": [
        {
          "name": "stdout",
          "output_type": "stream",
          "text": [
            "0.0 1813.93 5000.0\n"
          ]
        }
      ],
      "source": [
        "#Calculando os percentis 25, 50 e 75 da coluna 'valor_dano_material'\n",
        "percentil_25_condenacao = data['valor_total_condenacao'].quantile(0.25)\n",
        "percentil_50_condenacao = data['valor_total_condenacao'].quantile(0.50)\n",
        "percentil_75_condenacao = data['valor_total_condenacao'].quantile(0.75)\n",
        "\n",
        "print(percentil_25_condenacao, percentil_50_condenacao, percentil_75_condenacao)"
      ]
    },
    {
      "cell_type": "code",
      "execution_count": null,
      "metadata": {
        "id": "g1ONZsFBlEdH",
        "outputId": "407bf158-d2ea-4c2c-91a3-f628365c6255"
      },
      "outputs": [
        {
          "name": "stdout",
          "output_type": "stream",
          "text": [
            "Mínimo (com base nos valores únicos): 0.0\n",
            "Percentil 25 (com base nos valores únicos): 1729.02\n",
            "Percentil 50 (com base nos valores únicos): 4051.415\n",
            "Percentil 75 (com base nos valores únicos): 7236.8175\n",
            "Máximo (com base nos valores únicos): 951084.0\n"
          ]
        }
      ],
      "source": [
        "# Obtendo os valores únicos da coluna 'valor_condenacao'\n",
        "valores_unicos_condenacao = data['valor_total_condenacao'].dropna().unique()\n",
        "\n",
        "# Calculando os percentis 25, 50 e 75 dos valores únicos\n",
        "valor_minimo_condenacao = np.min(valores_unicos_condenacao)\n",
        "percentil_25_condenacao = np.percentile(valores_unicos_condenacao, 25)\n",
        "percentil_50_condenacao = np.percentile(valores_unicos_condenacao, 50)\n",
        "percentil_75_condenacao = np.percentile(valores_unicos_condenacao, 75)\n",
        "valor_maximo_condenacao = np.max(valores_unicos_condenacao)\n",
        "\n",
        "# Exibindo os percentis e os valores mínimos e máximos\n",
        "print(f\"Mínimo (com base nos valores únicos): {valor_minimo_condenacao}\")\n",
        "print(f\"Percentil 25 (com base nos valores únicos): {percentil_25_condenacao}\")\n",
        "print(f\"Percentil 50 (com base nos valores únicos): {percentil_50_condenacao}\")\n",
        "print(f\"Percentil 75 (com base nos valores únicos): {percentil_75_condenacao}\")\n",
        "print(f\"Máximo (com base nos valores únicos): {valor_maximo_condenacao}\")"
      ]
    },
    {
      "cell_type": "code",
      "execution_count": null,
      "metadata": {
        "id": "rI73okoelEdH",
        "outputId": "5b4d98aa-8dd2-4f03-f418-d259734bea28"
      },
      "outputs": [
        {
          "data": {
            "text/plain": [
              "valor_total_condenacao\n",
              "Baixo    103018\n",
              "Médio     77477\n",
              "Alto      26799\n",
              "Name: count, dtype: int64"
            ]
          },
          "execution_count": 30,
          "metadata": {},
          "output_type": "execute_result"
        }
      ],
      "source": [
        "# Definindo as condições para as categorias com base nos percentis calculados\n",
        "condicoes = [\n",
        "    pd.isnull(data['valor_total_condenacao']),  # Nulos\n",
        "    data['valor_total_condenacao'] <= percentil_25_condenacao,  # Baixo: até o percentil 25\n",
        "    (data['valor_total_condenacao'] > percentil_25_condenacao) & (data['valor_total_condenacao'] <= percentil_75_condenacao),  # Médio: entre o percentil 25 e 75\n",
        "    data['valor_total_condenacao'] > percentil_75_condenacao  # Alto: acima do percentil 75\n",
        "]\n",
        "\n",
        "# Definir as opções para as categorias\n",
        "nulos = None\n",
        "opcoes = [nulos, 'Baixo', 'Médio', 'Alto']\n",
        "\n",
        "# Substituindo os valores da coluna 'valor_condenacao' com as categorias\n",
        "data['valor_total_condenacao'] = np.select(condicoes, opcoes)\n",
        "\n",
        "# Contar a frequência dos valores na coluna 'valor_condenacao'\n",
        "data['valor_total_condenacao'].value_counts()"
      ]
    },
    {
      "cell_type": "code",
      "execution_count": null,
      "metadata": {
        "id": "VRTkxZPfb8g5"
      },
      "outputs": [],
      "source": [
        "#Criando arquivo csv\n",
        "data.to_csv('dados_modelos_ML.csv', index=False, encoding='utf-8')"
      ]
    }
  ],
  "metadata": {
    "accelerator": "GPU",
    "colab": {
      "gpuType": "T4",
      "provenance": [],
      "include_colab_link": true
    },
    "kernelspec": {
      "display_name": "Python 3 (ipykernel)",
      "language": "python",
      "name": "python3"
    },
    "language_info": {
      "codemirror_mode": {
        "name": "ipython",
        "version": 3
      },
      "file_extension": ".py",
      "mimetype": "text/x-python",
      "name": "python",
      "nbconvert_exporter": "python",
      "pygments_lexer": "ipython3",
      "version": "3.12.4"
    }
  },
  "nbformat": 4,
  "nbformat_minor": 0
}