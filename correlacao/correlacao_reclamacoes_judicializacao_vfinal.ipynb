{
  "cells": [
    {
      "cell_type": "markdown",
      "metadata": {
        "id": "view-in-github",
        "colab_type": "text"
      },
      "source": [
        "<a href=\"https://colab.research.google.com/github/thaisflopes/mestrado_PPGA_UnB/blob/main/correlacao/correlacao_reclamacoes_judicializacao_vfinal.ipynb\" target=\"_parent\"><img src=\"https://colab.research.google.com/assets/colab-badge.svg\" alt=\"Open In Colab\"/></a>"
      ]
    },
    {
      "cell_type": "markdown",
      "id": "38bf78fa-6442-43ea-bfd8-5092d99fe57d",
      "metadata": {
        "id": "38bf78fa-6442-43ea-bfd8-5092d99fe57d"
      },
      "source": [
        "Código do trabalho de mestrado da aluna Thaís Ferreira Lopes Oliveira no PPGA-UnB."
      ]
    },
    {
      "cell_type": "markdown",
      "id": "63829712-1729-4b04-9e1a-9f28ec17910e",
      "metadata": {
        "id": "63829712-1729-4b04-9e1a-9f28ec17910e"
      },
      "source": [
        "### Importando bibliotecas"
      ]
    },
    {
      "cell_type": "code",
      "execution_count": null,
      "id": "126a307a-c298-4cef-af1f-783dac5b00d6",
      "metadata": {
        "id": "126a307a-c298-4cef-af1f-783dac5b00d6"
      },
      "outputs": [],
      "source": [
        "#Importando bibliotecas\n",
        "import pandas as pd\n",
        "from matplotlib import pyplot as plt\n",
        "import seaborn as sns"
      ]
    },
    {
      "cell_type": "markdown",
      "id": "d93812b8-68db-4470-8b9b-eda03b36044b",
      "metadata": {
        "id": "d93812b8-68db-4470-8b9b-eda03b36044b"
      },
      "source": [
        "### Importando os dados"
      ]
    },
    {
      "cell_type": "code",
      "execution_count": null,
      "id": "f87856b6-a282-4aa9-9782-faa56c66ffc3",
      "metadata": {
        "id": "f87856b6-a282-4aa9-9782-faa56c66ffc3",
        "outputId": "18d79c67-fa4f-47a1-c8de-7f774b1a8b7f"
      },
      "outputs": [
        {
          "data": {
            "text/plain": [
              "(316799, 18)"
            ]
          },
          "execution_count": 5,
          "metadata": {},
          "output_type": "execute_result"
        }
      ],
      "source": [
        "#Baixando a base de dados de Reclamações\n",
        "reclamacoes = pd.read_csv('base_reclamacoes_ajustada.csv')\n",
        "reclamacoes.shape"
      ]
    },
    {
      "cell_type": "code",
      "execution_count": null,
      "id": "acf03bf1-dbd5-4095-89a2-1524437b2fd3",
      "metadata": {
        "id": "acf03bf1-dbd5-4095-89a2-1524437b2fd3",
        "outputId": "2761b60c-b73d-4548-b4c3-6f31b0d6e248"
      },
      "outputs": [
        {
          "data": {
            "text/plain": [
              "Gestor                         object\n",
              "Região                         object\n",
              "UF                             object\n",
              "Ano Abertura                    int64\n",
              "Mês Abertura                    int64\n",
              "Tempo Resposta (em dias)      float64\n",
              "Forma Contrato                 object\n",
              "Procurou Empresa               object\n",
              "Respondida                     object\n",
              "Situação                       object\n",
              "Avaliação Reclamação           object\n",
              "Nota do Consumidor            float64\n",
              "empresa_aerea                  object\n",
              "codigo_anac                    object\n",
              "obj_problemas_operacionais       bool\n",
              "obj_bagagem                      bool\n",
              "obj_contrato                     bool\n",
              "obj_outros                       bool\n",
              "dtype: object"
            ]
          },
          "execution_count": 6,
          "metadata": {},
          "output_type": "execute_result"
        }
      ],
      "source": [
        "#Visualizando os tipos de dados de Reclamações\n",
        "reclamacoes.dtypes"
      ]
    },
    {
      "cell_type": "code",
      "execution_count": null,
      "id": "a637e7bf-7bc5-42e1-8bdc-4bf1a09ed4e4",
      "metadata": {
        "id": "a637e7bf-7bc5-42e1-8bdc-4bf1a09ed4e4",
        "outputId": "2bfd464a-116f-4b64-bb24-3d79617f1b05"
      },
      "outputs": [
        {
          "data": {
            "text/plain": [
              "(555546, 31)"
            ]
          },
          "execution_count": 7,
          "metadata": {},
          "output_type": "execute_result"
        }
      ],
      "source": [
        "#Baixando a base de dados de Judicialização\n",
        "judicializacao = pd.read_csv('dados_judicializacao_AED.csv')\n",
        "judicializacao.shape"
      ]
    },
    {
      "cell_type": "code",
      "execution_count": null,
      "id": "efa37852-cf4b-486e-aada-313069b6f6a5",
      "metadata": {
        "id": "efa37852-cf4b-486e-aada-313069b6f6a5",
        "outputId": "cc697fb1-87c8-466d-c8b1-707f37b24312"
      },
      "outputs": [
        {
          "data": {
            "text/plain": [
              "empresa_re                       object\n",
              "num_proc_ano                      int64\n",
              "data_distribuicao                object\n",
              "UF                               object\n",
              "operacao                         object\n",
              "jurisdicao                       object\n",
              "instancia                        object\n",
              "situacao_processual_sentenca     object\n",
              "n_autores                         int64\n",
              "data_voo                         object\n",
              "valor_pedido_inicial            float64\n",
              "valor_dano_moral                float64\n",
              "valor_dano_material             float64\n",
              "valor_total_condenacao          float64\n",
              "valor_pago                      float64\n",
              "obj_problemas_operacionais         bool\n",
              "obj_bagagem                        bool\n",
              "obj_contrato                       bool\n",
              "obj_outros                         bool\n",
              "causa_nao_informado                bool\n",
              "causa_forca_maior                  bool\n",
              "causa_fortuitos                    bool\n",
              "causa_terceiros                    bool\n",
              "causa_cliente                      bool\n",
              "causa_aerea                        bool\n",
              "causa_outros                       bool\n",
              "obj_principal                    object\n",
              "subobj_principal                 object\n",
              "causa_alegada                    object\n",
              "mes_distribuicao                  int64\n",
              "regiao                           object\n",
              "dtype: object"
            ]
          },
          "execution_count": 8,
          "metadata": {},
          "output_type": "execute_result"
        }
      ],
      "source": [
        "#Visualizando os tipos de dados de Judicialização\n",
        "judicializacao.dtypes"
      ]
    },
    {
      "cell_type": "markdown",
      "id": "fe367ddd-f7e9-4bf9-bb1b-75f4bc8b48dd",
      "metadata": {
        "id": "fe367ddd-f7e9-4bf9-bb1b-75f4bc8b48dd"
      },
      "source": [
        "### Selecionando colunas\n",
        "\n",
        "Colunas que serão usadas:\n",
        "- Região\n",
        "- Ano\n",
        "- Mês\n",
        "- Empresa\n",
        "- Objetos"
      ]
    },
    {
      "cell_type": "markdown",
      "id": "09fad638-8adc-4514-aa31-eefb108e3e0e",
      "metadata": {
        "id": "09fad638-8adc-4514-aa31-eefb108e3e0e"
      },
      "source": [
        "#### Reclamações"
      ]
    },
    {
      "cell_type": "code",
      "execution_count": null,
      "id": "7b826ce7-c80e-4186-a9f4-d0d8e1a5ac73",
      "metadata": {
        "id": "7b826ce7-c80e-4186-a9f4-d0d8e1a5ac73",
        "outputId": "a727ab79-93dc-4e77-88ce-226acbf61505"
      },
      "outputs": [
        {
          "data": {
            "text/plain": [
              "Index(['Gestor', 'Região', 'UF', 'Ano Abertura', 'Mês Abertura',\n",
              "       'Tempo Resposta (em dias)', 'Forma Contrato', 'Procurou Empresa',\n",
              "       'Respondida', 'Situação', 'Avaliação Reclamação', 'Nota do Consumidor',\n",
              "       'empresa_aerea', 'codigo_anac', 'obj_problemas_operacionais',\n",
              "       'obj_bagagem', 'obj_contrato', 'obj_outros'],\n",
              "      dtype='object')"
            ]
          },
          "execution_count": 11,
          "metadata": {},
          "output_type": "execute_result"
        }
      ],
      "source": [
        "reclamacoes.columns"
      ]
    },
    {
      "cell_type": "code",
      "execution_count": null,
      "id": "028afe14-33a2-4035-b719-287492fd4989",
      "metadata": {
        "id": "028afe14-33a2-4035-b719-287492fd4989"
      },
      "outputs": [],
      "source": [
        "#Excluindo as colunas que não serão usadas da base de dados de Reclamações\n",
        "reclamacoes = reclamacoes.drop(['Gestor', 'UF', 'Tempo Resposta (em dias)', 'Forma Contrato', 'Procurou Empresa',\n",
        "       'Respondida', 'Situação', 'Avaliação Reclamação', 'Nota do Consumidor', 'codigo_anac'], axis=1)"
      ]
    },
    {
      "cell_type": "code",
      "execution_count": null,
      "id": "dab52d81-2fb1-49cd-92d8-b83e847f0777",
      "metadata": {
        "id": "dab52d81-2fb1-49cd-92d8-b83e847f0777"
      },
      "outputs": [],
      "source": [
        "#Renomeando os nomes das colunas da base de dados de Reclamações\n",
        "reclamacoes = reclamacoes.rename(columns={'Ano Abertura': 'ano', 'Mês Abertura': 'mes', 'Região': 'regiao'})"
      ]
    },
    {
      "cell_type": "markdown",
      "id": "0ee01ea1-c3dd-4234-ae33-28180f66fbb7",
      "metadata": {
        "id": "0ee01ea1-c3dd-4234-ae33-28180f66fbb7"
      },
      "source": [
        "'obj_problemas_operacionais':'reclamacoes_obj_problemas_operacionais', 'obj_bagagem':'reclamacoes_obj_bagagem',  \n",
        "                                          'obj_contrato':'reclamacoes_obj_contrato', 'obj_outros':'reclamacoes_obj_outros'"
      ]
    },
    {
      "cell_type": "code",
      "execution_count": null,
      "id": "fd58bd3c-b638-41d1-bf7b-f9cf7be58a07",
      "metadata": {
        "id": "fd58bd3c-b638-41d1-bf7b-f9cf7be58a07",
        "outputId": "29129872-a442-4dda-facf-d85e406f071c"
      },
      "outputs": [
        {
          "data": {
            "text/plain": [
              "Index(['regiao', 'ano', 'mes', 'empresa_aerea', 'obj_problemas_operacionais',\n",
              "       'obj_bagagem', 'obj_contrato', 'obj_outros'],\n",
              "      dtype='object')"
            ]
          },
          "execution_count": 15,
          "metadata": {},
          "output_type": "execute_result"
        }
      ],
      "source": [
        "#Colunas finais da base de dados de Reclamações\n",
        "reclamacoes.columns"
      ]
    },
    {
      "cell_type": "markdown",
      "id": "a2987111-2b34-4307-8055-1739a72251f2",
      "metadata": {
        "id": "a2987111-2b34-4307-8055-1739a72251f2"
      },
      "source": [
        "#### Judicialização"
      ]
    },
    {
      "cell_type": "code",
      "execution_count": null,
      "id": "71ae7349-a293-4309-8acd-149904a4963c",
      "metadata": {
        "id": "71ae7349-a293-4309-8acd-149904a4963c",
        "outputId": "f2dcf994-3304-46ad-80ba-800eadf0d209"
      },
      "outputs": [
        {
          "data": {
            "text/plain": [
              "Index(['empresa_re', 'num_proc_ano', 'data_distribuicao', 'UF', 'operacao',\n",
              "       'jurisdicao', 'instancia', 'situacao_processual_sentenca', 'n_autores',\n",
              "       'data_voo', 'valor_pedido_inicial', 'valor_dano_moral',\n",
              "       'valor_dano_material', 'valor_total_condenacao', 'valor_pago',\n",
              "       'obj_problemas_operacionais', 'obj_bagagem', 'obj_contrato',\n",
              "       'obj_outros', 'causa_nao_informado', 'causa_forca_maior',\n",
              "       'causa_fortuitos', 'causa_terceiros', 'causa_cliente', 'causa_aerea',\n",
              "       'causa_outros', 'obj_principal', 'subobj_principal', 'causa_alegada',\n",
              "       'mes_distribuicao', 'regiao'],\n",
              "      dtype='object')"
            ]
          },
          "execution_count": 17,
          "metadata": {},
          "output_type": "execute_result"
        }
      ],
      "source": [
        "judicializacao.columns"
      ]
    },
    {
      "cell_type": "code",
      "execution_count": null,
      "id": "ebda3ebc-7486-4eee-82f0-06d4748d0a2c",
      "metadata": {
        "id": "ebda3ebc-7486-4eee-82f0-06d4748d0a2c"
      },
      "outputs": [],
      "source": [
        "#Excluindo as colunas que não serão usadas da base de dados de Judicialização\n",
        "judicializacao = judicializacao.drop(['data_distribuicao', 'UF', 'operacao',\n",
        "       'jurisdicao', 'instancia', 'situacao_processual_sentenca', 'n_autores',\n",
        "       'valor_pedido_inicial', 'valor_dano_moral', 'valor_dano_material',\n",
        "       'valor_total_condenacao', 'valor_pago', 'causa_nao_informado',\n",
        "       'causa_forca_maior', 'causa_fortuitos', 'causa_terceiros',\n",
        "       'causa_cliente', 'causa_aerea', 'causa_outros', 'obj_principal',\n",
        "       'subobj_principal', 'causa_alegada'], axis=1)"
      ]
    },
    {
      "cell_type": "code",
      "execution_count": null,
      "id": "726cbf96-f025-482f-b4ee-c29d855f49a5",
      "metadata": {
        "id": "726cbf96-f025-482f-b4ee-c29d855f49a5"
      },
      "outputs": [],
      "source": [
        "#Renomeando os nomes das colunas da base de dados de Judicialização\n",
        "judicializacao = judicializacao.rename(columns={'num_proc_ano': 'ano', 'mes_distribuicao':'mes', 'empresa_re': 'empresa_aerea'})"
      ]
    },
    {
      "cell_type": "markdown",
      "id": "23fc3210-c3ea-40c0-90e1-4a39a3e488c9",
      "metadata": {
        "id": "23fc3210-c3ea-40c0-90e1-4a39a3e488c9"
      },
      "source": [
        "'obj_problemas_operacionais':'processos_obj_problemas_operacionais', 'obj_bagagem':'processos_obj_bagagem',  \n",
        "                                               'obj_contrato':'processos_obj_contrato', 'obj_outros':'processos_obj_outros'"
      ]
    },
    {
      "cell_type": "code",
      "execution_count": null,
      "id": "ef60a6e9-d641-4849-aafa-8484369ef9e7",
      "metadata": {
        "id": "ef60a6e9-d641-4849-aafa-8484369ef9e7",
        "outputId": "cce3c8ce-f304-46c9-9f2f-6e15e2d117a2"
      },
      "outputs": [
        {
          "data": {
            "text/plain": [
              "Index(['empresa_aerea', 'ano', 'data_voo', 'obj_problemas_operacionais',\n",
              "       'obj_bagagem', 'obj_contrato', 'obj_outros', 'mes', 'regiao'],\n",
              "      dtype='object')"
            ]
          },
          "execution_count": 21,
          "metadata": {},
          "output_type": "execute_result"
        }
      ],
      "source": [
        "#Colunas finais da base de dados de Judicialização\n",
        "judicializacao.columns"
      ]
    },
    {
      "cell_type": "markdown",
      "id": "487ac6cc-97d5-4ad9-8969-25e9324f5369",
      "metadata": {
        "id": "487ac6cc-97d5-4ad9-8969-25e9324f5369"
      },
      "source": [
        "### Calculando a quantidade de reclamações e processos judiciais"
      ]
    },
    {
      "cell_type": "code",
      "execution_count": null,
      "id": "a3602cc2-5473-4584-ab56-ee25645a48d0",
      "metadata": {
        "id": "a3602cc2-5473-4584-ab56-ee25645a48d0",
        "outputId": "6ba57da1-2d96-45b0-eb39-b6c08acf0c85"
      },
      "outputs": [
        {
          "data": {
            "text/html": [
              "<div>\n",
              "<style scoped>\n",
              "    .dataframe tbody tr th:only-of-type {\n",
              "        vertical-align: middle;\n",
              "    }\n",
              "\n",
              "    .dataframe tbody tr th {\n",
              "        vertical-align: top;\n",
              "    }\n",
              "\n",
              "    .dataframe thead th {\n",
              "        text-align: right;\n",
              "    }\n",
              "</style>\n",
              "<table border=\"1\" class=\"dataframe\">\n",
              "  <thead>\n",
              "    <tr style=\"text-align: right;\">\n",
              "      <th></th>\n",
              "      <th>regiao</th>\n",
              "      <th>ano</th>\n",
              "      <th>mes</th>\n",
              "      <th>empresa_aerea</th>\n",
              "      <th>qtd_reclamacoes</th>\n",
              "      <th>reclamacoes_obj_problemas_operacionais</th>\n",
              "      <th>reclamacoes_obj_bagagem</th>\n",
              "      <th>reclamacoes_obj_contrato</th>\n",
              "      <th>reclamacoes_obj_outros</th>\n",
              "    </tr>\n",
              "  </thead>\n",
              "  <tbody>\n",
              "    <tr>\n",
              "      <th>0</th>\n",
              "      <td>CO</td>\n",
              "      <td>2019</td>\n",
              "      <td>1</td>\n",
              "      <td>Azul</td>\n",
              "      <td>41</td>\n",
              "      <td>8</td>\n",
              "      <td>3</td>\n",
              "      <td>30</td>\n",
              "      <td>0</td>\n",
              "    </tr>\n",
              "    <tr>\n",
              "      <th>1</th>\n",
              "      <td>CO</td>\n",
              "      <td>2019</td>\n",
              "      <td>1</td>\n",
              "      <td>Copa</td>\n",
              "      <td>1</td>\n",
              "      <td>0</td>\n",
              "      <td>0</td>\n",
              "      <td>1</td>\n",
              "      <td>0</td>\n",
              "    </tr>\n",
              "    <tr>\n",
              "      <th>2</th>\n",
              "      <td>CO</td>\n",
              "      <td>2019</td>\n",
              "      <td>1</td>\n",
              "      <td>Gol</td>\n",
              "      <td>128</td>\n",
              "      <td>55</td>\n",
              "      <td>18</td>\n",
              "      <td>56</td>\n",
              "      <td>2</td>\n",
              "    </tr>\n",
              "    <tr>\n",
              "      <th>3</th>\n",
              "      <td>CO</td>\n",
              "      <td>2019</td>\n",
              "      <td>1</td>\n",
              "      <td>Latam</td>\n",
              "      <td>207</td>\n",
              "      <td>47</td>\n",
              "      <td>24</td>\n",
              "      <td>144</td>\n",
              "      <td>2</td>\n",
              "    </tr>\n",
              "    <tr>\n",
              "      <th>4</th>\n",
              "      <td>CO</td>\n",
              "      <td>2019</td>\n",
              "      <td>1</td>\n",
              "      <td>United</td>\n",
              "      <td>1</td>\n",
              "      <td>0</td>\n",
              "      <td>0</td>\n",
              "      <td>1</td>\n",
              "      <td>0</td>\n",
              "    </tr>\n",
              "  </tbody>\n",
              "</table>\n",
              "</div>"
            ],
            "text/plain": [
              "  regiao   ano  mes empresa_aerea  qtd_reclamacoes  \\\n",
              "0     CO  2019    1          Azul               41   \n",
              "1     CO  2019    1          Copa                1   \n",
              "2     CO  2019    1           Gol              128   \n",
              "3     CO  2019    1         Latam              207   \n",
              "4     CO  2019    1        United                1   \n",
              "\n",
              "   reclamacoes_obj_problemas_operacionais  reclamacoes_obj_bagagem  \\\n",
              "0                                       8                        3   \n",
              "1                                       0                        0   \n",
              "2                                      55                       18   \n",
              "3                                      47                       24   \n",
              "4                                       0                        0   \n",
              "\n",
              "   reclamacoes_obj_contrato  reclamacoes_obj_outros  \n",
              "0                        30                       0  \n",
              "1                         1                       0  \n",
              "2                        56                       2  \n",
              "3                       144                       2  \n",
              "4                         1                       0  "
            ]
          },
          "execution_count": 23,
          "metadata": {},
          "output_type": "execute_result"
        }
      ],
      "source": [
        "# Agrupar pela regiao, UF, ano, mes e empresa_aerea e contar a quantidade de reclamacoes\n",
        "agrupado_reclamacoes = reclamacoes.groupby(['regiao', 'ano', 'mes', 'empresa_aerea']).agg(\n",
        "    qtd_reclamacoes=('empresa_aerea', 'count'),\n",
        "    reclamacoes_obj_problemas_operacionais=('obj_problemas_operacionais', 'sum'),\n",
        "    reclamacoes_obj_bagagem=('obj_bagagem', 'sum'),\n",
        "    reclamacoes_obj_contrato=('obj_contrato', 'sum'),\n",
        "    reclamacoes_obj_outros=('obj_outros', 'sum')\n",
        ").reset_index()\n",
        "\n",
        "# Exibir o DataFrame agrupado e contado\n",
        "agrupado_reclamacoes.head()"
      ]
    },
    {
      "cell_type": "code",
      "execution_count": null,
      "id": "993fd334-cafb-4864-8930-86c57bd81d6a",
      "metadata": {
        "id": "993fd334-cafb-4864-8930-86c57bd81d6a",
        "outputId": "2a80db3d-e468-4008-c7cc-7fc2c4737652"
      },
      "outputs": [
        {
          "data": {
            "text/html": [
              "<div>\n",
              "<style scoped>\n",
              "    .dataframe tbody tr th:only-of-type {\n",
              "        vertical-align: middle;\n",
              "    }\n",
              "\n",
              "    .dataframe tbody tr th {\n",
              "        vertical-align: top;\n",
              "    }\n",
              "\n",
              "    .dataframe thead th {\n",
              "        text-align: right;\n",
              "    }\n",
              "</style>\n",
              "<table border=\"1\" class=\"dataframe\">\n",
              "  <thead>\n",
              "    <tr style=\"text-align: right;\">\n",
              "      <th></th>\n",
              "      <th>regiao</th>\n",
              "      <th>ano</th>\n",
              "      <th>mes</th>\n",
              "      <th>empresa_aerea</th>\n",
              "      <th>qtd_processos</th>\n",
              "      <th>processos_obj_problemas_operacionais</th>\n",
              "      <th>processos_obj_bagagem</th>\n",
              "      <th>processos_obj_contrato</th>\n",
              "      <th>processos_obj_outros</th>\n",
              "    </tr>\n",
              "  </thead>\n",
              "  <tbody>\n",
              "    <tr>\n",
              "      <th>0</th>\n",
              "      <td>CO</td>\n",
              "      <td>2019</td>\n",
              "      <td>0</td>\n",
              "      <td>Azul</td>\n",
              "      <td>1</td>\n",
              "      <td>0</td>\n",
              "      <td>0</td>\n",
              "      <td>0</td>\n",
              "      <td>1</td>\n",
              "    </tr>\n",
              "    <tr>\n",
              "      <th>1</th>\n",
              "      <td>CO</td>\n",
              "      <td>2019</td>\n",
              "      <td>0</td>\n",
              "      <td>Latam</td>\n",
              "      <td>4</td>\n",
              "      <td>3</td>\n",
              "      <td>0</td>\n",
              "      <td>1</td>\n",
              "      <td>0</td>\n",
              "    </tr>\n",
              "    <tr>\n",
              "      <th>2</th>\n",
              "      <td>CO</td>\n",
              "      <td>2019</td>\n",
              "      <td>1</td>\n",
              "      <td>Azul</td>\n",
              "      <td>155</td>\n",
              "      <td>133</td>\n",
              "      <td>19</td>\n",
              "      <td>17</td>\n",
              "      <td>0</td>\n",
              "    </tr>\n",
              "    <tr>\n",
              "      <th>3</th>\n",
              "      <td>CO</td>\n",
              "      <td>2019</td>\n",
              "      <td>1</td>\n",
              "      <td>Copa</td>\n",
              "      <td>12</td>\n",
              "      <td>10</td>\n",
              "      <td>0</td>\n",
              "      <td>1</td>\n",
              "      <td>1</td>\n",
              "    </tr>\n",
              "    <tr>\n",
              "      <th>4</th>\n",
              "      <td>CO</td>\n",
              "      <td>2019</td>\n",
              "      <td>1</td>\n",
              "      <td>Gol</td>\n",
              "      <td>107</td>\n",
              "      <td>90</td>\n",
              "      <td>14</td>\n",
              "      <td>12</td>\n",
              "      <td>0</td>\n",
              "    </tr>\n",
              "  </tbody>\n",
              "</table>\n",
              "</div>"
            ],
            "text/plain": [
              "  regiao   ano  mes empresa_aerea  qtd_processos  \\\n",
              "0     CO  2019    0          Azul              1   \n",
              "1     CO  2019    0         Latam              4   \n",
              "2     CO  2019    1          Azul            155   \n",
              "3     CO  2019    1          Copa             12   \n",
              "4     CO  2019    1           Gol            107   \n",
              "\n",
              "   processos_obj_problemas_operacionais  processos_obj_bagagem  \\\n",
              "0                                     0                      0   \n",
              "1                                     3                      0   \n",
              "2                                   133                     19   \n",
              "3                                    10                      0   \n",
              "4                                    90                     14   \n",
              "\n",
              "   processos_obj_contrato  processos_obj_outros  \n",
              "0                       0                     1  \n",
              "1                       1                     0  \n",
              "2                      17                     0  \n",
              "3                       1                     1  \n",
              "4                      12                     0  "
            ]
          },
          "execution_count": 24,
          "metadata": {},
          "output_type": "execute_result"
        }
      ],
      "source": [
        "# Agrupar pela regiao, mes, ano, empresa_aerea e contar a quantidade de processos judiciais\n",
        "agrupado_judicializacao = judicializacao.groupby(['regiao', 'ano', 'mes', 'empresa_aerea']).agg(\n",
        "    qtd_processos=('empresa_aerea', 'count'),\n",
        "    processos_obj_problemas_operacionais=('obj_problemas_operacionais', 'sum'),\n",
        "    processos_obj_bagagem=('obj_bagagem', 'sum'),\n",
        "    processos_obj_contrato=('obj_contrato', 'sum'),\n",
        "    processos_obj_outros=('obj_outros', 'sum')\n",
        ").reset_index()\n",
        "\n",
        "# Exibir o DataFrame agrupado e contado\n",
        "agrupado_judicializacao.head()"
      ]
    },
    {
      "cell_type": "code",
      "execution_count": null,
      "id": "6a4170f0-7bbb-47de-9320-adc4b0ae0549",
      "metadata": {
        "id": "6a4170f0-7bbb-47de-9320-adc4b0ae0549",
        "outputId": "382fb929-4a35-4674-ca2d-ed9f98b43ffd"
      },
      "outputs": [
        {
          "data": {
            "text/html": [
              "<div>\n",
              "<style scoped>\n",
              "    .dataframe tbody tr th:only-of-type {\n",
              "        vertical-align: middle;\n",
              "    }\n",
              "\n",
              "    .dataframe tbody tr th {\n",
              "        vertical-align: top;\n",
              "    }\n",
              "\n",
              "    .dataframe thead th {\n",
              "        text-align: right;\n",
              "    }\n",
              "</style>\n",
              "<table border=\"1\" class=\"dataframe\">\n",
              "  <thead>\n",
              "    <tr style=\"text-align: right;\">\n",
              "      <th></th>\n",
              "      <th>regiao</th>\n",
              "      <th>ano</th>\n",
              "      <th>mes</th>\n",
              "      <th>empresa_aerea</th>\n",
              "      <th>qtd_reclamacoes</th>\n",
              "      <th>reclamacoes_obj_problemas_operacionais</th>\n",
              "      <th>reclamacoes_obj_bagagem</th>\n",
              "      <th>reclamacoes_obj_contrato</th>\n",
              "      <th>reclamacoes_obj_outros</th>\n",
              "      <th>qtd_processos</th>\n",
              "      <th>processos_obj_problemas_operacionais</th>\n",
              "      <th>processos_obj_bagagem</th>\n",
              "      <th>processos_obj_contrato</th>\n",
              "      <th>processos_obj_outros</th>\n",
              "    </tr>\n",
              "  </thead>\n",
              "  <tbody>\n",
              "    <tr>\n",
              "      <th>0</th>\n",
              "      <td>CO</td>\n",
              "      <td>2019</td>\n",
              "      <td>1</td>\n",
              "      <td>Azul</td>\n",
              "      <td>41</td>\n",
              "      <td>8</td>\n",
              "      <td>3</td>\n",
              "      <td>30</td>\n",
              "      <td>0</td>\n",
              "      <td>155</td>\n",
              "      <td>133</td>\n",
              "      <td>19</td>\n",
              "      <td>17</td>\n",
              "      <td>0</td>\n",
              "    </tr>\n",
              "    <tr>\n",
              "      <th>1</th>\n",
              "      <td>CO</td>\n",
              "      <td>2019</td>\n",
              "      <td>1</td>\n",
              "      <td>Copa</td>\n",
              "      <td>1</td>\n",
              "      <td>0</td>\n",
              "      <td>0</td>\n",
              "      <td>1</td>\n",
              "      <td>0</td>\n",
              "      <td>12</td>\n",
              "      <td>10</td>\n",
              "      <td>0</td>\n",
              "      <td>1</td>\n",
              "      <td>1</td>\n",
              "    </tr>\n",
              "    <tr>\n",
              "      <th>2</th>\n",
              "      <td>CO</td>\n",
              "      <td>2019</td>\n",
              "      <td>1</td>\n",
              "      <td>Gol</td>\n",
              "      <td>128</td>\n",
              "      <td>55</td>\n",
              "      <td>18</td>\n",
              "      <td>56</td>\n",
              "      <td>2</td>\n",
              "      <td>107</td>\n",
              "      <td>90</td>\n",
              "      <td>14</td>\n",
              "      <td>12</td>\n",
              "      <td>0</td>\n",
              "    </tr>\n",
              "    <tr>\n",
              "      <th>3</th>\n",
              "      <td>CO</td>\n",
              "      <td>2019</td>\n",
              "      <td>1</td>\n",
              "      <td>Latam</td>\n",
              "      <td>207</td>\n",
              "      <td>47</td>\n",
              "      <td>24</td>\n",
              "      <td>144</td>\n",
              "      <td>2</td>\n",
              "      <td>421</td>\n",
              "      <td>317</td>\n",
              "      <td>47</td>\n",
              "      <td>56</td>\n",
              "      <td>6</td>\n",
              "    </tr>\n",
              "    <tr>\n",
              "      <th>4</th>\n",
              "      <td>CO</td>\n",
              "      <td>2019</td>\n",
              "      <td>1</td>\n",
              "      <td>United</td>\n",
              "      <td>1</td>\n",
              "      <td>0</td>\n",
              "      <td>0</td>\n",
              "      <td>1</td>\n",
              "      <td>0</td>\n",
              "      <td>4</td>\n",
              "      <td>4</td>\n",
              "      <td>0</td>\n",
              "      <td>0</td>\n",
              "      <td>0</td>\n",
              "    </tr>\n",
              "  </tbody>\n",
              "</table>\n",
              "</div>"
            ],
            "text/plain": [
              "  regiao   ano  mes empresa_aerea  qtd_reclamacoes  \\\n",
              "0     CO  2019    1          Azul               41   \n",
              "1     CO  2019    1          Copa                1   \n",
              "2     CO  2019    1           Gol              128   \n",
              "3     CO  2019    1         Latam              207   \n",
              "4     CO  2019    1        United                1   \n",
              "\n",
              "   reclamacoes_obj_problemas_operacionais  reclamacoes_obj_bagagem  \\\n",
              "0                                       8                        3   \n",
              "1                                       0                        0   \n",
              "2                                      55                       18   \n",
              "3                                      47                       24   \n",
              "4                                       0                        0   \n",
              "\n",
              "   reclamacoes_obj_contrato  reclamacoes_obj_outros  qtd_processos  \\\n",
              "0                        30                       0            155   \n",
              "1                         1                       0             12   \n",
              "2                        56                       2            107   \n",
              "3                       144                       2            421   \n",
              "4                         1                       0              4   \n",
              "\n",
              "   processos_obj_problemas_operacionais  processos_obj_bagagem  \\\n",
              "0                                   133                     19   \n",
              "1                                    10                      0   \n",
              "2                                    90                     14   \n",
              "3                                   317                     47   \n",
              "4                                     4                      0   \n",
              "\n",
              "   processos_obj_contrato  processos_obj_outros  \n",
              "0                      17                     0  \n",
              "1                       1                     1  \n",
              "2                      12                     0  \n",
              "3                      56                     6  \n",
              "4                       0                     0  "
            ]
          },
          "execution_count": 25,
          "metadata": {},
          "output_type": "execute_result"
        }
      ],
      "source": [
        "# Mesclar os dois DataFrames com base nas colunas de agrupamento\n",
        "df_combinado = pd.merge(\n",
        "    agrupado_reclamacoes,\n",
        "    agrupado_judicializacao,\n",
        "    on=['regiao', 'ano', 'mes', 'empresa_aerea']\n",
        ")\n",
        "\n",
        "df_combinado.head()"
      ]
    },
    {
      "cell_type": "code",
      "execution_count": null,
      "id": "c1d3af6f-46f7-42b4-b61d-fa0f12b181cd",
      "metadata": {
        "id": "c1d3af6f-46f7-42b4-b61d-fa0f12b181cd",
        "outputId": "b2074116-5144-433a-ef52-f82b7a7902bd"
      },
      "outputs": [
        {
          "data": {
            "text/plain": [
              "(1638, 14)"
            ]
          },
          "execution_count": 57,
          "metadata": {},
          "output_type": "execute_result"
        }
      ],
      "source": [
        "df_combinado.shape"
      ]
    },
    {
      "cell_type": "markdown",
      "id": "29ff1013-8100-4885-90f2-5be773bcc0fd",
      "metadata": {
        "id": "29ff1013-8100-4885-90f2-5be773bcc0fd"
      },
      "source": [
        "### Correlação por motivos"
      ]
    },
    {
      "cell_type": "code",
      "execution_count": null,
      "id": "a3b23329-5b35-4b9f-8049-8fb38c95075a",
      "metadata": {
        "id": "a3b23329-5b35-4b9f-8049-8fb38c95075a",
        "outputId": "492a914f-fcd3-4ca9-9539-eb5ab30e5bb3"
      },
      "outputs": [
        {
          "name": "stdout",
          "output_type": "stream",
          "text": [
            "reclamacoes_obj_problemas_operacionais    0.104396\n",
            "reclamacoes_obj_bagagem                   0.195971\n",
            "reclamacoes_obj_contrato                  0.032967\n",
            "reclamacoes_obj_outros                    0.318681\n",
            "processos_obj_problemas_operacionais      0.094628\n",
            "processos_obj_bagagem                     0.102564\n",
            "processos_obj_contrato                    0.128205\n",
            "processos_obj_outros                      0.593407\n",
            "dtype: float64\n"
          ]
        }
      ],
      "source": [
        "colunas = [\n",
        "    'reclamacoes_obj_problemas_operacionais', 'reclamacoes_obj_bagagem',\n",
        "    'reclamacoes_obj_contrato', 'reclamacoes_obj_outros',\n",
        "    'processos_obj_problemas_operacionais', 'processos_obj_bagagem',\n",
        "    'processos_obj_contrato', 'processos_obj_outros'\n",
        "]\n",
        "\n",
        "# Proporção de zeros em cada coluna\n",
        "proporcao_zeros = df_combinado[colunas].apply(lambda col: (col == 0).sum() / 1638)\n",
        "print(proporcao_zeros)"
      ]
    },
    {
      "cell_type": "code",
      "execution_count": null,
      "id": "e8447d8d-89da-48ac-b19c-f158a02c5e47",
      "metadata": {
        "id": "e8447d8d-89da-48ac-b19c-f158a02c5e47"
      },
      "outputs": [],
      "source": [
        "# Calcular a correlação entre as quantidades dos objetos (judicializacao vs reclamacoes)\n",
        "correlacao = df_combinado[\n",
        "    ['reclamacoes_obj_problemas_operacionais', 'reclamacoes_obj_bagagem', 'reclamacoes_obj_contrato', 'reclamacoes_obj_outros',\n",
        "    'processos_obj_problemas_operacionais', 'processos_obj_bagagem', 'processos_obj_contrato', 'processos_obj_outros']\n",
        "].corr()"
      ]
    },
    {
      "cell_type": "code",
      "execution_count": null,
      "id": "84a3e8ac-a2bc-4260-b280-0769e2d3ae38",
      "metadata": {
        "id": "84a3e8ac-a2bc-4260-b280-0769e2d3ae38",
        "outputId": "282dcedb-16ab-4b8d-c790-b127a79d009a"
      },
      "outputs": [
        {
          "data": {
            "image/png": "[encoded data removed]",
            "text/plain": [
              "<Figure size 1000x800 with 2 Axes>"
            ]
          },
          "metadata": {},
          "output_type": "display_data"
        }
      ],
      "source": [
        "# Filtrar para deixar apenas as linhas de reclamações e as colunas de processos\n",
        "correlacao_reclamacao_processo = correlacao.loc[\n",
        "    ['reclamacoes_obj_problemas_operacionais', 'reclamacoes_obj_bagagem', 'reclamacoes_obj_contrato', 'reclamacoes_obj_outros'],\n",
        "    ['processos_obj_problemas_operacionais', 'processos_obj_bagagem', 'processos_obj_contrato', 'processos_obj_outros']\n",
        "]\n",
        "\n",
        "# Criar o gráfico de mapa de calor (heatmap)\n",
        "plt.figure(figsize=(10, 8))  # Define o tamanho da figura\n",
        "sns.heatmap(correlacao_reclamacao_processo, annot=True, cmap='RdBu', fmt='.2f', vmin=-1, vmax=1, linewidths=0.5)\n",
        "\n",
        "# Salvar a figura em um arquivo\n",
        "plt.savefig(\"correlacao_reclamacao_processo.png\", format=\"png\", dpi=300)\n",
        "\n",
        "# Exibir o gráfico\n",
        "plt.title(\"Matriz de Correlação entre as Quantidades dos Motivos de Reclamações e Processos\")\n",
        "plt.show()"
      ]
    }
  ],
  "metadata": {
    "kernelspec": {
      "display_name": "Python 3 (ipykernel)",
      "language": "python",
      "name": "python3"
    },
    "language_info": {
      "codemirror_mode": {
        "name": "ipython",
        "version": 3
      },
      "file_extension": ".py",
      "mimetype": "text/x-python",
      "name": "python",
      "nbconvert_exporter": "python",
      "pygments_lexer": "ipython3",
      "version": "3.12.4"
    },
    "colab": {
      "provenance": [],
      "include_colab_link": true
    }
  },
  "nbformat": 4,
  "nbformat_minor": 5
}