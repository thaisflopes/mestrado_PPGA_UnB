{
  "cells": [
    {
      "cell_type": "markdown",
      "metadata": {
        "id": "view-in-github",
        "colab_type": "text"
      },
      "source": [
        "<a href=\"https://colab.research.google.com/github/thaisflopes/mestrado_PPGA_UnB/blob/main/AED_pre_processamento_dados_judicializacao_vfinal.ipynb\" target=\"_parent\"><img src=\"https://colab.research.google.com/assets/colab-badge.svg\" alt=\"Open In Colab\"/></a>"
      ]
    },
    {
      "cell_type": "markdown",
      "metadata": {
        "id": "67UcbHtv3jVX"
      },
      "source": [
        "Código do trabalho de mestrado da aluna Thaís Ferreira Lopes Oliveira no PPGA-UnB."
      ]
    },
    {
      "cell_type": "markdown",
      "metadata": {
        "id": "MS1Gs1R2-agh",
        "jp-MarkdownHeadingCollapsed": true
      },
      "source": [
        "### Importando bibliotecas"
      ]
    },
    {
      "cell_type": "code",
      "execution_count": null,
      "metadata": {
        "id": "W1KhJrWFXzGD"
      },
      "outputs": [],
      "source": [
        "#Importando bibliotecas\n",
        "import pandas as pd\n",
        "pd.set_option('display.max_colwidth', None)  # Mostra o conteúdo completo das colunas\n",
        "import numpy as np\n",
        "from matplotlib import pyplot as plt\n",
        "import seaborn as sns\n",
        "%matplotlib inline\n",
        "sns.set(color_codes=True)"
      ]
    },
    {
      "cell_type": "markdown",
      "metadata": {
        "id": "WoMduQE3noyW"
      },
      "source": [
        "### Definição de funções para reclassificar os dados"
      ]
    },
    {
      "cell_type": "markdown",
      "metadata": {
        "id": "E0eYfLA9Y6q7",
        "jp-MarkdownHeadingCollapsed": true
      },
      "source": [
        "#### Ajuste da coluna empresa_re"
      ]
    },
    {
      "cell_type": "code",
      "execution_count": null,
      "metadata": {
        "id": "KCHvfqeAYAM9"
      },
      "outputs": [],
      "source": [
        "def ajuste_empresa_re(df):\n",
        "  df['empresa_re'] = df['empresa_re'].replace(pd.NA,'')\n",
        "  empresa_re_dic = {\n",
        "    'Azul': 'Azul',\n",
        "    'Azul Conecta Ltda': 'Azul',\n",
        "    'AZUL LINHAS AEREAS': 'Azul',\n",
        "    'Azul Linhas Aereas': 'Azul',\n",
        "    'Azul Linhas Aéreas': 'Azul',\n",
        "    'AZUL SA': 'Azul',\n",
        "    'AZUL VIAGENS': 'Azul',\n",
        "    'TUDO AZUL': 'Azul',\n",
        "    'Copa': 'Copa',\n",
        "    'COMPANIA PANAMENA DE AVIACION': 'Copa',\n",
        "    'Copa - Compañia Panameña De Aviacion S.a': 'Copa',\n",
        "    'COPA Airlines': 'Copa',\n",
        "    'Copa Linhas Aereas': 'Copa',\n",
        "    'Gol': 'Gol',\n",
        "    'GLAI': 'Gol',\n",
        "    'GOL': 'Gol',\n",
        "    'GOL ': 'Gol',\n",
        "    'GOL  ': 'Gol',\n",
        "    'GOL E SMILES': 'Gol',\n",
        "    'GOL LINHAS AÉREAS': 'Gol',\n",
        "    'GOL Linhas Aéreas': 'Gol',\n",
        "    'Gol Linhas Aéreas': 'Gol',\n",
        "    'GOL LINHAS AÉREAS INTELIGENTES S.A': 'Gol',\n",
        "    'GOL LINHAS AEREAS INTELIGENTES S.A': 'Gol',\n",
        "    'GOL LINHAS AÉREAS INTELIGENTES S.A. ': 'Gol',\n",
        "    'GOL LINHAS AEREAS INTELIGENTES S.A.': 'Gol',\n",
        "    'GOL LINHAS AÉREAS S.A': 'Gol',\n",
        "    'GOL LINHAS AEREAS S.A': 'Gol',\n",
        "    'GOL LINHAS AÉREAS S.A.': 'Gol',\n",
        "    'GOL LINHAS AEREAS S.A.': 'Gol',\n",
        "    'GOL - LINHAS AEREAS S.A.': 'Gol',\n",
        "    'GOL - LINHAS AEREAS INTELIGENTES S.A.': 'Gol',\n",
        "    'GOL TRANSPORTES': 'Gol',\n",
        "    'GOL TRANSPORTES ': 'Gol',\n",
        "    'GOL TRANSPORTES AÉREOS S/A': 'Gol',\n",
        "    'LAN': 'Latam',\n",
        "    'Latam': 'Latam',\n",
        "    'LATAM AIRLINES BRASIL': 'Latam',\n",
        "    'LATAM AIRLINES GROUP': 'Latam',\n",
        "    'LATAM Airlines': 'Latam',\n",
        "    'SMILES': 'Gol',\n",
        "    'SMILES  ': 'Gol',\n",
        "    'SMILES FIDELIDADE S.A.': 'Gol',\n",
        "    'SMILES S.A.': 'Gol',\n",
        "    'TAM LINHAS': 'Latam',\n",
        "    'TAM LINHAS AÉREAS': 'Latam',\n",
        "    'TAM Linhas Aéreas': 'Latam',\n",
        "    'TAM VIAGENS': 'Latam',\n",
        "    'Tap': 'Tap',\n",
        "    'TAP Airlines': 'Tap',\n",
        "    'TAP-Transportes Aéreos Portugueses S/A': 'Tap',\n",
        "    'Transportes Aéreos Portugueses S/A': 'Tap',\n",
        "    'TRANSPORTES AEREOS PORTUGUESES SA': 'Tap',\n",
        "    'United': 'United',\n",
        "    'United Airlines': 'United',\n",
        "    'United Airlines Inc.': 'United',\n",
        "    'VRG': 'Gol',\n",
        "    'VRG E SMILES': 'Gol',\n",
        "    'VRG LINHAS AÉREAS S.A. posterior a 09/04/2007': 'Gol',\n",
        "    'VRG TRANSPORTES AÉREOS S/A -': 'Gol',\n",
        "    '': 'Não informado',\n",
        "    'Não informado': 'Não informado'\n",
        "  }\n",
        "  df['empresa_re'] = df.empresa_re.map(empresa_re_dic)\n",
        "  return df"
      ]
    },
    {
      "cell_type": "markdown",
      "metadata": {
        "id": "Pb8STumCcG-I",
        "jp-MarkdownHeadingCollapsed": true
      },
      "source": [
        "#### Ajuste da coluna cnpj_re"
      ]
    },
    {
      "cell_type": "code",
      "execution_count": null,
      "metadata": {
        "id": "OloM1C-EZJ_s"
      },
      "outputs": [],
      "source": [
        "def ajuste_cnpj_re(df):\n",
        "  df['cnpj_re'] = df['cnpj_re'].replace(pd.NA,'')\n",
        "  df['cnpj_re'] = df['cnpj_re'].replace('', 'Não informado')\n",
        "  df['cnpj_re'] = df.cnpj_re.astype(str)\n",
        "  return df"
      ]
    },
    {
      "cell_type": "markdown",
      "metadata": {
        "id": "m5rKrS0ug6_N",
        "jp-MarkdownHeadingCollapsed": true
      },
      "source": [
        "#### Ajuste da coluna data_distribuicao"
      ]
    },
    {
      "cell_type": "code",
      "execution_count": null,
      "metadata": {
        "id": "0gl8nbiHgKQw"
      },
      "outputs": [],
      "source": [
        "def ajuste_data_distribuicao(df):\n",
        "  df['data_distribuicao'] = df['data_distribuicao'].fillna('')\n",
        "  df['data_distribuicao'] = df.data_distribuicao.astype(str)\n",
        "  df['data_distribuicao'] = df['data_distribuicao'].str.slice(0,10)\n",
        "  return df"
      ]
    },
    {
      "cell_type": "markdown",
      "metadata": {
        "id": "9GmQ2joJhquf",
        "jp-MarkdownHeadingCollapsed": true
      },
      "source": [
        "#### Ajuste da coluna UF"
      ]
    },
    {
      "cell_type": "code",
      "execution_count": null,
      "metadata": {
        "id": "7u3YBHOShBri"
      },
      "outputs": [],
      "source": [
        "def ajuste_uf(df):\n",
        "  df['UF'] = df['UF'].fillna('')\n",
        "  df['UF'] = df['UF'].replace('', 'Não informado')\n",
        "  UF_dic = {\n",
        "    'AC': 'AC',\n",
        "    'Acre': 'AC',\n",
        "    'AL': 'AL',\n",
        "    'Alagoas': 'AL',\n",
        "    'Maceió': 'AL',\n",
        "    'AP': 'AP',\n",
        "    'Amapá': 'AP',\n",
        "    'AM': 'AM',\n",
        "    'Amazonas': 'AM',\n",
        "    'Manaus': 'AM',\n",
        "    'BA': 'BA',\n",
        "    'Bahia': 'BA',\n",
        "    'CE': 'CE',\n",
        "    'Ceará': 'CE',\n",
        "    'DF': 'DF',\n",
        "    'Distrito Federal': 'DF',\n",
        "    'Brasília': 'DF',\n",
        "    'ES': 'ES',\n",
        "    'Espírito Santo': 'ES',\n",
        "    'Espirito Santo': 'ES',\n",
        "    'GO': 'GO',\n",
        "    'Goiás': 'GO',\n",
        "    'MA': 'MA',\n",
        "    'Maranhão': 'MA',\n",
        "    'MS': 'MS',\n",
        "    'Mato Grosso do Sul': 'MS',\n",
        "    'MT': 'MT',\n",
        "    'Mato Grosso': 'MT',\n",
        "    'MG': 'MG',\n",
        "    'Minas Gerais': 'MG',\n",
        "    'Panama': 'Não informado',\n",
        "    'PA': 'PA',\n",
        "    'Pará': 'PA',\n",
        "    'PB': 'PB',\n",
        "    'Paraíba': 'PB',\n",
        "    'PR': 'PR',\n",
        "    'Paraná': 'PR',\n",
        "    'Parana': 'PR',\n",
        "    'PE': 'PE',\n",
        "    'Pernambuco': 'PE',\n",
        "    'PI': 'PI',\n",
        "    'Piauí': 'PI',\n",
        "    'RJ': 'RJ',\n",
        "    'Rio de Janeiro': 'RJ',\n",
        "    'RN': 'RN',\n",
        "    'Rio Grande do Norte': 'RN',\n",
        "    'RS': 'RS',\n",
        "    'Rio Grande do Sul': 'RS',\n",
        "    'RO': 'RO',\n",
        "    'Rondônia': 'RO',\n",
        "    'RR': 'RR',\n",
        "    'Roraima': 'RR',\n",
        "    'SC': 'SC',\n",
        "    'Santa Catarina': 'SC',\n",
        "    'SP': 'SP',\n",
        "    'São Paulo': 'SP',\n",
        "    'SE': 'SE',\n",
        "    'Sergipe': 'SE',\n",
        "    'TO': 'TO',\n",
        "    'Tocantins': 'TO',\n",
        "    'Não informado': 'Não informado'\n",
        "  }\n",
        "  df['UF'] = df.UF.map(UF_dic)\n",
        "  return df"
      ]
    },
    {
      "cell_type": "markdown",
      "metadata": {
        "id": "q8wshjLglpSi",
        "jp-MarkdownHeadingCollapsed": true
      },
      "source": [
        "#### Ajuste da coluna jurisdicao"
      ]
    },
    {
      "cell_type": "code",
      "execution_count": null,
      "metadata": {
        "id": "5y_9M9sqh8G2"
      },
      "outputs": [],
      "source": [
        "def ajuste_jurisdicao(df):\n",
        "  df['jurisdicao'] = df['jurisdicao'].fillna('')\n",
        "\n",
        "  # Determinação das diferenças entre a coluna 'jurisdicao' de df e reclassificacao_jurisdicao\n",
        "  reclassificacao_jurisdicao = pd.read_csv('reclassificacao_jurisdicao.csv')\n",
        "  jurisdicao_unique = pd.unique(reclassificacao_jurisdicao[['valor_original']].values.ravel()).astype(str)\n",
        "  jurisdicao_unique = list(sorted(jurisdicao_unique))\n",
        "  data_jurisdicao_unique = pd.unique(df[['jurisdicao']].values.ravel())\n",
        "  data_jurisdicao_unique = list(sorted(data_jurisdicao_unique))\n",
        "  novos_jurisdicao = list(set(data_jurisdicao_unique) - set(jurisdicao_unique))\n",
        "\n",
        "  if len(novos_jurisdicao) > 0:\n",
        "\n",
        "    # Atualização de reclassificacao_jurisdicao\n",
        "    jurisdicao_lista = []\n",
        "    for i in range(len(novos_jurisdicao)):\n",
        "      jurisdicao_lista.append(novos_jurisdicao[i])\n",
        "\n",
        "    nova_jurisdicao_lista = []\n",
        "    for i in jurisdicao_lista:\n",
        "      if \"especial\" in i.lower():\n",
        "        nova_jurisdicao_lista.append('Juizado Especial Cível')\n",
        "      elif \"vara\" in i.lower():\n",
        "        nova_jurisdicao_lista.append('Vara Cível')\n",
        "      elif \"cível\" in i.lower() or \"cíveis\" in i.lower():\n",
        "        nova_jurisdicao_lista.append('Vara Cível')\n",
        "      elif \"comum\" in i.lower():\n",
        "        nova_jurisdicao_lista.append('Vara Cível')\n",
        "      elif i == '':\n",
        "        nova_jurisdicao_lista.append('Não informado')\n",
        "      else:\n",
        "        nova_jurisdicao_lista.append('Outros')\n",
        "\n",
        "    reclassificacao_jurisdicao_complemento = pd. DataFrame({\n",
        "      'valor_original': jurisdicao_lista,\n",
        "      'novo_valor': nova_jurisdicao_lista\n",
        "    })\n",
        "\n",
        "    reclassificacao_jurisdicao = pd.concat([reclassificacao_jurisdicao,\n",
        "                            reclassificacao_jurisdicao_complemento],\n",
        "                            axis=0,ignore_index=True)\n",
        "\n",
        "    reclassificacao_jurisdicao.to_csv('reclassificacao_jurisdicao.csv',index=False)\n",
        "\n",
        "  # Redução de reclassificacao_jurisdicao para criar dicionário somente com coluna 'jurisdicao'\n",
        "  jurisdicao_clas = reclassificacao_jurisdicao[reclassificacao_jurisdicao.valor_original.\n",
        "           isin(df.jurisdicao)].groupby(['valor_original',\n",
        "           'novo_valor']).size().reset_index().rename(columns={0:'count'})\n",
        "  jurisdicao_clas = jurisdicao_clas.drop(['count'], axis=1)\n",
        "  jurisdicao_clas.set_index('valor_original',inplace=True)\n",
        "  jurisdicao_clas_dic = jurisdicao_clas.to_dict()\n",
        "  df['jurisdicao'] = df.jurisdicao.map(jurisdicao_clas_dic['novo_valor'])\n",
        "\n",
        "  return df"
      ]
    },
    {
      "cell_type": "markdown",
      "metadata": {
        "id": "KhxBJMPvboVU",
        "jp-MarkdownHeadingCollapsed": true
      },
      "source": [
        "#### Ajuste da coluna n_autores"
      ]
    },
    {
      "cell_type": "code",
      "execution_count": null,
      "metadata": {
        "id": "SJeMp62pbnSd"
      },
      "outputs": [],
      "source": [
        "def ajuste_n_autores(df):\n",
        "  df['n_autores'] = df['n_autores'].fillna('0')\n",
        "  df['n_autores'] = df['n_autores'].replace('', '0')\n",
        "  df['n_autores'] = df['n_autores'].replace('#N/D', '0')\n",
        "  for index, value in df['n_autores'].items():\n",
        "    if isinstance(value,str) and not value.isdigit() and value != '0':\n",
        "      df.at[index, 'n_autores'] = value.count('/') + 1\n",
        "  df['n_autores'] = df['n_autores'].astype(int)\n",
        "  return df"
      ]
    },
    {
      "cell_type": "markdown",
      "metadata": {
        "id": "d2w3IPmLo45c",
        "jp-MarkdownHeadingCollapsed": true
      },
      "source": [
        "#### Ajuste da coluna data_voo"
      ]
    },
    {
      "cell_type": "code",
      "execution_count": null,
      "metadata": {
        "id": "mhh--YMVpCru"
      },
      "outputs": [],
      "source": [
        "def ajuste_data_voo(df):\n",
        "  df['data_voo'] = df['data_voo'].fillna('')\n",
        "  df['data_voo'] = df.data_voo.astype(str)\n",
        "  df['data_voo'] = df['data_voo'].str.slice(0,10)\n",
        "  return df"
      ]
    },
    {
      "cell_type": "markdown",
      "metadata": {
        "id": "Ms5rUWGVqDxi",
        "jp-MarkdownHeadingCollapsed": true
      },
      "source": [
        "#### Ajuste da coluna operacao"
      ]
    },
    {
      "cell_type": "code",
      "execution_count": null,
      "metadata": {
        "id": "-ZhnNtrDpRLj"
      },
      "outputs": [],
      "source": [
        "def ajuste_operacao(df):\n",
        "  df['operacao'] = df['operacao'].replace(pd.NA, '-') #fillna('')\n",
        "\n",
        "  # Determinação das diferenças entre a coluna 'operacao' de df e reclassificacao_operacao\n",
        "  reclassificacao_operacao = pd.read_csv('reclassificacao_operacao.csv')\n",
        "  operacao_unique = pd.unique(reclassificacao_operacao[['operacao_original']].astype(str).values.ravel())\n",
        "  operacao_unique = list(sorted(operacao_unique))\n",
        "  data_operacao_unique = pd.unique(df[['operacao']].astype(str).values.ravel())\n",
        "  data_operacao_unique = list(sorted(data_operacao_unique))\n",
        "  novos_operacao = list(set(data_operacao_unique) - set(operacao_unique))\n",
        "\n",
        "  if len(novos_operacao) > 0:\n",
        "\n",
        "    # Atualização de reclassificacao_operacao\n",
        "    operacao_lista = []\n",
        "    for i in range(len(novos_operacao)):\n",
        "      operacao_lista.append(novos_operacao[i])\n",
        "\n",
        "    nova_operacao_lista = ['Doméstico']*len(novos_operacao)\n",
        "\n",
        "    reclassificacao_operacao_novos = pd. DataFrame({\n",
        "      'operacao_original': operacao_lista,\n",
        "      'operacao_reclassificado': nova_operacao_lista\n",
        "    })\n",
        "\n",
        "    reclassificacao_operacao = pd.concat([reclassificacao_operacao,\n",
        "                          reclassificacao_operacao_novos],\n",
        "                          axis=0,ignore_index=True)\n",
        "\n",
        "    reclassificacao_operacao.to_csv('reclassificacao_operacao.csv',index=False)\n",
        "\n",
        "  # Redução de reclassificacao_operacao em dicionário somente com elementos de df\n",
        "  operacao_clas = reclassificacao_operacao[reclassificacao_operacao.operacao_original.\n",
        "           isin(df.operacao)].groupby(['operacao_original',\n",
        "           'operacao_reclassificado']).size().reset_index().rename(columns={0:'count'})\n",
        "  operacao_clas = operacao_clas.drop(['count'], axis=1)\n",
        "  operacao_clas.set_index('operacao_original',inplace=True)\n",
        "  operacao_clas_dic = operacao_clas.to_dict()\n",
        "  df['operacao'] = df.operacao.map(operacao_clas_dic['operacao_reclassificado']).astype(str)\n",
        "\n",
        "  # Ajuste final de classificações anteriores não detectadas\n",
        "  df['operacao'] = df['operacao'].str.replace('OPERAÇÃO','Doméstico')\n",
        "  df['operacao'] = df['operacao'].replace('-', 'Não informado')\n",
        "\n",
        "  return df"
      ]
    },
    {
      "cell_type": "markdown",
      "metadata": {
        "id": "U2EZpI3B_lLT",
        "jp-MarkdownHeadingCollapsed": true
      },
      "source": [
        "#### Ajuste das colunas obj_principal + subobj_principal + causa_alegada"
      ]
    },
    {
      "cell_type": "code",
      "execution_count": null,
      "metadata": {
        "id": "18ICZ78Cl7ay"
      },
      "outputs": [],
      "source": [
        "def ajuste_obj_subobj_causa(df):\n",
        "\n",
        "  df.obj_principal = df.obj_principal.fillna('')\n",
        "  df.subobj_principal = df.subobj_principal.fillna('')\n",
        "  df.causa_alegada = df.causa_alegada.fillna('')\n",
        "\n",
        "  # Fusão das colunas obj_principal, subobj_principal e causa_alegada\n",
        "  df['obj_subobj_principal'] = df['obj_principal'] + ' ' + df['subobj_principal']\n",
        "  df['causa_obj_subobj'] = df['causa_alegada'] + ' ' + df['obj_subobj_principal']\n",
        "\n",
        "  # Palavras-chave do Objeto\n",
        "  obj_keyword_problemas_operacionais = [\n",
        "    'acidente','aeroporto','aeronave','alteração','assento','assiatance',\n",
        "    'assistência','atendimento','atr.','atraso','avião','cadeira de rodas',\n",
        "    'cambio','canc.','cancel','catering','check in','conex','demora','denied',\n",
        "    'delay','desembarque','dowgrade','downgrade','embarque','espaço','falha',\n",
        "    'flight','fretamento','incidente','malha','manutenção','menor desacompanhado',\n",
        "    'overbooking','dano a passageiro','poltrona','pontualidade',\n",
        "    'problemas operacionais','refeição','remarcação','segurança','service',\n",
        "    'serviço','schedule','sobreventa','solicitação especial','tripulação','voo'\n",
        "  ]\n",
        "  obj_keyword_bagagem = ['anima','bagagem','baggage','carg','equipaje','extravio']\n",
        "  obj_keyword_contrato = [\n",
        "    'bilhete','boleto','cadastro','call center','clube',\n",
        "    'cobrança','contrato','corona','covid','diverg','document','economy','fee',\n",
        "    'fidelidade','fraud','flyer','milhas','multa','multiplus','show','pass',\n",
        "    'plusgrade','políticas','pontuação','prescrição','producto','programa',\n",
        "    'promoç','propaganda','reembolso','regra','reimbursement','requisitos de viaje',\n",
        "    'reserva','seguro','site','tarifa','taxa','upgrade','prorrogação de voucher','viag'\n",
        "  ]\n",
        "\n",
        "  # Palavras-chave da Causa\n",
        "  causa_keyword_aerea = [\n",
        "    'abastecimento','aeronave','ajuda técnica','bagagem','cancelamento indevido',\n",
        "    'carga','cargo','cco','clube tudoazul','cobrança equivocada','conexão',\n",
        "    'culpa tam','divergência de informaç','empresa','entrega','falha','impedimento',\n",
        "    'malha','manutenção','oferta não cumprida','operacional','overbooking',\n",
        "    'overload','pontuação não creditada','planejamento','reembolso','regra',\n",
        "    'reserva','segurança','serviço','transporte terrestre','tripula','voo'\n",
        "  ]\n",
        "  causa_keyword_cliente = [\n",
        "    'ausência de responsabilidade','autor','bagagem de mão',\n",
        "    'bagagem entregue dentro do prazo legal','comprovação','cliente',\n",
        "    'compra não reconhecida','direito de arrependimento','documentação',\n",
        "    'exclusiva','inconformidade','não verificada ocorr','no show','pax',\n",
        "    'pontos expirados','prescrição'\n",
        "  ]\n",
        "  causa_keyword_terceiros = [\n",
        "    'aeroport','agência','externo','fraude','ilícito','imigração','terceiro','tráfego'\n",
        "  ]\n",
        "  causa_keyword_fortuitos = ['fortuito']\n",
        "  causa_keyword_forcamaior = [\n",
        "    'condições climáticas','corona','covid','força maior','force majeure',\n",
        "    'tempo ','meteorologia','weather'\n",
        "  ]\n",
        "  # Não informado inclui as palavras abaixo ou células vazias em causa_alegada\n",
        "  causa_keyword_naoinformado = [\n",
        "    'não aplicável','não informado','informação inexistente','pi não apurado','subsídios negativos'\n",
        "  ]\n",
        "\n",
        "  # Inclusão das novas colunas de Objeto\n",
        "  df['obj_problemas_operacionais'] = df.obj_subobj_principal. \\\n",
        "    apply(lambda x: any([i in x.lower() for i in obj_keyword_problemas_operacionais]))\n",
        "  df['obj_bagagem'] = df.obj_subobj_principal. \\\n",
        "    apply(lambda x: any([i in x.lower() for i in obj_keyword_bagagem]))\n",
        "  df['obj_contrato'] = df.obj_subobj_principal. \\\n",
        "    apply(lambda x: any([i in x.lower() for i in obj_keyword_contrato]))\n",
        "  df['obj_outros'] = ~(df.obj_problemas_operacionais +\n",
        "                      df.obj_bagagem +\n",
        "                      df.obj_contrato)\n",
        "\n",
        "  # Inclusão das novas colunas de Causa\n",
        "  df['causa_nao_informado'] = df.causa_alegada. \\\n",
        "    apply(lambda x: any([i in x.lower() for i in causa_keyword_naoinformado or\n",
        "                         x.isspace()]))\n",
        "  df['causa_forca_maior'] = df.causa_obj_subobj. \\\n",
        "    apply(lambda x: any([i in x.lower() for i in causa_keyword_forcamaior])) & \\\n",
        "    ~df.causa_nao_informado\n",
        "  df['causa_fortuitos'] = df.causa_obj_subobj. \\\n",
        "    apply(lambda x: any([i in x.lower() for i in causa_keyword_fortuitos])) & \\\n",
        "    ~df.causa_nao_informado & ~df.causa_forca_maior\n",
        "  df['causa_terceiros'] = df.causa_obj_subobj. \\\n",
        "    apply(lambda x: any([i in x.lower() for i in causa_keyword_terceiros])) & \\\n",
        "    ~df.causa_nao_informado & ~df.causa_forca_maior & ~df.causa_fortuitos\n",
        "  df['causa_cliente'] = df.causa_obj_subobj. \\\n",
        "    apply(lambda x: any([i in x.lower() for i in causa_keyword_cliente])) & \\\n",
        "    ~df.causa_nao_informado & ~df.causa_forca_maior & \\\n",
        "    ~df.causa_fortuitos & ~df.causa_terceiros\n",
        "  df['causa_aerea'] = df.causa_obj_subobj. \\\n",
        "    apply(lambda x: any([i in x.lower() for i in causa_keyword_aerea])) & \\\n",
        "    ~df.causa_nao_informado & ~df.causa_forca_maior & \\\n",
        "    ~df.causa_fortuitos & ~df.causa_terceiros & \\\n",
        "    ~df.causa_cliente\n",
        "  df['causa_outros'] = ~df.causa_nao_informado & \\\n",
        "    ~df.causa_forca_maior & ~df.causa_fortuitos & \\\n",
        "    ~df.causa_terceiros & ~df.causa_cliente & \\\n",
        "    ~df.causa_aerea\n",
        "\n",
        "  df = df.drop(columns=['obj_subobj_principal','causa_obj_subobj'])\n",
        "  return df"
      ]
    },
    {
      "cell_type": "markdown",
      "metadata": {
        "id": "xQt5BT83LKod",
        "jp-MarkdownHeadingCollapsed": true
      },
      "source": [
        "#### Ajuste da coluna valor_pedido_inicial"
      ]
    },
    {
      "cell_type": "code",
      "execution_count": null,
      "metadata": {
        "id": "QEaMKEfe4ESL"
      },
      "outputs": [],
      "source": [
        "def ajuste_valor_pedido_inicial(df):\n",
        "  df['valor_pedido_inicial'] = df['valor_pedido_inicial'].replace(['Unspecified', '#N/D','ISABELA'], '0')\n",
        "  df['valor_pedido_inicial'] = df['valor_pedido_inicial'].astype(str)\n",
        "  df['valor_pedido_inicial'] = df['valor_pedido_inicial'].str.strip()\n",
        "  df['valor_pedido_inicial'] = df['valor_pedido_inicial'].str.replace(r'R\\$?\\s*[-]?', '', regex=True)\n",
        "  if df['valor_pedido_inicial'].str.contains(',', regex=False).any():\n",
        "    df['valor_pedido_inicial'] = df['valor_pedido_inicial'].str.replace('.', '')\n",
        "    df['valor_pedido_inicial'] = df['valor_pedido_inicial'].str.replace(',', '.')\n",
        "  df['valor_pedido_inicial'] = pd.to_numeric(df['valor_pedido_inicial'], errors='coerce').fillna(0)\n",
        "  df['valor_pedido_inicial'] = df['valor_pedido_inicial'].astype(float)\n",
        "  return df"
      ]
    },
    {
      "cell_type": "markdown",
      "metadata": {
        "id": "t4soS4MR016h",
        "jp-MarkdownHeadingCollapsed": true
      },
      "source": [
        "#### Ajuste da coluna valor_dano_moral"
      ]
    },
    {
      "cell_type": "code",
      "execution_count": null,
      "metadata": {
        "id": "XwB0yQ9v4m3Z"
      },
      "outputs": [],
      "source": [
        "def ajuste_valor_dano_moral(df):\n",
        "  df['valor_dano_moral'] = df['valor_dano_moral'].replace(['Unspecified', 'MIGRADO SEM DECISAO','#N/D'], '0')\n",
        "  df['valor_dano_moral'] = df['valor_dano_moral'].astype(str)\n",
        "  df['valor_dano_moral'] = df['valor_dano_moral'].str.strip()\n",
        "  df['valor_dano_moral'] = df['valor_dano_moral'].str.replace(r'R\\$?\\s*[-]?', '', regex=True)\n",
        "  if df['valor_dano_moral'].str.contains(',', regex=False).any():\n",
        "    df['valor_dano_moral'] = df['valor_dano_moral'].str.replace('.', '')\n",
        "    df['valor_dano_moral'] = df['valor_dano_moral'].str.replace(',', '.')\n",
        "  df['valor_dano_moral'] = pd.to_numeric(df['valor_dano_moral'], errors='coerce').fillna(0)\n",
        "  df['valor_dano_moral'] = df['valor_dano_moral'].astype(float)\n",
        "  return df"
      ]
    },
    {
      "cell_type": "markdown",
      "metadata": {
        "id": "IFpBDmOb3XDw",
        "jp-MarkdownHeadingCollapsed": true
      },
      "source": [
        "#### Ajuste da coluna valor_dano_material"
      ]
    },
    {
      "cell_type": "code",
      "execution_count": null,
      "metadata": {
        "id": "2rI9E9uD5yVA"
      },
      "outputs": [],
      "source": [
        "def ajuste_valor_dano_material(df):\n",
        "  df['valor_dano_material'] = df['valor_dano_material'].replace(['Unspecified', 'MIGRADO SEM DECISAO','#N/D'], '0')\n",
        "  df['valor_dano_material'] = df['valor_dano_material'].astype(str)\n",
        "  df['valor_dano_material'] = df['valor_dano_material'].str.strip()\n",
        "  df['valor_dano_material'] = df['valor_dano_material'].replace(r'R\\$?\\s*[-]?', '', regex=True)\n",
        "  if df['valor_dano_material'].str.contains(',', regex=False).any():\n",
        "    df['valor_dano_material'] = df['valor_dano_material'].str.replace('.', '')\n",
        "    df['valor_dano_material'] = df['valor_dano_material'].str.replace(',', '.')\n",
        "  if df['valor_dano_material'].str.contains('+', regex=False).any():\n",
        "    df['valor_dano_material'] = df['valor_dano_material'].str.split('+')\n",
        "    df['valor_dano_material'] = df['valor_dano_material'].apply(lambda x: sum(float(x[i]) for i in range(len(x))))\n",
        "  df['valor_dano_material'] = pd.to_numeric(df['valor_dano_material'], errors='coerce').fillna(0)\n",
        "  df['valor_dano_material'] = df['valor_dano_material'].astype(float)\n",
        "  return df"
      ]
    },
    {
      "cell_type": "markdown",
      "metadata": {
        "id": "TYG6SLmd4Ddv",
        "jp-MarkdownHeadingCollapsed": true
      },
      "source": [
        "#### Ajuste da coluna valor_total_condenacao"
      ]
    },
    {
      "cell_type": "code",
      "execution_count": null,
      "metadata": {
        "id": "VzPgcur169RC"
      },
      "outputs": [],
      "source": [
        "def ajuste_valor_total_condenacao(df):\n",
        "  df['valor_total_condenacao'] = df['valor_total_condenacao'].replace(['Unspecified', 'MIGRADO SEM DECISAO','#N/D'], '0')\n",
        "  df['valor_total_condenacao'] = df['valor_total_condenacao'].astype(str)\n",
        "  df['valor_total_condenacao'] = df['valor_total_condenacao'].str.strip()\n",
        "  df['valor_total_condenacao'] = df['valor_total_condenacao'].str.replace(r'R\\$?\\s*[-]?', '', regex=True)\n",
        "  if df['valor_total_condenacao'].str.contains(',', regex=False).any():\n",
        "    df['valor_total_condenacao'] = df['valor_total_condenacao'].str.replace('.', '')\n",
        "    df['valor_total_condenacao'] = df['valor_total_condenacao'].str.replace(',', '.')\n",
        "  df['valor_total_condenacao'] = pd.to_numeric(df['valor_total_condenacao'], errors='coerce').fillna(0)\n",
        "  df['valor_total_condenacao'] = df['valor_total_condenacao'].astype(float)\n",
        "  return df"
      ]
    },
    {
      "cell_type": "markdown",
      "metadata": {
        "id": "DytotRAS4oJW",
        "jp-MarkdownHeadingCollapsed": true
      },
      "source": [
        "#### Ajuste da coluna valor_pago"
      ]
    },
    {
      "cell_type": "code",
      "execution_count": null,
      "metadata": {
        "id": "MM3DB63r7qHa"
      },
      "outputs": [],
      "source": [
        "def ajuste_valor_pago(df):\n",
        "  df['valor_pago'] = df['valor_pago'].replace('#N/D', '0')\n",
        "  df['valor_pago'] = df['valor_pago'].astype(str)\n",
        "  df['valor_pago'] = df['valor_pago'].str.strip()\n",
        "  df['valor_pago'] = df['valor_pago'].str.replace(r'R\\$?\\s*[-]?', '', regex=True)\n",
        "  if df['valor_pago'].str.contains(',', regex=False).any():\n",
        "    df['valor_pago'] = df['valor_pago'].str.replace('.', '')\n",
        "    df['valor_pago'] = df['valor_pago'].str.replace(',', '.')\n",
        "  if df['valor_pago'].str.contains('+', regex=False).any():\n",
        "    df['valor_pago'] = df['valor_pago'].str.split('+')\n",
        "    df['valor_pago'] = df['valor_pago'].apply(lambda x: sum(float(x[i]) for i in range(len(x))))\n",
        "  df['valor_pago'] = pd.to_numeric(df['valor_pago'], errors='coerce').fillna(0)\n",
        "  df['valor_pago'] = df['valor_pago'].astype(float)\n",
        "  return df"
      ]
    },
    {
      "cell_type": "markdown",
      "metadata": {
        "id": "8tMIW-rUskgA",
        "jp-MarkdownHeadingCollapsed": true
      },
      "source": [
        "#### Ajuste das colunas situacao_processual e resultado_decisao_sentenca"
      ]
    },
    {
      "cell_type": "code",
      "execution_count": null,
      "metadata": {
        "id": "FTz5oLXkpRLk"
      },
      "outputs": [],
      "source": [
        "def ajuste_situacao_processual_sentenca(df):\n",
        "  df['situacao_processual'] = df['situacao_processual'].fillna('')\n",
        "  df['resultado_decisao_sentenca'] = df['resultado_decisao_sentenca'].fillna('')\n",
        "  df['situacao_processual_sentenca'] = df['situacao_processual'] + df['resultado_decisao_sentenca']\n",
        "\n",
        "  # Determinação das diferenças entre a coluna 'situacao_processual_sentenca' de df e reclassificacao_situacao_processual_sentenca\n",
        "\n",
        "  # Definição do DataFrame reclassificacao_situacao_processual_sentenca\n",
        "  reclassificacao_situacao_processual_sentenca = pd.read_csv('reclassificacao_situacao_processual_sentenca.csv')\n",
        "  reclassificacao_situacao_processual_sentenca['situacao_processual'] = reclassificacao_situacao_processual_sentenca['situacao_processual'].fillna('')\n",
        "  reclassificacao_situacao_processual_sentenca['situacao_processual'] = reclassificacao_situacao_processual_sentenca['situacao_processual'].replace('***', '')\n",
        "  reclassificacao_situacao_processual_sentenca['resultado_decisao'] = reclassificacao_situacao_processual_sentenca['resultado_decisao'].fillna('')\n",
        "  reclassificacao_situacao_processual_sentenca['situacao_processual_sentenca'] = reclassificacao_situacao_processual_sentenca['situacao_processual'] + \\\n",
        "                   reclassificacao_situacao_processual_sentenca['resultado_decisao']\n",
        "  #reclassificacao_situacao_processual_sentenca = reclassificacao_situacao_processual_sentenca.drop(columns=['situacao_processual', 'resultado_decisao'])\n",
        "  reclassificacao_situacao_processual_sentenca = reclassificacao_situacao_processual_sentenca.iloc[:, ::-1]\n",
        "\n",
        "  # Atualização de reclassificacao_situacao_processual_sentenca com diferença da coluna 'situacao_processual_sentenca'\n",
        "  situacao_sentenca_unique = pd.unique(reclassificacao_situacao_processual_sentenca[['situacao_processual_sentenca']].\n",
        "                                 values.ravel())\n",
        "  situacao_sentenca_unique = list(sorted(situacao_sentenca_unique))\n",
        "  data_situacao_sentenca_unique = pd.unique(df[['situacao_processual_sentenca']].values.ravel())\n",
        "  data_situacao_sentenca_unique = list(sorted(data_situacao_sentenca_unique))\n",
        "  novos_situacao_sentenca = list(set(data_situacao_sentenca_unique) - set(situacao_sentenca_unique))\n",
        "\n",
        "  situacao_sentenca_lista = []\n",
        "  for i in range(len(novos_situacao_sentenca)):\n",
        "    situacao_sentenca_lista.append(novos_situacao_sentenca[i])\n",
        "\n",
        "  nova_situacao_setenca_lista = []\n",
        "  for i in situacao_sentenca_lista:\n",
        "    if \"EXTINÇÃO\" in i:\n",
        "      nova_situacao_setenca_lista.append('Extinção sem julgamento do mérito')\n",
        "    elif \"ACORDO\" in i:\n",
        "      nova_situacao_setenca_lista.append('Acordo')\n",
        "    elif \"DESFAVORÁVEL\" in i:\n",
        "      nova_situacao_setenca_lista.append('Condenação')\n",
        "    elif \"PARTE\" in i:\n",
        "      nova_situacao_setenca_lista.append('Condenação')\n",
        "    elif \"DECISÃOPROCEDENTE\" in i:\n",
        "      nova_situacao_setenca_lista.append('Condenação')\n",
        "    elif \"DECISÃOPROVIDO\" in i:\n",
        "      nova_situacao_setenca_lista.append('Condenação')\n",
        "    elif \"CUMPRIMENTO DE SENTENÇA\" in i:\n",
        "      nova_situacao_setenca_lista.append('Outros')\n",
        "    elif \"MIGRADO\" in i:\n",
        "      nova_situacao_setenca_lista.append('Outros')\n",
        "    elif \"AGUARDANDO DECISÃO\" in i:\n",
        "      nova_situacao_setenca_lista.append('Outros')\n",
        "    elif \"AINDA SEM DECISAO\" in i:\n",
        "      nova_situacao_setenca_lista.append('Outros')\n",
        "    elif \"DECISÃO\" in i:\n",
        "      nova_situacao_setenca_lista.append('Decisão favorável à aérea (improcedência)')\n",
        "    else:\n",
        "      nova_situacao_setenca_lista.append('Não informado')\n",
        "\n",
        "  reclassificacao_situacao_processual_sentenca_complemento = pd. DataFrame({\n",
        "    'situacao_processual_sentenca': situacao_sentenca_lista,\n",
        "    'novo_situacao_processual+resultado_decisao': nova_situacao_setenca_lista\n",
        "  })\n",
        "\n",
        "  reclassificacao_situacao_processual_sentenca = pd.concat([reclassificacao_situacao_processual_sentenca,\n",
        "                        reclassificacao_situacao_processual_sentenca_complemento],\n",
        "                        axis=0,ignore_index=True)\n",
        "\n",
        "  reclassificacao_situacao_processual_sentenca.to_csv('reclassificacao_situacao_processual_sentenca.csv',index=False)\n",
        "\n",
        "  # Redução de reclassificacao_situacao_processual_sentenca para criar dicionário somente com 'situacao_processual_sentenca'\n",
        "  situacao_setenca_clas = reclassificacao_situacao_processual_sentenca[reclassificacao_situacao_processual_sentenca.situacao_processual_sentenca.\n",
        "           isin(df.situacao_processual_sentenca)].groupby(['situacao_processual_sentenca',\n",
        "           'novo_situacao_processual+resultado_decisao']).size().reset_index().rename(columns={0:'count'})\n",
        "  situacao_setenca_clas = situacao_setenca_clas.drop(['count'], axis=1)\n",
        "  situacao_setenca_clas.set_index('situacao_processual_sentenca',inplace=True)\n",
        "  situacao_setenca_clas_dic = situacao_setenca_clas.to_dict()\n",
        "  df['situacao_processual_sentenca'] = df.situacao_processual_sentenca. \\\n",
        "    map(situacao_setenca_clas_dic['novo_situacao_processual+resultado_decisao'])\n",
        "\n",
        "  return df"
      ]
    },
    {
      "cell_type": "markdown",
      "metadata": {
        "id": "qmYvDn7crnVj",
        "jp-MarkdownHeadingCollapsed": true
      },
      "source": [
        "#### Ajuste da coluna instancia"
      ]
    },
    {
      "cell_type": "code",
      "execution_count": null,
      "metadata": {
        "id": "t69P-kZLpRLk"
      },
      "outputs": [],
      "source": [
        "def ajuste_instancia(df):\n",
        "  df['instancia'] = df['instancia'].fillna('')\n",
        "  instancia_dic = {\n",
        "    '1ª Instância': '1ª Instância',\n",
        "    '1ª INSTÂNCIA': '1ª Instância',\n",
        "    '1ª instância': '1ª Instância',\n",
        "    '1ª INSTÂNCIA JUDICIAL': '1ª Instância',\n",
        "    '1º Grau': '1ª Instância',\n",
        "    'Juizado Especial': '1ª Instância',\n",
        "    '2ª Instância': '2ª Instância',\n",
        "    '2ª INSTÂNCIA': '2ª Instância',\n",
        "    '2ª instância': '2ª Instância',\n",
        "    '2ª INSTÂNCIA JUDICIAL': '2ª Instância',\n",
        "    'Instância Superior': '2ª Instância',\n",
        "    '2º Grau': '2ª Instância',\n",
        "    'Turma Recursal': '2ª Instância',\n",
        "    '3ª Instância': '3ª Instância',\n",
        "    'STF': '3ª Instância',\n",
        "    'STJ': '3ª Instância',\n",
        "    'N': 'Não informado',\n",
        "    'N/I': 'Não informado',\n",
        "    '#N/D': 'Não informado',\n",
        "    'Não informado': 'Não informado',\n",
        "    '-': 'Não informado',\n",
        "    '': 'Não informado'\n",
        "  }\n",
        "  df['instancia'] = df.instancia.map(instancia_dic)\n",
        "  df['instancia'] = df['instancia'].replace(pd.NA, 'Não informado')\n",
        "  return df"
      ]
    },
    {
      "cell_type": "markdown",
      "metadata": {
        "id": "2d5h6eOn0Dir",
        "jp-MarkdownHeadingCollapsed": true
      },
      "source": [
        "#### Ajuste da coluna data_sentenca"
      ]
    },
    {
      "cell_type": "code",
      "execution_count": null,
      "metadata": {
        "id": "AIGyEiWxpRLk"
      },
      "outputs": [],
      "source": [
        "def ajuste_data_sentenca(df):\n",
        "  df['data_sentenca'] = df['data_sentenca'].fillna('')\n",
        "  df['data_sentenca'] = df.data_sentenca.astype(str)\n",
        "  df['data_sentenca'] = df['data_sentenca'].str.slice(0,10)\n",
        "  return df"
      ]
    },
    {
      "cell_type": "markdown",
      "metadata": {
        "id": "i9Gqzeqz0bH5",
        "jp-MarkdownHeadingCollapsed": true
      },
      "source": [
        "#### Ajuste da coluna data_acordao"
      ]
    },
    {
      "cell_type": "code",
      "execution_count": null,
      "metadata": {
        "id": "1uJSM3r70PvD"
      },
      "outputs": [],
      "source": [
        "def ajuste_data_acordao(df):\n",
        "  df['data_acordao'] = df['data_acordao'].fillna('')\n",
        "  df['data_acordao'] = df.data_acordao.astype(str)\n",
        "  df['data_acordao'] = df['data_acordao'].str.slice(0,10)\n",
        "  return df"
      ]
    },
    {
      "cell_type": "markdown",
      "metadata": {
        "id": "-NsidW_8KZP1",
        "jp-MarkdownHeadingCollapsed": true
      },
      "source": [
        "#### Função para transformar todo o DataFrame"
      ]
    },
    {
      "cell_type": "code",
      "execution_count": null,
      "metadata": {
        "id": "jdbjo7jC0PvE"
      },
      "outputs": [],
      "source": [
        "def transforma_df(df):\n",
        "  df = ajuste_empresa_re(df)\n",
        "  df = ajuste_cnpj_re(df)\n",
        "  df = ajuste_data_distribuicao(df)\n",
        "  df = ajuste_uf(df)\n",
        "  df = ajuste_n_autores(df)\n",
        "  df = ajuste_obj_subobj_causa(df)\n",
        "  df = ajuste_data_voo(df)\n",
        "  df = ajuste_operacao(df)\n",
        "  df = ajuste_jurisdicao(df)\n",
        "  df = ajuste_instancia(df)\n",
        "  df = ajuste_situacao_processual_sentenca(df)\n",
        "  df = ajuste_data_sentenca(df)\n",
        "  df = ajuste_data_acordao(df)\n",
        "  df = ajuste_valor_pedido_inicial(df)\n",
        "  df = ajuste_valor_dano_moral(df)\n",
        "  df = ajuste_valor_dano_material(df)\n",
        "  df = ajuste_valor_total_condenacao(df)\n",
        "  df = ajuste_valor_pago(df)\n",
        "  return df"
      ]
    },
    {
      "cell_type": "markdown",
      "metadata": {
        "id": "9Oq9Z2_5-e6s",
        "jp-MarkdownHeadingCollapsed": true
      },
      "source": [
        "### Importando os dados de judicialização"
      ]
    },
    {
      "cell_type": "markdown",
      "metadata": {
        "id": "moVLSdC1fLfY",
        "jp-MarkdownHeadingCollapsed": true
      },
      "source": [
        "### Azul"
      ]
    },
    {
      "cell_type": "markdown",
      "metadata": {
        "jp-MarkdownHeadingCollapsed": true,
        "id": "XAT6fWuinoym"
      },
      "source": [
        "#### Dados originais"
      ]
    },
    {
      "cell_type": "markdown",
      "metadata": {
        "id": "VCMbLOPzVx5P",
        "jp-MarkdownHeadingCollapsed": true
      },
      "source": [
        "##### Importando os dados"
      ]
    },
    {
      "cell_type": "code",
      "execution_count": null,
      "metadata": {
        "id": "4273e7CS2P0O"
      },
      "outputs": [],
      "source": [
        "dados_azul_original = pd.read_csv('./AZUL/base_inicial_azul.csv', delimiter=';', low_memory=False)"
      ]
    },
    {
      "cell_type": "markdown",
      "metadata": {
        "jp-MarkdownHeadingCollapsed": true,
        "id": "RnAiU2MMnoym"
      },
      "source": [
        "##### Ajustando as colunas e filtrando os dados"
      ]
    },
    {
      "cell_type": "code",
      "execution_count": null,
      "metadata": {
        "id": "7CYIDsNN-NFi"
      },
      "outputs": [],
      "source": [
        "dados_azul_original = dados_azul_original.drop(columns=['Comarca'])"
      ]
    },
    {
      "cell_type": "code",
      "execution_count": null,
      "metadata": {
        "id": "tYxrp3K--iFV"
      },
      "outputs": [],
      "source": [
        "dados_azul_original.columns = [\n",
        "  'empresa_re', 'numero_processo', 'cnpj_re', 'data_distribuicao', 'UF',\n",
        "  'jurisdicao', 'obj_principal', 'subobj_principal',\n",
        "  'valor_pedido_inicial', 'n_autores', 'data_voo', 'operacao',\n",
        "  'causa_alegada', 'situacao_processual', 'instancia',\n",
        "  'resultado_decisao_sentenca', 'data_sentenca', 'valor_dano_moral',\n",
        "  'valor_dano_material', 'valor_total_condenacao', 'data_acordao',\n",
        "  'valor_pago'\n",
        "]"
      ]
    },
    {
      "cell_type": "code",
      "execution_count": null,
      "metadata": {
        "id": "fANhd6oRDLCi"
      },
      "outputs": [],
      "source": [
        "dados_azul_original['num_proc_ano'] = dados_azul_original['numero_processo']. \\\n",
        "                      str.extract(r'\\d{7}-\\d{2}\\.(\\d{4})\\.\\d\\.\\d{2}\\.\\d{4}')"
      ]
    },
    {
      "cell_type": "code",
      "execution_count": null,
      "metadata": {
        "id": "1BA-Ju6aOxJ-"
      },
      "outputs": [],
      "source": [
        "dados_azul_original = dados_azul_original.dropna(subset = ['num_proc_ano'], axis=0)\n",
        "dados_azul_original = dados_azul_original.reset_index(drop=True)"
      ]
    },
    {
      "cell_type": "code",
      "execution_count": null,
      "metadata": {
        "id": "7awFjfUYOE6C"
      },
      "outputs": [],
      "source": [
        "dados_azul_original.num_proc_ano = pd.to_numeric(dados_azul_original.num_proc_ano).astype(int)"
      ]
    },
    {
      "cell_type": "code",
      "execution_count": null,
      "metadata": {
        "id": "MZ4OO7TRnoyn",
        "outputId": "411c64b1-25de-4fe7-b36d-2c90b74031d6"
      },
      "outputs": [
        {
          "data": {
            "text/plain": [
              "array([2022, 2020, 2019, 2021, 2013, 2018, 2017, 2015, 2023])"
            ]
          },
          "execution_count": 54,
          "metadata": {},
          "output_type": "execute_result"
        }
      ],
      "source": [
        "dados_azul_original.num_proc_ano.unique()"
      ]
    },
    {
      "cell_type": "code",
      "execution_count": null,
      "metadata": {
        "id": "YXnEEnfwQfj4"
      },
      "outputs": [],
      "source": [
        "dados_azul_original = dados_azul_original[dados_azul_original['num_proc_ano'].\n",
        "                                          isin([2019,2020,2021,2022,2023])]"
      ]
    },
    {
      "cell_type": "code",
      "execution_count": null,
      "metadata": {
        "id": "3lTRwb0nDLCj"
      },
      "outputs": [],
      "source": [
        "dados_azul_original.numero_processo = dados_azul_original.numero_processo.replace(pd.NA,'0')\n",
        "dados_azul_original['numero_processo_regex'] = dados_azul_original.numero_processo. \\\n",
        "      str.replace(r'[\\-\\\\.\\\\\" \"]', '', regex=True).str.slice(0,20)"
      ]
    },
    {
      "cell_type": "markdown",
      "metadata": {
        "id": "bYfUU4jnJlyW",
        "jp-MarkdownHeadingCollapsed": true
      },
      "source": [
        "##### Ajustando os dados"
      ]
    },
    {
      "cell_type": "code",
      "execution_count": null,
      "metadata": {
        "id": "lPYA1piUJU11"
      },
      "outputs": [],
      "source": [
        "dados_azul_original = transforma_df(dados_azul_original)"
      ]
    },
    {
      "cell_type": "code",
      "execution_count": null,
      "metadata": {
        "id": "zsN2mciyKBHm",
        "outputId": "a5bab55a-aee9-47ce-ed9a-0f833c936f91"
      },
      "outputs": [
        {
          "name": "stdout",
          "output_type": "stream",
          "text": [
            "['Azul']\n",
            "['09.296.295/0001-60']\n",
            "['SP' 'PR' 'PE' 'CE' 'RJ' 'GO' 'RO' 'MG' 'AM' 'ES' 'BA' 'DF' 'SC' 'MS'\n",
            " 'TO']\n",
            "['Juizado Especial Cível' 'Vara Cível' 'Outros']\n",
            "['Doméstico' 'Internacional' 'Outros']\n",
            "['Não informado' 'Decisão favorável à aérea (improcedência)' 'Condenação'\n",
            " 'Acordo']\n",
            "['Não informado' '1ª Instância' '2ª Instância']\n",
            "[2022 2020 2019 2021 2023]\n"
          ]
        }
      ],
      "source": [
        "print(dados_azul_original.empresa_re.unique())\n",
        "print(dados_azul_original.cnpj_re.unique())\n",
        "print(dados_azul_original.UF.unique())\n",
        "print(dados_azul_original.jurisdicao.unique())\n",
        "print(dados_azul_original.operacao.unique())\n",
        "print(dados_azul_original.situacao_processual_sentenca.unique())\n",
        "print(dados_azul_original.instancia.unique())\n",
        "print(dados_azul_original.num_proc_ano.unique())"
      ]
    },
    {
      "cell_type": "code",
      "execution_count": null,
      "metadata": {
        "id": "ovVkhhp3JBl2",
        "outputId": "cb089476-13d8-4b9e-e979-b4ba3a8163dd"
      },
      "outputs": [
        {
          "name": "stdout",
          "output_type": "stream",
          "text": [
            "<class 'pandas.core.frame.DataFrame'>\n",
            "Index: 128082 entries, 0 to 128119\n",
            "Data columns (total 36 columns):\n",
            " #   Column                        Non-Null Count   Dtype  \n",
            "---  ------                        --------------   -----  \n",
            " 0   empresa_re                    128082 non-null  object \n",
            " 1   numero_processo               128082 non-null  object \n",
            " 2   cnpj_re                       128082 non-null  object \n",
            " 3   data_distribuicao             128082 non-null  object \n",
            " 4   UF                            128082 non-null  object \n",
            " 5   jurisdicao                    128082 non-null  object \n",
            " 6   obj_principal                 128082 non-null  object \n",
            " 7   subobj_principal              128082 non-null  object \n",
            " 8   valor_pedido_inicial          128082 non-null  float64\n",
            " 9   n_autores                     128082 non-null  int32  \n",
            " 10  data_voo                      128082 non-null  object \n",
            " 11  operacao                      128082 non-null  object \n",
            " 12  causa_alegada                 128082 non-null  object \n",
            " 13  situacao_processual           128082 non-null  object \n",
            " 14  instancia                     128082 non-null  object \n",
            " 15  resultado_decisao_sentenca    128082 non-null  object \n",
            " 16  data_sentenca                 128082 non-null  object \n",
            " 17  valor_dano_moral              128082 non-null  float64\n",
            " 18  valor_dano_material           128082 non-null  float64\n",
            " 19  valor_total_condenacao        128082 non-null  float64\n",
            " 20  data_acordao                  128082 non-null  object \n",
            " 21  valor_pago                    128082 non-null  float64\n",
            " 22  num_proc_ano                  128082 non-null  int32  \n",
            " 23  numero_processo_regex         128082 non-null  object \n",
            " 24  obj_problemas_operacionais    128082 non-null  bool   \n",
            " 25  obj_bagagem                   128082 non-null  bool   \n",
            " 26  obj_contrato                  128082 non-null  bool   \n",
            " 27  obj_outros                    128082 non-null  bool   \n",
            " 28  causa_nao_informado           128082 non-null  bool   \n",
            " 29  causa_forca_maior             128082 non-null  bool   \n",
            " 30  causa_fortuitos               128082 non-null  bool   \n",
            " 31  causa_terceiros               128082 non-null  bool   \n",
            " 32  causa_cliente                 128082 non-null  bool   \n",
            " 33  causa_aerea                   128082 non-null  bool   \n",
            " 34  causa_outros                  128082 non-null  bool   \n",
            " 35  situacao_processual_sentenca  128082 non-null  object \n",
            "dtypes: bool(11), float64(5), int32(2), object(18)\n",
            "memory usage: 25.8+ MB\n"
          ]
        }
      ],
      "source": [
        "dados_azul_original.info()"
      ]
    },
    {
      "cell_type": "code",
      "execution_count": null,
      "metadata": {
        "id": "8iq_OKSPRF4A"
      },
      "outputs": [],
      "source": [
        "dados_azul_original.to_csv('./AZUL/final/ajust_dados_azul_original.csv',index=False)"
      ]
    },
    {
      "cell_type": "markdown",
      "metadata": {
        "id": "qXE6eXb-2XQ-"
      },
      "source": [
        "#### Dados complementares de 2019 a 2022"
      ]
    },
    {
      "cell_type": "markdown",
      "metadata": {
        "id": "z9kbgB2MYJ5O",
        "jp-MarkdownHeadingCollapsed": true
      },
      "source": [
        "##### Importando os dados"
      ]
    },
    {
      "cell_type": "code",
      "execution_count": null,
      "metadata": {
        "id": "7D0R_oXpfgUz"
      },
      "outputs": [],
      "source": [
        "dados_azul_novos = pd.read_csv('./AZUL/base_complementar_azul.csv',\n",
        "                         delimiter=';',low_memory=False)"
      ]
    },
    {
      "cell_type": "markdown",
      "metadata": {
        "jp-MarkdownHeadingCollapsed": true,
        "id": "_Yn0mQMrnoyu"
      },
      "source": [
        "##### Ajustando as colunas e filtrando os dados"
      ]
    },
    {
      "cell_type": "code",
      "execution_count": null,
      "metadata": {
        "id": "IbdaW7aSgOa2"
      },
      "outputs": [],
      "source": [
        "dados_azul_novos = dados_azul_novos.drop(columns=['situacao_processual_sentenca'])"
      ]
    },
    {
      "cell_type": "code",
      "execution_count": null,
      "metadata": {
        "id": "v-50GCeXGZ7A"
      },
      "outputs": [],
      "source": [
        "dados_azul_novos['causa_alegada'] = ['']*dados_azul_novos.shape[0]"
      ]
    },
    {
      "cell_type": "code",
      "execution_count": null,
      "metadata": {
        "id": "LRCo2IpeHLtf"
      },
      "outputs": [],
      "source": [
        "dados_azul_novos = dados_azul_novos.rename(columns=\n",
        "    {' valor_pedido_inicial ': 'valor_pedido_inicial',\n",
        "     ' valor_total_condenacao ': 'valor_total_condenacao',\n",
        "     ' valor_pago ': 'valor_pago'}\n",
        ")"
      ]
    },
    {
      "cell_type": "code",
      "execution_count": null,
      "metadata": {
        "id": "Q-KiGwMtG6tH"
      },
      "outputs": [],
      "source": [
        "dados_azul_novos = dados_azul_novos[[\n",
        "    'empresa_re', 'numero_processo', 'cnpj_re', 'data_distribuicao', 'UF',\n",
        "    'jurisdicao', 'obj_principal', 'subobj_principal',\n",
        "    'valor_pedido_inicial', 'n_autores', 'data_voo', 'operacao',\n",
        "    'causa_alegada', 'situacao_processual', 'instancia',\n",
        "    'resultado_decisao_sentenca', 'data_sentenca', 'valor_dano_moral',\n",
        "    'valor_dano_material', 'valor_total_condenacao', 'data_acordao',\n",
        "    'valor_pago', 'num_proc_ano', 'numero_processo_regex'\n",
        "    ]]"
      ]
    },
    {
      "cell_type": "code",
      "execution_count": null,
      "metadata": {
        "id": "gXxo7u1Pnoyv",
        "outputId": "17aa4c9d-cfb3-43fb-a499-3148045ca759"
      },
      "outputs": [
        {
          "data": {
            "text/plain": [
              "array([2020, 2019, 2022, 2021], dtype=int64)"
            ]
          },
          "execution_count": 70,
          "metadata": {},
          "output_type": "execute_result"
        }
      ],
      "source": [
        "dados_azul_novos.num_proc_ano.unique()"
      ]
    },
    {
      "cell_type": "markdown",
      "metadata": {
        "id": "4nxSwYN1RzRn",
        "jp-MarkdownHeadingCollapsed": true
      },
      "source": [
        "##### Ajustando os dados"
      ]
    },
    {
      "cell_type": "code",
      "execution_count": null,
      "metadata": {
        "id": "Qgu0kYKvRzRn"
      },
      "outputs": [],
      "source": [
        "dados_azul_novos = transforma_df(dados_azul_novos)"
      ]
    },
    {
      "cell_type": "code",
      "execution_count": null,
      "metadata": {
        "id": "fzDYrHHdRzRn",
        "outputId": "b6c9466b-2ba7-4e33-8d6c-6ce8de8eb0d4"
      },
      "outputs": [
        {
          "name": "stdout",
          "output_type": "stream",
          "text": [
            "['Azul']\n",
            "['09.296.295/0001-60' '12.337.454/0001-31' '02.575.829/0001-48'\n",
            " '26.669.170/0001-57' '16.988.607/0001-61' '09.296.295/0011-31'\n",
            " '00.175.943/0001-55' '26.203.213/0001-04' '03.563.689/0002-31'\n",
            " '09.296.295/0012-12' '50.710.730/0001-54' '09.296.295/0027-07'\n",
            " '09.296.295/0103-94' '03.563.689/0001-50' '10.760.260/0001-19'\n",
            " '33.937.681/0001-78' '02.012.862/0001-60' '01.561.154/0001-15'\n",
            " '09.296.295/0067-96' '06.179.342/0001-05' '09.296.295/0002-40'\n",
            " '07.575.651/0001-59' '13.419.034/0001-67' '23.086.816/0001-85'\n",
            " '10.829.577/0001-64' '14.522.178/0001-07' '10.625.931/0001-39'\n",
            " '02.204.537/0001-07' '29.082.928/0001-44' '04.611.143/0001-90'\n",
            " '18.700.925/0001-00' '04.149.981/0001-94' '60.746.948/0001-12'\n",
            " '09.296.295/0004-02' '31.595.265/0001-03' '28.038.129/0001-08'\n",
            " '09.296.295/0064-43' '09.296.295/0167-59' '02.012.862/0040-76'\n",
            " '36.212.637/0001-99' '00.776.574/0001-56' '17.619.430/0001-99'\n",
            " '02.286.477/0001-00' '00.000.000/0001-91' '21.357.117/0001-05'\n",
            " '10.716.021/0001-61' '17.219.734/0001-69' '02.012.862/0053-90'\n",
            " '33.136.896/0001-90' '36.691.313/0001-80' '06.164.253/0001-87'\n",
            " '00.122.892/0001-01' '45.704.752/0001-71' '03.007.698/0001-65'\n",
            " '90.400.888/0001-42' '47.960.950/0897-85' '01.649.075/0001-60'\n",
            " '09.296.295/0154-34' '02.167.320/0001-66' '26.248.188/0001-85'\n",
            " '73.431.686/0010-30' '07.006.348/0001-35' '09.296.295/0159-49'\n",
            " '30.785.148/0001-40' '37.979.739/0001-05' '09.296.295/0014-84'\n",
            " '17.991.841/0001-00' '19.377.419/0001-95' '24.896.979/0009-43'\n",
            " '33.041.260/0520-40' '03.834.757/0004-11' '03.563.689/0006-65'\n",
            " '60.701.190/0001-04' '33.136.896/0011-61' '09.296.295/0013-01'\n",
            " '26.802.724/0001-42' '40.678.751/0001-86' '18.002.679/0001-13'\n",
            " '09.296.295/0081-44' '09.296.295/0010-50' '38.659.390/0001-89'\n",
            " '09.296.295/0130-67' '59.291.534/0001-67' '11.146.590/0001-81'\n",
            " '79.379.491/0057-38' '10.826.230/0001-68' '36.932.853/0001-09'\n",
            " '04.545.690/0001-15' '17.192.451/0001-70' '08.357.240/0001-50'\n",
            " '09.296.295/0045-80' '39.229.515/0001-01' '03.445.349/0001-25'\n",
            " '09.296.295/0037-70' '73.702.300/0001-96' '79.379.491/0004-26'\n",
            " '59.588.111/0001-03' '79.379.491/0058-19' '10.383.573/0001-03'\n",
            " '79.379.491/0103-08' '10.290.970/0001-22' '03.834.757/0001-79'\n",
            " '55.915.565/0001-90' '35.506.356/0001-86' '07.575.651/0015-54'\n",
            " '18.901.750/0001-08' '07.932.591/0001-84' '33.953.023/0001-70'\n",
            " '09.296.295/0079-20' '05.560.705/0004-20' '00.776.574/0006-60'\n",
            " '19.916.590/0001-25' '05.712.546/0001-99' '12.888.241/0001-06'\n",
            " '08.876.725/0001-50' '05.764.299/0001-74' '00.168.403/0001-44'\n",
            " '15.279.665/0001-53' '03.324.140/0001-03' '51.757.300/0001-50'\n",
            " '05.534.520/0001-06' '09.296.295/0076-87' '05.543.356/0001-95'\n",
            " '09.296.295/0003-21' '42.234.928/0001-80' '16.978.344/0001-00'\n",
            " '09.296.295/0007-55' '00.512.777/0001-35' '09.296.295/0016-46']\n",
            "['PE' 'AM' 'BA' 'MG' 'SP' 'TO' 'PR' 'MS' 'ES' 'MT' 'CE' 'SC' 'DF' 'RJ'\n",
            " 'GO' 'RO']\n",
            "['Outros' 'Juizado Especial Cível']\n",
            "['Doméstico' ' Internacional' ' Não Informado' 'Outros' 'Não informado']\n",
            "['Não informado' 'Condenação' 'Decisão favorável à aérea (improcedência)'\n",
            " 'Acordo']\n",
            "['Não informado' '1ª Instância' '2ª Instância']\n",
            "[2020 2019 2022 2021]\n"
          ]
        }
      ],
      "source": [
        "print(dados_azul_novos.empresa_re.unique())\n",
        "print(dados_azul_novos.cnpj_re.unique())\n",
        "print(dados_azul_novos.UF.unique())\n",
        "print(dados_azul_novos.jurisdicao.unique())\n",
        "print(dados_azul_novos.operacao.unique())\n",
        "print(dados_azul_novos.situacao_processual_sentenca.unique())\n",
        "print(dados_azul_novos.instancia.unique())\n",
        "print(dados_azul_novos.num_proc_ano.unique())"
      ]
    },
    {
      "cell_type": "code",
      "execution_count": null,
      "metadata": {
        "id": "87nsuiQcRzRo",
        "outputId": "2686154b-d7ba-4a5f-f30d-d2a0f654ba36"
      },
      "outputs": [
        {
          "name": "stdout",
          "output_type": "stream",
          "text": [
            "<class 'pandas.core.frame.DataFrame'>\n",
            "RangeIndex: 12304 entries, 0 to 12303\n",
            "Data columns (total 36 columns):\n",
            " #   Column                        Non-Null Count  Dtype  \n",
            "---  ------                        --------------  -----  \n",
            " 0   empresa_re                    12304 non-null  object \n",
            " 1   numero_processo               12304 non-null  object \n",
            " 2   cnpj_re                       12304 non-null  object \n",
            " 3   data_distribuicao             12304 non-null  object \n",
            " 4   UF                            12304 non-null  object \n",
            " 5   jurisdicao                    12304 non-null  object \n",
            " 6   obj_principal                 12304 non-null  object \n",
            " 7   subobj_principal              12304 non-null  object \n",
            " 8   valor_pedido_inicial          12304 non-null  float64\n",
            " 9   n_autores                     12304 non-null  int32  \n",
            " 10  data_voo                      12304 non-null  object \n",
            " 11  operacao                      12304 non-null  object \n",
            " 12  causa_alegada                 12304 non-null  object \n",
            " 13  situacao_processual           12304 non-null  object \n",
            " 14  instancia                     12304 non-null  object \n",
            " 15  resultado_decisao_sentenca    12304 non-null  object \n",
            " 16  data_sentenca                 12304 non-null  object \n",
            " 17  valor_dano_moral              12304 non-null  float64\n",
            " 18  valor_dano_material           12304 non-null  float64\n",
            " 19  valor_total_condenacao        12304 non-null  float64\n",
            " 20  data_acordao                  12304 non-null  object \n",
            " 21  valor_pago                    12304 non-null  float64\n",
            " 22  num_proc_ano                  12304 non-null  int64  \n",
            " 23  numero_processo_regex         12304 non-null  object \n",
            " 24  obj_problemas_operacionais    12304 non-null  bool   \n",
            " 25  obj_bagagem                   12304 non-null  bool   \n",
            " 26  obj_contrato                  12304 non-null  bool   \n",
            " 27  obj_outros                    12304 non-null  bool   \n",
            " 28  causa_nao_informado           12304 non-null  bool   \n",
            " 29  causa_forca_maior             12304 non-null  bool   \n",
            " 30  causa_fortuitos               12304 non-null  bool   \n",
            " 31  causa_terceiros               12304 non-null  bool   \n",
            " 32  causa_cliente                 12304 non-null  bool   \n",
            " 33  causa_aerea                   12304 non-null  bool   \n",
            " 34  causa_outros                  12304 non-null  bool   \n",
            " 35  situacao_processual_sentenca  12304 non-null  object \n",
            "dtypes: bool(11), float64(5), int32(1), int64(1), object(18)\n",
            "memory usage: 2.4+ MB\n"
          ]
        }
      ],
      "source": [
        "dados_azul_novos.info()"
      ]
    },
    {
      "cell_type": "code",
      "execution_count": null,
      "metadata": {
        "id": "wBdvhKgeRzRo"
      },
      "outputs": [],
      "source": [
        "dados_azul_novos.to_csv('./AZUL/final/ajust_dados_azul_novos.csv',index=False)"
      ]
    },
    {
      "cell_type": "markdown",
      "metadata": {
        "id": "fPieid22D4xx",
        "jp-MarkdownHeadingCollapsed": true
      },
      "source": [
        "#### Dados novos de 2023"
      ]
    },
    {
      "cell_type": "markdown",
      "metadata": {
        "id": "iRkKQIWwZx3s",
        "jp-MarkdownHeadingCollapsed": true
      },
      "source": [
        "##### Importando os dados"
      ]
    },
    {
      "cell_type": "code",
      "execution_count": null,
      "metadata": {
        "id": "1Vcb2iF7D4xx"
      },
      "outputs": [],
      "source": [
        "dados_azul_novos_2023 = pd.read_csv('./AZUL/base_2023_azul.csv', delimiter=';',low_memory=False)"
      ]
    },
    {
      "cell_type": "markdown",
      "metadata": {
        "jp-MarkdownHeadingCollapsed": true,
        "id": "jZQPm0zJnoyx"
      },
      "source": [
        "##### Ajustando as colunas e filtrando os dados"
      ]
    },
    {
      "cell_type": "code",
      "execution_count": null,
      "metadata": {
        "id": "TDjyHwv6D4xx"
      },
      "outputs": [],
      "source": [
        "dados_azul_novos_2023 = dados_azul_novos_2023.drop(\n",
        "    columns = [\n",
        "        'ID Processo', 'Área do Direito', 'Status', 'Número do Processo.1',\n",
        "        'Comarca', 'Vara/Local', 'Unnamed: 11',\n",
        "       'Data de Citação', 'Categoria', 'Tipo de Ação', 'Rito', 'Fase',\n",
        "       'Auto de Infração', 'Número do Auto de Infração', 'Forma de Participação Cliente', 'Parte Contrária',\n",
        "       'Parte Contrária CPF/CNPJ', 'Posição Parte Contrária',\n",
        "       'Advogado da Parte Contrária ',\n",
        "       'Advogado da Parte Contrária CPF/CNPJ/OAB', 'Participante 1',\n",
        "       'Condição Participante 1', 'Participante 2', 'Condição Participante 2',\n",
        "       'Total de Adversos', 'Culpado', 'Correspondente', 'Valor Estimado', 'Risco', 'Número Tudo Azul', 'Responsável',\n",
        "       'Black List?', 'Motivo 01', 'Agravante 01', 'Fato Gerador 01',\n",
        "       'Motivo 02', 'Agravante 02', 'Fato Gerador 02',\n",
        "       'Data da Ocorrência 2', 'Aeroporto de Partida',\n",
        "       'Aeroporto de Chegada', 'Base Infratora', 'Número de Voo 1',\n",
        "       'Número de Voo 2', 'Número de Voo 3', 'PNR 1', 'PNR 2', 'PNR 3',\n",
        "       'Centro de Custos - Nome', 'Centro de Custos - Código',\n",
        "       'Classificação do Ofício', 'Seguro?', 'Data último Andamento',\n",
        "       'Unnamed: 62', 'Ocorrência', 'Último Andamento', 'Resumo',\n",
        "       'Data Audiencia Inicial', 'Data Prazo Inicial', 'Data Registrado',\n",
        "       'Usuário', 'Observações do Encerramento', 'Resultado (Encerramento)',\n",
        "       'Data de encerramento',\n",
        "       'Data de reativação', 'Motivo da Reativação', 'Tipo de Prazo',\n",
        "       'Tipo da Audiencia Inicial', 'Data da Alteração do Escritório',\n",
        "       'Escritório Anterior', 'Estimativa do Processo', 'Risco.1',\n",
        "       'Escritório Anterior.1', 'Data da Alteração do Escritório.1',\n",
        "       'Processo - Campo Escritório Acordo'\n",
        "    ]\n",
        ")"
      ]
    },
    {
      "cell_type": "code",
      "execution_count": null,
      "metadata": {
        "id": "4zZWgCUID4xx"
      },
      "outputs": [],
      "source": [
        "dados_azul_novos_2023.columns = [\n",
        "    'numero_processo', 'UF', 'jurisdicao',\n",
        "    'instancia', 'data_distribuicao', 'empresa_re',\n",
        "    'valor_pedido_inicial', 'data_voo','operacao', 'data_sentenca',\n",
        "    'valor_total_condenacao', 'valor_pago'\n",
        "]"
      ]
    },
    {
      "cell_type": "code",
      "execution_count": null,
      "metadata": {
        "id": "9CWARDlMD4xy"
      },
      "outputs": [],
      "source": [
        "dados_azul_novos_2023['num_proc_ano'] = dados_azul_novos_2023['numero_processo']. \\\n",
        "                      str.extract(r'\\d{7}-\\d{2}\\.(\\d{4})\\.\\d\\.\\d{2}\\.\\d{4}')"
      ]
    },
    {
      "cell_type": "code",
      "execution_count": null,
      "metadata": {
        "id": "zJbGl6FXD4xy"
      },
      "outputs": [],
      "source": [
        "dados_azul_novos_2023 = dados_azul_novos_2023.dropna(subset = ['num_proc_ano'], axis=0)\n",
        "dados_azul_novos_2023 = dados_azul_novos_2023.reset_index(drop=True)"
      ]
    },
    {
      "cell_type": "code",
      "execution_count": null,
      "metadata": {
        "id": "I_J4LBywD4xy"
      },
      "outputs": [],
      "source": [
        "dados_azul_novos_2023.num_proc_ano = pd.to_numeric(dados_azul_novos_2023.num_proc_ano).astype(int)"
      ]
    },
    {
      "cell_type": "code",
      "execution_count": null,
      "metadata": {
        "id": "rEmJLwD_FdCK",
        "outputId": "fb8688e2-ce95-455e-aef8-5ce04941cb44"
      },
      "outputs": [
        {
          "data": {
            "text/plain": [
              "array([2019, 2018, 2017, 2020, 2021, 2014, 2022, 2023, 2024, 2013, 2016,\n",
              "       2015])"
            ]
          },
          "execution_count": 85,
          "metadata": {},
          "output_type": "execute_result"
        }
      ],
      "source": [
        "dados_azul_novos_2023.num_proc_ano.unique()"
      ]
    },
    {
      "cell_type": "code",
      "execution_count": null,
      "metadata": {
        "id": "e9hTzctLD4xy"
      },
      "outputs": [],
      "source": [
        "dados_azul_novos_2023 = dados_azul_novos_2023[dados_azul_novos_2023['num_proc_ano'].\n",
        "                          isin([2023])]"
      ]
    },
    {
      "cell_type": "code",
      "execution_count": null,
      "metadata": {
        "id": "Tyo08_xOD4xz"
      },
      "outputs": [],
      "source": [
        "dados_azul_novos_2023.numero_processo = dados_azul_novos_2023.numero_processo.replace(pd.NA,'0')\n",
        "dados_azul_novos_2023['numero_processo_regex'] = dados_azul_novos_2023.numero_processo. \\\n",
        "      str.replace(r'[\\-\\\\.\\\\\" \"]', '', regex=True).str.slice(0,20)"
      ]
    },
    {
      "cell_type": "code",
      "execution_count": null,
      "metadata": {
        "id": "r0WRBb3FHJDG"
      },
      "outputs": [],
      "source": [
        "dados_azul_novos_2023['cnpj_re'] = ['']*dados_azul_novos_2023.shape[0]\n",
        "dados_azul_novos_2023['obj_principal'] = ['']*dados_azul_novos_2023.shape[0]\n",
        "dados_azul_novos_2023['subobj_principal'] = ['']*dados_azul_novos_2023.shape[0]\n",
        "dados_azul_novos_2023['n_autores'] = ['']*dados_azul_novos_2023.shape[0]\n",
        "dados_azul_novos_2023['causa_alegada'] = ['']*dados_azul_novos_2023.shape[0]\n",
        "dados_azul_novos_2023['situacao_processual'] = ['']*dados_azul_novos_2023.shape[0]\n",
        "dados_azul_novos_2023['resultado_decisao_sentenca'] = ['']*dados_azul_novos_2023.shape[0]\n",
        "dados_azul_novos_2023['valor_dano_moral'] = ['']*dados_azul_novos_2023.shape[0]\n",
        "dados_azul_novos_2023['valor_dano_material'] = ['']*dados_azul_novos_2023.shape[0]\n",
        "dados_azul_novos_2023['data_acordao'] = ['']*dados_azul_novos_2023.shape[0]"
      ]
    },
    {
      "cell_type": "code",
      "execution_count": null,
      "metadata": {
        "id": "oHk40mZSHJZ3"
      },
      "outputs": [],
      "source": [
        "dados_azul_novos_2023 = dados_azul_novos_2023[[\n",
        "    'empresa_re', 'numero_processo', 'cnpj_re', 'data_distribuicao', 'UF',\n",
        "    'jurisdicao', 'obj_principal', 'subobj_principal',\n",
        "    'valor_pedido_inicial', 'n_autores', 'data_voo', 'operacao',\n",
        "    'causa_alegada', 'situacao_processual', 'instancia',\n",
        "    'resultado_decisao_sentenca', 'data_sentenca', 'valor_dano_moral',\n",
        "    'valor_dano_material', 'valor_total_condenacao', 'data_acordao',\n",
        "    'valor_pago', 'num_proc_ano', 'numero_processo_regex'\n",
        "    ]]"
      ]
    },
    {
      "cell_type": "markdown",
      "metadata": {
        "id": "Ty9Fz8RwGv_m",
        "jp-MarkdownHeadingCollapsed": true
      },
      "source": [
        "##### Ajustando os dados"
      ]
    },
    {
      "cell_type": "code",
      "execution_count": null,
      "metadata": {
        "id": "5mDc0PlNZ6_D"
      },
      "outputs": [],
      "source": [
        "dados_azul_novos_2023 = transforma_df(dados_azul_novos_2023)"
      ]
    },
    {
      "cell_type": "code",
      "execution_count": null,
      "metadata": {
        "id": "pHMmtrHUD4xz",
        "outputId": "3f661766-3664-4c84-e7d0-467c9a823ceb"
      },
      "outputs": [
        {
          "name": "stdout",
          "output_type": "stream",
          "text": [
            "['Azul']\n",
            "['MT' 'RR' 'PR' 'PE' 'SP' 'RO' 'RS' 'AM' 'MG' 'PA' 'ES' 'MA' 'CE' 'RJ'\n",
            " 'BA' 'GO' 'AP' 'MS' 'PB' 'RN' 'DF' 'SC' 'TO' 'PI' 'SE' 'AL' 'AC']\n",
            "['Vara Cível' 'Juizado Especial Cível' 'Outros']\n",
            "['Doméstico' ' Internacional' 'Outros' 'Não informado']\n",
            "['1ª Instância' '2ª Instância' 'Não informado']\n",
            "[2023]\n"
          ]
        }
      ],
      "source": [
        "print(dados_azul_novos_2023.empresa_re.unique())\n",
        "print(dados_azul_novos_2023.UF.unique())\n",
        "print(dados_azul_novos_2023.jurisdicao.unique())\n",
        "print(dados_azul_novos_2023.operacao.unique())\n",
        "print(dados_azul_novos_2023.instancia.unique())\n",
        "print(dados_azul_novos_2023.num_proc_ano.unique())"
      ]
    },
    {
      "cell_type": "code",
      "execution_count": null,
      "metadata": {
        "id": "f4gb7-qOnoyz",
        "outputId": "2bae3480-42de-43e3-bf3f-cd924f3cb5f4"
      },
      "outputs": [
        {
          "name": "stdout",
          "output_type": "stream",
          "text": [
            "<class 'pandas.core.frame.DataFrame'>\n",
            "Index: 79809 entries, 20433 to 288722\n",
            "Data columns (total 36 columns):\n",
            " #   Column                        Non-Null Count  Dtype  \n",
            "---  ------                        --------------  -----  \n",
            " 0   empresa_re                    79809 non-null  object \n",
            " 1   numero_processo               79809 non-null  object \n",
            " 2   cnpj_re                       79809 non-null  object \n",
            " 3   data_distribuicao             79809 non-null  object \n",
            " 4   UF                            79809 non-null  object \n",
            " 5   jurisdicao                    79809 non-null  object \n",
            " 6   obj_principal                 79809 non-null  object \n",
            " 7   subobj_principal              79809 non-null  object \n",
            " 8   valor_pedido_inicial          79809 non-null  float64\n",
            " 9   n_autores                     79809 non-null  int32  \n",
            " 10  data_voo                      79809 non-null  object \n",
            " 11  operacao                      79809 non-null  object \n",
            " 12  causa_alegada                 79809 non-null  object \n",
            " 13  situacao_processual           79809 non-null  object \n",
            " 14  instancia                     79809 non-null  object \n",
            " 15  resultado_decisao_sentenca    79809 non-null  object \n",
            " 16  data_sentenca                 79809 non-null  object \n",
            " 17  valor_dano_moral              79809 non-null  float64\n",
            " 18  valor_dano_material           79809 non-null  float64\n",
            " 19  valor_total_condenacao        79809 non-null  float64\n",
            " 20  data_acordao                  79809 non-null  object \n",
            " 21  valor_pago                    79809 non-null  float64\n",
            " 22  num_proc_ano                  79809 non-null  int32  \n",
            " 23  numero_processo_regex         79809 non-null  object \n",
            " 24  obj_problemas_operacionais    79809 non-null  bool   \n",
            " 25  obj_bagagem                   79809 non-null  bool   \n",
            " 26  obj_contrato                  79809 non-null  bool   \n",
            " 27  obj_outros                    79809 non-null  bool   \n",
            " 28  causa_nao_informado           79809 non-null  bool   \n",
            " 29  causa_forca_maior             79809 non-null  bool   \n",
            " 30  causa_fortuitos               79809 non-null  bool   \n",
            " 31  causa_terceiros               79809 non-null  bool   \n",
            " 32  causa_cliente                 79809 non-null  bool   \n",
            " 33  causa_aerea                   79809 non-null  bool   \n",
            " 34  causa_outros                  79809 non-null  bool   \n",
            " 35  situacao_processual_sentenca  79809 non-null  object \n",
            "dtypes: bool(11), float64(5), int32(2), object(18)\n",
            "memory usage: 16.1+ MB\n"
          ]
        }
      ],
      "source": [
        "dados_azul_novos_2023.info()"
      ]
    },
    {
      "cell_type": "code",
      "execution_count": null,
      "metadata": {
        "id": "983t4xVwnoyz"
      },
      "outputs": [],
      "source": [
        "dados_azul_novos_2023.to_csv('./AZUL/final/ajust_dados_azul_novos_2023.csv',index=False)"
      ]
    },
    {
      "cell_type": "markdown",
      "metadata": {
        "id": "YSPJ9QwIR1TQ",
        "jp-MarkdownHeadingCollapsed": true
      },
      "source": [
        "#### Consolidando bases de dados da Azul"
      ]
    },
    {
      "cell_type": "code",
      "execution_count": null,
      "metadata": {
        "id": "0RgyhSGvbLoF"
      },
      "outputs": [],
      "source": [
        "dados_azul_original = pd.read_csv('./AZUL/final/ajust_dados_azul_original.csv')"
      ]
    },
    {
      "cell_type": "code",
      "execution_count": null,
      "metadata": {
        "id": "9ZepBoPTbRZV"
      },
      "outputs": [],
      "source": [
        "dados_azul_novos = pd.read_csv('./AZUL/final/ajust_dados_azul_novos.csv')"
      ]
    },
    {
      "cell_type": "code",
      "execution_count": null,
      "metadata": {
        "id": "sqmmrSDFbWZF"
      },
      "outputs": [],
      "source": [
        "dados_azul_novos_2023 = pd.read_csv('./AZUL/final/ajust_dados_azul_novos_2023.csv')"
      ]
    },
    {
      "cell_type": "code",
      "execution_count": null,
      "metadata": {
        "id": "_MJp5pa8IZB6"
      },
      "outputs": [],
      "source": [
        "dados_azul = pd.concat([dados_azul_original, dados_azul_novos, dados_azul_novos_2023], axis=0)"
      ]
    },
    {
      "cell_type": "code",
      "execution_count": null,
      "metadata": {
        "id": "IyN3tcObIoAf",
        "outputId": "6edcf9ec-f208-4c20-b4c1-efe494c00619"
      },
      "outputs": [
        {
          "data": {
            "text/plain": [
              "(220195, 36)"
            ]
          },
          "execution_count": 100,
          "metadata": {},
          "output_type": "execute_result"
        }
      ],
      "source": [
        "dados_azul.shape"
      ]
    },
    {
      "cell_type": "code",
      "execution_count": null,
      "metadata": {
        "id": "zFSNqBjLgjxM",
        "outputId": "bf6ade5d-fb32-4575-b8ef-811c0e7d7a46"
      },
      "outputs": [
        {
          "data": {
            "text/plain": [
              "empresa_re                           0\n",
              "numero_processo                      0\n",
              "cnpj_re                              0\n",
              "data_distribuicao                    0\n",
              "UF                                   0\n",
              "jurisdicao                           0\n",
              "obj_principal                    79809\n",
              "subobj_principal                197873\n",
              "valor_pedido_inicial                 0\n",
              "n_autores                            0\n",
              "data_voo                          4242\n",
              "operacao                             0\n",
              "causa_alegada                    92113\n",
              "situacao_processual              79809\n",
              "instancia                            0\n",
              "resultado_decisao_sentenca       92085\n",
              "data_sentenca                    40356\n",
              "valor_dano_moral                     0\n",
              "valor_dano_material                  0\n",
              "valor_total_condenacao               0\n",
              "data_acordao                    197704\n",
              "valor_pago                           0\n",
              "num_proc_ano                         0\n",
              "numero_processo_regex                0\n",
              "obj_problemas_operacionais           0\n",
              "obj_bagagem                          0\n",
              "obj_contrato                         0\n",
              "obj_outros                           0\n",
              "causa_nao_informado                  0\n",
              "causa_forca_maior                    0\n",
              "causa_fortuitos                      0\n",
              "causa_terceiros                      0\n",
              "causa_cliente                        0\n",
              "causa_aerea                          0\n",
              "causa_outros                         0\n",
              "situacao_processual_sentenca         0\n",
              "dtype: int64"
            ]
          },
          "execution_count": 101,
          "metadata": {},
          "output_type": "execute_result"
        }
      ],
      "source": [
        "dados_azul.isnull().sum()"
      ]
    },
    {
      "cell_type": "code",
      "execution_count": null,
      "metadata": {
        "id": "tPALU5WUaZDP",
        "outputId": "a87d586d-05df-4c7b-9cad-14835d8abdda"
      },
      "outputs": [
        {
          "name": "stdout",
          "output_type": "stream",
          "text": [
            "<class 'pandas.core.frame.DataFrame'>\n",
            "Index: 220195 entries, 0 to 79808\n",
            "Data columns (total 36 columns):\n",
            " #   Column                        Non-Null Count   Dtype  \n",
            "---  ------                        --------------   -----  \n",
            " 0   empresa_re                    220195 non-null  object \n",
            " 1   numero_processo               220195 non-null  object \n",
            " 2   cnpj_re                       220195 non-null  object \n",
            " 3   data_distribuicao             220195 non-null  object \n",
            " 4   UF                            220195 non-null  object \n",
            " 5   jurisdicao                    220195 non-null  object \n",
            " 6   obj_principal                 140386 non-null  object \n",
            " 7   subobj_principal              22322 non-null   object \n",
            " 8   valor_pedido_inicial          220195 non-null  float64\n",
            " 9   n_autores                     220195 non-null  int64  \n",
            " 10  data_voo                      215953 non-null  object \n",
            " 11  operacao                      220195 non-null  object \n",
            " 12  causa_alegada                 128082 non-null  object \n",
            " 13  situacao_processual           140386 non-null  object \n",
            " 14  instancia                     220195 non-null  object \n",
            " 15  resultado_decisao_sentenca    128110 non-null  object \n",
            " 16  data_sentenca                 179839 non-null  object \n",
            " 17  valor_dano_moral              220195 non-null  float64\n",
            " 18  valor_dano_material           220195 non-null  float64\n",
            " 19  valor_total_condenacao        220195 non-null  float64\n",
            " 20  data_acordao                  22491 non-null   object \n",
            " 21  valor_pago                    220195 non-null  float64\n",
            " 22  num_proc_ano                  220195 non-null  int64  \n",
            " 23  numero_processo_regex         220195 non-null  object \n",
            " 24  obj_problemas_operacionais    220195 non-null  bool   \n",
            " 25  obj_bagagem                   220195 non-null  bool   \n",
            " 26  obj_contrato                  220195 non-null  bool   \n",
            " 27  obj_outros                    220195 non-null  bool   \n",
            " 28  causa_nao_informado           220195 non-null  bool   \n",
            " 29  causa_forca_maior             220195 non-null  bool   \n",
            " 30  causa_fortuitos               220195 non-null  bool   \n",
            " 31  causa_terceiros               220195 non-null  bool   \n",
            " 32  causa_cliente                 220195 non-null  bool   \n",
            " 33  causa_aerea                   220195 non-null  bool   \n",
            " 34  causa_outros                  220195 non-null  bool   \n",
            " 35  situacao_processual_sentenca  220195 non-null  object \n",
            "dtypes: bool(11), float64(5), int64(2), object(18)\n",
            "memory usage: 46.0+ MB\n"
          ]
        }
      ],
      "source": [
        "dados_azul.info()"
      ]
    },
    {
      "cell_type": "code",
      "execution_count": null,
      "metadata": {
        "id": "55SvYiCCdZhU"
      },
      "outputs": [],
      "source": [
        "dados_azul = dados_azul.sort_values(by=['empresa_re',\n",
        "                                      'numero_processo_regex'], ascending=True)"
      ]
    },
    {
      "cell_type": "code",
      "execution_count": null,
      "metadata": {
        "id": "LrB-RoficXMv"
      },
      "outputs": [],
      "source": [
        "dados_azul = dados_azul.drop_duplicates(subset=['empresa_re',\n",
        "                                        'numero_processo_regex'],keep='first')"
      ]
    },
    {
      "cell_type": "code",
      "execution_count": null,
      "metadata": {
        "id": "uqhSx_KUOoi0"
      },
      "outputs": [],
      "source": [
        "dados_azul = dados_azul[dados_azul.UF.isin(['AM', 'BA', 'CE', 'DF', 'ES', 'GO',\n",
        "            'MG', 'MS', 'MT', 'PE', 'PR', 'RJ', 'RO', 'SC', 'SP', 'TO'])]"
      ]
    },
    {
      "cell_type": "code",
      "execution_count": null,
      "metadata": {
        "id": "xqVdcwbdOjC7"
      },
      "outputs": [],
      "source": [
        "dados_azul = dados_azul.reset_index(drop=True)"
      ]
    },
    {
      "cell_type": "code",
      "execution_count": null,
      "metadata": {
        "id": "uWL1r5PpaEM_",
        "outputId": "e263d97b-0ff5-4b39-843b-4e9c0e7959c8"
      },
      "outputs": [
        {
          "data": {
            "text/plain": [
              "(206654, 36)"
            ]
          },
          "execution_count": 107,
          "metadata": {},
          "output_type": "execute_result"
        }
      ],
      "source": [
        "dados_azul.shape"
      ]
    },
    {
      "cell_type": "code",
      "execution_count": null,
      "metadata": {
        "id": "y2MKSU2RfgU6"
      },
      "outputs": [],
      "source": [
        "# Baixando base final\n",
        "dados_azul.to_csv('./AZUL/final/azul_dados_consolidados_FINAL.csv',index=False)"
      ]
    },
    {
      "cell_type": "markdown",
      "metadata": {
        "id": "bcx9fYNOk3rY",
        "jp-MarkdownHeadingCollapsed": true
      },
      "source": [
        "### Gol"
      ]
    },
    {
      "cell_type": "markdown",
      "metadata": {
        "id": "In2Pp9O7feAk",
        "jp-MarkdownHeadingCollapsed": true
      },
      "source": [
        "#### Dados originais"
      ]
    },
    {
      "cell_type": "markdown",
      "metadata": {
        "id": "wQqQR3MIar-z",
        "jp-MarkdownHeadingCollapsed": true
      },
      "source": [
        "##### Importando os dados"
      ]
    },
    {
      "cell_type": "code",
      "execution_count": null,
      "metadata": {
        "id": "rZ0-lZEWfeAk"
      },
      "outputs": [],
      "source": [
        "dados_gol_original = pd.read_csv('./GOL/base_inicial_gol.csv', delimiter=';', low_memory=False)"
      ]
    },
    {
      "cell_type": "markdown",
      "metadata": {
        "jp-MarkdownHeadingCollapsed": true,
        "id": "WERZsJvVnoy1"
      },
      "source": [
        "##### Ajustando as colunas e filtrando os dados"
      ]
    },
    {
      "cell_type": "code",
      "execution_count": null,
      "metadata": {
        "id": "lTEgVZXPfeAl"
      },
      "outputs": [],
      "source": [
        "dados_gol_original = dados_gol_original.drop(columns=['Cia. Aérea','Unnamed: 1','Comarca'])"
      ]
    },
    {
      "cell_type": "code",
      "execution_count": null,
      "metadata": {
        "id": "zcWKJwycfeAl"
      },
      "outputs": [],
      "source": [
        "dados_gol_original.columns = [\n",
        "  'empresa_re', 'numero_processo', 'cnpj_re', 'data_distribuicao', 'UF',\n",
        "  'jurisdicao', 'obj_principal', 'subobj_principal',\n",
        "  'valor_pedido_inicial', 'n_autores', 'data_voo', 'operacao',\n",
        "  'causa_alegada', 'situacao_processual', 'instancia',\n",
        "  'resultado_decisao_sentenca', 'data_sentenca', 'valor_dano_moral',\n",
        "  'valor_dano_material', 'valor_total_condenacao', 'data_acordao',\n",
        "  'valor_pago'\n",
        "]"
      ]
    },
    {
      "cell_type": "code",
      "execution_count": null,
      "metadata": {
        "id": "0nRd_HQZfeAl"
      },
      "outputs": [],
      "source": [
        "dados_gol_original['num_proc_ano'] = dados_gol_original['numero_processo']. \\\n",
        "                      str.extract(r'\\d{7}-\\d{2}\\.(\\d{4})\\.\\d\\.\\d{2}\\.\\d{4}')"
      ]
    },
    {
      "cell_type": "code",
      "execution_count": null,
      "metadata": {
        "id": "I2RpZdNOfeAm"
      },
      "outputs": [],
      "source": [
        "dados_gol_original = dados_gol_original.dropna(subset = ['num_proc_ano'], axis=0)\n",
        "dados_gol_original = dados_gol_original.reset_index(drop=True)"
      ]
    },
    {
      "cell_type": "code",
      "execution_count": null,
      "metadata": {
        "id": "dNXf_iEjfeAm"
      },
      "outputs": [],
      "source": [
        "dados_gol_original.num_proc_ano = pd.to_numeric(dados_gol_original.num_proc_ano).astype(int)"
      ]
    },
    {
      "cell_type": "code",
      "execution_count": null,
      "metadata": {
        "id": "xAdMw_nHnoy1",
        "outputId": "0ccc3772-6770-4ede-b310-36b90d247aee"
      },
      "outputs": [
        {
          "data": {
            "text/plain": [
              "array([2019, 2020, 2018, 2021, 2022, 2017, 2015, 2016, 2014, 2013])"
            ]
          },
          "execution_count": 119,
          "metadata": {},
          "output_type": "execute_result"
        }
      ],
      "source": [
        "dados_gol_original.num_proc_ano.unique()"
      ]
    },
    {
      "cell_type": "code",
      "execution_count": null,
      "metadata": {
        "id": "DxoypG0bfeAm"
      },
      "outputs": [],
      "source": [
        "dados_gol_original = dados_gol_original[dados_gol_original['num_proc_ano'].\n",
        "                                          isin([2019,2020,2021,2022,2023])]"
      ]
    },
    {
      "cell_type": "code",
      "execution_count": null,
      "metadata": {
        "id": "AaM14DPtfeAm"
      },
      "outputs": [],
      "source": [
        "dados_gol_original.numero_processo = dados_gol_original.numero_processo.replace(pd.NA,'0')\n",
        "dados_gol_original['numero_processo_regex'] = dados_gol_original.numero_processo. \\\n",
        "      str.replace(r'[\\-\\\\.\\\\\" \"]', '', regex=True).str.slice(0,20)"
      ]
    },
    {
      "cell_type": "markdown",
      "metadata": {
        "id": "yg8nPjHmfeAn",
        "jp-MarkdownHeadingCollapsed": true
      },
      "source": [
        "##### Ajustando os dados"
      ]
    },
    {
      "cell_type": "code",
      "execution_count": null,
      "metadata": {
        "id": "4QnC366vfeAo"
      },
      "outputs": [],
      "source": [
        "dados_gol_original = transforma_df(dados_gol_original)"
      ]
    },
    {
      "cell_type": "code",
      "execution_count": null,
      "metadata": {
        "id": "QFxVa_Z5feAo",
        "outputId": "116c3789-f0f2-4755-8478-8a4f455e1a53"
      },
      "outputs": [
        {
          "name": "stdout",
          "output_type": "stream",
          "text": [
            "['Gol']\n",
            "['07.575.651/0001-59' '06.164.253/0001-87' '04.020.028/0001-41'\n",
            " '0817176-80.2018.8.12.0110' 'Não informado']\n",
            "['ES' 'MG' 'DF' 'CE' 'PE' 'AM' 'BA' 'RO' 'SC' 'SP' 'MS' 'PR' 'TO' 'GO'\n",
            " 'RJ' 'PB' 'RN']\n",
            "['Juizado Especial Cível' 'Vara Cível' 'Outros' 'Não informado']\n",
            "['Não informado' 'Doméstico' 'Internacional' 'Outros']\n",
            "['Condenação' 'Acordo' 'Decisão favorável à aérea (improcedência)'\n",
            " 'Extinção sem julgamento do mérito' 'Não informado']\n",
            "['Não informado' '2ª Instância' '1ª Instância']\n",
            "[2019 2020 2021 2022]\n"
          ]
        }
      ],
      "source": [
        "print(dados_gol_original.empresa_re.unique())\n",
        "print(dados_gol_original.cnpj_re.unique())\n",
        "print(dados_gol_original.UF.unique())\n",
        "print(dados_gol_original.jurisdicao.unique())\n",
        "print(dados_gol_original.operacao.unique())\n",
        "print(dados_gol_original.situacao_processual_sentenca.unique())\n",
        "print(dados_gol_original.instancia.unique())\n",
        "print(dados_gol_original.num_proc_ano.unique())"
      ]
    },
    {
      "cell_type": "code",
      "execution_count": null,
      "metadata": {
        "id": "i3KUF_zGfeAo",
        "outputId": "065a21c3-7d38-4a17-c8e1-0c95eee81c80"
      },
      "outputs": [
        {
          "name": "stdout",
          "output_type": "stream",
          "text": [
            "<class 'pandas.core.frame.DataFrame'>\n",
            "Index: 68381 entries, 0 to 68725\n",
            "Data columns (total 36 columns):\n",
            " #   Column                        Non-Null Count  Dtype  \n",
            "---  ------                        --------------  -----  \n",
            " 0   empresa_re                    68381 non-null  object \n",
            " 1   numero_processo               68381 non-null  object \n",
            " 2   cnpj_re                       68381 non-null  object \n",
            " 3   data_distribuicao             68381 non-null  object \n",
            " 4   UF                            68381 non-null  object \n",
            " 5   jurisdicao                    68381 non-null  object \n",
            " 6   obj_principal                 68381 non-null  object \n",
            " 7   subobj_principal              68381 non-null  object \n",
            " 8   valor_pedido_inicial          68381 non-null  float64\n",
            " 9   n_autores                     68381 non-null  int32  \n",
            " 10  data_voo                      68381 non-null  object \n",
            " 11  operacao                      68381 non-null  object \n",
            " 12  causa_alegada                 68381 non-null  object \n",
            " 13  situacao_processual           68381 non-null  object \n",
            " 14  instancia                     68381 non-null  object \n",
            " 15  resultado_decisao_sentenca    68381 non-null  object \n",
            " 16  data_sentenca                 68381 non-null  object \n",
            " 17  valor_dano_moral              68381 non-null  float64\n",
            " 18  valor_dano_material           68381 non-null  float64\n",
            " 19  valor_total_condenacao        68381 non-null  float64\n",
            " 20  data_acordao                  68381 non-null  object \n",
            " 21  valor_pago                    68381 non-null  float64\n",
            " 22  num_proc_ano                  68381 non-null  int32  \n",
            " 23  numero_processo_regex         68381 non-null  object \n",
            " 24  obj_problemas_operacionais    68381 non-null  bool   \n",
            " 25  obj_bagagem                   68381 non-null  bool   \n",
            " 26  obj_contrato                  68381 non-null  bool   \n",
            " 27  obj_outros                    68381 non-null  bool   \n",
            " 28  causa_nao_informado           68381 non-null  bool   \n",
            " 29  causa_forca_maior             68381 non-null  bool   \n",
            " 30  causa_fortuitos               68381 non-null  bool   \n",
            " 31  causa_terceiros               68381 non-null  bool   \n",
            " 32  causa_cliente                 68381 non-null  bool   \n",
            " 33  causa_aerea                   68381 non-null  bool   \n",
            " 34  causa_outros                  68381 non-null  bool   \n",
            " 35  situacao_processual_sentenca  68381 non-null  object \n",
            "dtypes: bool(11), float64(5), int32(2), object(18)\n",
            "memory usage: 13.8+ MB\n"
          ]
        }
      ],
      "source": [
        "dados_gol_original.info()"
      ]
    },
    {
      "cell_type": "code",
      "execution_count": null,
      "metadata": {
        "id": "wcN2AzZDfeAp"
      },
      "outputs": [],
      "source": [
        "dados_gol_original.to_csv('./GOL/final/ajust_dados_gol_original.csv',index=False)"
      ]
    },
    {
      "cell_type": "markdown",
      "metadata": {
        "id": "GG95tAPw-myz",
        "jp-MarkdownHeadingCollapsed": true
      },
      "source": [
        "#### Dados complementares de 2019 a 2022"
      ]
    },
    {
      "cell_type": "markdown",
      "metadata": {
        "id": "wC3PndRBcXfy",
        "jp-MarkdownHeadingCollapsed": true
      },
      "source": [
        "##### Importando os dados"
      ]
    },
    {
      "cell_type": "code",
      "execution_count": null,
      "metadata": {
        "id": "SCvvKt5F-R5F",
        "outputId": "3b8b3f18-c673-4322-c101-5aad7cf8ae5d"
      },
      "outputs": [
        {
          "data": {
            "text/plain": [
              "(3721, 22)"
            ]
          },
          "execution_count": 129,
          "metadata": {},
          "output_type": "execute_result"
        }
      ],
      "source": [
        "dados_gol1 = pd.read_csv('./GOL/Gol_retorno_dados_n1_16082024.csv', delimiter=';',low_memory=False)\n",
        "\n",
        "dados_gol1 = dados_gol1.drop(columns=['Unnamed: 4','Vara/Juizado','Comarca',\n",
        "                                      'Motivo de não envio anterior'])\n",
        "\n",
        "dados_gol1.columns = ['empresa_re', 'numero_processo', 'cnpj_re', 'UF',\n",
        "       'jurisdicao', 'obj_principal', 'subobj_principal',\n",
        "       'valor_pedido_inicial', 'n_autores', 'data_voo', 'data_distribuicao',\n",
        "       'operacao','causa_alegada', 'situacao_processual', 'instancia',\n",
        "       'resultado_decisao_sentenca', 'data_sentenca', 'valor_dano_moral',\n",
        "       'valor_dano_material', 'valor_total_condenacao', 'data_acordao']\n",
        "\n",
        "dados_gol1['valor_pago'] = ['']*dados_gol1.shape[0]\n",
        "\n",
        "dados_gol1 = dados_gol1 [[\n",
        "    'empresa_re', 'numero_processo', 'cnpj_re', 'data_distribuicao', 'UF',\n",
        "       'jurisdicao', 'obj_principal', 'subobj_principal',\n",
        "       'valor_pedido_inicial', 'n_autores', 'data_voo', 'operacao',\n",
        "       'causa_alegada', 'situacao_processual', 'instancia',\n",
        "       'resultado_decisao_sentenca', 'data_sentenca', 'valor_dano_moral',\n",
        "       'valor_dano_material', 'valor_total_condenacao', 'data_acordao',\n",
        "       'valor_pago']]\n",
        "\n",
        "dados_gol1.shape"
      ]
    },
    {
      "cell_type": "code",
      "execution_count": null,
      "metadata": {
        "id": "Y7QovnM6BO27",
        "outputId": "86379468-08d6-41a4-c002-10a7214208d8"
      },
      "outputs": [
        {
          "data": {
            "text/plain": [
              "(9024, 22)"
            ]
          },
          "execution_count": 130,
          "metadata": {},
          "output_type": "execute_result"
        }
      ],
      "source": [
        "dados_gol2 = pd.read_csv('./GOL/Gol_retorno_dados_n2_16082024.csv', delimiter=';',low_memory=False)\n",
        "\n",
        "dados_gol2.drop(columns=['PASTA','Comarca','Motivo do não envio anterior'],inplace=True)\n",
        "\n",
        "dados_gol2.columns = ['empresa_re', 'numero_processo', 'cnpj_re', 'data_distribuicao', 'UF',\n",
        "       'jurisdicao', 'obj_principal', 'subobj_principal',\n",
        "       'valor_pedido_inicial', 'n_autores', 'data_voo', 'operacao',\n",
        "       'causa_alegada', 'situacao_processual', 'instancia',\n",
        "       'resultado_decisao_sentenca', 'data_sentenca', 'valor_dano_moral',\n",
        "       'valor_dano_material', 'valor_total_condenacao', 'data_acordao',\n",
        "       'valor_pago']\n",
        "\n",
        "dados_gol2 = dados_gol2 [[\n",
        "    'empresa_re', 'numero_processo', 'cnpj_re', 'data_distribuicao', 'UF',\n",
        "       'jurisdicao', 'obj_principal', 'subobj_principal',\n",
        "       'valor_pedido_inicial', 'n_autores', 'data_voo', 'operacao',\n",
        "       'causa_alegada', 'situacao_processual', 'instancia',\n",
        "       'resultado_decisao_sentenca', 'data_sentenca', 'valor_dano_moral',\n",
        "       'valor_dano_material', 'valor_total_condenacao', 'data_acordao',\n",
        "       'valor_pago']]\n",
        "\n",
        "dados_gol2.shape"
      ]
    },
    {
      "cell_type": "code",
      "execution_count": null,
      "metadata": {
        "id": "RWzBUJA7aYeO",
        "outputId": "ec983136-1616-4ada-dace-03fa075a74a2"
      },
      "outputs": [
        {
          "data": {
            "text/plain": [
              "(52, 22)"
            ]
          },
          "execution_count": 131,
          "metadata": {},
          "output_type": "execute_result"
        }
      ],
      "source": [
        "dados_gol3 = pd.read_csv('./GOL/Gol_retorno_dados_n3_MG_21082024.csv', delimiter=';',low_memory=False)\n",
        "\n",
        "dados_gol3.drop(columns=['CÓDIGO INTERNO','COMARCA','OBSERVAÇÃO'],inplace=True)\n",
        "\n",
        "dados_gol3.columns = ['empresa_re', 'numero_processo', 'cnpj_re', 'data_distribuicao', 'UF',\n",
        "       'jurisdicao', 'obj_principal', 'subobj_principal',\n",
        "       'valor_pedido_inicial', 'n_autores', 'data_voo', 'operacao',\n",
        "       'causa_alegada', 'situacao_processual', 'instancia',\n",
        "       'resultado_decisao_sentenca', 'data_sentenca', 'valor_dano_moral',\n",
        "       'valor_dano_material', 'valor_total_condenacao', 'data_acordao']\n",
        "\n",
        "dados_gol3['valor_pago'] = [''] * dados_gol3.shape[0]\n",
        "\n",
        "dados_gol3 = dados_gol3 [[\n",
        "    'empresa_re', 'numero_processo', 'cnpj_re', 'data_distribuicao', 'UF',\n",
        "       'jurisdicao', 'obj_principal', 'subobj_principal',\n",
        "       'valor_pedido_inicial', 'n_autores', 'data_voo', 'operacao',\n",
        "       'causa_alegada', 'situacao_processual', 'instancia',\n",
        "       'resultado_decisao_sentenca', 'data_sentenca', 'valor_dano_moral',\n",
        "       'valor_dano_material', 'valor_total_condenacao', 'data_acordao',\n",
        "       'valor_pago']]\n",
        "\n",
        "dados_gol3.shape"
      ]
    },
    {
      "cell_type": "code",
      "execution_count": null,
      "metadata": {
        "id": "lq0RilqCanC2",
        "outputId": "41e6d2fe-0094-4796-8e85-97a1d008138e"
      },
      "outputs": [
        {
          "data": {
            "text/plain": [
              "(160, 22)"
            ]
          },
          "execution_count": 132,
          "metadata": {},
          "output_type": "execute_result"
        }
      ],
      "source": [
        "dados_gol4 = pd.read_csv('./GOL/Gol_retorno_dados_n4_MG_21082024_fora_escopo.csv', delimiter=';',low_memory=False)\n",
        "\n",
        "dados_gol4.drop(columns=['CÓDIGO INTERNO','COMARCA','OBSERVAÇÃO'],inplace=True)\n",
        "\n",
        "dados_gol4.columns = ['empresa_re', 'numero_processo', 'cnpj_re', 'data_distribuicao', 'UF',\n",
        "       'jurisdicao', 'obj_principal', 'subobj_principal',\n",
        "       'valor_pedido_inicial', 'n_autores', 'data_voo', 'operacao',\n",
        "       'causa_alegada', 'situacao_processual', 'instancia',\n",
        "       'resultado_decisao_sentenca', 'data_sentenca', 'valor_dano_moral',\n",
        "       'valor_dano_material', 'valor_total_condenacao', 'data_acordao']\n",
        "\n",
        "dados_gol4['valor_pago'] = [''] * dados_gol4.shape[0]\n",
        "\n",
        "dados_gol4 = dados_gol4 [[\n",
        "    'empresa_re', 'numero_processo', 'cnpj_re', 'data_distribuicao', 'UF',\n",
        "       'jurisdicao', 'obj_principal', 'subobj_principal',\n",
        "       'valor_pedido_inicial', 'n_autores', 'data_voo', 'operacao',\n",
        "       'causa_alegada', 'situacao_processual', 'instancia',\n",
        "       'resultado_decisao_sentenca', 'data_sentenca', 'valor_dano_moral',\n",
        "       'valor_dano_material', 'valor_total_condenacao', 'data_acordao',\n",
        "       'valor_pago']]\n",
        "\n",
        "dados_gol4.shape"
      ]
    },
    {
      "cell_type": "code",
      "execution_count": null,
      "metadata": {
        "id": "JhyQP5Azae2V",
        "outputId": "fc7bfc3b-e2ed-4c3f-9fc7-48857fc93ee0"
      },
      "outputs": [
        {
          "data": {
            "text/plain": [
              "(270, 22)"
            ]
          },
          "execution_count": 133,
          "metadata": {},
          "output_type": "execute_result"
        }
      ],
      "source": [
        "dados_gol5 = pd.read_csv('./GOL/Gol_retorno_dados_n5_21082024.csv', delimiter=';',low_memory=False)\n",
        "\n",
        "dados_gol5.drop(columns=['Cód. Interno','COMARCA'],inplace=True)\n",
        "\n",
        "dados_gol5.columns = ['empresa_re', 'numero_processo', 'cnpj_re', 'data_distribuicao', 'UF',\n",
        "       'jurisdicao', 'obj_principal', 'subobj_principal',\n",
        "       'valor_pedido_inicial', 'n_autores', 'data_voo', 'operacao',\n",
        "       'causa_alegada', 'situacao_processual', 'instancia',\n",
        "       'resultado_decisao_sentenca', 'data_sentenca', 'valor_dano_moral',\n",
        "       'valor_dano_material', 'valor_total_condenacao', 'data_acordao']\n",
        "\n",
        "dados_gol5['valor_pago'] = [''] * dados_gol5.shape[0]\n",
        "\n",
        "dados_gol5 = dados_gol5 [[\n",
        "    'empresa_re', 'numero_processo', 'cnpj_re', 'data_distribuicao', 'UF',\n",
        "       'jurisdicao', 'obj_principal', 'subobj_principal',\n",
        "       'valor_pedido_inicial', 'n_autores', 'data_voo', 'operacao',\n",
        "       'causa_alegada', 'situacao_processual', 'instancia',\n",
        "       'resultado_decisao_sentenca', 'data_sentenca', 'valor_dano_moral',\n",
        "       'valor_dano_material', 'valor_total_condenacao', 'data_acordao',\n",
        "       'valor_pago']]\n",
        "\n",
        "dados_gol5.shape"
      ]
    },
    {
      "cell_type": "code",
      "execution_count": null,
      "metadata": {
        "id": "Z7tLO9hFajlF",
        "outputId": "66541d77-8a63-46f4-ea03-5bddb0000f11"
      },
      "outputs": [
        {
          "data": {
            "text/plain": [
              "(1484, 22)"
            ]
          },
          "execution_count": 134,
          "metadata": {},
          "output_type": "execute_result"
        }
      ],
      "source": [
        "dados_gol6 = pd.read_csv('./GOL/Gol_retorno_dados_n6_21082024.csv',\n",
        "                         delimiter=';',low_memory=False)\n",
        "dados_gol6.drop(columns=['Cód. Interno','COMARCA'],inplace=True)\n",
        "dados_gol6.columns = ['empresa_re', 'numero_processo', 'cnpj_re', 'data_distribuicao', 'UF',\n",
        "       'jurisdicao', 'obj_principal', 'subobj_principal',\n",
        "       'valor_pedido_inicial', 'n_autores', 'data_voo', 'operacao',\n",
        "       'causa_alegada', 'situacao_processual', 'instancia',\n",
        "       'resultado_decisao_sentenca', 'data_sentenca', 'valor_dano_moral',\n",
        "       'valor_dano_material', 'valor_total_condenacao', 'data_acordao']\n",
        "\n",
        "dados_gol6['valor_pago'] = [''] * dados_gol6.shape[0]\n",
        "\n",
        "dados_gol6 = dados_gol6 [[\n",
        "    'empresa_re', 'numero_processo', 'cnpj_re', 'data_distribuicao', 'UF',\n",
        "       'jurisdicao', 'obj_principal', 'subobj_principal',\n",
        "       'valor_pedido_inicial', 'n_autores', 'data_voo', 'operacao',\n",
        "       'causa_alegada', 'situacao_processual', 'instancia',\n",
        "       'resultado_decisao_sentenca', 'data_sentenca', 'valor_dano_moral',\n",
        "       'valor_dano_material', 'valor_total_condenacao', 'data_acordao',\n",
        "       'valor_pago']]\n",
        "\n",
        "dados_gol6.shape"
      ]
    },
    {
      "cell_type": "code",
      "execution_count": null,
      "metadata": {
        "id": "zWgd1XzuX4UP"
      },
      "outputs": [],
      "source": [
        "dados_gol_novos = pd.concat([dados_gol1,dados_gol2,dados_gol3,dados_gol4,dados_gol5,dados_gol6],axis=0)"
      ]
    },
    {
      "cell_type": "markdown",
      "metadata": {
        "jp-MarkdownHeadingCollapsed": true,
        "id": "lY3LgqkDnoy4"
      },
      "source": [
        "##### Ajustando as colunas e filtrando os dados"
      ]
    },
    {
      "cell_type": "code",
      "execution_count": null,
      "metadata": {
        "id": "T2H2PPQpbB3G"
      },
      "outputs": [],
      "source": [
        "dados_gol_novos = dados_gol_novos[~dados_gol_novos.numero_processo.isna()]\n",
        "dados_gol_novos = dados_gol_novos.reset_index(drop=True)"
      ]
    },
    {
      "cell_type": "code",
      "execution_count": null,
      "metadata": {
        "id": "XIWYy7g1ejWI"
      },
      "outputs": [],
      "source": [
        "dados_gol_novos['num_proc_ano'] = dados_gol_novos['numero_processo'].str.extract(r'\\d{7}-\\d{2}\\.(\\d{4})\\.\\d\\.\\d{2}\\.\\d{4}')"
      ]
    },
    {
      "cell_type": "code",
      "execution_count": null,
      "metadata": {
        "id": "q0NGldX73IUL"
      },
      "outputs": [],
      "source": [
        "dados_gol_novos = dados_gol_novos.dropna(subset = ['num_proc_ano'], axis=0)\n",
        "dados_gol_novos = dados_gol_novos.reset_index(drop=True)"
      ]
    },
    {
      "cell_type": "code",
      "execution_count": null,
      "metadata": {
        "id": "nfBsUT013IUL"
      },
      "outputs": [],
      "source": [
        "dados_gol_novos.num_proc_ano = pd.to_numeric(dados_gol_novos.num_proc_ano).astype(int)"
      ]
    },
    {
      "cell_type": "code",
      "execution_count": null,
      "metadata": {
        "id": "WRM0oEEGnoy4",
        "outputId": "d6526440-92c9-49b4-fa0b-ab1b6bd8aa07"
      },
      "outputs": [
        {
          "data": {
            "text/plain": [
              "array([2022, 2021, 2020, 2019])"
            ]
          },
          "execution_count": 141,
          "metadata": {},
          "output_type": "execute_result"
        }
      ],
      "source": [
        "dados_gol_novos.num_proc_ano.unique()"
      ]
    },
    {
      "cell_type": "code",
      "execution_count": null,
      "metadata": {
        "id": "unVE8ZCB2dvD"
      },
      "outputs": [],
      "source": [
        "dados_gol_novos = dados_gol_novos[dados_gol_novos.num_proc_ano.isin([2019,2020,2021,2022,2023])]"
      ]
    },
    {
      "cell_type": "code",
      "execution_count": null,
      "metadata": {
        "id": "XWaJ10gBejWI"
      },
      "outputs": [],
      "source": [
        "dados_gol_novos.numero_processo = dados_gol_novos.numero_processo.replace(pd.NA,'0')\n",
        "dados_gol_novos['numero_processo_regex'] = dados_gol_novos.numero_processo. \\\n",
        "      str.replace(r'[\\-\\\\.\\\\\" \"]', '', regex=True).str.slice(0,20)"
      ]
    },
    {
      "cell_type": "markdown",
      "metadata": {
        "id": "45sVtFIUksfS",
        "jp-MarkdownHeadingCollapsed": true
      },
      "source": [
        "##### Ajustando os dados"
      ]
    },
    {
      "cell_type": "code",
      "execution_count": null,
      "metadata": {
        "id": "4yUjcp9Q1o8j"
      },
      "outputs": [],
      "source": [
        "dados_gol_novos = transforma_df(dados_gol_novos)"
      ]
    },
    {
      "cell_type": "code",
      "execution_count": null,
      "metadata": {
        "id": "aANR4jsg1xwt",
        "outputId": "bfb779d8-cefa-43f1-b678-3d631d177158"
      },
      "outputs": [
        {
          "name": "stdout",
          "output_type": "stream",
          "text": [
            "['Gol' 'Não informado']\n",
            "['\\xa007.575.651/0001-59\\xa0' '07.575.651/0001-59 ; 05.730.375/0001-20'\n",
            " '05.730.375/0001-20' '06.164.253/0001-87\\xa0' 'Não informado' '-'\n",
            " '07.575.651/0001-59' '06.164.253/001-87' '04.020.028/0001-41'\n",
            " '06.164.253/0001-87']\n",
            "['RJ' 'MG' 'AM' 'PE' 'BA' 'SP' 'TO' 'PR' 'CE' 'DF' 'MT' 'ES' 'GO' 'MS'\n",
            " 'SC' 'RO']\n",
            "['Juizado Especial Cível' 'Vara Cível' 'Outros' 'Não informado']\n",
            "['Doméstico' 'Não informado']\n",
            "['Condenação' 'Decisão favorável à aérea (improcedência)' 'Outros'\n",
            " 'Extinção sem julgamento do mérito' 'Acordo' 'Não informado']\n",
            "['1ª Instância' '2ª Instância' 'Não informado']\n",
            "[2022 2021 2020 2019]\n"
          ]
        }
      ],
      "source": [
        "print(dados_gol_novos.empresa_re.unique())\n",
        "print(dados_gol_novos.cnpj_re.unique())\n",
        "print(dados_gol_novos.UF.unique())\n",
        "print(dados_gol_novos.jurisdicao.unique())\n",
        "print(dados_gol_novos.operacao.unique())\n",
        "print(dados_gol_novos.situacao_processual_sentenca.unique())\n",
        "print(dados_gol_novos.instancia.unique())\n",
        "print(dados_gol_novos.num_proc_ano.unique())"
      ]
    },
    {
      "cell_type": "code",
      "execution_count": null,
      "metadata": {
        "id": "96LSKW7u1Y3U",
        "outputId": "591fe13f-f32f-41a0-ede7-b2b1e4057d7a"
      },
      "outputs": [
        {
          "name": "stdout",
          "output_type": "stream",
          "text": [
            "<class 'pandas.core.frame.DataFrame'>\n",
            "RangeIndex: 14708 entries, 0 to 14707\n",
            "Data columns (total 36 columns):\n",
            " #   Column                        Non-Null Count  Dtype  \n",
            "---  ------                        --------------  -----  \n",
            " 0   empresa_re                    14708 non-null  object \n",
            " 1   numero_processo               14708 non-null  object \n",
            " 2   cnpj_re                       14708 non-null  object \n",
            " 3   data_distribuicao             14708 non-null  object \n",
            " 4   UF                            14708 non-null  object \n",
            " 5   jurisdicao                    14708 non-null  object \n",
            " 6   obj_principal                 14708 non-null  object \n",
            " 7   subobj_principal              14708 non-null  object \n",
            " 8   valor_pedido_inicial          14708 non-null  float64\n",
            " 9   n_autores                     14708 non-null  int32  \n",
            " 10  data_voo                      14708 non-null  object \n",
            " 11  operacao                      14708 non-null  object \n",
            " 12  causa_alegada                 14708 non-null  object \n",
            " 13  situacao_processual           14708 non-null  object \n",
            " 14  instancia                     14708 non-null  object \n",
            " 15  resultado_decisao_sentenca    14708 non-null  object \n",
            " 16  data_sentenca                 14708 non-null  object \n",
            " 17  valor_dano_moral              14708 non-null  float64\n",
            " 18  valor_dano_material           14708 non-null  float64\n",
            " 19  valor_total_condenacao        14708 non-null  float64\n",
            " 20  data_acordao                  14708 non-null  object \n",
            " 21  valor_pago                    14708 non-null  float64\n",
            " 22  num_proc_ano                  14708 non-null  int32  \n",
            " 23  numero_processo_regex         14708 non-null  object \n",
            " 24  obj_problemas_operacionais    14708 non-null  bool   \n",
            " 25  obj_bagagem                   14708 non-null  bool   \n",
            " 26  obj_contrato                  14708 non-null  bool   \n",
            " 27  obj_outros                    14708 non-null  bool   \n",
            " 28  causa_nao_informado           14708 non-null  bool   \n",
            " 29  causa_forca_maior             14708 non-null  bool   \n",
            " 30  causa_fortuitos               14708 non-null  bool   \n",
            " 31  causa_terceiros               14708 non-null  bool   \n",
            " 32  causa_cliente                 14708 non-null  bool   \n",
            " 33  causa_aerea                   14708 non-null  bool   \n",
            " 34  causa_outros                  14708 non-null  bool   \n",
            " 35  situacao_processual_sentenca  14708 non-null  object \n",
            "dtypes: bool(11), float64(5), int32(2), object(18)\n",
            "memory usage: 2.8+ MB\n"
          ]
        }
      ],
      "source": [
        "dados_gol_novos.info()"
      ]
    },
    {
      "cell_type": "code",
      "execution_count": null,
      "metadata": {
        "id": "tUmn7EBYdYFY"
      },
      "outputs": [],
      "source": [
        "dados_gol_novos.to_csv('./GOL/final/ajust_dados_gol_novos.csv',index=False)"
      ]
    },
    {
      "cell_type": "markdown",
      "metadata": {
        "id": "mVMeeBIB44bo",
        "jp-MarkdownHeadingCollapsed": true
      },
      "source": [
        "#### Dados novos de 2023"
      ]
    },
    {
      "cell_type": "markdown",
      "metadata": {
        "id": "CznxVU0Xdedo",
        "jp-MarkdownHeadingCollapsed": true
      },
      "source": [
        "##### Importando os dados"
      ]
    },
    {
      "cell_type": "code",
      "execution_count": null,
      "metadata": {
        "id": "Yo8OFDXckrWg",
        "outputId": "8d26b640-b2a1-4079-cc74-350358066def"
      },
      "outputs": [
        {
          "data": {
            "text/plain": [
              "(4310, 22)"
            ]
          },
          "execution_count": 151,
          "metadata": {},
          "output_type": "execute_result"
        }
      ],
      "source": [
        "dados_gol_2023_abiackel = pd.read_csv('./GOL/ABIACKEL - Estudo AMB - UnB - BASE 2023_Atualizado.csv',\n",
        "                             delimiter=';', low_memory=False)\n",
        "\n",
        "dados_gol_2023_abiackel = dados_gol_2023_abiackel.drop(columns=['Comarca'])\n",
        "\n",
        "dados_gol_2023_abiackel.columns = ['empresa_re', 'numero_processo', 'cnpj_re', 'data_distribuicao',\n",
        "       'UF', 'jurisdicao', 'obj_principal', 'subobj_principal',\n",
        "       'valor_pedido_inicial', 'n_autores', 'data_voo',\n",
        "       'operacao','causa_alegada', 'situacao_processual', 'instancia',\n",
        "       'resultado_decisao_sentenca', 'data_sentenca', 'valor_dano_moral',\n",
        "       'valor_dano_material', 'valor_total_condenacao', 'data_acordao', 'valor_pago']\n",
        "\n",
        "dados_gol_2023_abiackel = dados_gol_2023_abiackel [[\n",
        "    'empresa_re', 'numero_processo', 'cnpj_re', 'data_distribuicao', 'UF',\n",
        "       'jurisdicao', 'obj_principal', 'subobj_principal',\n",
        "       'valor_pedido_inicial', 'n_autores', 'data_voo', 'operacao',\n",
        "       'causa_alegada', 'situacao_processual', 'instancia',\n",
        "       'resultado_decisao_sentenca', 'data_sentenca', 'valor_dano_moral',\n",
        "       'valor_dano_material', 'valor_total_condenacao', 'data_acordao',\n",
        "       'valor_pago']]\n",
        "\n",
        "dados_gol_2023_abiackel.shape"
      ]
    },
    {
      "cell_type": "code",
      "execution_count": null,
      "metadata": {
        "id": "ZtWswDAo_DHC",
        "outputId": "25d7ffe1-6313-4589-da8f-5bbc8b3744e8"
      },
      "outputs": [
        {
          "data": {
            "text/plain": [
              "(1057, 22)"
            ]
          },
          "execution_count": 152,
          "metadata": {},
          "output_type": "execute_result"
        }
      ],
      "source": [
        "dados_gol_2023_AM = pd.read_csv('./GOL/Dados AM - Estudo AMB - UnB - BASE 2023.csv',\n",
        "                             delimiter=';', low_memory=False)\n",
        "\n",
        "dados_gol_2023_AM = dados_gol_2023_AM.drop(columns=['COMARCA'])\n",
        "\n",
        "dados_gol_2023_AM.columns = ['empresa_re', 'numero_processo', 'cnpj_re', 'data_distribuicao',\n",
        "       'UF', 'jurisdicao', 'obj_principal', 'subobj_principal',\n",
        "       'valor_pedido_inicial', 'n_autores', 'data_voo',\n",
        "       'operacao','causa_alegada', 'situacao_processual', 'instancia',\n",
        "       'resultado_decisao_sentenca', 'data_sentenca', 'valor_dano_moral',\n",
        "       'valor_dano_material', 'valor_total_condenacao', 'data_acordao']\n",
        "\n",
        "dados_gol_2023_AM['valor_pago'] = ['']*dados_gol_2023_AM.shape[0]\n",
        "\n",
        "dados_gol_2023_AM.n_autores = list(dados_gol_2023_AM.n_autores.str.count('/') + 1)\n",
        "\n",
        "dados_gol_2023_AM = dados_gol_2023_AM [[\n",
        "    'empresa_re', 'numero_processo', 'cnpj_re', 'data_distribuicao', 'UF',\n",
        "       'jurisdicao', 'obj_principal', 'subobj_principal',\n",
        "       'valor_pedido_inicial', 'n_autores', 'data_voo', 'operacao',\n",
        "       'causa_alegada', 'situacao_processual', 'instancia',\n",
        "       'resultado_decisao_sentenca', 'data_sentenca', 'valor_dano_moral',\n",
        "       'valor_dano_material', 'valor_total_condenacao', 'data_acordao',\n",
        "       'valor_pago']]\n",
        "\n",
        "dados_gol_2023_AM.shape"
      ]
    },
    {
      "cell_type": "code",
      "execution_count": null,
      "metadata": {
        "id": "EgWorSzu_DcM",
        "outputId": "e21e1474-9090-47b6-a5bd-fdcb5f5354cc"
      },
      "outputs": [
        {
          "data": {
            "text/plain": [
              "(4845, 22)"
            ]
          },
          "execution_count": 153,
          "metadata": {},
          "output_type": "execute_result"
        }
      ],
      "source": [
        "dados_gol_2023_BA = pd.read_csv('./GOL/Dados BA - Estudo AMB - UnB - BASE 2023.csv',\n",
        "                             delimiter=';', low_memory=False)\n",
        "\n",
        "dados_gol_2023_BA = dados_gol_2023_BA.drop(columns=['COMARCA'])\n",
        "dados_gol_2023_BA.columns = ['empresa_re', 'numero_processo', 'cnpj_re', 'data_distribuicao',\n",
        "       'UF', 'jurisdicao', 'obj_principal', 'subobj_principal',\n",
        "       'valor_pedido_inicial', 'n_autores', 'data_voo',\n",
        "       'operacao','causa_alegada', 'situacao_processual', 'instancia',\n",
        "       'resultado_decisao_sentenca', 'data_sentenca', 'valor_dano_moral',\n",
        "       'valor_dano_material', 'valor_total_condenacao', 'data_acordao']\n",
        "\n",
        "dados_gol_2023_BA['valor_pago'] = ['']*dados_gol_2023_BA.shape[0]\n",
        "\n",
        "dados_gol_2023_BA.n_autores = list(dados_gol_2023_BA.n_autores.str.count('/') + 1)\n",
        "\n",
        "dados_gol_2023_BA = dados_gol_2023_BA [[\n",
        "    'empresa_re', 'numero_processo', 'cnpj_re', 'data_distribuicao', 'UF',\n",
        "       'jurisdicao', 'obj_principal', 'subobj_principal',\n",
        "       'valor_pedido_inicial', 'n_autores', 'data_voo', 'operacao',\n",
        "       'causa_alegada', 'situacao_processual', 'instancia',\n",
        "       'resultado_decisao_sentenca', 'data_sentenca', 'valor_dano_moral',\n",
        "       'valor_dano_material', 'valor_total_condenacao', 'data_acordao',\n",
        "       'valor_pago']]\n",
        "\n",
        "dados_gol_2023_BA.shape"
      ]
    },
    {
      "cell_type": "code",
      "execution_count": null,
      "metadata": {
        "id": "gf-CmplyDLnK",
        "outputId": "749db7b1-0ed8-416b-bf44-324ed533c7a9"
      },
      "outputs": [
        {
          "data": {
            "text/plain": [
              "(1055, 22)"
            ]
          },
          "execution_count": 154,
          "metadata": {},
          "output_type": "execute_result"
        }
      ],
      "source": [
        "dados_gol_2023_CE = pd.read_csv('./GOL/Dados CE - Estudo AMB - UnB - BASE 2023.csv',\n",
        "                             delimiter=';', low_memory=False)\n",
        "\n",
        "dados_gol_2023_CE = dados_gol_2023_CE.drop(columns=['COMARCA'])\n",
        "dados_gol_2023_CE.columns = ['empresa_re', 'numero_processo', 'cnpj_re', 'data_distribuicao',\n",
        "       'UF', 'jurisdicao', 'obj_principal', 'subobj_principal',\n",
        "       'valor_pedido_inicial', 'n_autores', 'data_voo',\n",
        "       'operacao','causa_alegada', 'situacao_processual', 'instancia',\n",
        "       'resultado_decisao_sentenca', 'data_sentenca', 'valor_dano_moral',\n",
        "       'valor_dano_material', 'valor_total_condenacao', 'data_acordao']\n",
        "\n",
        "dados_gol_2023_CE['valor_pago'] = ['']*dados_gol_2023_CE.shape[0]\n",
        "\n",
        "dados_gol_2023_CE.n_autores = list(dados_gol_2023_CE.n_autores.str.count('/') + 1)\n",
        "\n",
        "dados_gol_2023_CE = dados_gol_2023_CE [[\n",
        "    'empresa_re', 'numero_processo', 'cnpj_re', 'data_distribuicao', 'UF',\n",
        "       'jurisdicao', 'obj_principal', 'subobj_principal',\n",
        "       'valor_pedido_inicial', 'n_autores', 'data_voo', 'operacao',\n",
        "       'causa_alegada', 'situacao_processual', 'instancia',\n",
        "       'resultado_decisao_sentenca', 'data_sentenca', 'valor_dano_moral',\n",
        "       'valor_dano_material', 'valor_total_condenacao', 'data_acordao',\n",
        "       'valor_pago']]\n",
        "\n",
        "dados_gol_2023_CE.shape"
      ]
    },
    {
      "cell_type": "code",
      "execution_count": null,
      "metadata": {
        "id": "0h2IWdPxDN1O",
        "outputId": "48cf7a12-5dfb-4be5-8b4f-341c02ffef6f"
      },
      "outputs": [
        {
          "data": {
            "text/plain": [
              "(859, 22)"
            ]
          },
          "execution_count": 155,
          "metadata": {},
          "output_type": "execute_result"
        }
      ],
      "source": [
        "dados_gol_2023_DF = pd.read_csv('./GOL/Dados DF - Estudo AMB - UnB - BASE 2023.csv',\n",
        "                             delimiter=';', low_memory=False)\n",
        "\n",
        "dados_gol_2023_DF = dados_gol_2023_DF.drop(columns=['COMARCA'])\n",
        "\n",
        "dados_gol_2023_DF.columns = ['empresa_re', 'numero_processo', 'cnpj_re', 'data_distribuicao',\n",
        "       'UF', 'jurisdicao', 'obj_principal', 'subobj_principal',\n",
        "       'valor_pedido_inicial', 'n_autores', 'data_voo',\n",
        "       'operacao','causa_alegada', 'situacao_processual', 'instancia',\n",
        "       'resultado_decisao_sentenca', 'data_sentenca', 'valor_dano_moral',\n",
        "       'valor_dano_material', 'valor_total_condenacao', 'data_acordao']\n",
        "\n",
        "dados_gol_2023_DF['valor_pago'] = ['']*dados_gol_2023_DF.shape[0]\n",
        "\n",
        "dados_gol_2023_DF.n_autores = list(dados_gol_2023_DF.n_autores.str.count('/') + 1)\n",
        "\n",
        "dados_gol_2023_DF = dados_gol_2023_DF [[\n",
        "    'empresa_re', 'numero_processo', 'cnpj_re', 'data_distribuicao', 'UF',\n",
        "       'jurisdicao', 'obj_principal', 'subobj_principal',\n",
        "       'valor_pedido_inicial', 'n_autores', 'data_voo', 'operacao',\n",
        "       'causa_alegada', 'situacao_processual', 'instancia',\n",
        "       'resultado_decisao_sentenca', 'data_sentenca', 'valor_dano_moral',\n",
        "       'valor_dano_material', 'valor_total_condenacao', 'data_acordao',\n",
        "       'valor_pago']]\n",
        "\n",
        "dados_gol_2023_DF.shape"
      ]
    },
    {
      "cell_type": "code",
      "execution_count": null,
      "metadata": {
        "id": "XdHfcyo8DN1P",
        "outputId": "55640164-1776-4035-bde6-7d578da5a30c"
      },
      "outputs": [
        {
          "data": {
            "text/plain": [
              "(586, 22)"
            ]
          },
          "execution_count": 156,
          "metadata": {},
          "output_type": "execute_result"
        }
      ],
      "source": [
        "dados_gol_2023_ES = pd.read_csv('./GOL/Dados ES - Estudo AMB - UnB - BASE 2023.csv',\n",
        "                             delimiter=';', low_memory=False)\n",
        "\n",
        "dados_gol_2023_ES = dados_gol_2023_ES.drop(columns=['COMARCA'])\n",
        "dados_gol_2023_ES.columns = ['empresa_re', 'numero_processo', 'cnpj_re', 'data_distribuicao',\n",
        "       'UF', 'jurisdicao', 'obj_principal', 'subobj_principal',\n",
        "       'valor_pedido_inicial', 'n_autores', 'data_voo',\n",
        "       'operacao','causa_alegada', 'situacao_processual', 'instancia',\n",
        "       'resultado_decisao_sentenca', 'data_sentenca', 'valor_dano_moral',\n",
        "       'valor_dano_material', 'valor_total_condenacao', 'data_acordao']\n",
        "\n",
        "dados_gol_2023_ES['valor_pago'] = ['']*dados_gol_2023_ES.shape[0]\n",
        "\n",
        "dados_gol_2023_ES.n_autores = list(dados_gol_2023_ES.n_autores.str.count('/') + 1)\n",
        "\n",
        "dados_gol_2023_ES = dados_gol_2023_ES [[\n",
        "    'empresa_re', 'numero_processo', 'cnpj_re', 'data_distribuicao', 'UF',\n",
        "       'jurisdicao', 'obj_principal', 'subobj_principal',\n",
        "       'valor_pedido_inicial', 'n_autores', 'data_voo', 'operacao',\n",
        "       'causa_alegada', 'situacao_processual', 'instancia',\n",
        "       'resultado_decisao_sentenca', 'data_sentenca', 'valor_dano_moral',\n",
        "       'valor_dano_material', 'valor_total_condenacao', 'data_acordao',\n",
        "       'valor_pago']]\n",
        "\n",
        "dados_gol_2023_ES.shape"
      ]
    },
    {
      "cell_type": "code",
      "execution_count": null,
      "metadata": {
        "id": "nQTQPVT6DN1P",
        "outputId": "a8e07d5e-8c8e-43ed-9764-ce527b0b0821"
      },
      "outputs": [
        {
          "data": {
            "text/plain": [
              "(1215, 22)"
            ]
          },
          "execution_count": 157,
          "metadata": {},
          "output_type": "execute_result"
        }
      ],
      "source": [
        "dados_gol_2023_GO = pd.read_csv('./GOL/Dados GO - Estudo AMB - UnB - BASE 2023.csv',\n",
        "                             delimiter=';', low_memory=False)\n",
        "\n",
        "dados_gol_2023_GO = dados_gol_2023_GO.drop(columns=['COMARCA'])\n",
        "\n",
        "dados_gol_2023_GO.columns = ['empresa_re', 'numero_processo', 'cnpj_re', 'data_distribuicao',\n",
        "       'UF', 'jurisdicao', 'obj_principal', 'subobj_principal',\n",
        "       'valor_pedido_inicial', 'n_autores', 'data_voo',\n",
        "       'operacao','causa_alegada', 'situacao_processual', 'instancia',\n",
        "       'resultado_decisao_sentenca', 'data_sentenca', 'valor_dano_moral',\n",
        "       'valor_dano_material', 'valor_total_condenacao', 'data_acordao']\n",
        "\n",
        "dados_gol_2023_GO['valor_pago'] = ['']*dados_gol_2023_GO.shape[0]\n",
        "\n",
        "dados_gol_2023_GO.n_autores = list(dados_gol_2023_GO.n_autores.str.count('/') + 1)\n",
        "\n",
        "dados_gol_2023_GO = dados_gol_2023_GO [[\n",
        "    'empresa_re', 'numero_processo', 'cnpj_re', 'data_distribuicao', 'UF',\n",
        "       'jurisdicao', 'obj_principal', 'subobj_principal',\n",
        "       'valor_pedido_inicial', 'n_autores', 'data_voo', 'operacao',\n",
        "       'causa_alegada', 'situacao_processual', 'instancia',\n",
        "       'resultado_decisao_sentenca', 'data_sentenca', 'valor_dano_moral',\n",
        "       'valor_dano_material', 'valor_total_condenacao', 'data_acordao',\n",
        "       'valor_pago']]\n",
        "\n",
        "dados_gol_2023_GO.shape"
      ]
    },
    {
      "cell_type": "code",
      "execution_count": null,
      "metadata": {
        "id": "ZSPGDo40DN1P",
        "outputId": "87b4996c-92e7-42e3-896b-f231d61aee7f"
      },
      "outputs": [
        {
          "data": {
            "text/plain": [
              "(80, 22)"
            ]
          },
          "execution_count": 158,
          "metadata": {},
          "output_type": "execute_result"
        }
      ],
      "source": [
        "dados_gol_2023_MG = pd.read_csv('./GOL/Dados MG - Estudo AMB - UnB - BASE 2023.csv',\n",
        "                             delimiter=';', low_memory=False)\n",
        "\n",
        "dados_gol_2023_MG = dados_gol_2023_MG.drop(columns=['COMARCA'])\n",
        "\n",
        "dados_gol_2023_MG.columns = ['empresa_re', 'numero_processo', 'cnpj_re', 'data_distribuicao',\n",
        "       'UF', 'jurisdicao', 'obj_principal', 'subobj_principal',\n",
        "       'valor_pedido_inicial', 'n_autores', 'data_voo',\n",
        "       'operacao','causa_alegada', 'situacao_processual', 'instancia',\n",
        "       'resultado_decisao_sentenca', 'data_sentenca', 'valor_dano_moral',\n",
        "       'valor_dano_material', 'valor_total_condenacao', 'data_acordao'\n",
        "]\n",
        "\n",
        "dados_gol_2023_MG['valor_pago'] = ['']*dados_gol_2023_MG.shape[0]\n",
        "\n",
        "dados_gol_2023_MG.n_autores = list(dados_gol_2023_MG.n_autores.str.count('/') + 1)\n",
        "\n",
        "dados_gol_2023_MG = dados_gol_2023_MG [[\n",
        "    'empresa_re', 'numero_processo', 'cnpj_re', 'data_distribuicao', 'UF',\n",
        "       'jurisdicao', 'obj_principal', 'subobj_principal',\n",
        "       'valor_pedido_inicial', 'n_autores', 'data_voo', 'operacao',\n",
        "       'causa_alegada', 'situacao_processual', 'instancia',\n",
        "       'resultado_decisao_sentenca', 'data_sentenca', 'valor_dano_moral',\n",
        "       'valor_dano_material', 'valor_total_condenacao', 'data_acordao',\n",
        "       'valor_pago']]\n",
        "\n",
        "dados_gol_2023_MG.shape"
      ]
    },
    {
      "cell_type": "code",
      "execution_count": null,
      "metadata": {
        "id": "VrJ14PDFDN1Q",
        "outputId": "dcda4276-8292-42a7-c65b-47e4e0a37d34"
      },
      "outputs": [
        {
          "data": {
            "text/plain": [
              "(422, 22)"
            ]
          },
          "execution_count": 159,
          "metadata": {},
          "output_type": "execute_result"
        }
      ],
      "source": [
        "dados_gol_2023_MS = pd.read_csv('./GOL/Dados MS - Estudo AMB - UnB - BASE 2023.csv',\n",
        "                             delimiter=';', low_memory=False)\n",
        "\n",
        "dados_gol_2023_MS = dados_gol_2023_MS.drop(columns=['COMARCA'])\n",
        "\n",
        "dados_gol_2023_MS.columns = ['empresa_re', 'numero_processo', 'cnpj_re', 'data_distribuicao',\n",
        "       'UF', 'jurisdicao', 'obj_principal', 'subobj_principal',\n",
        "       'valor_pedido_inicial', 'n_autores', 'data_voo',\n",
        "       'operacao','causa_alegada', 'situacao_processual', 'instancia',\n",
        "       'resultado_decisao_sentenca', 'data_sentenca', 'valor_dano_moral',\n",
        "       'valor_dano_material', 'valor_total_condenacao', 'data_acordao']\n",
        "\n",
        "dados_gol_2023_MS['valor_pago'] = ['']*dados_gol_2023_MS.shape[0]\n",
        "\n",
        "dados_gol_2023_MS.n_autores = list(dados_gol_2023_MS.n_autores.str.count('/') + 1)\n",
        "\n",
        "dados_gol_2023_MS = dados_gol_2023_MS [[\n",
        "    'empresa_re', 'numero_processo', 'cnpj_re', 'data_distribuicao', 'UF',\n",
        "       'jurisdicao', 'obj_principal', 'subobj_principal',\n",
        "       'valor_pedido_inicial', 'n_autores', 'data_voo', 'operacao',\n",
        "       'causa_alegada', 'situacao_processual', 'instancia',\n",
        "       'resultado_decisao_sentenca', 'data_sentenca', 'valor_dano_moral',\n",
        "       'valor_dano_material', 'valor_total_condenacao', 'data_acordao',\n",
        "       'valor_pago']]\n",
        "\n",
        "dados_gol_2023_MS.shape"
      ]
    },
    {
      "cell_type": "code",
      "execution_count": null,
      "metadata": {
        "id": "CaV9HNIX_DcN",
        "outputId": "7062c7b7-2532-44d6-e8f4-e3685b1c6a55"
      },
      "outputs": [
        {
          "data": {
            "text/plain": [
              "(1020, 22)"
            ]
          },
          "execution_count": 160,
          "metadata": {},
          "output_type": "execute_result"
        }
      ],
      "source": [
        "dados_gol_2023_PE = pd.read_csv('./GOL/Dados PE - Estudo AMB - UnB - BASE 2023.csv',\n",
        "                             delimiter=';', low_memory=False)\n",
        "\n",
        "dados_gol_2023_PE = dados_gol_2023_PE.drop(columns=['COMARCA'])\n",
        "\n",
        "dados_gol_2023_PE.columns = ['empresa_re', 'numero_processo', 'cnpj_re', 'data_distribuicao',\n",
        "       'UF', 'jurisdicao', 'obj_principal', 'subobj_principal',\n",
        "       'valor_pedido_inicial', 'n_autores', 'data_voo',\n",
        "       'operacao','causa_alegada', 'situacao_processual', 'instancia',\n",
        "       'resultado_decisao_sentenca', 'data_sentenca', 'valor_dano_moral',\n",
        "       'valor_dano_material', 'valor_total_condenacao', 'data_acordao']\n",
        "\n",
        "dados_gol_2023_PE['valor_pago'] = ['']*dados_gol_2023_PE.shape[0]\n",
        "\n",
        "dados_gol_2023_PE.n_autores = list(dados_gol_2023_PE.n_autores.str.count('/') + 1)\n",
        "\n",
        "dados_gol_2023_PE = dados_gol_2023_PE [[\n",
        "    'empresa_re', 'numero_processo', 'cnpj_re', 'data_distribuicao', 'UF',\n",
        "       'jurisdicao', 'obj_principal', 'subobj_principal',\n",
        "       'valor_pedido_inicial', 'n_autores', 'data_voo', 'operacao',\n",
        "       'causa_alegada', 'situacao_processual', 'instancia',\n",
        "       'resultado_decisao_sentenca', 'data_sentenca', 'valor_dano_moral',\n",
        "       'valor_dano_material', 'valor_total_condenacao', 'data_acordao',\n",
        "       'valor_pago']]\n",
        "\n",
        "dados_gol_2023_PE.shape"
      ]
    },
    {
      "cell_type": "code",
      "execution_count": null,
      "metadata": {
        "id": "qf1FDg3aDFS0",
        "outputId": "be1b4a38-4377-45c7-b2cc-807ebb35d153"
      },
      "outputs": [
        {
          "data": {
            "text/plain": [
              "(1604, 22)"
            ]
          },
          "execution_count": 161,
          "metadata": {},
          "output_type": "execute_result"
        }
      ],
      "source": [
        "dados_gol_2023_PR = pd.read_csv('./GOL/Dados PR - Estudo AMB - UnB - BASE 2023.csv',\n",
        "                             delimiter=';', low_memory=False)\n",
        "\n",
        "dados_gol_2023_PR = dados_gol_2023_PR.drop(columns=['COMARCA'])\n",
        "\n",
        "dados_gol_2023_PR.columns = ['empresa_re', 'numero_processo', 'cnpj_re', 'data_distribuicao',\n",
        "       'UF', 'jurisdicao', 'obj_principal', 'subobj_principal',\n",
        "       'valor_pedido_inicial', 'n_autores', 'data_voo',\n",
        "       'operacao','causa_alegada', 'situacao_processual', 'instancia',\n",
        "       'resultado_decisao_sentenca', 'data_sentenca', 'valor_dano_moral',\n",
        "       'valor_dano_material', 'valor_total_condenacao', 'data_acordao']\n",
        "\n",
        "dados_gol_2023_PR['valor_pago'] = ['']*dados_gol_2023_PR.shape[0]\n",
        "\n",
        "dados_gol_2023_PR.n_autores = list(dados_gol_2023_PR.n_autores.str.count('/') + 1)\n",
        "\n",
        "dados_gol_2023_PR = dados_gol_2023_PR [[\n",
        "    'empresa_re', 'numero_processo', 'cnpj_re', 'data_distribuicao', 'UF',\n",
        "       'jurisdicao', 'obj_principal', 'subobj_principal',\n",
        "       'valor_pedido_inicial', 'n_autores', 'data_voo', 'operacao',\n",
        "       'causa_alegada', 'situacao_processual', 'instancia',\n",
        "       'resultado_decisao_sentenca', 'data_sentenca', 'valor_dano_moral',\n",
        "       'valor_dano_material', 'valor_total_condenacao', 'data_acordao',\n",
        "       'valor_pago']]\n",
        "\n",
        "dados_gol_2023_PR.shape"
      ]
    },
    {
      "cell_type": "code",
      "execution_count": null,
      "metadata": {
        "id": "7phJbjK5DFHS",
        "outputId": "a51aaea8-e1bd-41cc-9b34-cbdfc9724269"
      },
      "outputs": [
        {
          "data": {
            "text/plain": [
              "(5131, 22)"
            ]
          },
          "execution_count": 162,
          "metadata": {},
          "output_type": "execute_result"
        }
      ],
      "source": [
        "dados_gol_2023_RJ = pd.read_csv('./GOL/Dados RJ - Estudo AMB - UnB - BASE 2023.csv',\n",
        "                             delimiter=';', low_memory=False)\n",
        "\n",
        "dados_gol_2023_RJ = dados_gol_2023_RJ.drop(columns=['Comarca', 'Nome Órgão'])\n",
        "\n",
        "dados_gol_2023_RJ.columns = ['empresa_re', 'numero_processo', 'cnpj_re',\n",
        "       'UF', 'jurisdicao', 'obj_principal', 'subobj_principal',\n",
        "       'valor_pedido_inicial', 'n_autores', 'data_voo','data_distribuicao',\n",
        "       'operacao','causa_alegada', 'situacao_processual', 'instancia',\n",
        "       'resultado_decisao_sentenca', 'data_sentenca', 'valor_dano_moral',\n",
        "       'valor_dano_material', 'valor_total_condenacao', 'data_acordao']\n",
        "\n",
        "dados_gol_2023_RJ['valor_pago'] = ['']*dados_gol_2023_RJ.shape[0]\n",
        "\n",
        "dados_gol_2023_RJ = dados_gol_2023_RJ [[\n",
        "    'empresa_re', 'numero_processo', 'cnpj_re', 'data_distribuicao', 'UF',\n",
        "       'jurisdicao', 'obj_principal', 'subobj_principal',\n",
        "       'valor_pedido_inicial', 'n_autores', 'data_voo', 'operacao',\n",
        "       'causa_alegada', 'situacao_processual', 'instancia',\n",
        "       'resultado_decisao_sentenca', 'data_sentenca', 'valor_dano_moral',\n",
        "       'valor_dano_material', 'valor_total_condenacao', 'data_acordao',\n",
        "       'valor_pago']]\n",
        "\n",
        "dados_gol_2023_RJ.shape"
      ]
    },
    {
      "cell_type": "code",
      "execution_count": null,
      "metadata": {
        "id": "QAI7d1rnDE45",
        "outputId": "2ead0b46-ce9f-44cb-92f3-1da18154ff43"
      },
      "outputs": [
        {
          "data": {
            "text/plain": [
              "(1877, 22)"
            ]
          },
          "execution_count": 163,
          "metadata": {},
          "output_type": "execute_result"
        }
      ],
      "source": [
        "dados_gol_2023_RO = pd.read_csv('./GOL/Dados RO - Estudo AMB - UnB - BASE 2023.csv',\n",
        "                             delimiter=';', low_memory=False)\n",
        "\n",
        "dados_gol_2023_RO = dados_gol_2023_RO.drop(columns=['COMARCA'])\n",
        "dados_gol_2023_RO.columns = ['empresa_re', 'numero_processo', 'cnpj_re', 'data_distribuicao',\n",
        "       'UF', 'jurisdicao', 'obj_principal', 'subobj_principal',\n",
        "       'valor_pedido_inicial', 'n_autores', 'data_voo',\n",
        "       'operacao','causa_alegada', 'situacao_processual', 'instancia',\n",
        "       'resultado_decisao_sentenca', 'data_sentenca', 'valor_dano_moral',\n",
        "       'valor_dano_material', 'valor_total_condenacao', 'data_acordao']\n",
        "\n",
        "dados_gol_2023_RO['valor_pago'] = ['']*dados_gol_2023_RO.shape[0]\n",
        "\n",
        "dados_gol_2023_RO.n_autores = list(dados_gol_2023_RO.n_autores.str.count('/') + 1)\n",
        "\n",
        "dados_gol_2023_RO = dados_gol_2023_RO [[\n",
        "    'empresa_re', 'numero_processo', 'cnpj_re', 'data_distribuicao', 'UF',\n",
        "       'jurisdicao', 'obj_principal', 'subobj_principal',\n",
        "       'valor_pedido_inicial', 'n_autores', 'data_voo', 'operacao',\n",
        "       'causa_alegada', 'situacao_processual', 'instancia',\n",
        "       'resultado_decisao_sentenca', 'data_sentenca', 'valor_dano_moral',\n",
        "       'valor_dano_material', 'valor_total_condenacao', 'data_acordao',\n",
        "       'valor_pago']]\n",
        "\n",
        "dados_gol_2023_RO.shape"
      ]
    },
    {
      "cell_type": "code",
      "execution_count": null,
      "metadata": {
        "id": "zSGH_dkQDQM6",
        "outputId": "124cb027-c251-41dd-9f23-f9e1fecd3768"
      },
      "outputs": [
        {
          "data": {
            "text/plain": [
              "(1348, 22)"
            ]
          },
          "execution_count": 164,
          "metadata": {},
          "output_type": "execute_result"
        }
      ],
      "source": [
        "dados_gol_2023_SC = pd.read_csv('./GOL/Dados SC - Estudo AMB - UnB - BASE 2023.csv',\n",
        "                             delimiter=';', low_memory=False)\n",
        "\n",
        "dados_gol_2023_SC = dados_gol_2023_SC.drop(columns=['COMARCA'])\n",
        "\n",
        "dados_gol_2023_SC.columns = ['empresa_re', 'numero_processo', 'cnpj_re', 'data_distribuicao',\n",
        "       'UF', 'jurisdicao', 'obj_principal', 'subobj_principal',\n",
        "       'valor_pedido_inicial', 'n_autores', 'data_voo',\n",
        "       'operacao','causa_alegada', 'situacao_processual', 'instancia',\n",
        "       'resultado_decisao_sentenca', 'data_sentenca', 'valor_dano_moral',\n",
        "       'valor_dano_material', 'valor_total_condenacao', 'data_acordao']\n",
        "\n",
        "dados_gol_2023_SC['valor_pago'] = ['']*dados_gol_2023_SC.shape[0]\n",
        "\n",
        "dados_gol_2023_SC.n_autores = list(dados_gol_2023_SC.n_autores.str.count('/') + 1)\n",
        "\n",
        "dados_gol_2023_SC = dados_gol_2023_SC [[\n",
        "    'empresa_re', 'numero_processo', 'cnpj_re', 'data_distribuicao', 'UF',\n",
        "       'jurisdicao', 'obj_principal', 'subobj_principal',\n",
        "       'valor_pedido_inicial', 'n_autores', 'data_voo', 'operacao',\n",
        "       'causa_alegada', 'situacao_processual', 'instancia',\n",
        "       'resultado_decisao_sentenca', 'data_sentenca', 'valor_dano_moral',\n",
        "       'valor_dano_material', 'valor_total_condenacao', 'data_acordao',\n",
        "       'valor_pago']]\n",
        "\n",
        "dados_gol_2023_SC.shape"
      ]
    },
    {
      "cell_type": "code",
      "execution_count": null,
      "metadata": {
        "id": "W-FQJMNPDQDR",
        "outputId": "c7251bc4-4670-4b33-ade1-8ddfaeb5b8af"
      },
      "outputs": [
        {
          "data": {
            "text/plain": [
              "(4247, 22)"
            ]
          },
          "execution_count": 165,
          "metadata": {},
          "output_type": "execute_result"
        }
      ],
      "source": [
        "dados_gol_2023_SP = pd.read_csv('./GOL/Dados SP - Estudo AMB - UnB - BASE 2023.csv',\n",
        "                             delimiter=';', low_memory=False)\n",
        "\n",
        "dados_gol_2023_SP = dados_gol_2023_SP.drop(columns=['COMARCA'])\n",
        "\n",
        "dados_gol_2023_SP.columns = ['empresa_re', 'numero_processo', 'cnpj_re', 'data_distribuicao',\n",
        "       'UF', 'jurisdicao', 'obj_principal', 'subobj_principal',\n",
        "       'valor_pedido_inicial', 'n_autores', 'data_voo',\n",
        "       'operacao','causa_alegada', 'situacao_processual', 'instancia',\n",
        "       'resultado_decisao_sentenca', 'data_sentenca', 'valor_dano_moral',\n",
        "       'valor_dano_material', 'valor_total_condenacao', 'data_acordao']\n",
        "\n",
        "dados_gol_2023_SP['valor_pago'] = ['']*dados_gol_2023_SP.shape[0]\n",
        "\n",
        "dados_gol_2023_SP.n_autores = list(dados_gol_2023_SP.n_autores.str.count('/') + 1)\n",
        "\n",
        "dados_gol_2023_SP = dados_gol_2023_SP [[\n",
        "    'empresa_re', 'numero_processo', 'cnpj_re', 'data_distribuicao', 'UF',\n",
        "       'jurisdicao', 'obj_principal', 'subobj_principal',\n",
        "       'valor_pedido_inicial', 'n_autores', 'data_voo', 'operacao',\n",
        "       'causa_alegada', 'situacao_processual', 'instancia',\n",
        "       'resultado_decisao_sentenca', 'data_sentenca', 'valor_dano_moral',\n",
        "       'valor_dano_material', 'valor_total_condenacao', 'data_acordao',\n",
        "       'valor_pago']]\n",
        "\n",
        "dados_gol_2023_SP.shape"
      ]
    },
    {
      "cell_type": "code",
      "execution_count": null,
      "metadata": {
        "id": "9ZfQ7z0BDP5B",
        "outputId": "c6af1d32-1be6-4d64-da32-d928fc264cda"
      },
      "outputs": [
        {
          "data": {
            "text/plain": [
              "(248, 22)"
            ]
          },
          "execution_count": 166,
          "metadata": {},
          "output_type": "execute_result"
        }
      ],
      "source": [
        "dados_gol_2023_TO = pd.read_csv('./GOL/Dados TO - Estudo AMB - UnB - BASE 2023.csv',\n",
        "                             delimiter=';', low_memory=False)\n",
        "\n",
        "dados_gol_2023_TO = dados_gol_2023_TO.drop(columns=['COMARCA'])\n",
        "\n",
        "dados_gol_2023_TO.columns = ['empresa_re', 'numero_processo', 'cnpj_re', 'data_distribuicao',\n",
        "       'UF', 'jurisdicao', 'obj_principal', 'subobj_principal',\n",
        "       'valor_pedido_inicial', 'n_autores', 'data_voo',\n",
        "       'operacao','causa_alegada', 'situacao_processual', 'instancia',\n",
        "       'resultado_decisao_sentenca', 'data_sentenca', 'valor_dano_moral',\n",
        "       'valor_dano_material', 'valor_total_condenacao', 'data_acordao']\n",
        "\n",
        "dados_gol_2023_TO['valor_pago'] = ['']*dados_gol_2023_TO.shape[0]\n",
        "\n",
        "dados_gol_2023_TO.n_autores = list(dados_gol_2023_TO.n_autores.str.count('/') + 1)\n",
        "\n",
        "dados_gol_2023_TO = dados_gol_2023_TO [[\n",
        "    'empresa_re', 'numero_processo', 'cnpj_re', 'data_distribuicao', 'UF',\n",
        "       'jurisdicao', 'obj_principal', 'subobj_principal',\n",
        "       'valor_pedido_inicial', 'n_autores', 'data_voo', 'operacao',\n",
        "       'causa_alegada', 'situacao_processual', 'instancia',\n",
        "       'resultado_decisao_sentenca', 'data_sentenca', 'valor_dano_moral',\n",
        "       'valor_dano_material', 'valor_total_condenacao', 'data_acordao',\n",
        "       'valor_pago']]\n",
        "\n",
        "dados_gol_2023_TO.shape"
      ]
    },
    {
      "cell_type": "code",
      "execution_count": null,
      "metadata": {
        "id": "ozvXZhhcDPuh"
      },
      "outputs": [],
      "source": [
        "dados_gol_novos_2023 = pd.concat([dados_gol_2023_abiackel, dados_gol_2023_AM, dados_gol_2023_BA,\n",
        "                       dados_gol_2023_CE, dados_gol_2023_DF, dados_gol_2023_ES,\n",
        "                       dados_gol_2023_GO, dados_gol_2023_MG, dados_gol_2023_MS,\n",
        "                       dados_gol_2023_PE, dados_gol_2023_PR, dados_gol_2023_RJ,\n",
        "                       dados_gol_2023_RO, dados_gol_2023_SC, dados_gol_2023_SP,\n",
        "                       dados_gol_2023_TO], axis=0)"
      ]
    },
    {
      "cell_type": "markdown",
      "metadata": {
        "jp-MarkdownHeadingCollapsed": true,
        "id": "XvDCql-xnoy9"
      },
      "source": [
        "##### Ajustando as colunas e filtrando os dados"
      ]
    },
    {
      "cell_type": "code",
      "execution_count": null,
      "metadata": {
        "id": "KNOFnQ2bfw_g"
      },
      "outputs": [],
      "source": [
        "dados_gol_novos_2023['num_proc_ano'] = dados_gol_novos_2023['numero_processo']. \\\n",
        "                      str.extract(r'\\d{7}-\\d{2}\\.(\\d{4})\\.\\d\\.\\d{2}\\.\\d{4}')"
      ]
    },
    {
      "cell_type": "code",
      "execution_count": null,
      "metadata": {
        "id": "hmWn7DTTfw_g"
      },
      "outputs": [],
      "source": [
        "dados_gol_novos_2023 = dados_gol_novos_2023.dropna(subset = ['num_proc_ano'], axis=0)\n",
        "dados_gol_novos_2023 = dados_gol_novos_2023.reset_index(drop=True)"
      ]
    },
    {
      "cell_type": "code",
      "execution_count": null,
      "metadata": {
        "id": "sqfA4Wp4fw_g"
      },
      "outputs": [],
      "source": [
        "dados_gol_novos_2023.num_proc_ano = pd.to_numeric(dados_gol_novos_2023.num_proc_ano).astype(int)"
      ]
    },
    {
      "cell_type": "code",
      "execution_count": null,
      "metadata": {
        "id": "EqIYrZOLfw_g",
        "outputId": "ae01968e-fc84-4605-8575-6b51fb70fc2d"
      },
      "outputs": [
        {
          "data": {
            "text/plain": [
              "array([2023, 2022, 2011, 2019, 2021, 2020])"
            ]
          },
          "execution_count": 172,
          "metadata": {},
          "output_type": "execute_result"
        }
      ],
      "source": [
        "dados_gol_novos_2023.num_proc_ano.unique()"
      ]
    },
    {
      "cell_type": "code",
      "execution_count": null,
      "metadata": {
        "id": "4SDQs9PKfw_g"
      },
      "outputs": [],
      "source": [
        "dados_gol_novos_2023 = dados_gol_novos_2023[dados_gol_novos_2023['num_proc_ano'].\n",
        "                          isin([2023])]"
      ]
    },
    {
      "cell_type": "code",
      "execution_count": null,
      "metadata": {
        "id": "m1Bk2W_Ifw_h"
      },
      "outputs": [],
      "source": [
        "dados_gol_novos_2023.numero_processo = dados_gol_novos_2023.numero_processo.replace(pd.NA,'0')\n",
        "dados_gol_novos_2023['numero_processo_regex'] = dados_gol_novos_2023.numero_processo. \\\n",
        "      str.replace(r'[\\-\\\\.\\\\\" \"]', '', regex=True).str.slice(0,20)"
      ]
    },
    {
      "cell_type": "code",
      "execution_count": null,
      "metadata": {
        "id": "WQqBY0v8ebW4"
      },
      "outputs": [],
      "source": [
        "dados_gol_novos_2023 = dados_gol_novos_2023.reset_index(drop=True)"
      ]
    },
    {
      "cell_type": "markdown",
      "metadata": {
        "id": "Grog0JjoE30j",
        "jp-MarkdownHeadingCollapsed": true
      },
      "source": [
        "##### Transforma o dataframe dados_gol_2023"
      ]
    },
    {
      "cell_type": "code",
      "execution_count": null,
      "metadata": {
        "id": "x2f1oQdfYvgP"
      },
      "outputs": [],
      "source": [
        "dados_gol_novos_2023 = transforma_df(dados_gol_novos_2023)"
      ]
    },
    {
      "cell_type": "code",
      "execution_count": null,
      "metadata": {
        "id": "woWC01-wYvgQ",
        "outputId": "6d012663-1079-4f7f-ba9f-6958014a2d7e"
      },
      "outputs": [
        {
          "name": "stdout",
          "output_type": "stream",
          "text": [
            "['Gol']\n",
            "['07.575.651/0001-59' '05.730.375/0001-20' '06.164.253/0001-87'\n",
            " '04.020.028/0001-41' '07.575.651/0001-59 E 07.575.651/0037-60']\n",
            "['MG' 'AM' 'BA' 'CE' 'DF' 'ES' 'GO' 'MS' 'PE' 'PR' 'RJ' 'RN' 'RO' 'SC'\n",
            " 'SP' 'TO']\n",
            "['Juizado Especial Cível' 'Outros' 'Vara Cível' 'Não informado']\n",
            "['Não informado' 'Doméstico' 'Internacional']\n",
            "['Não informado' 'Decisão favorável à aérea (improcedência)' 'Acordo'\n",
            " 'Condenação' 'Extinção sem julgamento do mérito']\n",
            "['Não informado' '1ª Instância' '2ª Instância']\n",
            "[2023]\n"
          ]
        }
      ],
      "source": [
        "print(dados_gol_novos_2023.empresa_re.unique())\n",
        "print(dados_gol_novos_2023.cnpj_re.unique())\n",
        "print(dados_gol_novos_2023.UF.unique())\n",
        "print(dados_gol_novos_2023.jurisdicao.unique())\n",
        "print(dados_gol_novos_2023.operacao.unique())\n",
        "print(dados_gol_novos_2023.situacao_processual_sentenca.unique())\n",
        "print(dados_gol_novos_2023.instancia.unique())\n",
        "print(dados_gol_novos_2023.num_proc_ano.unique())"
      ]
    },
    {
      "cell_type": "code",
      "execution_count": null,
      "metadata": {
        "id": "2zKFMUfGFQDb",
        "outputId": "657304da-6a3c-4c36-eb96-e581d78bf362"
      },
      "outputs": [
        {
          "name": "stdout",
          "output_type": "stream",
          "text": [
            "<class 'pandas.core.frame.DataFrame'>\n",
            "RangeIndex: 29752 entries, 0 to 29751\n",
            "Data columns (total 36 columns):\n",
            " #   Column                        Non-Null Count  Dtype  \n",
            "---  ------                        --------------  -----  \n",
            " 0   empresa_re                    29752 non-null  object \n",
            " 1   numero_processo               29752 non-null  object \n",
            " 2   cnpj_re                       29752 non-null  object \n",
            " 3   data_distribuicao             29752 non-null  object \n",
            " 4   UF                            29752 non-null  object \n",
            " 5   jurisdicao                    29752 non-null  object \n",
            " 6   obj_principal                 29752 non-null  object \n",
            " 7   subobj_principal              29752 non-null  object \n",
            " 8   valor_pedido_inicial          29752 non-null  float64\n",
            " 9   n_autores                     29752 non-null  int32  \n",
            " 10  data_voo                      29752 non-null  object \n",
            " 11  operacao                      29752 non-null  object \n",
            " 12  causa_alegada                 29752 non-null  object \n",
            " 13  situacao_processual           29752 non-null  object \n",
            " 14  instancia                     29752 non-null  object \n",
            " 15  resultado_decisao_sentenca    29752 non-null  object \n",
            " 16  data_sentenca                 29752 non-null  object \n",
            " 17  valor_dano_moral              29752 non-null  float64\n",
            " 18  valor_dano_material           29752 non-null  float64\n",
            " 19  valor_total_condenacao        29752 non-null  float64\n",
            " 20  data_acordao                  29752 non-null  object \n",
            " 21  valor_pago                    29752 non-null  float64\n",
            " 22  num_proc_ano                  29752 non-null  int32  \n",
            " 23  numero_processo_regex         29752 non-null  object \n",
            " 24  obj_problemas_operacionais    29752 non-null  bool   \n",
            " 25  obj_bagagem                   29752 non-null  bool   \n",
            " 26  obj_contrato                  29752 non-null  bool   \n",
            " 27  obj_outros                    29752 non-null  bool   \n",
            " 28  causa_nao_informado           29752 non-null  bool   \n",
            " 29  causa_forca_maior             29752 non-null  bool   \n",
            " 30  causa_fortuitos               29752 non-null  bool   \n",
            " 31  causa_terceiros               29752 non-null  bool   \n",
            " 32  causa_cliente                 29752 non-null  bool   \n",
            " 33  causa_aerea                   29752 non-null  bool   \n",
            " 34  causa_outros                  29752 non-null  bool   \n",
            " 35  situacao_processual_sentenca  29752 non-null  object \n",
            "dtypes: bool(11), float64(5), int32(2), object(18)\n",
            "memory usage: 5.8+ MB\n"
          ]
        }
      ],
      "source": [
        "dados_gol_novos_2023.info()"
      ]
    },
    {
      "cell_type": "code",
      "execution_count": null,
      "metadata": {
        "id": "IYNlFfQ-XpX5"
      },
      "outputs": [],
      "source": [
        "dados_gol_novos_2023.to_csv('./GOL/final/ajust_dados_gol_novos_2023.csv',index=False)"
      ]
    },
    {
      "cell_type": "markdown",
      "metadata": {
        "id": "y-f-YRot5ptT",
        "jp-MarkdownHeadingCollapsed": true
      },
      "source": [
        "#### Consolidando bases de dados da Gol"
      ]
    },
    {
      "cell_type": "code",
      "execution_count": null,
      "metadata": {
        "id": "KS3_PovwEwIS"
      },
      "outputs": [],
      "source": [
        "dados_gol_original = pd.read_csv('./GOL/final/ajust_dados_gol_original.csv',\n",
        "                    low_memory=False)"
      ]
    },
    {
      "cell_type": "code",
      "execution_count": null,
      "metadata": {
        "id": "CbpTp-1YhX51"
      },
      "outputs": [],
      "source": [
        "dados_gol_novos = pd.read_csv('./GOL/final/ajust_dados_gol_novos.csv',\n",
        "                              low_memory=False)"
      ]
    },
    {
      "cell_type": "code",
      "execution_count": null,
      "metadata": {
        "id": "ay4PuSgshrLl"
      },
      "outputs": [],
      "source": [
        "dados_gol_novos_2023 = pd.read_csv('./GOL/final/ajust_dados_gol_novos_2023.csv',\n",
        "                                    low_memory=False)"
      ]
    },
    {
      "cell_type": "code",
      "execution_count": null,
      "metadata": {
        "id": "I2Pw_6nOh_Cp"
      },
      "outputs": [],
      "source": [
        "dados_gol = pd.concat([dados_gol_original,dados_gol_novos,dados_gol_novos_2023],axis=0)"
      ]
    },
    {
      "cell_type": "code",
      "execution_count": null,
      "metadata": {
        "id": "yPxzOw7Lh_Cr",
        "outputId": "0245132b-fc24-4a1a-ed36-ea34ffb890e6"
      },
      "outputs": [
        {
          "data": {
            "text/plain": [
              "(112841, 36)"
            ]
          },
          "execution_count": 186,
          "metadata": {},
          "output_type": "execute_result"
        }
      ],
      "source": [
        "dados_gol.shape"
      ]
    },
    {
      "cell_type": "code",
      "execution_count": null,
      "metadata": {
        "id": "suUyJLY6h_Cs",
        "outputId": "81f7ca78-83d1-415f-8593-63b6d2eec922"
      },
      "outputs": [
        {
          "data": {
            "text/plain": [
              "empresa_re                          0\n",
              "numero_processo                     0\n",
              "cnpj_re                             0\n",
              "data_distribuicao                  79\n",
              "UF                                  0\n",
              "jurisdicao                          0\n",
              "obj_principal                     236\n",
              "subobj_principal                17038\n",
              "valor_pedido_inicial                0\n",
              "n_autores                           0\n",
              "data_voo                          267\n",
              "operacao                            0\n",
              "causa_alegada                      79\n",
              "situacao_processual              1007\n",
              "instancia                           0\n",
              "resultado_decisao_sentenca        519\n",
              "data_sentenca                    2654\n",
              "valor_dano_moral                    0\n",
              "valor_dano_material                 0\n",
              "valor_total_condenacao              0\n",
              "data_acordao                    10755\n",
              "valor_pago                          0\n",
              "num_proc_ano                        0\n",
              "numero_processo_regex               0\n",
              "obj_problemas_operacionais          0\n",
              "obj_bagagem                         0\n",
              "obj_contrato                        0\n",
              "obj_outros                          0\n",
              "causa_nao_informado                 0\n",
              "causa_forca_maior                   0\n",
              "causa_fortuitos                     0\n",
              "causa_terceiros                     0\n",
              "causa_cliente                       0\n",
              "causa_aerea                         0\n",
              "causa_outros                        0\n",
              "situacao_processual_sentenca        0\n",
              "dtype: int64"
            ]
          },
          "execution_count": 187,
          "metadata": {},
          "output_type": "execute_result"
        }
      ],
      "source": [
        "dados_gol.isnull().sum()"
      ]
    },
    {
      "cell_type": "code",
      "execution_count": null,
      "metadata": {
        "id": "nCqTADFVh_Cs",
        "outputId": "b5b58436-738a-4bfb-fec7-40685d2542ca"
      },
      "outputs": [
        {
          "name": "stdout",
          "output_type": "stream",
          "text": [
            "<class 'pandas.core.frame.DataFrame'>\n",
            "Index: 112841 entries, 0 to 29751\n",
            "Data columns (total 36 columns):\n",
            " #   Column                        Non-Null Count   Dtype  \n",
            "---  ------                        --------------   -----  \n",
            " 0   empresa_re                    112841 non-null  object \n",
            " 1   numero_processo               112841 non-null  object \n",
            " 2   cnpj_re                       112841 non-null  object \n",
            " 3   data_distribuicao             112762 non-null  object \n",
            " 4   UF                            112841 non-null  object \n",
            " 5   jurisdicao                    112841 non-null  object \n",
            " 6   obj_principal                 112605 non-null  object \n",
            " 7   subobj_principal              95803 non-null   object \n",
            " 8   valor_pedido_inicial          112841 non-null  float64\n",
            " 9   n_autores                     112841 non-null  int64  \n",
            " 10  data_voo                      112574 non-null  object \n",
            " 11  operacao                      112841 non-null  object \n",
            " 12  causa_alegada                 112762 non-null  object \n",
            " 13  situacao_processual           111834 non-null  object \n",
            " 14  instancia                     112841 non-null  object \n",
            " 15  resultado_decisao_sentenca    112322 non-null  object \n",
            " 16  data_sentenca                 110187 non-null  object \n",
            " 17  valor_dano_moral              112841 non-null  float64\n",
            " 18  valor_dano_material           112841 non-null  float64\n",
            " 19  valor_total_condenacao        112841 non-null  float64\n",
            " 20  data_acordao                  102086 non-null  object \n",
            " 21  valor_pago                    112841 non-null  float64\n",
            " 22  num_proc_ano                  112841 non-null  int64  \n",
            " 23  numero_processo_regex         112841 non-null  object \n",
            " 24  obj_problemas_operacionais    112841 non-null  bool   \n",
            " 25  obj_bagagem                   112841 non-null  bool   \n",
            " 26  obj_contrato                  112841 non-null  bool   \n",
            " 27  obj_outros                    112841 non-null  bool   \n",
            " 28  causa_nao_informado           112841 non-null  bool   \n",
            " 29  causa_forca_maior             112841 non-null  bool   \n",
            " 30  causa_fortuitos               112841 non-null  bool   \n",
            " 31  causa_terceiros               112841 non-null  bool   \n",
            " 32  causa_cliente                 112841 non-null  bool   \n",
            " 33  causa_aerea                   112841 non-null  bool   \n",
            " 34  causa_outros                  112841 non-null  bool   \n",
            " 35  situacao_processual_sentenca  112841 non-null  object \n",
            "dtypes: bool(11), float64(5), int64(2), object(18)\n",
            "memory usage: 23.6+ MB\n"
          ]
        }
      ],
      "source": [
        "dados_gol.info()"
      ]
    },
    {
      "cell_type": "code",
      "execution_count": null,
      "metadata": {
        "id": "-nShyrE4h_Ct"
      },
      "outputs": [],
      "source": [
        "dados_gol = dados_gol.sort_values(by=['empresa_re',\n",
        "                                      'numero_processo_regex'], ascending=True)"
      ]
    },
    {
      "cell_type": "code",
      "execution_count": null,
      "metadata": {
        "id": "b5F6O0iWh_Ct"
      },
      "outputs": [],
      "source": [
        "dados_gol = dados_gol.drop_duplicates(subset=['empresa_re',\n",
        "                                        'numero_processo_regex'],keep='first')"
      ]
    },
    {
      "cell_type": "code",
      "execution_count": null,
      "metadata": {
        "id": "D-5JsCmCh_Ct"
      },
      "outputs": [],
      "source": [
        "dados_gol = dados_gol[dados_gol.UF.isin(['AM', 'BA', 'CE', 'DF', 'ES', 'GO',\n",
        "            'MG', 'MS', 'MT', 'PE', 'PR', 'RJ', 'RO', 'SC', 'SP', 'TO'])]"
      ]
    },
    {
      "cell_type": "code",
      "execution_count": null,
      "metadata": {
        "id": "1eMbKueyh_Ct"
      },
      "outputs": [],
      "source": [
        "dados_gol = dados_gol.reset_index(drop=True)"
      ]
    },
    {
      "cell_type": "code",
      "execution_count": null,
      "metadata": {
        "id": "-zd9tKggh_Cu",
        "outputId": "56e39c26-b25f-4180-c1cc-918f32e56f62"
      },
      "outputs": [
        {
          "data": {
            "text/plain": [
              "(112831, 36)"
            ]
          },
          "execution_count": 193,
          "metadata": {},
          "output_type": "execute_result"
        }
      ],
      "source": [
        "dados_gol.shape"
      ]
    },
    {
      "cell_type": "code",
      "execution_count": null,
      "metadata": {
        "id": "-D5yxMM9rYfx"
      },
      "outputs": [],
      "source": [
        "dados_gol.to_csv('./GOL/final/gol_dados_consolidados_FINAL.csv',index=False)"
      ]
    },
    {
      "cell_type": "markdown",
      "metadata": {
        "id": "3tGdD8wpiWWm",
        "jp-MarkdownHeadingCollapsed": true
      },
      "source": [
        "### Latam"
      ]
    },
    {
      "cell_type": "markdown",
      "metadata": {
        "id": "ZQV3GloKlhqD"
      },
      "source": [
        "#### Dados originais"
      ]
    },
    {
      "cell_type": "markdown",
      "metadata": {
        "id": "AAdlwYbweNIQ",
        "jp-MarkdownHeadingCollapsed": true
      },
      "source": [
        "##### Importando os dados"
      ]
    },
    {
      "cell_type": "code",
      "execution_count": null,
      "metadata": {
        "id": "KMdOGSIVmauL"
      },
      "outputs": [],
      "source": [
        "dados_latam_original = pd.read_csv('./LATAM/base_inicial_latam.csv',\n",
        "                                  delimiter=';', low_memory=False, encoding='latin-1')"
      ]
    },
    {
      "cell_type": "markdown",
      "metadata": {
        "jp-MarkdownHeadingCollapsed": true,
        "id": "_qVQ9cfmnozB"
      },
      "source": [
        "##### Ajustando as colunas e filtrando os dados"
      ]
    },
    {
      "cell_type": "code",
      "execution_count": null,
      "metadata": {
        "id": "hg4DgYd7mauM"
      },
      "outputs": [],
      "source": [
        "dados_latam_original = dados_latam_original.drop(columns=['COMARCA'])"
      ]
    },
    {
      "cell_type": "code",
      "execution_count": null,
      "metadata": {
        "id": "N3YDYk62mauM"
      },
      "outputs": [],
      "source": [
        "dados_latam_original.columns = [\n",
        "  'empresa_re', 'numero_processo', 'cnpj_re', 'data_distribuicao', 'UF',\n",
        "  'jurisdicao', 'obj_principal', 'subobj_principal',\n",
        "  'valor_pedido_inicial', 'n_autores', 'data_voo', 'operacao',\n",
        "  'causa_alegada', 'situacao_processual', 'instancia',\n",
        "  'resultado_decisao_sentenca', 'data_sentenca', 'valor_dano_moral',\n",
        "  'valor_dano_material', 'valor_pago', 'data_acordao'\n",
        "]"
      ]
    },
    {
      "cell_type": "code",
      "execution_count": null,
      "metadata": {
        "id": "XgD2YF0nrdGb"
      },
      "outputs": [],
      "source": [
        "dados_latam_original['valor_total_condenacao'] = ['']*dados_latam_original.shape[0]"
      ]
    },
    {
      "cell_type": "code",
      "execution_count": null,
      "metadata": {
        "id": "1yd-ELgSmauM"
      },
      "outputs": [],
      "source": [
        "dados_latam_original['num_proc_ano'] = dados_latam_original['numero_processo']. \\\n",
        "                      str.extract(r'\\d{7}-\\d{2}\\.(\\d{4})\\.\\d\\.\\d{2}\\.\\d{4}')"
      ]
    },
    {
      "cell_type": "code",
      "execution_count": null,
      "metadata": {
        "id": "xMqoX_JwmauM"
      },
      "outputs": [],
      "source": [
        "dados_latam_original = dados_latam_original.dropna(subset = ['num_proc_ano'], axis=0)\n",
        "dados_latam_original = dados_latam_original.reset_index(drop=True)"
      ]
    },
    {
      "cell_type": "code",
      "execution_count": null,
      "metadata": {
        "id": "3O9AUvnxmauN"
      },
      "outputs": [],
      "source": [
        "dados_latam_original.num_proc_ano = pd.to_numeric(dados_latam_original.num_proc_ano).astype(int)"
      ]
    },
    {
      "cell_type": "code",
      "execution_count": null,
      "metadata": {
        "id": "5Qc8M3JCnozC",
        "outputId": "384e5b18-62f6-4297-a1fc-2ad868b3eba2"
      },
      "outputs": [
        {
          "data": {
            "text/plain": [
              "array([2022, 2021, 2020, 2019, 2018, 2017, 2016, 2011, 2014, 2023, 2009,\n",
              "       2012, 2015, 2013, 2007, 2010, 2006, 2003])"
            ]
          },
          "execution_count": 206,
          "metadata": {},
          "output_type": "execute_result"
        }
      ],
      "source": [
        "dados_latam_original.num_proc_ano.unique()"
      ]
    },
    {
      "cell_type": "code",
      "execution_count": null,
      "metadata": {
        "id": "QrLq3JYAmauN"
      },
      "outputs": [],
      "source": [
        "dados_latam_original = dados_latam_original[dados_latam_original['num_proc_ano'].\n",
        "                                          isin([2019,2020,2021,2022,2023])]"
      ]
    },
    {
      "cell_type": "code",
      "execution_count": null,
      "metadata": {
        "id": "m8yvQK9TmauN"
      },
      "outputs": [],
      "source": [
        "dados_latam_original.numero_processo = dados_latam_original.numero_processo.replace(pd.NA,'0')\n",
        "dados_latam_original['numero_processo_regex'] = dados_latam_original.numero_processo. \\\n",
        "      str.replace(r'[\\-\\\\.\\\\\" \"]', '', regex=True).str.slice(0,20)"
      ]
    },
    {
      "cell_type": "code",
      "execution_count": null,
      "metadata": {
        "id": "SER4AOA7q27g"
      },
      "outputs": [],
      "source": [
        "dados_latam_original = dados_latam_original[[\n",
        "    'empresa_re', 'numero_processo', 'cnpj_re', 'data_distribuicao', 'UF',\n",
        "       'jurisdicao', 'obj_principal', 'subobj_principal',\n",
        "       'valor_pedido_inicial', 'n_autores', 'data_voo', 'operacao',\n",
        "       'causa_alegada', 'situacao_processual', 'instancia',\n",
        "       'resultado_decisao_sentenca', 'data_sentenca', 'valor_dano_moral',\n",
        "       'valor_dano_material', 'valor_total_condenacao', 'data_acordao',\n",
        "       'valor_pago', 'num_proc_ano', 'numero_processo_regex'\n",
        "]]"
      ]
    },
    {
      "cell_type": "markdown",
      "metadata": {
        "id": "7K6DJzXAlkdy",
        "jp-MarkdownHeadingCollapsed": true
      },
      "source": [
        "##### Ajustando os dados"
      ]
    },
    {
      "cell_type": "code",
      "execution_count": null,
      "metadata": {
        "id": "aDmbEK8qlkBi"
      },
      "outputs": [],
      "source": [
        "dados_latam_original = transforma_df(dados_latam_original)"
      ]
    },
    {
      "cell_type": "code",
      "execution_count": null,
      "metadata": {
        "id": "4DX-NPSHry8Y",
        "outputId": "753a1ccd-3fd6-4c50-9a10-691bc55d4ccc"
      },
      "outputs": [
        {
          "name": "stdout",
          "output_type": "stream",
          "text": [
            "['Latam']\n",
            "['02.012.862/0001-60' '33.937.681/0001-78' '04.649.907/0001-37']\n",
            "['PI' 'BA' 'PB' 'ES' 'MS' 'RO' 'RJ' 'PR' 'PE' 'GO' 'MG' 'SC' 'RS' 'MA'\n",
            " 'DF' 'MT' 'CE' 'AL' 'AM' 'RR' 'SP' 'AP' 'RN' 'PA' 'SE' 'TO' 'AC']\n",
            "['Juizado Especial Cível' 'Vara Cível']\n",
            "['Doméstico' 'Outros' 'Internacional']\n",
            "['Não informado' 'Outros' 'Decisão favorável à aérea (improcedência)'\n",
            " 'Condenação' 'Acordo']\n",
            "['Não informado' '1ª Instância' '2ª Instância' '3ª Instância']\n",
            "[2022 2021 2020 2019 2023]\n"
          ]
        }
      ],
      "source": [
        "print(dados_latam_original.empresa_re.unique())\n",
        "print(dados_latam_original.cnpj_re.unique())\n",
        "print(dados_latam_original.UF.unique())\n",
        "print(dados_latam_original.jurisdicao.unique())\n",
        "print(dados_latam_original.operacao.unique())\n",
        "print(dados_latam_original.situacao_processual_sentenca.unique())\n",
        "print(dados_latam_original.instancia.unique())\n",
        "print(dados_latam_original.num_proc_ano.unique())"
      ]
    },
    {
      "cell_type": "code",
      "execution_count": null,
      "metadata": {
        "id": "kVi5fQGPutnA",
        "outputId": "207e15b4-1ac7-4173-d11b-5987fd759447"
      },
      "outputs": [
        {
          "name": "stdout",
          "output_type": "stream",
          "text": [
            "<class 'pandas.core.frame.DataFrame'>\n",
            "Index: 165053 entries, 0 to 167205\n",
            "Data columns (total 36 columns):\n",
            " #   Column                        Non-Null Count   Dtype  \n",
            "---  ------                        --------------   -----  \n",
            " 0   empresa_re                    165053 non-null  object \n",
            " 1   numero_processo               165053 non-null  object \n",
            " 2   cnpj_re                       165053 non-null  object \n",
            " 3   data_distribuicao             165053 non-null  object \n",
            " 4   UF                            165053 non-null  object \n",
            " 5   jurisdicao                    165053 non-null  object \n",
            " 6   obj_principal                 165053 non-null  object \n",
            " 7   subobj_principal              165053 non-null  object \n",
            " 8   valor_pedido_inicial          165053 non-null  float64\n",
            " 9   n_autores                     165053 non-null  int32  \n",
            " 10  data_voo                      165053 non-null  object \n",
            " 11  operacao                      165053 non-null  object \n",
            " 12  causa_alegada                 165053 non-null  object \n",
            " 13  situacao_processual           165053 non-null  object \n",
            " 14  instancia                     165053 non-null  object \n",
            " 15  resultado_decisao_sentenca    165053 non-null  object \n",
            " 16  data_sentenca                 165053 non-null  object \n",
            " 17  valor_dano_moral              165053 non-null  float64\n",
            " 18  valor_dano_material           165053 non-null  float64\n",
            " 19  valor_total_condenacao        165053 non-null  float64\n",
            " 20  data_acordao                  165053 non-null  object \n",
            " 21  valor_pago                    165053 non-null  float64\n",
            " 22  num_proc_ano                  165053 non-null  int32  \n",
            " 23  numero_processo_regex         165053 non-null  object \n",
            " 24  obj_problemas_operacionais    165053 non-null  bool   \n",
            " 25  obj_bagagem                   165053 non-null  bool   \n",
            " 26  obj_contrato                  165053 non-null  bool   \n",
            " 27  obj_outros                    165053 non-null  bool   \n",
            " 28  causa_nao_informado           165053 non-null  bool   \n",
            " 29  causa_forca_maior             165053 non-null  bool   \n",
            " 30  causa_fortuitos               165053 non-null  bool   \n",
            " 31  causa_terceiros               165053 non-null  bool   \n",
            " 32  causa_cliente                 165053 non-null  bool   \n",
            " 33  causa_aerea                   165053 non-null  bool   \n",
            " 34  causa_outros                  165053 non-null  bool   \n",
            " 35  situacao_processual_sentenca  165053 non-null  object \n",
            "dtypes: bool(11), float64(5), int32(2), object(18)\n",
            "memory usage: 33.2+ MB\n"
          ]
        }
      ],
      "source": [
        "dados_latam_original.info()"
      ]
    },
    {
      "cell_type": "code",
      "execution_count": null,
      "metadata": {
        "id": "jH1yeuWvutnC"
      },
      "outputs": [],
      "source": [
        "dados_latam_original.to_csv('./LATAM/final/ajust_dados_latam_original.csv',index=False)"
      ]
    },
    {
      "cell_type": "markdown",
      "metadata": {
        "id": "PqmF9mIyl8pC",
        "jp-MarkdownHeadingCollapsed": true
      },
      "source": [
        "#### Dados complementares de 2019 a 2022"
      ]
    },
    {
      "cell_type": "markdown",
      "metadata": {
        "id": "zGZq_lEQlr7a",
        "jp-MarkdownHeadingCollapsed": true
      },
      "source": [
        "##### Importando os dados"
      ]
    },
    {
      "cell_type": "code",
      "execution_count": null,
      "metadata": {
        "id": "B-GqIshOl8W6"
      },
      "outputs": [],
      "source": [
        "dados_latam_novos = pd.read_csv('./LATAM/base_complementar_latam.csv')"
      ]
    },
    {
      "cell_type": "markdown",
      "metadata": {
        "jp-MarkdownHeadingCollapsed": true,
        "id": "Bqo89jsWnozE"
      },
      "source": [
        "##### Ajustando as colunas e filtrando os dados"
      ]
    },
    {
      "cell_type": "code",
      "execution_count": null,
      "metadata": {
        "id": "FdEV066gwH9u"
      },
      "outputs": [],
      "source": [
        "dados_latam_novos = dados_latam_novos.drop(columns=['COMARCA'])"
      ]
    },
    {
      "cell_type": "code",
      "execution_count": null,
      "metadata": {
        "id": "7uLvroJTwNZB"
      },
      "outputs": [],
      "source": [
        "dados_latam_novos.columns = [\n",
        "    'empresa_re', 'numero_processo', 'cnpj_re', 'data_distribuicao', 'UF',\n",
        "    'jurisdicao', 'obj_principal', 'subobj_principal',\n",
        "    'valor_pedido_inicial', 'n_autores', 'data_voo', 'operacao',\n",
        "    'causa_alegada', 'situacao_processual', 'instancia',\n",
        "    'resultado_decisao_sentenca', 'data_sentenca', 'valor_dano_moral',\n",
        "    'valor_dano_material', 'valor_total_condenacao', 'data_acordao',\n",
        "    'valor_pago'\n",
        "]"
      ]
    },
    {
      "cell_type": "code",
      "execution_count": null,
      "metadata": {
        "id": "1FqaQoGPwqgB"
      },
      "outputs": [],
      "source": [
        "dados_latam_novos['num_proc_ano'] = dados_latam_novos['numero_processo']. \\\n",
        "                      str.extract(r'\\d{7}-\\d{2}\\.(\\d{4})\\.\\d\\.\\d{2}\\.\\d{4}')"
      ]
    },
    {
      "cell_type": "code",
      "execution_count": null,
      "metadata": {
        "id": "xwGrmhmfwqgC"
      },
      "outputs": [],
      "source": [
        "dados_latam_novos = dados_latam_novos.dropna(subset = ['num_proc_ano'], axis=0)\n",
        "dados_latam_novos = dados_latam_novos.reset_index(drop=True)"
      ]
    },
    {
      "cell_type": "code",
      "execution_count": null,
      "metadata": {
        "id": "F-wBcxQVwqgD"
      },
      "outputs": [],
      "source": [
        "dados_latam_novos.num_proc_ano = pd.to_numeric(dados_latam_novos.num_proc_ano).astype(int)"
      ]
    },
    {
      "cell_type": "code",
      "execution_count": null,
      "metadata": {
        "id": "j9821c-ynozF",
        "outputId": "66f052e0-75bf-4ca7-ebe0-a98f9602d689"
      },
      "outputs": [
        {
          "data": {
            "text/plain": [
              "array([2022, 2018, 2019, 2017, 2020, 2021, 2014, 2015, 2016, 2011])"
            ]
          },
          "execution_count": 224,
          "metadata": {},
          "output_type": "execute_result"
        }
      ],
      "source": [
        "dados_latam_novos.num_proc_ano.unique()"
      ]
    },
    {
      "cell_type": "code",
      "execution_count": null,
      "metadata": {
        "id": "esnmikhLwqgD"
      },
      "outputs": [],
      "source": [
        "dados_latam_novos = dados_latam_novos[dados_latam_novos['num_proc_ano'].\n",
        "                                          isin([2019,2020,2021,2022,2023])]"
      ]
    },
    {
      "cell_type": "code",
      "execution_count": null,
      "metadata": {
        "id": "BctBio1gwqgE"
      },
      "outputs": [],
      "source": [
        "dados_latam_novos.numero_processo = dados_latam_novos.numero_processo.replace(pd.NA,'0')\n",
        "dados_latam_novos['numero_processo_regex'] = dados_latam_novos.numero_processo. \\\n",
        "      str.replace(r'[\\-\\\\.\\\\\" \"]', '', regex=True).str.slice(0,20)"
      ]
    },
    {
      "cell_type": "markdown",
      "metadata": {
        "id": "7_4Qp_vDxPIe",
        "jp-MarkdownHeadingCollapsed": true
      },
      "source": [
        "##### Ajustando os dados"
      ]
    },
    {
      "cell_type": "code",
      "execution_count": null,
      "metadata": {
        "id": "VrX3DigMxPIf"
      },
      "outputs": [],
      "source": [
        "dados_latam_novos = transforma_df(dados_latam_novos)"
      ]
    },
    {
      "cell_type": "code",
      "execution_count": null,
      "metadata": {
        "id": "GwGYzchpxPIf",
        "outputId": "8267a907-c73f-4fe8-f275-cbfcea92d45a"
      },
      "outputs": [
        {
          "name": "stdout",
          "output_type": "stream",
          "text": [
            "['Latam']\n",
            "['02.012.862/0001-60']\n",
            "['AM' 'RO' 'TO' 'SC' 'SP' 'DF' 'MT' 'ES' 'MS' 'GO' 'CE' 'PB' 'BA' 'PR'\n",
            " 'MG' 'RJ' 'AC' 'AL' 'RN' 'RS']\n",
            "['Juizado Especial Cível' 'Vara Cível' 'Outros']\n",
            "['Doméstico' 'Internacional' 'Outros']\n",
            "['Não informado']\n",
            "['1ª Instância' '2ª Instância' 'Não informado']\n",
            "[2022 2019 2020 2021]\n"
          ]
        }
      ],
      "source": [
        "print(dados_latam_novos.empresa_re.unique())\n",
        "print(dados_latam_novos.cnpj_re.unique())\n",
        "print(dados_latam_novos.UF.unique())\n",
        "print(dados_latam_novos.jurisdicao.unique())\n",
        "print(dados_latam_novos.operacao.unique())\n",
        "print(dados_latam_novos.situacao_processual_sentenca.unique())\n",
        "print(dados_latam_novos.instancia.unique())\n",
        "print(dados_latam_novos.num_proc_ano.unique())"
      ]
    },
    {
      "cell_type": "code",
      "execution_count": null,
      "metadata": {
        "id": "_FW_3z9QxPIh",
        "outputId": "86a97dc1-3b25-44dd-a681-c7649cb89f49"
      },
      "outputs": [
        {
          "name": "stdout",
          "output_type": "stream",
          "text": [
            "<class 'pandas.core.frame.DataFrame'>\n",
            "Index: 781 entries, 0 to 865\n",
            "Data columns (total 36 columns):\n",
            " #   Column                        Non-Null Count  Dtype  \n",
            "---  ------                        --------------  -----  \n",
            " 0   empresa_re                    781 non-null    object \n",
            " 1   numero_processo               781 non-null    object \n",
            " 2   cnpj_re                       781 non-null    object \n",
            " 3   data_distribuicao             781 non-null    object \n",
            " 4   UF                            781 non-null    object \n",
            " 5   jurisdicao                    781 non-null    object \n",
            " 6   obj_principal                 781 non-null    object \n",
            " 7   subobj_principal              781 non-null    object \n",
            " 8   valor_pedido_inicial          781 non-null    float64\n",
            " 9   n_autores                     781 non-null    int32  \n",
            " 10  data_voo                      781 non-null    object \n",
            " 11  operacao                      781 non-null    object \n",
            " 12  causa_alegada                 781 non-null    object \n",
            " 13  situacao_processual           781 non-null    object \n",
            " 14  instancia                     781 non-null    object \n",
            " 15  resultado_decisao_sentenca    781 non-null    object \n",
            " 16  data_sentenca                 781 non-null    object \n",
            " 17  valor_dano_moral              781 non-null    float64\n",
            " 18  valor_dano_material           781 non-null    float64\n",
            " 19  valor_total_condenacao        781 non-null    float64\n",
            " 20  data_acordao                  781 non-null    object \n",
            " 21  valor_pago                    781 non-null    float64\n",
            " 22  num_proc_ano                  781 non-null    int32  \n",
            " 23  numero_processo_regex         781 non-null    object \n",
            " 24  obj_problemas_operacionais    781 non-null    bool   \n",
            " 25  obj_bagagem                   781 non-null    bool   \n",
            " 26  obj_contrato                  781 non-null    bool   \n",
            " 27  obj_outros                    781 non-null    bool   \n",
            " 28  causa_nao_informado           781 non-null    bool   \n",
            " 29  causa_forca_maior             781 non-null    bool   \n",
            " 30  causa_fortuitos               781 non-null    bool   \n",
            " 31  causa_terceiros               781 non-null    bool   \n",
            " 32  causa_cliente                 781 non-null    bool   \n",
            " 33  causa_aerea                   781 non-null    bool   \n",
            " 34  causa_outros                  781 non-null    bool   \n",
            " 35  situacao_processual_sentenca  781 non-null    object \n",
            "dtypes: bool(11), float64(5), int32(2), object(18)\n",
            "memory usage: 160.9+ KB\n"
          ]
        }
      ],
      "source": [
        "dados_latam_novos.info()"
      ]
    },
    {
      "cell_type": "code",
      "execution_count": null,
      "metadata": {
        "id": "7aTdwL3KxPIh"
      },
      "outputs": [],
      "source": [
        "dados_latam_novos.to_csv('./LATAM/final/ajust_dados_latam_novos.csv',index=False)"
      ]
    },
    {
      "cell_type": "markdown",
      "metadata": {
        "id": "LabDFv4HmChb",
        "jp-MarkdownHeadingCollapsed": true
      },
      "source": [
        "#### Dados novos de 2023"
      ]
    },
    {
      "cell_type": "markdown",
      "metadata": {
        "id": "a7OCKzPomoTw",
        "jp-MarkdownHeadingCollapsed": true
      },
      "source": [
        "##### Importando os dados"
      ]
    },
    {
      "cell_type": "code",
      "execution_count": null,
      "metadata": {
        "id": "b-PSSqrkmCJz"
      },
      "outputs": [],
      "source": [
        "dados_latam_novos_2023 = pd.read_csv('./LATAM/base_2023_latam.csv',\n",
        "                                     delimiter=';')"
      ]
    },
    {
      "cell_type": "markdown",
      "metadata": {
        "jp-MarkdownHeadingCollapsed": true,
        "id": "L5FMAPwwnozG"
      },
      "source": [
        "##### Ajustando as colunas e filtrando os dados"
      ]
    },
    {
      "cell_type": "code",
      "execution_count": null,
      "metadata": {
        "id": "CKOgtWcqy3aD"
      },
      "outputs": [],
      "source": [
        "dados_latam_novos_2023 = dados_latam_novos_2023.drop(columns=['COMARCA'])"
      ]
    },
    {
      "cell_type": "code",
      "execution_count": null,
      "metadata": {
        "id": "oVKBEFTAy7EB"
      },
      "outputs": [],
      "source": [
        "dados_latam_novos_2023.columns = [\n",
        "    'empresa_re', 'numero_processo', 'cnpj_re', 'data_distribuicao', 'UF',\n",
        "    'jurisdicao', 'obj_principal', 'subobj_principal',\n",
        "    'valor_pedido_inicial', 'n_autores', 'operacao',\n",
        "    'causa_alegada', 'situacao_processual', 'instancia',\n",
        "    'resultado_decisao_sentenca', 'data_sentenca', 'valor_dano_moral',\n",
        "    'valor_dano_material', 'valor_total_condenacao'\n",
        "    ]"
      ]
    },
    {
      "cell_type": "code",
      "execution_count": null,
      "metadata": {
        "id": "u4K6PEHCzZYE"
      },
      "outputs": [],
      "source": [
        "dados_latam_novos_2023['data_voo'] = ['']*dados_latam_novos_2023.shape[0]\n",
        "dados_latam_novos_2023['data_acordao'] = ['']*dados_latam_novos_2023.shape[0]\n",
        "dados_latam_novos_2023['valor_pago'] = ['']*dados_latam_novos_2023.shape[0]"
      ]
    },
    {
      "cell_type": "code",
      "execution_count": null,
      "metadata": {
        "id": "nd7lX3Luzs5L"
      },
      "outputs": [],
      "source": [
        "dados_latam_novos_2023['num_proc_ano'] = dados_latam_novos_2023['numero_processo']. \\\n",
        "                      str.extract(r'\\d{7}-\\d{2}\\.(\\d{4})\\.\\d\\.\\d{2}\\.\\d{4}')"
      ]
    },
    {
      "cell_type": "code",
      "execution_count": null,
      "metadata": {
        "id": "u5Mwolsizs5M"
      },
      "outputs": [],
      "source": [
        "dados_latam_novos_2023 = dados_latam_novos_2023.dropna(subset = ['num_proc_ano'], axis=0)\n",
        "dados_latam_novos_2023 = dados_latam_novos_2023.reset_index(drop=True)"
      ]
    },
    {
      "cell_type": "code",
      "execution_count": null,
      "metadata": {
        "id": "yhQBafypzs5M"
      },
      "outputs": [],
      "source": [
        "dados_latam_novos_2023.num_proc_ano = pd.to_numeric(dados_latam_novos_2023.num_proc_ano).astype(int)"
      ]
    },
    {
      "cell_type": "code",
      "execution_count": null,
      "metadata": {
        "id": "kWsWqeFd0yAq",
        "outputId": "0c7b6dad-5904-4a03-c803-c06eda8bb2b2"
      },
      "outputs": [
        {
          "data": {
            "text/plain": [
              "array([2023, 2022, 2018, 2021, 2020, 2019, 2014, 2011, 2017, 2016, 2012,\n",
              "       2010, 2015, 2013, 2007, 2024, 2003])"
            ]
          },
          "execution_count": 242,
          "metadata": {},
          "output_type": "execute_result"
        }
      ],
      "source": [
        "dados_latam_novos_2023.num_proc_ano.unique()"
      ]
    },
    {
      "cell_type": "code",
      "execution_count": null,
      "metadata": {
        "id": "l_TVQWwVzs5M"
      },
      "outputs": [],
      "source": [
        "dados_latam_novos_2023 = dados_latam_novos_2023[dados_latam_novos_2023['num_proc_ano'].\n",
        "                                          isin([2023])]"
      ]
    },
    {
      "cell_type": "code",
      "execution_count": null,
      "metadata": {
        "id": "6bIeIhSSzs5M"
      },
      "outputs": [],
      "source": [
        "dados_latam_novos_2023.numero_processo = dados_latam_novos_2023.numero_processo.replace(pd.NA,'0')\n",
        "dados_latam_novos_2023['numero_processo_regex'] = dados_latam_novos_2023.numero_processo. \\\n",
        "      str.replace(r'[\\-\\\\.\\\\\" \"]', '', regex=True).str.slice(0,20)"
      ]
    },
    {
      "cell_type": "code",
      "execution_count": null,
      "metadata": {
        "id": "aJBAYub4zs5M"
      },
      "outputs": [],
      "source": [
        "dados_latam_novos_2023 = dados_latam_novos_2023[[\n",
        "    'empresa_re', 'numero_processo', 'cnpj_re', 'data_distribuicao', 'UF',\n",
        "       'jurisdicao', 'obj_principal', 'subobj_principal',\n",
        "       'valor_pedido_inicial', 'n_autores', 'data_voo', 'operacao',\n",
        "       'causa_alegada', 'situacao_processual', 'instancia',\n",
        "       'resultado_decisao_sentenca', 'data_sentenca', 'valor_dano_moral',\n",
        "       'valor_dano_material', 'valor_total_condenacao', 'data_acordao',\n",
        "       'valor_pago', 'num_proc_ano', 'numero_processo_regex'\n",
        "]]"
      ]
    },
    {
      "cell_type": "markdown",
      "metadata": {
        "id": "c-JmcQ-mzs5N",
        "jp-MarkdownHeadingCollapsed": true
      },
      "source": [
        "##### Ajustando dados"
      ]
    },
    {
      "cell_type": "code",
      "execution_count": null,
      "metadata": {
        "id": "pugtfpkrzs5N"
      },
      "outputs": [],
      "source": [
        "dados_latam_novos_2023 = transforma_df(dados_latam_novos_2023)"
      ]
    },
    {
      "cell_type": "code",
      "execution_count": null,
      "metadata": {
        "id": "dH9L8aaQzs5N",
        "outputId": "ab2b5811-7b95-44dd-eb1d-bd7e520fda59"
      },
      "outputs": [
        {
          "name": "stdout",
          "output_type": "stream",
          "text": [
            "['Latam']\n",
            "['33.937.681/0001-78' '02.012.862/0001-60']\n",
            "['SP' 'MG' 'RS' 'RJ' 'MS' 'PR' 'PI' 'AM' 'BA' 'AC' 'MA' 'TO' 'PE' 'PA'\n",
            " 'CE' 'MT' 'SC' 'SE' 'ES' 'DF' 'PB' 'RN' 'GO' 'AL' 'RO' 'RR' 'AP']\n",
            "['Juizado Especial Cível' 'Vara Cível']\n",
            "['Internacional' 'Doméstico' 'Outros']\n",
            "['Não informado']\n",
            "['Não informado' '1ª Instância' '2ª Instância']\n",
            "[2023]\n"
          ]
        }
      ],
      "source": [
        "print(dados_latam_novos_2023.empresa_re.unique())\n",
        "print(dados_latam_novos_2023.cnpj_re.unique())\n",
        "print(dados_latam_novos_2023.UF.unique())\n",
        "print(dados_latam_novos_2023.jurisdicao.unique())\n",
        "print(dados_latam_novos_2023.operacao.unique())\n",
        "print(dados_latam_novos_2023.situacao_processual_sentenca.unique())\n",
        "print(dados_latam_novos_2023.instancia.unique())\n",
        "print(dados_latam_novos_2023.num_proc_ano.unique())"
      ]
    },
    {
      "cell_type": "code",
      "execution_count": null,
      "metadata": {
        "id": "yGMnsb4Szs5N",
        "outputId": "ce5ac85b-0859-4428-9230-eb27d35d22a8"
      },
      "outputs": [
        {
          "name": "stdout",
          "output_type": "stream",
          "text": [
            "<class 'pandas.core.frame.DataFrame'>\n",
            "Index: 68808 entries, 0 to 70893\n",
            "Data columns (total 36 columns):\n",
            " #   Column                        Non-Null Count  Dtype  \n",
            "---  ------                        --------------  -----  \n",
            " 0   empresa_re                    68808 non-null  object \n",
            " 1   numero_processo               68808 non-null  object \n",
            " 2   cnpj_re                       68808 non-null  object \n",
            " 3   data_distribuicao             68808 non-null  object \n",
            " 4   UF                            68808 non-null  object \n",
            " 5   jurisdicao                    68808 non-null  object \n",
            " 6   obj_principal                 68808 non-null  object \n",
            " 7   subobj_principal              68808 non-null  object \n",
            " 8   valor_pedido_inicial          68808 non-null  float64\n",
            " 9   n_autores                     68808 non-null  int32  \n",
            " 10  data_voo                      68808 non-null  object \n",
            " 11  operacao                      68808 non-null  object \n",
            " 12  causa_alegada                 68808 non-null  object \n",
            " 13  situacao_processual           68808 non-null  object \n",
            " 14  instancia                     68808 non-null  object \n",
            " 15  resultado_decisao_sentenca    68808 non-null  object \n",
            " 16  data_sentenca                 68808 non-null  object \n",
            " 17  valor_dano_moral              68808 non-null  float64\n",
            " 18  valor_dano_material           68808 non-null  float64\n",
            " 19  valor_total_condenacao        68808 non-null  float64\n",
            " 20  data_acordao                  68808 non-null  object \n",
            " 21  valor_pago                    68808 non-null  float64\n",
            " 22  num_proc_ano                  68808 non-null  int32  \n",
            " 23  numero_processo_regex         68808 non-null  object \n",
            " 24  obj_problemas_operacionais    68808 non-null  bool   \n",
            " 25  obj_bagagem                   68808 non-null  bool   \n",
            " 26  obj_contrato                  68808 non-null  bool   \n",
            " 27  obj_outros                    68808 non-null  bool   \n",
            " 28  causa_nao_informado           68808 non-null  bool   \n",
            " 29  causa_forca_maior             68808 non-null  bool   \n",
            " 30  causa_fortuitos               68808 non-null  bool   \n",
            " 31  causa_terceiros               68808 non-null  bool   \n",
            " 32  causa_cliente                 68808 non-null  bool   \n",
            " 33  causa_aerea                   68808 non-null  bool   \n",
            " 34  causa_outros                  68808 non-null  bool   \n",
            " 35  situacao_processual_sentenca  68808 non-null  object \n",
            "dtypes: bool(11), float64(5), int32(2), object(18)\n",
            "memory usage: 13.8+ MB\n"
          ]
        }
      ],
      "source": [
        "dados_latam_novos_2023.info()"
      ]
    },
    {
      "cell_type": "code",
      "execution_count": null,
      "metadata": {
        "id": "xCTxB-e0zs5N"
      },
      "outputs": [],
      "source": [
        "dados_latam_novos_2023.to_csv('./LATAM/final/ajust_dados_latam_novos_2023.csv',index=False)"
      ]
    },
    {
      "cell_type": "markdown",
      "metadata": {
        "id": "m6WPZnnMmG1S",
        "jp-MarkdownHeadingCollapsed": true
      },
      "source": [
        "#### Consolidando bases de dados da Latam"
      ]
    },
    {
      "cell_type": "code",
      "execution_count": null,
      "metadata": {
        "id": "3EJ2sE07mGKE"
      },
      "outputs": [],
      "source": [
        "dados_latam_original = pd.read_csv('./LATAM/final/ajust_dados_latam_original.csv')"
      ]
    },
    {
      "cell_type": "code",
      "execution_count": null,
      "metadata": {
        "id": "xFrcIdYD1y65"
      },
      "outputs": [],
      "source": [
        "dados_latam_novos = pd.read_csv('./LATAM/final/ajust_dados_latam_novos.csv')"
      ]
    },
    {
      "cell_type": "code",
      "execution_count": null,
      "metadata": {
        "id": "kSqvHuEJ13eD"
      },
      "outputs": [],
      "source": [
        "dados_latam_novos_2023 = pd.read_csv('./LATAM/final/ajust_dados_latam_novos_2023.csv')"
      ]
    },
    {
      "cell_type": "code",
      "execution_count": null,
      "metadata": {
        "id": "dwnWc1sj2ZIf"
      },
      "outputs": [],
      "source": [
        "dados_latam = pd.concat([dados_latam_original,dados_latam_novos,dados_latam_novos_2023],axis=0)"
      ]
    },
    {
      "cell_type": "code",
      "execution_count": null,
      "metadata": {
        "id": "jdvgnbX02ZIg",
        "outputId": "27824499-d203-46f9-e681-3cb578189392"
      },
      "outputs": [
        {
          "data": {
            "text/plain": [
              "(234642, 36)"
            ]
          },
          "execution_count": 256,
          "metadata": {},
          "output_type": "execute_result"
        }
      ],
      "source": [
        "dados_latam.shape"
      ]
    },
    {
      "cell_type": "code",
      "execution_count": null,
      "metadata": {
        "id": "TnzplQhi2ZIh",
        "outputId": "bcc1456b-5805-4392-c717-8e7ec6301bae"
      },
      "outputs": [
        {
          "data": {
            "text/plain": [
              "empresa_re                           0\n",
              "numero_processo                      0\n",
              "cnpj_re                              0\n",
              "data_distribuicao                    0\n",
              "UF                                   0\n",
              "jurisdicao                           0\n",
              "obj_principal                        1\n",
              "subobj_principal                     0\n",
              "valor_pedido_inicial                 0\n",
              "n_autores                            0\n",
              "data_voo                         69535\n",
              "operacao                             0\n",
              "causa_alegada                        0\n",
              "situacao_processual              16058\n",
              "instancia                            0\n",
              "resultado_decisao_sentenca       31194\n",
              "data_sentenca                   153173\n",
              "valor_dano_moral                     0\n",
              "valor_dano_material                  0\n",
              "valor_total_condenacao               0\n",
              "data_acordao                    223494\n",
              "valor_pago                           0\n",
              "num_proc_ano                         0\n",
              "numero_processo_regex                0\n",
              "obj_problemas_operacionais           0\n",
              "obj_bagagem                          0\n",
              "obj_contrato                         0\n",
              "obj_outros                           0\n",
              "causa_nao_informado                  0\n",
              "causa_forca_maior                    0\n",
              "causa_fortuitos                      0\n",
              "causa_terceiros                      0\n",
              "causa_cliente                        0\n",
              "causa_aerea                          0\n",
              "causa_outros                         0\n",
              "situacao_processual_sentenca         0\n",
              "dtype: int64"
            ]
          },
          "execution_count": 257,
          "metadata": {},
          "output_type": "execute_result"
        }
      ],
      "source": [
        "dados_latam.isnull().sum()"
      ]
    },
    {
      "cell_type": "code",
      "execution_count": null,
      "metadata": {
        "id": "aVeBTgiz2ZIh",
        "outputId": "0d6696ed-a2ae-4817-b4a4-d7b907f9b043"
      },
      "outputs": [
        {
          "name": "stdout",
          "output_type": "stream",
          "text": [
            "<class 'pandas.core.frame.DataFrame'>\n",
            "Index: 234642 entries, 0 to 68807\n",
            "Data columns (total 36 columns):\n",
            " #   Column                        Non-Null Count   Dtype  \n",
            "---  ------                        --------------   -----  \n",
            " 0   empresa_re                    234642 non-null  object \n",
            " 1   numero_processo               234642 non-null  object \n",
            " 2   cnpj_re                       234642 non-null  object \n",
            " 3   data_distribuicao             234642 non-null  object \n",
            " 4   UF                            234642 non-null  object \n",
            " 5   jurisdicao                    234642 non-null  object \n",
            " 6   obj_principal                 234641 non-null  object \n",
            " 7   subobj_principal              234642 non-null  object \n",
            " 8   valor_pedido_inicial          234642 non-null  float64\n",
            " 9   n_autores                     234642 non-null  int64  \n",
            " 10  data_voo                      165107 non-null  object \n",
            " 11  operacao                      234642 non-null  object \n",
            " 12  causa_alegada                 234642 non-null  object \n",
            " 13  situacao_processual           218584 non-null  object \n",
            " 14  instancia                     234642 non-null  object \n",
            " 15  resultado_decisao_sentenca    203448 non-null  object \n",
            " 16  data_sentenca                 81469 non-null   object \n",
            " 17  valor_dano_moral              234642 non-null  float64\n",
            " 18  valor_dano_material           234642 non-null  float64\n",
            " 19  valor_total_condenacao        234642 non-null  float64\n",
            " 20  data_acordao                  11148 non-null   object \n",
            " 21  valor_pago                    234642 non-null  float64\n",
            " 22  num_proc_ano                  234642 non-null  int64  \n",
            " 23  numero_processo_regex         234642 non-null  object \n",
            " 24  obj_problemas_operacionais    234642 non-null  bool   \n",
            " 25  obj_bagagem                   234642 non-null  bool   \n",
            " 26  obj_contrato                  234642 non-null  bool   \n",
            " 27  obj_outros                    234642 non-null  bool   \n",
            " 28  causa_nao_informado           234642 non-null  bool   \n",
            " 29  causa_forca_maior             234642 non-null  bool   \n",
            " 30  causa_fortuitos               234642 non-null  bool   \n",
            " 31  causa_terceiros               234642 non-null  bool   \n",
            " 32  causa_cliente                 234642 non-null  bool   \n",
            " 33  causa_aerea                   234642 non-null  bool   \n",
            " 34  causa_outros                  234642 non-null  bool   \n",
            " 35  situacao_processual_sentenca  234642 non-null  object \n",
            "dtypes: bool(11), float64(5), int64(2), object(18)\n",
            "memory usage: 49.0+ MB\n"
          ]
        }
      ],
      "source": [
        "dados_latam.info()"
      ]
    },
    {
      "cell_type": "code",
      "execution_count": null,
      "metadata": {
        "id": "EbxtlkYK2ZIi"
      },
      "outputs": [],
      "source": [
        "dados_latam = dados_latam.sort_values(by=['empresa_re',\n",
        "                                      'numero_processo_regex'], ascending=True)"
      ]
    },
    {
      "cell_type": "code",
      "execution_count": null,
      "metadata": {
        "id": "UNgDe3-_2ZIi"
      },
      "outputs": [],
      "source": [
        "dados_latam = dados_latam.drop_duplicates(subset=['empresa_re',\n",
        "                                        'numero_processo_regex'],keep='first')"
      ]
    },
    {
      "cell_type": "code",
      "execution_count": null,
      "metadata": {
        "id": "YRXEGUEL2ZIj"
      },
      "outputs": [],
      "source": [
        "dados_latam = dados_latam[dados_latam.UF.isin(['AM', 'BA', 'CE', 'DF', 'ES', 'GO',\n",
        "            'MG', 'MS', 'MT', 'PE', 'PR', 'RJ', 'RO', 'SC', 'SP', 'TO'])]"
      ]
    },
    {
      "cell_type": "code",
      "execution_count": null,
      "metadata": {
        "id": "aqIp4S152ZIj"
      },
      "outputs": [],
      "source": [
        "dados_latam = dados_latam.reset_index(drop=True)"
      ]
    },
    {
      "cell_type": "code",
      "execution_count": null,
      "metadata": {
        "id": "8D5s-cvU2ZIj",
        "outputId": "7359bd43-a375-4e06-a966-db67a6ed7e44"
      },
      "outputs": [
        {
          "data": {
            "text/plain": [
              "(198721, 36)"
            ]
          },
          "execution_count": 263,
          "metadata": {},
          "output_type": "execute_result"
        }
      ],
      "source": [
        "dados_latam.shape"
      ]
    },
    {
      "cell_type": "code",
      "execution_count": null,
      "metadata": {
        "id": "yUQMLMmI2ZIk"
      },
      "outputs": [],
      "source": [
        "dados_latam.to_csv('./LATAM/final/latam_dados_consolidados_FINAL.csv',index=False)"
      ]
    },
    {
      "cell_type": "markdown",
      "metadata": {
        "id": "dyHsRzEZhazY",
        "jp-MarkdownHeadingCollapsed": true
      },
      "source": [
        "### Copa"
      ]
    },
    {
      "cell_type": "markdown",
      "metadata": {
        "id": "uAW0ki8f55AV",
        "jp-MarkdownHeadingCollapsed": true
      },
      "source": [
        "#### Dados originais"
      ]
    },
    {
      "cell_type": "markdown",
      "metadata": {
        "id": "2rXuorOpoEXe",
        "jp-MarkdownHeadingCollapsed": true
      },
      "source": [
        "##### Importando os dados"
      ]
    },
    {
      "cell_type": "code",
      "execution_count": null,
      "metadata": {
        "id": "1xFTOjjZ55AW"
      },
      "outputs": [],
      "source": [
        "dados_copa_original = pd.read_csv('./COPA/base_inicial_copa.csv',\n",
        "                                  delimiter=';', low_memory=False)"
      ]
    },
    {
      "cell_type": "markdown",
      "metadata": {
        "jp-MarkdownHeadingCollapsed": true,
        "id": "IqbFc9QpnozO"
      },
      "source": [
        "##### Ajustando as colunas e filtrando os dados"
      ]
    },
    {
      "cell_type": "code",
      "execution_count": null,
      "metadata": {
        "id": "vZfKXtaM55AX"
      },
      "outputs": [],
      "source": [
        "dados_copa_original = dados_copa_original.drop(columns=['Comarca (District)'])"
      ]
    },
    {
      "cell_type": "code",
      "execution_count": null,
      "metadata": {
        "id": "Fi_wZYcs55AX"
      },
      "outputs": [],
      "source": [
        "dados_copa_original.columns = [\n",
        "  'numero_processo', 'empresa_re', 'cnpj_re', 'data_distribuicao', 'UF',\n",
        "  'jurisdicao', 'obj_principal', 'subobj_principal',\n",
        "  'valor_pedido_inicial', 'n_autores', 'data_voo', 'operacao',\n",
        "  'causa_alegada', 'situacao_processual', 'instancia',\n",
        "  'resultado_decisao_sentenca', 'data_sentenca', 'valor_dano_moral',\n",
        "  'valor_dano_material', 'valor_total_condenacao', 'data_acordao', 'valor_pago'\n",
        "]"
      ]
    },
    {
      "cell_type": "code",
      "execution_count": null,
      "metadata": {
        "id": "REUlknTi55AY"
      },
      "outputs": [],
      "source": [
        "dados_copa_original['num_proc_ano'] = dados_copa_original['numero_processo']. \\\n",
        "                      str.extract(r'\\d{7}-\\d{2}\\.(\\d{4})\\.\\d\\.\\d{2}\\.\\d{4}')"
      ]
    },
    {
      "cell_type": "code",
      "execution_count": null,
      "metadata": {
        "id": "zTL82-Wb55AZ"
      },
      "outputs": [],
      "source": [
        "dados_copa_original = dados_copa_original.dropna(subset = ['num_proc_ano'], axis=0)\n",
        "dados_copa_original = dados_copa_original.reset_index(drop=True)"
      ]
    },
    {
      "cell_type": "code",
      "execution_count": null,
      "metadata": {
        "id": "f8RaWtPz55AZ"
      },
      "outputs": [],
      "source": [
        "dados_copa_original.num_proc_ano = pd.to_numeric(dados_copa_original.num_proc_ano).astype(int)"
      ]
    },
    {
      "cell_type": "code",
      "execution_count": null,
      "metadata": {
        "id": "gVUbx-Y8nozP",
        "outputId": "67e5a38a-f168-4124-966f-ef86924f8a32"
      },
      "outputs": [
        {
          "data": {
            "text/plain": [
              "array([2018, 2016, 2019, 2017, 2021, 2020, 2022, 2015])"
            ]
          },
          "execution_count": 275,
          "metadata": {},
          "output_type": "execute_result"
        }
      ],
      "source": [
        "dados_copa_original.num_proc_ano.unique()"
      ]
    },
    {
      "cell_type": "code",
      "execution_count": null,
      "metadata": {
        "id": "AxPs21LM55AZ"
      },
      "outputs": [],
      "source": [
        "dados_copa_original = dados_copa_original[dados_copa_original['num_proc_ano'].\n",
        "                                          isin([2019,2020,2021,2022,2023])]"
      ]
    },
    {
      "cell_type": "code",
      "execution_count": null,
      "metadata": {
        "id": "Y2jpNZ6B55Aa"
      },
      "outputs": [],
      "source": [
        "dados_copa_original.numero_processo = dados_copa_original.numero_processo.replace(pd.NA,'0')\n",
        "dados_copa_original['numero_processo_regex'] = dados_copa_original.numero_processo. \\\n",
        "      str.replace(r'[\\-\\\\.\\\\\" \"]', '', regex=True).str.slice(0,20)"
      ]
    },
    {
      "cell_type": "code",
      "execution_count": null,
      "metadata": {
        "id": "jsER2ziH55Ab"
      },
      "outputs": [],
      "source": [
        "dados_copa_original = dados_copa_original[[\n",
        "    'empresa_re', 'numero_processo', 'cnpj_re', 'data_distribuicao', 'UF',\n",
        "       'jurisdicao', 'obj_principal', 'subobj_principal',\n",
        "       'valor_pedido_inicial', 'n_autores', 'data_voo', 'operacao',\n",
        "       'causa_alegada', 'situacao_processual', 'instancia',\n",
        "       'resultado_decisao_sentenca', 'data_sentenca', 'valor_dano_moral',\n",
        "       'valor_dano_material', 'valor_total_condenacao', 'data_acordao',\n",
        "       'valor_pago', 'num_proc_ano', 'numero_processo_regex'\n",
        "]]"
      ]
    },
    {
      "cell_type": "markdown",
      "metadata": {
        "id": "Khh_8SBY55Ac",
        "jp-MarkdownHeadingCollapsed": true
      },
      "source": [
        "##### Ajustando os dados"
      ]
    },
    {
      "cell_type": "code",
      "execution_count": null,
      "metadata": {
        "id": "epnBAIe67v4h",
        "outputId": "a9a09ee0-a05c-4350-f57f-fa030c9b168a"
      },
      "outputs": [
        {
          "data": {
            "text/plain": [
              "array(['Copa - Compañia Panameña De Aviacion S.a'], dtype=object)"
            ]
          },
          "execution_count": 280,
          "metadata": {},
          "output_type": "execute_result"
        }
      ],
      "source": [
        "dados_copa_original.empresa_re.unique()"
      ]
    },
    {
      "cell_type": "code",
      "execution_count": null,
      "metadata": {
        "id": "_LuvG8g_55Ac"
      },
      "outputs": [],
      "source": [
        "dados_copa_original = transforma_df(dados_copa_original)"
      ]
    },
    {
      "cell_type": "code",
      "execution_count": null,
      "metadata": {
        "id": "mWMSy4DH55Ac",
        "outputId": "7c29a6b7-35ba-4937-9555-60fe40a48a43"
      },
      "outputs": [
        {
          "name": "stdout",
          "output_type": "stream",
          "text": [
            "['Copa']\n",
            "['03.834.757/0001-79']\n",
            "['PR' 'RS' 'RJ' 'SP' 'DF' 'MG' 'MT' 'SC' 'BA' 'RN' 'ES' 'SE' 'AM' 'GO'\n",
            " 'PE' 'MS' 'CE' 'PI' 'Não informado' 'PB' 'RO' 'MA' 'RR' 'AP' 'AL' 'TO'\n",
            " 'PA' 'AC']\n",
            "['Juizado Especial Cível' 'Não informado' 'Vara Cível' 'Outros']\n",
            "['Internacional']\n",
            "['Acordo' 'Condenação' 'Decisão favorável à aérea (improcedência)'\n",
            " 'Extinção sem julgamento do mérito' 'Outros']\n",
            "['1ª Instância' '2ª Instância' 'Não informado']\n",
            "[2019 2021 2020 2022]\n"
          ]
        }
      ],
      "source": [
        "print(dados_copa_original.empresa_re.unique())\n",
        "print(dados_copa_original.cnpj_re.unique())\n",
        "print(dados_copa_original.UF.unique())\n",
        "print(dados_copa_original.jurisdicao.unique())\n",
        "print(dados_copa_original.operacao.unique())\n",
        "print(dados_copa_original.situacao_processual_sentenca.unique())\n",
        "print(dados_copa_original.instancia.unique())\n",
        "print(dados_copa_original.num_proc_ano.unique())"
      ]
    },
    {
      "cell_type": "code",
      "execution_count": null,
      "metadata": {
        "id": "6mN04n1m55Ad",
        "outputId": "f92ae01e-a14f-426c-80fa-da1f9e473162"
      },
      "outputs": [
        {
          "name": "stdout",
          "output_type": "stream",
          "text": [
            "<class 'pandas.core.frame.DataFrame'>\n",
            "Index: 8631 entries, 73 to 8876\n",
            "Data columns (total 36 columns):\n",
            " #   Column                        Non-Null Count  Dtype  \n",
            "---  ------                        --------------  -----  \n",
            " 0   empresa_re                    8631 non-null   object \n",
            " 1   numero_processo               8631 non-null   object \n",
            " 2   cnpj_re                       8631 non-null   object \n",
            " 3   data_distribuicao             8631 non-null   object \n",
            " 4   UF                            8631 non-null   object \n",
            " 5   jurisdicao                    8631 non-null   object \n",
            " 6   obj_principal                 8631 non-null   object \n",
            " 7   subobj_principal              8631 non-null   object \n",
            " 8   valor_pedido_inicial          8631 non-null   float64\n",
            " 9   n_autores                     8631 non-null   int32  \n",
            " 10  data_voo                      8631 non-null   object \n",
            " 11  operacao                      8631 non-null   object \n",
            " 12  causa_alegada                 8631 non-null   object \n",
            " 13  situacao_processual           8631 non-null   object \n",
            " 14  instancia                     8631 non-null   object \n",
            " 15  resultado_decisao_sentenca    8631 non-null   object \n",
            " 16  data_sentenca                 8631 non-null   object \n",
            " 17  valor_dano_moral              8631 non-null   float64\n",
            " 18  valor_dano_material           8631 non-null   float64\n",
            " 19  valor_total_condenacao        8631 non-null   float64\n",
            " 20  data_acordao                  8631 non-null   object \n",
            " 21  valor_pago                    8631 non-null   float64\n",
            " 22  num_proc_ano                  8631 non-null   int32  \n",
            " 23  numero_processo_regex         8631 non-null   object \n",
            " 24  obj_problemas_operacionais    8631 non-null   bool   \n",
            " 25  obj_bagagem                   8631 non-null   bool   \n",
            " 26  obj_contrato                  8631 non-null   bool   \n",
            " 27  obj_outros                    8631 non-null   bool   \n",
            " 28  causa_nao_informado           8631 non-null   bool   \n",
            " 29  causa_forca_maior             8631 non-null   bool   \n",
            " 30  causa_fortuitos               8631 non-null   bool   \n",
            " 31  causa_terceiros               8631 non-null   bool   \n",
            " 32  causa_cliente                 8631 non-null   bool   \n",
            " 33  causa_aerea                   8631 non-null   bool   \n",
            " 34  causa_outros                  8631 non-null   bool   \n",
            " 35  situacao_processual_sentenca  8631 non-null   object \n",
            "dtypes: bool(11), float64(5), int32(2), object(18)\n",
            "memory usage: 1.7+ MB\n"
          ]
        }
      ],
      "source": [
        "dados_copa_original.info()"
      ]
    },
    {
      "cell_type": "code",
      "execution_count": null,
      "metadata": {
        "id": "A1sBLmr055Ae"
      },
      "outputs": [],
      "source": [
        "dados_copa_original.to_csv('./COPA/final/ajust_dados_copa_original.csv',index=False)"
      ]
    },
    {
      "cell_type": "markdown",
      "metadata": {
        "id": "TG8H6XtylRRN",
        "jp-MarkdownHeadingCollapsed": true
      },
      "source": [
        "#### Dados complementares de 2019 a 2022"
      ]
    },
    {
      "cell_type": "markdown",
      "metadata": {
        "id": "JVZUgsTjqiQc",
        "jp-MarkdownHeadingCollapsed": true
      },
      "source": [
        "##### Importando os dados"
      ]
    },
    {
      "cell_type": "code",
      "execution_count": null,
      "metadata": {
        "id": "fDIV2UpzkZyc"
      },
      "outputs": [],
      "source": [
        "dados_copa_novos = pd.read_csv('./COPA/base_complementar_copa.csv',\n",
        "                               delimiter=';',low_memory=False)"
      ]
    },
    {
      "cell_type": "markdown",
      "metadata": {
        "jp-MarkdownHeadingCollapsed": true,
        "id": "8smNQrn5nozQ"
      },
      "source": [
        "##### Ajustando as colunas e filtrando os dados"
      ]
    },
    {
      "cell_type": "code",
      "execution_count": null,
      "metadata": {
        "id": "22bERRzfthHF"
      },
      "outputs": [],
      "source": [
        "dados_copa_novos = dados_copa_novos.drop(columns=['Comarca (District)'])"
      ]
    },
    {
      "cell_type": "code",
      "execution_count": null,
      "metadata": {
        "id": "QkzJPVS8thHG"
      },
      "outputs": [],
      "source": [
        "dados_copa_novos.columns = [\n",
        "  'numero_processo', 'empresa_re', 'cnpj_re', 'data_distribuicao', 'UF',\n",
        "  'jurisdicao', 'obj_principal', 'subobj_principal',\n",
        "  'valor_pedido_inicial', 'n_autores', 'data_voo', 'operacao',\n",
        "  'causa_alegada', 'situacao_processual', 'instancia',\n",
        "  'resultado_decisao_sentenca', 'data_sentenca', 'valor_dano_moral',\n",
        "  'valor_dano_material', 'valor_total_condenacao', 'data_acordao', 'valor_pago'\n",
        "]"
      ]
    },
    {
      "cell_type": "code",
      "execution_count": null,
      "metadata": {
        "id": "WfmemC2XthHG"
      },
      "outputs": [],
      "source": [
        "dados_copa_novos['num_proc_ano'] = dados_copa_novos['numero_processo']. \\\n",
        "                      str.extract(r'\\d{7}-\\d{2}\\.(\\d{4})\\.\\d\\.\\d{2}\\.\\d{4}')"
      ]
    },
    {
      "cell_type": "code",
      "execution_count": null,
      "metadata": {
        "id": "2At1YB0ZthHG"
      },
      "outputs": [],
      "source": [
        "dados_copa_novos = dados_copa_novos.dropna(subset = ['num_proc_ano'], axis=0)\n",
        "dados_copa_novos = dados_copa_novos.reset_index(drop=True)"
      ]
    },
    {
      "cell_type": "code",
      "execution_count": null,
      "metadata": {
        "id": "V9T7K59OthHG"
      },
      "outputs": [],
      "source": [
        "dados_copa_novos.num_proc_ano = pd.to_numeric(dados_copa_novos.num_proc_ano).astype(int)"
      ]
    },
    {
      "cell_type": "code",
      "execution_count": null,
      "metadata": {
        "id": "G3_lcDj_nozR",
        "outputId": "6c242d8b-3176-4231-b5cb-b612db7a9b6f"
      },
      "outputs": [
        {
          "data": {
            "text/plain": [
              "array([2018, 2016, 2019, 2017, 2021, 2020, 2022, 2015])"
            ]
          },
          "execution_count": 294,
          "metadata": {},
          "output_type": "execute_result"
        }
      ],
      "source": [
        "dados_copa_novos.num_proc_ano.unique()"
      ]
    },
    {
      "cell_type": "code",
      "execution_count": null,
      "metadata": {
        "id": "1iK_MgdAthHG"
      },
      "outputs": [],
      "source": [
        "dados_copa_novos = dados_copa_novos[dados_copa_novos['num_proc_ano'].\n",
        "                                          isin([2019,2020,2021,2022,2023])]"
      ]
    },
    {
      "cell_type": "code",
      "execution_count": null,
      "metadata": {
        "id": "wOn64ftpthHG"
      },
      "outputs": [],
      "source": [
        "dados_copa_novos.numero_processo = dados_copa_novos.numero_processo.replace(pd.NA,'0')\n",
        "dados_copa_novos['numero_processo_regex'] = dados_copa_novos.numero_processo. \\\n",
        "      str.replace(r'[\\-\\\\.\\\\\" \"]', '', regex=True).str.slice(0,20)"
      ]
    },
    {
      "cell_type": "code",
      "execution_count": null,
      "metadata": {
        "id": "m-R8W9ulthHH"
      },
      "outputs": [],
      "source": [
        "dados_copa_novos = dados_copa_novos[[\n",
        "    'empresa_re', 'numero_processo', 'cnpj_re', 'data_distribuicao', 'UF',\n",
        "       'jurisdicao', 'obj_principal', 'subobj_principal',\n",
        "       'valor_pedido_inicial', 'n_autores', 'data_voo', 'operacao',\n",
        "       'causa_alegada', 'situacao_processual', 'instancia',\n",
        "       'resultado_decisao_sentenca', 'data_sentenca', 'valor_dano_moral',\n",
        "       'valor_dano_material', 'valor_total_condenacao', 'data_acordao',\n",
        "       'valor_pago', 'num_proc_ano', 'numero_processo_regex'\n",
        "]]"
      ]
    },
    {
      "cell_type": "markdown",
      "metadata": {
        "id": "apDLLqoHthHH",
        "jp-MarkdownHeadingCollapsed": true
      },
      "source": [
        "##### Ajustando os dados"
      ]
    },
    {
      "cell_type": "code",
      "execution_count": null,
      "metadata": {
        "id": "F-DXRvb2thHH",
        "outputId": "2b957d88-76ed-46e9-93cc-cecc1ff33ede"
      },
      "outputs": [
        {
          "data": {
            "text/plain": [
              "array(['Copa - Compañia Panameña De Aviacion S.a'], dtype=object)"
            ]
          },
          "execution_count": 299,
          "metadata": {},
          "output_type": "execute_result"
        }
      ],
      "source": [
        "dados_copa_novos.empresa_re.unique()"
      ]
    },
    {
      "cell_type": "code",
      "execution_count": null,
      "metadata": {
        "id": "fsxXWH34thHI"
      },
      "outputs": [],
      "source": [
        "dados_copa_novos = transforma_df(dados_copa_novos)"
      ]
    },
    {
      "cell_type": "code",
      "execution_count": null,
      "metadata": {
        "id": "A6t0PksxthHI",
        "outputId": "21b0ba8c-68ac-450c-81e4-ef9824edffb7"
      },
      "outputs": [
        {
          "name": "stdout",
          "output_type": "stream",
          "text": [
            "['Copa']\n",
            "['03.834.757/0001-79' '03.834.757/0001-80' '03.834.757/0001-81'\n",
            " '03.834.757/0001-82' '03.834.757/0001-83' '03.834.757/0001-84'\n",
            " '03.834.757/0001-85' '03.834.757/0001-86' '03.834.757/0001-87'\n",
            " '03.834.757/0001-88' '03.834.757/0001-89' '03.834.757/0001-90'\n",
            " '03.834.757/0001-91' '03.834.757/0001-92' '03.834.757/0001-93'\n",
            " '03.834.757/0001-94' '03.834.757/0001-95' '03.834.757/0001-96'\n",
            " '03.834.757/0001-97' '03.834.757/0001-98' '03.834.757/0001-99'\n",
            " '03.834.757/0001-100' '03.834.757/0001-101' '03.834.757/0001-102'\n",
            " '03.834.757/0001-103' '03.834.757/0001-104' '03.834.757/0001-105'\n",
            " '03.834.757/0001-106' '03.834.757/0001-107' '03.834.757/0001-108'\n",
            " '03.834.757/0001-109' '03.834.757/0001-110' '03.834.757/0001-111'\n",
            " '03.834.757/0001-112' '03.834.757/0001-113' '03.834.757/0001-114'\n",
            " '03.834.757/0001-115' '03.834.757/0001-116' '03.834.757/0001-117'\n",
            " '03.834.757/0001-118' '03.834.757/0001-119' '03.834.757/0001-120'\n",
            " '03.834.757/0001-121' '03.834.757/0001-122' '03.834.757/0001-123'\n",
            " '03.834.757/0001-124' '03.834.757/0001-125' '03.834.757/0001-126'\n",
            " '03.834.757/0001-127' '03.834.757/0001-128' '03.834.757/0001-129'\n",
            " '03.834.757/0001-130' '03.834.757/0001-131' '03.834.757/0001-132'\n",
            " '03.834.757/0001-133' '03.834.757/0001-134' '03.834.757/0001-135'\n",
            " '03.834.757/0001-136' '03.834.757/0001-137' '03.834.757/0001-138'\n",
            " '03.834.757/0001-139' '03.834.757/0001-140' '03.834.757/0001-141'\n",
            " '03.834.757/0001-142' '03.834.757/0001-143' '03.834.757/0001-144'\n",
            " '03.834.757/0001-145' '03.834.757/0001-146' '03.834.757/0001-147'\n",
            " '03.834.757/0001-148' '03.834.757/0001-149' '03.834.757/0001-150'\n",
            " '03.834.757/0001-151' '03.834.757/0001-152' '03.834.757/0001-153'\n",
            " '03.834.757/0001-154' '03.834.757/0001-155' '03.834.757/0001-156'\n",
            " '03.834.757/0001-157' '03.834.757/0001-158' '03.834.757/0001-159'\n",
            " '03.834.757/0001-160' '03.834.757/0001-161' '03.834.757/0001-162'\n",
            " '03.834.757/0001-163' '03.834.757/0001-164' '03.834.757/0001-165'\n",
            " '03.834.757/0001-166' '03.834.757/0001-167' '03.834.757/0001-168'\n",
            " '03.834.757/0001-169' '03.834.757/0001-170' '03.834.757/0001-171'\n",
            " '03.834.757/0001-172' '03.834.757/0001-173' '03.834.757/0001-174'\n",
            " '03.834.757/0001-175' '03.834.757/0001-176' '03.834.757/0001-177'\n",
            " '03.834.757/0001-178' '03.834.757/0001-179' '03.834.757/0001-180'\n",
            " '03.834.757/0001-181' '03.834.757/0001-182' '03.834.757/0001-183'\n",
            " '03.834.757/0001-184' '03.834.757/0001-185' '03.834.757/0001-186'\n",
            " '03.834.757/0001-187' '03.834.757/0001-188' '03.834.757/0001-189'\n",
            " '03.834.757/0001-190' '03.834.757/0001-191' '03.834.757/0001-192'\n",
            " '03.834.757/0001-193' '03.834.757/0001-194' '03.834.757/0001-195'\n",
            " '03.834.757/0001-196' '03.834.757/0001-197' '03.834.757/0001-198'\n",
            " '03.834.757/0001-199' '03.834.757/0001-200' '03.834.757/0001-201'\n",
            " '03.834.757/0001-202' '03.834.757/0001-203' '03.834.757/0001-204'\n",
            " '03.834.757/0001-205' '03.834.757/0001-206' '03.834.757/0001-207'\n",
            " '03.834.757/0001-208' '03.834.757/0001-209' '03.834.757/0001-210'\n",
            " '03.834.757/0001-211' '03.834.757/0001-212' '03.834.757/0001-213'\n",
            " '03.834.757/0001-214' '03.834.757/0001-215' '03.834.757/0001-216'\n",
            " '03.834.757/0001-217' '03.834.757/0001-218' '03.834.757/0001-219'\n",
            " '03.834.757/0001-220' '03.834.757/0001-221' '03.834.757/0001-222'\n",
            " '03.834.757/0001-223' '03.834.757/0001-224' '03.834.757/0001-225'\n",
            " '03.834.757/0001-226' '03.834.757/0001-227' '03.834.757/0001-228'\n",
            " '03.834.757/0001-229' '03.834.757/0001-230' '03.834.757/0001-231'\n",
            " '03.834.757/0001-232' '03.834.757/0001-233' '03.834.757/0001-234'\n",
            " '03.834.757/0001-235' '03.834.757/0001-236' '03.834.757/0001-237'\n",
            " '03.834.757/0001-238' '03.834.757/0001-239' '03.834.757/0001-240'\n",
            " '03.834.757/0001-241' '03.834.757/0001-242' '03.834.757/0001-243'\n",
            " '03.834.757/0001-244' '03.834.757/0001-245' '03.834.757/0001-246'\n",
            " '03.834.757/0001-247' '03.834.757/0001-248' '03.834.757/0001-249'\n",
            " '03.834.757/0001-250' '03.834.757/0001-251' '03.834.757/0001-252'\n",
            " '03.834.757/0001-253' '03.834.757/0001-254' '03.834.757/0001-255'\n",
            " '03.834.757/0001-256' '03.834.757/0001-257' '03.834.757/0001-258'\n",
            " '03.834.757/0001-259' '03.834.757/0001-260' '03.834.757/0001-261'\n",
            " '03.834.757/0001-262' '03.834.757/0001-263' '03.834.757/0001-264'\n",
            " '03.834.757/0001-265' '03.834.757/0001-266' '03.834.757/0001-267'\n",
            " '03.834.757/0001-268' '03.834.757/0001-269' '03.834.757/0001-270'\n",
            " '03.834.757/0001-271' '03.834.757/0001-272' '03.834.757/0001-273'\n",
            " '03.834.757/0001-274' '03.834.757/0001-275' '03.834.757/0001-276'\n",
            " '03.834.757/0001-277' '03.834.757/0001-278' '03.834.757/0001-279'\n",
            " '03.834.757/0001-280' '03.834.757/0001-281' '03.834.757/0001-282'\n",
            " '03.834.757/0001-283' '03.834.757/0001-284' '03.834.757/0001-285'\n",
            " '03.834.757/0001-286' '03.834.757/0001-287' '03.834.757/0001-288'\n",
            " '03.834.757/0001-289' '03.834.757/0001-290' '03.834.757/0001-291'\n",
            " '03.834.757/0001-292' '03.834.757/0001-293' '03.834.757/0001-294'\n",
            " '03.834.757/0001-295' '03.834.757/0001-296' '03.834.757/0001-297'\n",
            " '03.834.757/0001-298' '03.834.757/0001-299' '03.834.757/0001-300'\n",
            " '03.834.757/0001-301']\n",
            "['PR' 'RS' 'RJ' 'SP' 'DF' 'MG' 'MT' 'SC' 'BA' 'RN' 'ES' 'SE' 'AM' 'GO'\n",
            " 'PE' 'MS' 'CE' 'PI' 'Não informado' 'PB' 'RO' 'MA' 'RR' 'AP' 'AL' 'TO'\n",
            " 'PA' 'AC']\n",
            "['Juizado Especial Cível' 'Não informado' 'Vara Cível' 'Outros']\n",
            "['Internacional']\n",
            "['Acordo' 'Condenação' 'Decisão favorável à aérea (improcedência)'\n",
            " 'Extinção sem julgamento do mérito' 'Outros']\n",
            "['1ª Instância' '2ª Instância' 'Não informado']\n",
            "[2019 2021 2020 2022]\n"
          ]
        }
      ],
      "source": [
        "print(dados_copa_novos.empresa_re.unique())\n",
        "print(dados_copa_novos.cnpj_re.unique())\n",
        "print(dados_copa_novos.UF.unique())\n",
        "print(dados_copa_novos.jurisdicao.unique())\n",
        "print(dados_copa_novos.operacao.unique())\n",
        "print(dados_copa_novos.situacao_processual_sentenca.unique())\n",
        "print(dados_copa_novos.instancia.unique())\n",
        "print(dados_copa_novos.num_proc_ano.unique())"
      ]
    },
    {
      "cell_type": "code",
      "execution_count": null,
      "metadata": {
        "id": "TQ31gBepthHI",
        "outputId": "e207d208-3a6c-4b8d-8caa-5013c4ea688c"
      },
      "outputs": [
        {
          "name": "stdout",
          "output_type": "stream",
          "text": [
            "<class 'pandas.core.frame.DataFrame'>\n",
            "Index: 8853 entries, 73 to 9098\n",
            "Data columns (total 36 columns):\n",
            " #   Column                        Non-Null Count  Dtype  \n",
            "---  ------                        --------------  -----  \n",
            " 0   empresa_re                    8853 non-null   object \n",
            " 1   numero_processo               8853 non-null   object \n",
            " 2   cnpj_re                       8853 non-null   object \n",
            " 3   data_distribuicao             8853 non-null   object \n",
            " 4   UF                            8853 non-null   object \n",
            " 5   jurisdicao                    8853 non-null   object \n",
            " 6   obj_principal                 8853 non-null   object \n",
            " 7   subobj_principal              8853 non-null   object \n",
            " 8   valor_pedido_inicial          8853 non-null   float64\n",
            " 9   n_autores                     8853 non-null   int32  \n",
            " 10  data_voo                      8853 non-null   object \n",
            " 11  operacao                      8853 non-null   object \n",
            " 12  causa_alegada                 8853 non-null   object \n",
            " 13  situacao_processual           8853 non-null   object \n",
            " 14  instancia                     8853 non-null   object \n",
            " 15  resultado_decisao_sentenca    8853 non-null   object \n",
            " 16  data_sentenca                 8853 non-null   object \n",
            " 17  valor_dano_moral              8853 non-null   float64\n",
            " 18  valor_dano_material           8853 non-null   float64\n",
            " 19  valor_total_condenacao        8853 non-null   float64\n",
            " 20  data_acordao                  8853 non-null   object \n",
            " 21  valor_pago                    8853 non-null   float64\n",
            " 22  num_proc_ano                  8853 non-null   int32  \n",
            " 23  numero_processo_regex         8853 non-null   object \n",
            " 24  obj_problemas_operacionais    8853 non-null   bool   \n",
            " 25  obj_bagagem                   8853 non-null   bool   \n",
            " 26  obj_contrato                  8853 non-null   bool   \n",
            " 27  obj_outros                    8853 non-null   bool   \n",
            " 28  causa_nao_informado           8853 non-null   bool   \n",
            " 29  causa_forca_maior             8853 non-null   bool   \n",
            " 30  causa_fortuitos               8853 non-null   bool   \n",
            " 31  causa_terceiros               8853 non-null   bool   \n",
            " 32  causa_cliente                 8853 non-null   bool   \n",
            " 33  causa_aerea                   8853 non-null   bool   \n",
            " 34  causa_outros                  8853 non-null   bool   \n",
            " 35  situacao_processual_sentenca  8853 non-null   object \n",
            "dtypes: bool(11), float64(5), int32(2), object(18)\n",
            "memory usage: 1.8+ MB\n"
          ]
        }
      ],
      "source": [
        "dados_copa_novos.info()"
      ]
    },
    {
      "cell_type": "code",
      "execution_count": null,
      "metadata": {
        "id": "3JgK8fPQthHI"
      },
      "outputs": [],
      "source": [
        "dados_copa_novos.to_csv('./COPA/final/ajust_dados_copa_novos.csv',index=False)"
      ]
    },
    {
      "cell_type": "markdown",
      "metadata": {
        "id": "wZgQi5KYssE1",
        "jp-MarkdownHeadingCollapsed": true
      },
      "source": [
        "#### Dados novos de 2023"
      ]
    },
    {
      "cell_type": "markdown",
      "metadata": {
        "id": "oayxAngqqpds",
        "jp-MarkdownHeadingCollapsed": true
      },
      "source": [
        "##### Importando os dados"
      ]
    },
    {
      "cell_type": "code",
      "execution_count": null,
      "metadata": {
        "id": "dyItAiF5hhZn"
      },
      "outputs": [],
      "source": [
        "dados_copa_novos_2023_1 = pd.read_csv('./COPA/base_2023_copa_parte_1.csv',\n",
        "                         delimiter=';',low_memory=False)\n",
        "\n",
        "dados_copa_novos_2023_1 = dados_copa_novos_2023_1.drop(columns=['Comarca',\n",
        "                                      'Nº da vara/turmaNome da vara/turma'])\n",
        "\n",
        "dados_copa_novos_2023_1.columns = [\n",
        "  'numero_processo', 'empresa_re', 'cnpj_re', 'data_distribuicao', 'UF',\n",
        "  'jurisdicao', 'obj_principal', 'subobj_principal',\n",
        "  'valor_pedido_inicial', 'n_autores', 'data_voo', 'operacao',\n",
        "  'causa_alegada', 'situacao_processual', 'instancia',\n",
        "  'resultado_decisao_sentenca', 'data_sentenca', 'valor_dano_moral',\n",
        "  'valor_dano_material', 'valor_total_condenacao', 'data_acordao', 'valor_pago'\n",
        "]\n",
        "\n"
      ]
    },
    {
      "cell_type": "code",
      "execution_count": null,
      "metadata": {
        "id": "ku2QFdknkDjC"
      },
      "outputs": [],
      "source": [
        "dados_copa_novos_2023_2 = pd.read_csv('./COPA/base_2023_copa_parte_2.csv',\n",
        "                                      delimiter=';',low_memory=False)\n",
        "\n",
        "dados_copa_novos_2023_2 = dados_copa_novos_2023_2.drop(columns=['Comarca (District)'])\n",
        "\n",
        "dados_copa_novos_2023_2.columns = [\n",
        "  'numero_processo', 'empresa_re', 'cnpj_re', 'data_distribuicao', 'UF',\n",
        "  'jurisdicao', 'obj_principal', 'subobj_principal',\n",
        "  'valor_pedido_inicial', 'n_autores', 'data_voo', 'operacao',\n",
        "  'causa_alegada', 'situacao_processual', 'instancia',\n",
        "  'resultado_decisao_sentenca', 'data_sentenca', 'valor_dano_moral',\n",
        "  'valor_dano_material', 'valor_total_condenacao', 'data_acordao', 'valor_pago'\n",
        "]"
      ]
    },
    {
      "cell_type": "code",
      "execution_count": null,
      "metadata": {
        "id": "PhfSxCUloG9k"
      },
      "outputs": [],
      "source": [
        "dados_copa_novos_2023 = pd.concat([dados_copa_novos_2023_1, dados_copa_novos_2023_2], axis=0)"
      ]
    },
    {
      "cell_type": "markdown",
      "metadata": {
        "jp-MarkdownHeadingCollapsed": true,
        "id": "iNLgtSwDnozT"
      },
      "source": [
        "##### Ajustando as colunas e filtrando os dados"
      ]
    },
    {
      "cell_type": "code",
      "execution_count": null,
      "metadata": {
        "id": "HII_qSAUv_lF"
      },
      "outputs": [],
      "source": [
        "dados_copa_novos_2023['num_proc_ano'] = dados_copa_novos_2023['numero_processo']. \\\n",
        "                      str.extract(r'\\d{7}-\\d{2}\\.(\\d{4})\\.\\d\\.\\d{2}\\.\\d{4}')"
      ]
    },
    {
      "cell_type": "code",
      "execution_count": null,
      "metadata": {
        "id": "Zb-i58Xnv_lF"
      },
      "outputs": [],
      "source": [
        "dados_copa_novos_2023 = dados_copa_novos_2023.dropna(subset = ['num_proc_ano'], axis=0)\n",
        "dados_copa_novos_2023 = dados_copa_novos_2023.reset_index(drop=True)"
      ]
    },
    {
      "cell_type": "code",
      "execution_count": null,
      "metadata": {
        "id": "CXTLPtWuv_lF"
      },
      "outputs": [],
      "source": [
        "dados_copa_novos_2023.num_proc_ano = pd.to_numeric(dados_copa_novos_2023.num_proc_ano).astype(int)"
      ]
    },
    {
      "cell_type": "code",
      "execution_count": null,
      "metadata": {
        "id": "o-Bi_QGFx-Ig",
        "outputId": "1aafa0a0-3ee4-48ed-99de-71436e4a3538"
      },
      "outputs": [
        {
          "data": {
            "text/plain": [
              "array([2023, 2022, 2020, 2024, 2021])"
            ]
          },
          "execution_count": 313,
          "metadata": {},
          "output_type": "execute_result"
        }
      ],
      "source": [
        "dados_copa_novos_2023.num_proc_ano.unique()"
      ]
    },
    {
      "cell_type": "code",
      "execution_count": null,
      "metadata": {
        "id": "jGxbEhPSv_lG"
      },
      "outputs": [],
      "source": [
        "dados_copa_novos_2023 = dados_copa_novos_2023[dados_copa_novos_2023['num_proc_ano'].\n",
        "                                          isin([2023])]"
      ]
    },
    {
      "cell_type": "code",
      "execution_count": null,
      "metadata": {
        "id": "K24MQL3sv_lG"
      },
      "outputs": [],
      "source": [
        "dados_copa_novos_2023.numero_processo = dados_copa_novos_2023.numero_processo.replace(pd.NA,'0')\n",
        "dados_copa_novos_2023['numero_processo_regex'] = dados_copa_novos_2023.numero_processo. \\\n",
        "      str.replace(r'[\\-\\\\.\\\\\" \"]', '', regex=True).str.slice(0,20)"
      ]
    },
    {
      "cell_type": "code",
      "execution_count": null,
      "metadata": {
        "id": "5wAyDcn9v_lH"
      },
      "outputs": [],
      "source": [
        "dados_copa_novos_2023 = dados_copa_novos_2023[[\n",
        "    'empresa_re', 'numero_processo', 'cnpj_re', 'data_distribuicao', 'UF',\n",
        "       'jurisdicao', 'obj_principal', 'subobj_principal',\n",
        "       'valor_pedido_inicial', 'n_autores', 'data_voo', 'operacao',\n",
        "       'causa_alegada', 'situacao_processual', 'instancia',\n",
        "       'resultado_decisao_sentenca', 'data_sentenca', 'valor_dano_moral',\n",
        "       'valor_dano_material', 'valor_total_condenacao', 'data_acordao',\n",
        "       'valor_pago', 'num_proc_ano', 'numero_processo_regex'\n",
        "]]"
      ]
    },
    {
      "cell_type": "markdown",
      "metadata": {
        "id": "Uhvureknv_lH",
        "jp-MarkdownHeadingCollapsed": true
      },
      "source": [
        "##### Ajustando os dados"
      ]
    },
    {
      "cell_type": "code",
      "execution_count": null,
      "metadata": {
        "id": "UAFGDBBcv_lH",
        "outputId": "e4519b93-6665-4e4e-c629-7e74e6ea048d"
      },
      "outputs": [
        {
          "data": {
            "text/plain": [
              "array(['Copa - Compañia Panameña De Aviacion S.a', 'COPA Airlines'],\n",
              "      dtype=object)"
            ]
          },
          "execution_count": 318,
          "metadata": {},
          "output_type": "execute_result"
        }
      ],
      "source": [
        "dados_copa_novos_2023.empresa_re.unique()"
      ]
    },
    {
      "cell_type": "code",
      "execution_count": null,
      "metadata": {
        "id": "gqGhINM7v_lI"
      },
      "outputs": [],
      "source": [
        "dados_copa_novos_2023 = transforma_df(dados_copa_novos_2023)"
      ]
    },
    {
      "cell_type": "code",
      "execution_count": null,
      "metadata": {
        "id": "mhP8gBxUv_lI",
        "outputId": "b2930c63-945c-4b26-a2c0-5cf5df54eb0f"
      },
      "outputs": [
        {
          "name": "stdout",
          "output_type": "stream",
          "text": [
            "['Copa']\n",
            "['03.834.757/0001-79' 'Não informado']\n",
            "['MG' 'RJ' 'AM' 'BA' 'DF' 'SE' 'SP' 'PB' 'SC' 'GO' 'ES' 'RN' 'PR' 'MA'\n",
            " 'RS' 'MS' 'RO' 'PE' 'MT' 'PA' 'RR' 'CE' 'PI' 'TO' 'AL' 'AP' 'AC']\n",
            "['Outros' 'Não informado' 'Juizado Especial Cível' 'Vara Cível']\n",
            "['Internacional']\n",
            "['Acordo' 'Decisão favorável à aérea (improcedência)' 'Condenação'\n",
            " 'Extinção sem julgamento do mérito' 'Outros']\n",
            "['1ª Instância' '2ª Instância' 'Não informado']\n",
            "[2023]\n"
          ]
        }
      ],
      "source": [
        "print(dados_copa_novos_2023.empresa_re.unique())\n",
        "print(dados_copa_novos_2023.cnpj_re.unique())\n",
        "print(dados_copa_novos_2023.UF.unique())\n",
        "print(dados_copa_novos_2023.jurisdicao.unique())\n",
        "print(dados_copa_novos_2023.operacao.unique())\n",
        "print(dados_copa_novos_2023.situacao_processual_sentenca.unique())\n",
        "print(dados_copa_novos_2023.instancia.unique())\n",
        "print(dados_copa_novos_2023.num_proc_ano.unique())"
      ]
    },
    {
      "cell_type": "code",
      "execution_count": null,
      "metadata": {
        "id": "6QThYmJtv_lI",
        "outputId": "baa5a108-60a7-46f4-ebb1-489c31c3992d"
      },
      "outputs": [
        {
          "name": "stdout",
          "output_type": "stream",
          "text": [
            "<class 'pandas.core.frame.DataFrame'>\n",
            "Index: 3290 entries, 0 to 3354\n",
            "Data columns (total 36 columns):\n",
            " #   Column                        Non-Null Count  Dtype  \n",
            "---  ------                        --------------  -----  \n",
            " 0   empresa_re                    3290 non-null   object \n",
            " 1   numero_processo               3290 non-null   object \n",
            " 2   cnpj_re                       3290 non-null   object \n",
            " 3   data_distribuicao             3290 non-null   object \n",
            " 4   UF                            3290 non-null   object \n",
            " 5   jurisdicao                    3290 non-null   object \n",
            " 6   obj_principal                 3290 non-null   object \n",
            " 7   subobj_principal              3290 non-null   object \n",
            " 8   valor_pedido_inicial          3290 non-null   float64\n",
            " 9   n_autores                     3290 non-null   int32  \n",
            " 10  data_voo                      3290 non-null   object \n",
            " 11  operacao                      3290 non-null   object \n",
            " 12  causa_alegada                 3290 non-null   object \n",
            " 13  situacao_processual           3290 non-null   object \n",
            " 14  instancia                     3290 non-null   object \n",
            " 15  resultado_decisao_sentenca    3290 non-null   object \n",
            " 16  data_sentenca                 3290 non-null   object \n",
            " 17  valor_dano_moral              3290 non-null   float64\n",
            " 18  valor_dano_material           3290 non-null   float64\n",
            " 19  valor_total_condenacao        3290 non-null   float64\n",
            " 20  data_acordao                  3290 non-null   object \n",
            " 21  valor_pago                    3290 non-null   float64\n",
            " 22  num_proc_ano                  3290 non-null   int32  \n",
            " 23  numero_processo_regex         3290 non-null   object \n",
            " 24  obj_problemas_operacionais    3290 non-null   bool   \n",
            " 25  obj_bagagem                   3290 non-null   bool   \n",
            " 26  obj_contrato                  3290 non-null   bool   \n",
            " 27  obj_outros                    3290 non-null   bool   \n",
            " 28  causa_nao_informado           3290 non-null   bool   \n",
            " 29  causa_forca_maior             3290 non-null   bool   \n",
            " 30  causa_fortuitos               3290 non-null   bool   \n",
            " 31  causa_terceiros               3290 non-null   bool   \n",
            " 32  causa_cliente                 3290 non-null   bool   \n",
            " 33  causa_aerea                   3290 non-null   bool   \n",
            " 34  causa_outros                  3290 non-null   bool   \n",
            " 35  situacao_processual_sentenca  3290 non-null   object \n",
            "dtypes: bool(11), float64(5), int32(2), object(18)\n",
            "memory usage: 677.9+ KB\n"
          ]
        }
      ],
      "source": [
        "dados_copa_novos_2023.info()"
      ]
    },
    {
      "cell_type": "code",
      "execution_count": null,
      "metadata": {
        "id": "O0A_10Tov_lI"
      },
      "outputs": [],
      "source": [
        "dados_copa_novos_2023.to_csv('./COPA/final/ajust_dados_copa_novos_2023.csv', index=False)"
      ]
    },
    {
      "cell_type": "markdown",
      "metadata": {
        "id": "95c8dEvTwfMd",
        "jp-MarkdownHeadingCollapsed": true
      },
      "source": [
        "#### Consolidando bases de dados Copa"
      ]
    },
    {
      "cell_type": "code",
      "execution_count": null,
      "metadata": {
        "id": "Car83lnXwfMd"
      },
      "outputs": [],
      "source": [
        "dados_copa_original = pd.read_csv('./COPA/final/ajust_dados_copa_original.csv')"
      ]
    },
    {
      "cell_type": "code",
      "execution_count": null,
      "metadata": {
        "id": "UXmaB3aGwfMd"
      },
      "outputs": [],
      "source": [
        "dados_copa_novos = pd.read_csv('./COPA/final/ajust_dados_copa_novos.csv')"
      ]
    },
    {
      "cell_type": "code",
      "execution_count": null,
      "metadata": {
        "id": "F_gGDWprwfMd"
      },
      "outputs": [],
      "source": [
        "dados_copa_novos_2023 = pd.read_csv('./COPA/final/ajust_dados_copa_novos_2023.csv')"
      ]
    },
    {
      "cell_type": "code",
      "execution_count": null,
      "metadata": {
        "id": "sbUbXZy0wfMe"
      },
      "outputs": [],
      "source": [
        "dados_copa = pd.concat([dados_copa_original,dados_copa_novos,dados_copa_novos_2023],axis=0)"
      ]
    },
    {
      "cell_type": "code",
      "execution_count": null,
      "metadata": {
        "id": "SSp7rJdEwfMe",
        "outputId": "ecc6df9b-f3be-4832-9325-d7b41639e277"
      },
      "outputs": [
        {
          "data": {
            "text/plain": [
              "(20774, 36)"
            ]
          },
          "execution_count": 328,
          "metadata": {},
          "output_type": "execute_result"
        }
      ],
      "source": [
        "dados_copa.shape"
      ]
    },
    {
      "cell_type": "code",
      "execution_count": null,
      "metadata": {
        "id": "RgTTzDubwfMe",
        "outputId": "dcab72f3-cf0f-4473-8eeb-989a1b354b09"
      },
      "outputs": [
        {
          "data": {
            "text/plain": [
              "empresa_re                          0\n",
              "numero_processo                     0\n",
              "cnpj_re                             0\n",
              "data_distribuicao                   0\n",
              "UF                                  0\n",
              "jurisdicao                          0\n",
              "obj_principal                       9\n",
              "subobj_principal                 4289\n",
              "valor_pedido_inicial                0\n",
              "n_autores                           0\n",
              "data_voo                          135\n",
              "operacao                            0\n",
              "causa_alegada                   19725\n",
              "situacao_processual              2613\n",
              "instancia                           0\n",
              "resultado_decisao_sentenca       3677\n",
              "data_sentenca                    4438\n",
              "valor_dano_moral                    0\n",
              "valor_dano_material                 0\n",
              "valor_total_condenacao              0\n",
              "data_acordao                     8388\n",
              "valor_pago                          0\n",
              "num_proc_ano                        0\n",
              "numero_processo_regex               0\n",
              "obj_problemas_operacionais          0\n",
              "obj_bagagem                         0\n",
              "obj_contrato                        0\n",
              "obj_outros                          0\n",
              "causa_nao_informado                 0\n",
              "causa_forca_maior                   0\n",
              "causa_fortuitos                     0\n",
              "causa_terceiros                     0\n",
              "causa_cliente                       0\n",
              "causa_aerea                         0\n",
              "causa_outros                        0\n",
              "situacao_processual_sentenca        0\n",
              "dtype: int64"
            ]
          },
          "execution_count": 329,
          "metadata": {},
          "output_type": "execute_result"
        }
      ],
      "source": [
        "dados_copa.isnull().sum()"
      ]
    },
    {
      "cell_type": "code",
      "execution_count": null,
      "metadata": {
        "id": "ACqdNBnWwfMe",
        "outputId": "32b46055-da82-479e-b860-5bf3b5ca6c59"
      },
      "outputs": [
        {
          "name": "stdout",
          "output_type": "stream",
          "text": [
            "<class 'pandas.core.frame.DataFrame'>\n",
            "Index: 20774 entries, 0 to 3289\n",
            "Data columns (total 36 columns):\n",
            " #   Column                        Non-Null Count  Dtype  \n",
            "---  ------                        --------------  -----  \n",
            " 0   empresa_re                    20774 non-null  object \n",
            " 1   numero_processo               20774 non-null  object \n",
            " 2   cnpj_re                       20774 non-null  object \n",
            " 3   data_distribuicao             20774 non-null  object \n",
            " 4   UF                            20774 non-null  object \n",
            " 5   jurisdicao                    20774 non-null  object \n",
            " 6   obj_principal                 20765 non-null  object \n",
            " 7   subobj_principal              16485 non-null  object \n",
            " 8   valor_pedido_inicial          20774 non-null  float64\n",
            " 9   n_autores                     20774 non-null  int64  \n",
            " 10  data_voo                      20639 non-null  object \n",
            " 11  operacao                      20774 non-null  object \n",
            " 12  causa_alegada                 1049 non-null   object \n",
            " 13  situacao_processual           18161 non-null  object \n",
            " 14  instancia                     20774 non-null  object \n",
            " 15  resultado_decisao_sentenca    17097 non-null  object \n",
            " 16  data_sentenca                 16336 non-null  object \n",
            " 17  valor_dano_moral              20774 non-null  float64\n",
            " 18  valor_dano_material           20774 non-null  float64\n",
            " 19  valor_total_condenacao        20774 non-null  float64\n",
            " 20  data_acordao                  12386 non-null  object \n",
            " 21  valor_pago                    20774 non-null  float64\n",
            " 22  num_proc_ano                  20774 non-null  int64  \n",
            " 23  numero_processo_regex         20774 non-null  object \n",
            " 24  obj_problemas_operacionais    20774 non-null  bool   \n",
            " 25  obj_bagagem                   20774 non-null  bool   \n",
            " 26  obj_contrato                  20774 non-null  bool   \n",
            " 27  obj_outros                    20774 non-null  bool   \n",
            " 28  causa_nao_informado           20774 non-null  bool   \n",
            " 29  causa_forca_maior             20774 non-null  bool   \n",
            " 30  causa_fortuitos               20774 non-null  bool   \n",
            " 31  causa_terceiros               20774 non-null  bool   \n",
            " 32  causa_cliente                 20774 non-null  bool   \n",
            " 33  causa_aerea                   20774 non-null  bool   \n",
            " 34  causa_outros                  20774 non-null  bool   \n",
            " 35  situacao_processual_sentenca  20774 non-null  object \n",
            "dtypes: bool(11), float64(5), int64(2), object(18)\n",
            "memory usage: 4.3+ MB\n"
          ]
        }
      ],
      "source": [
        "dados_copa.info()"
      ]
    },
    {
      "cell_type": "code",
      "execution_count": null,
      "metadata": {
        "id": "DrxGbVu0wfMe"
      },
      "outputs": [],
      "source": [
        "dados_copa = dados_copa.sort_values(by=['empresa_re',\n",
        "                                      'numero_processo_regex'], ascending=True)"
      ]
    },
    {
      "cell_type": "code",
      "execution_count": null,
      "metadata": {
        "id": "vdeIvkzJwfMf"
      },
      "outputs": [],
      "source": [
        "dados_copa = dados_copa.drop_duplicates(subset=['empresa_re',\n",
        "                                        'numero_processo_regex'],keep='first')"
      ]
    },
    {
      "cell_type": "code",
      "execution_count": null,
      "metadata": {
        "id": "aqIBGjWZwfMf"
      },
      "outputs": [],
      "source": [
        "dados_copa = dados_copa[dados_copa.UF.isin(['AM', 'BA', 'CE', 'DF', 'ES', 'GO',\n",
        "            'MG', 'MS', 'MT', 'PE', 'PR', 'RJ', 'RO', 'SC', 'SP', 'TO'])]"
      ]
    },
    {
      "cell_type": "code",
      "execution_count": null,
      "metadata": {
        "id": "AqWJkpNEwfMf"
      },
      "outputs": [],
      "source": [
        "dados_copa = dados_copa.reset_index(drop=True)"
      ]
    },
    {
      "cell_type": "code",
      "execution_count": null,
      "metadata": {
        "id": "MD5uPQNNwfMf",
        "outputId": "2720022e-19aa-465d-8268-310573715412"
      },
      "outputs": [
        {
          "data": {
            "text/plain": [
              "(10831, 36)"
            ]
          },
          "execution_count": 335,
          "metadata": {},
          "output_type": "execute_result"
        }
      ],
      "source": [
        "dados_copa.shape"
      ]
    },
    {
      "cell_type": "code",
      "execution_count": null,
      "metadata": {
        "id": "c-fw7WbEwfMf"
      },
      "outputs": [],
      "source": [
        "dados_copa.to_csv('./COPA/final/copa_dados_consolidados_FINAL.csv',index=False)"
      ]
    },
    {
      "cell_type": "markdown",
      "metadata": {
        "id": "rfs6UZ6Y1ocU",
        "jp-MarkdownHeadingCollapsed": true
      },
      "source": [
        "### Tap"
      ]
    },
    {
      "cell_type": "markdown",
      "metadata": {
        "id": "DtCNEMsn0TG7",
        "jp-MarkdownHeadingCollapsed": true
      },
      "source": [
        "#### Dados originais"
      ]
    },
    {
      "cell_type": "markdown",
      "metadata": {
        "id": "yR5VZlqvq1U0",
        "jp-MarkdownHeadingCollapsed": true
      },
      "source": [
        "##### Importando os dados"
      ]
    },
    {
      "cell_type": "code",
      "execution_count": null,
      "metadata": {
        "id": "nDRReq5V0TG7"
      },
      "outputs": [],
      "source": [
        "dados_tap_original = pd.read_csv('./TAP/base_inicial_tap.csv',\n",
        "                                  delimiter=';', low_memory=False)"
      ]
    },
    {
      "cell_type": "markdown",
      "metadata": {
        "jp-MarkdownHeadingCollapsed": true,
        "id": "X6MFX2h7nozW"
      },
      "source": [
        "##### Ajustando as colunas e filtrando os dados"
      ]
    },
    {
      "cell_type": "code",
      "execution_count": null,
      "metadata": {
        "id": "mS_S25sd0TG8"
      },
      "outputs": [],
      "source": [
        "dados_tap_original = dados_tap_original.drop(columns=['Comarca'])"
      ]
    },
    {
      "cell_type": "code",
      "execution_count": null,
      "metadata": {
        "id": "2SN875Xt0TG8"
      },
      "outputs": [],
      "source": [
        "dados_tap_original.columns = [\n",
        "  'numero_processo', 'empresa_re', 'cnpj_re', 'data_distribuicao', 'UF',\n",
        "  'jurisdicao', 'obj_principal', 'subobj_principal',\n",
        "  'valor_pedido_inicial', 'n_autores', 'data_voo', 'operacao',\n",
        "  'causa_alegada', 'situacao_processual', 'instancia',\n",
        "  'resultado_decisao_sentenca', 'data_sentenca', 'valor_dano_moral',\n",
        "  'valor_dano_material', 'valor_total_condenacao', 'data_acordao', 'valor_pago'\n",
        "]"
      ]
    },
    {
      "cell_type": "code",
      "execution_count": null,
      "metadata": {
        "id": "Y5mlE5Sj0TG8"
      },
      "outputs": [],
      "source": [
        "dados_tap_original['num_proc_ano'] = dados_tap_original['numero_processo']. \\\n",
        "                      str.extract(r'\\d{7}-\\d{2}\\.(\\d{4})\\.\\d\\.\\d{2}\\.\\d{4}')"
      ]
    },
    {
      "cell_type": "code",
      "execution_count": null,
      "metadata": {
        "id": "UHaih4400TG8"
      },
      "outputs": [],
      "source": [
        "dados_tap_original = dados_tap_original.dropna(subset = ['num_proc_ano'], axis=0)\n",
        "dados_tap_original = dados_tap_original.reset_index(drop=True)"
      ]
    },
    {
      "cell_type": "code",
      "execution_count": null,
      "metadata": {
        "id": "KL_u2VOJ0TG8"
      },
      "outputs": [],
      "source": [
        "dados_tap_original.num_proc_ano = pd.to_numeric(dados_tap_original.num_proc_ano).astype(int)"
      ]
    },
    {
      "cell_type": "code",
      "execution_count": null,
      "metadata": {
        "id": "fElSuW8YnozX",
        "outputId": "bf1f2656-1f39-44d2-f6c1-9f90bf4d9195"
      },
      "outputs": [
        {
          "data": {
            "text/plain": [
              "array([2023, 2022, 2021, 2019, 2020, 2017, 2018, 2009, 2016, 2013, 2015,\n",
              "       2014])"
            ]
          },
          "execution_count": 347,
          "metadata": {},
          "output_type": "execute_result"
        }
      ],
      "source": [
        "dados_tap_original.num_proc_ano.unique()"
      ]
    },
    {
      "cell_type": "code",
      "execution_count": null,
      "metadata": {
        "id": "WCwnSn5X0TG9"
      },
      "outputs": [],
      "source": [
        "dados_tap_original = dados_tap_original[dados_tap_original['num_proc_ano'].\n",
        "                                          isin([2019,2020,2021,2022,2023])]"
      ]
    },
    {
      "cell_type": "code",
      "execution_count": null,
      "metadata": {
        "id": "RYbDR_jw0TG9"
      },
      "outputs": [],
      "source": [
        "dados_tap_original.numero_processo = dados_tap_original.numero_processo.replace(pd.NA,'0')\n",
        "dados_tap_original['numero_processo_regex'] = dados_tap_original.numero_processo. \\\n",
        "      str.replace(r'[\\-\\\\.\\\\\" \"]', '', regex=True).str.slice(0,20)"
      ]
    },
    {
      "cell_type": "code",
      "execution_count": null,
      "metadata": {
        "id": "bZh8Bvv30TG9"
      },
      "outputs": [],
      "source": [
        "dados_tap_original = dados_tap_original[[\n",
        "    'empresa_re', 'numero_processo', 'cnpj_re', 'data_distribuicao', 'UF',\n",
        "       'jurisdicao', 'obj_principal', 'subobj_principal',\n",
        "       'valor_pedido_inicial', 'n_autores', 'data_voo', 'operacao',\n",
        "       'causa_alegada', 'situacao_processual', 'instancia',\n",
        "       'resultado_decisao_sentenca', 'data_sentenca', 'valor_dano_moral',\n",
        "       'valor_dano_material', 'valor_total_condenacao', 'data_acordao',\n",
        "       'valor_pago', 'num_proc_ano', 'numero_processo_regex'\n",
        "]]"
      ]
    },
    {
      "cell_type": "markdown",
      "metadata": {
        "id": "3qbocgxS0TG9",
        "jp-MarkdownHeadingCollapsed": true
      },
      "source": [
        "##### Ajustando os dados"
      ]
    },
    {
      "cell_type": "code",
      "execution_count": null,
      "metadata": {
        "id": "zyvd46y30TG-",
        "outputId": "4fb3cbd0-5d73-437b-8adc-6e8225178c33"
      },
      "outputs": [
        {
          "data": {
            "text/plain": [
              "array(['TAP-Transportes Aéreos Portugueses S/A'], dtype=object)"
            ]
          },
          "execution_count": 352,
          "metadata": {},
          "output_type": "execute_result"
        }
      ],
      "source": [
        "dados_tap_original.empresa_re.unique()"
      ]
    },
    {
      "cell_type": "code",
      "execution_count": null,
      "metadata": {
        "id": "HI88E0XY0TG-"
      },
      "outputs": [],
      "source": [
        "dados_tap_original = transforma_df(dados_tap_original)"
      ]
    },
    {
      "cell_type": "code",
      "execution_count": null,
      "metadata": {
        "id": "nveUop5M0TG-",
        "outputId": "1282e849-fcbe-4d2a-ad97-61228c03110d"
      },
      "outputs": [
        {
          "name": "stdout",
          "output_type": "stream",
          "text": [
            "['Tap']\n",
            "['33.136.896/0001-90']\n",
            "['MG' 'PB' 'RJ' 'TO' 'SE' 'PR' 'MT' 'DF' 'PE' 'RS' 'CE' 'SP' 'AL' 'BA'\n",
            " 'PA' 'RN' 'SC' 'GO' 'RO' 'ES' 'PI' 'AP' 'MA' 'MS' 'AM' 'RR' 'AC'\n",
            " 'Não informado']\n",
            "['Juizado Especial Cível' 'Vara Cível' 'Outros' 'Não informado']\n",
            "['Internacional']\n",
            "['Não informado' 'Acordo' 'Condenação' 'Extinção sem julgamento do mérito'\n",
            " 'Decisão favorável à aérea (improcedência)']\n",
            "['Não informado']\n",
            "[2023 2022 2021 2019 2020]\n"
          ]
        }
      ],
      "source": [
        "print(dados_tap_original.empresa_re.unique())\n",
        "print(dados_tap_original.cnpj_re.unique())\n",
        "print(dados_tap_original.UF.unique())\n",
        "print(dados_tap_original.jurisdicao.unique())\n",
        "print(dados_tap_original.operacao.unique())\n",
        "print(dados_tap_original.situacao_processual_sentenca.unique())\n",
        "print(dados_tap_original.instancia.unique())\n",
        "print(dados_tap_original.num_proc_ano.unique())"
      ]
    },
    {
      "cell_type": "code",
      "execution_count": null,
      "metadata": {
        "id": "-RAnSXTj0TG-",
        "outputId": "ae3d092d-d082-4aae-a1a7-500edec72470"
      },
      "outputs": [
        {
          "name": "stdout",
          "output_type": "stream",
          "text": [
            "<class 'pandas.core.frame.DataFrame'>\n",
            "Index: 18225 entries, 0 to 24516\n",
            "Data columns (total 36 columns):\n",
            " #   Column                        Non-Null Count  Dtype  \n",
            "---  ------                        --------------  -----  \n",
            " 0   empresa_re                    18225 non-null  object \n",
            " 1   numero_processo               18225 non-null  object \n",
            " 2   cnpj_re                       18225 non-null  object \n",
            " 3   data_distribuicao             18225 non-null  object \n",
            " 4   UF                            18225 non-null  object \n",
            " 5   jurisdicao                    18225 non-null  object \n",
            " 6   obj_principal                 18225 non-null  object \n",
            " 7   subobj_principal              18225 non-null  object \n",
            " 8   valor_pedido_inicial          18225 non-null  float64\n",
            " 9   n_autores                     18225 non-null  int32  \n",
            " 10  data_voo                      18225 non-null  object \n",
            " 11  operacao                      18225 non-null  object \n",
            " 12  causa_alegada                 18225 non-null  object \n",
            " 13  situacao_processual           18225 non-null  object \n",
            " 14  instancia                     18225 non-null  object \n",
            " 15  resultado_decisao_sentenca    18225 non-null  object \n",
            " 16  data_sentenca                 18225 non-null  object \n",
            " 17  valor_dano_moral              18225 non-null  float64\n",
            " 18  valor_dano_material           18225 non-null  float64\n",
            " 19  valor_total_condenacao        18225 non-null  float64\n",
            " 20  data_acordao                  18225 non-null  object \n",
            " 21  valor_pago                    18225 non-null  float64\n",
            " 22  num_proc_ano                  18225 non-null  int32  \n",
            " 23  numero_processo_regex         18225 non-null  object \n",
            " 24  obj_problemas_operacionais    18225 non-null  bool   \n",
            " 25  obj_bagagem                   18225 non-null  bool   \n",
            " 26  obj_contrato                  18225 non-null  bool   \n",
            " 27  obj_outros                    18225 non-null  bool   \n",
            " 28  causa_nao_informado           18225 non-null  bool   \n",
            " 29  causa_forca_maior             18225 non-null  bool   \n",
            " 30  causa_fortuitos               18225 non-null  bool   \n",
            " 31  causa_terceiros               18225 non-null  bool   \n",
            " 32  causa_cliente                 18225 non-null  bool   \n",
            " 33  causa_aerea                   18225 non-null  bool   \n",
            " 34  causa_outros                  18225 non-null  bool   \n",
            " 35  situacao_processual_sentenca  18225 non-null  object \n",
            "dtypes: bool(11), float64(5), int32(2), object(18)\n",
            "memory usage: 4.2+ MB\n"
          ]
        }
      ],
      "source": [
        "dados_tap_original.info()"
      ]
    },
    {
      "cell_type": "code",
      "execution_count": null,
      "metadata": {
        "id": "eVxWDF640TG-"
      },
      "outputs": [],
      "source": [
        "dados_tap_original.to_csv('./TAP/final/ajust_dados_tap_original.csv',index=False)"
      ]
    },
    {
      "cell_type": "markdown",
      "metadata": {
        "id": "25912n9D0TG_",
        "jp-MarkdownHeadingCollapsed": true
      },
      "source": [
        "#### Dados complementares de 2019 a 2022"
      ]
    },
    {
      "cell_type": "markdown",
      "metadata": {
        "id": "53l1kLVIq67T",
        "jp-MarkdownHeadingCollapsed": true
      },
      "source": [
        "##### Importando os dados"
      ]
    },
    {
      "cell_type": "code",
      "execution_count": null,
      "metadata": {
        "id": "t6oQJUdh0TG_"
      },
      "outputs": [],
      "source": [
        "dados_tap_novos = pd.read_csv('./TAP/base_complementar_tap.csv',\n",
        "                               delimiter=';',low_memory=False)"
      ]
    },
    {
      "cell_type": "markdown",
      "metadata": {
        "jp-MarkdownHeadingCollapsed": true,
        "id": "NOJSCAjInozY"
      },
      "source": [
        "##### Ajustando as colunas e filtrando os dados"
      ]
    },
    {
      "cell_type": "code",
      "execution_count": null,
      "metadata": {
        "id": "xnWb1Kvq0TG_"
      },
      "outputs": [],
      "source": [
        "dados_tap_novos = dados_tap_novos.drop(columns=['Comarca'])"
      ]
    },
    {
      "cell_type": "code",
      "execution_count": null,
      "metadata": {
        "id": "VpxmUqIJ0TG_"
      },
      "outputs": [],
      "source": [
        "dados_tap_novos.columns = [\n",
        "  'numero_processo', 'empresa_re', 'cnpj_re', 'data_distribuicao', 'UF',\n",
        "  'jurisdicao', 'obj_principal', 'subobj_principal',\n",
        "  'valor_pedido_inicial', 'n_autores', 'data_voo', 'operacao',\n",
        "  'causa_alegada', 'situacao_processual', 'instancia',\n",
        "  'resultado_decisao_sentenca', 'data_sentenca', 'valor_dano_moral',\n",
        "  'valor_dano_material', 'valor_total_condenacao', 'data_acordao', 'valor_pago'\n",
        "]"
      ]
    },
    {
      "cell_type": "code",
      "execution_count": null,
      "metadata": {
        "id": "mofrTcMr0TG_"
      },
      "outputs": [],
      "source": [
        "dados_tap_novos['num_proc_ano'] = dados_tap_novos['numero_processo']. \\\n",
        "                      str.extract(r'\\d{7}-\\d{2}\\.(\\d{4})\\.\\d\\.\\d{2}\\.\\d{4}')"
      ]
    },
    {
      "cell_type": "code",
      "execution_count": null,
      "metadata": {
        "id": "M-s8MCPG0THA"
      },
      "outputs": [],
      "source": [
        "dados_tap_novos = dados_tap_novos.dropna(subset = ['num_proc_ano'], axis=0)\n",
        "dados_tap_novos = dados_tap_novos.reset_index(drop=True)"
      ]
    },
    {
      "cell_type": "code",
      "execution_count": null,
      "metadata": {
        "id": "F3lz07440THA"
      },
      "outputs": [],
      "source": [
        "dados_tap_novos.num_proc_ano = pd.to_numeric(dados_tap_novos.num_proc_ano).astype(int)"
      ]
    },
    {
      "cell_type": "code",
      "execution_count": null,
      "metadata": {
        "id": "8Z4J_8Vpnoza",
        "outputId": "bbb933e7-02c9-4296-aa5b-8774a1ce6155"
      },
      "outputs": [
        {
          "data": {
            "text/plain": [
              "array([2023, 2022, 2021, 2019, 2020, 2017, 2018, 2009, 2016, 2013, 2015,\n",
              "       2014])"
            ]
          },
          "execution_count": 366,
          "metadata": {},
          "output_type": "execute_result"
        }
      ],
      "source": [
        "dados_tap_novos.num_proc_ano.unique()"
      ]
    },
    {
      "cell_type": "code",
      "execution_count": null,
      "metadata": {
        "id": "YJUz8tYg0THA"
      },
      "outputs": [],
      "source": [
        "dados_tap_novos = dados_tap_novos[dados_tap_novos['num_proc_ano'].\n",
        "                                          isin([2019,2020,2021,2022,2023])]"
      ]
    },
    {
      "cell_type": "code",
      "execution_count": null,
      "metadata": {
        "id": "69CLkeiW0THA"
      },
      "outputs": [],
      "source": [
        "dados_tap_novos.numero_processo = dados_tap_novos.numero_processo.replace(pd.NA,'0')\n",
        "dados_tap_novos['numero_processo_regex'] = dados_tap_novos.numero_processo. \\\n",
        "      str.replace(r'[\\-\\\\.\\\\\" \"]', '', regex=True).str.slice(0,20)"
      ]
    },
    {
      "cell_type": "code",
      "execution_count": null,
      "metadata": {
        "id": "6K-Xn05d0THA"
      },
      "outputs": [],
      "source": [
        "dados_tap_novos = dados_tap_novos[[\n",
        "    'empresa_re', 'numero_processo', 'cnpj_re', 'data_distribuicao', 'UF',\n",
        "       'jurisdicao', 'obj_principal', 'subobj_principal',\n",
        "       'valor_pedido_inicial', 'n_autores', 'data_voo', 'operacao',\n",
        "       'causa_alegada', 'situacao_processual', 'instancia',\n",
        "       'resultado_decisao_sentenca', 'data_sentenca', 'valor_dano_moral',\n",
        "       'valor_dano_material', 'valor_total_condenacao', 'data_acordao',\n",
        "       'valor_pago', 'num_proc_ano', 'numero_processo_regex'\n",
        "]]"
      ]
    },
    {
      "cell_type": "markdown",
      "metadata": {
        "id": "-fm38k1T0THB",
        "jp-MarkdownHeadingCollapsed": true
      },
      "source": [
        "##### Ajustando os dados"
      ]
    },
    {
      "cell_type": "code",
      "execution_count": null,
      "metadata": {
        "id": "hGQHazmj0THB",
        "outputId": "07501c65-9867-44ae-e63e-d1d4b7500e6a"
      },
      "outputs": [
        {
          "data": {
            "text/plain": [
              "array(['TAP-Transportes Aéreos Portugueses S/A'], dtype=object)"
            ]
          },
          "execution_count": 371,
          "metadata": {},
          "output_type": "execute_result"
        }
      ],
      "source": [
        "dados_tap_novos.empresa_re.unique()"
      ]
    },
    {
      "cell_type": "code",
      "execution_count": null,
      "metadata": {
        "id": "erxwiToS0THB"
      },
      "outputs": [],
      "source": [
        "dados_tap_novos = transforma_df(dados_tap_novos)"
      ]
    },
    {
      "cell_type": "code",
      "execution_count": null,
      "metadata": {
        "id": "QjsSp6820THB",
        "outputId": "37b8091d-acc6-47a9-8f2e-e22dc0a17070"
      },
      "outputs": [
        {
          "name": "stdout",
          "output_type": "stream",
          "text": [
            "['Tap']\n",
            "['33.136.896/0001-90']\n",
            "['MG' 'PB' 'RJ' 'TO' 'SE' 'PR' 'MT' 'DF' 'PE' 'RS' 'CE' 'SP' 'AL' 'BA'\n",
            " 'PA' 'RN' 'SC' 'GO' 'RO' 'ES' 'PI' 'AP' 'MA' 'MS' 'AM' 'RR' 'AC'\n",
            " 'Não informado']\n",
            "['Juizado Especial Cível' 'Vara Cível' 'Outros' 'Não informado']\n",
            "['Internacional']\n",
            "['Não informado' 'Acordo' 'Condenação' 'Extinção sem julgamento do mérito'\n",
            " 'Decisão favorável à aérea (improcedência)']\n",
            "['Não informado']\n",
            "[2023 2022 2021 2019 2020]\n"
          ]
        }
      ],
      "source": [
        "print(dados_tap_novos.empresa_re.unique())\n",
        "print(dados_tap_novos.cnpj_re.unique())\n",
        "print(dados_tap_novos.UF.unique())\n",
        "print(dados_tap_novos.jurisdicao.unique())\n",
        "print(dados_tap_novos.operacao.unique())\n",
        "print(dados_tap_novos.situacao_processual_sentenca.unique())\n",
        "print(dados_tap_novos.instancia.unique())\n",
        "print(dados_tap_novos.num_proc_ano.unique())"
      ]
    },
    {
      "cell_type": "code",
      "execution_count": null,
      "metadata": {
        "id": "UR9HNVab0THC",
        "outputId": "5737ec8c-be9b-4798-93fa-21e41f25019b"
      },
      "outputs": [
        {
          "name": "stdout",
          "output_type": "stream",
          "text": [
            "<class 'pandas.core.frame.DataFrame'>\n",
            "Index: 18225 entries, 0 to 24516\n",
            "Data columns (total 36 columns):\n",
            " #   Column                        Non-Null Count  Dtype  \n",
            "---  ------                        --------------  -----  \n",
            " 0   empresa_re                    18225 non-null  object \n",
            " 1   numero_processo               18225 non-null  object \n",
            " 2   cnpj_re                       18225 non-null  object \n",
            " 3   data_distribuicao             18225 non-null  object \n",
            " 4   UF                            18225 non-null  object \n",
            " 5   jurisdicao                    18225 non-null  object \n",
            " 6   obj_principal                 18225 non-null  object \n",
            " 7   subobj_principal              18225 non-null  object \n",
            " 8   valor_pedido_inicial          18225 non-null  float64\n",
            " 9   n_autores                     18225 non-null  int32  \n",
            " 10  data_voo                      18225 non-null  object \n",
            " 11  operacao                      18225 non-null  object \n",
            " 12  causa_alegada                 18225 non-null  object \n",
            " 13  situacao_processual           18225 non-null  object \n",
            " 14  instancia                     18225 non-null  object \n",
            " 15  resultado_decisao_sentenca    18225 non-null  object \n",
            " 16  data_sentenca                 18225 non-null  object \n",
            " 17  valor_dano_moral              18225 non-null  float64\n",
            " 18  valor_dano_material           18225 non-null  float64\n",
            " 19  valor_total_condenacao        18225 non-null  float64\n",
            " 20  data_acordao                  18225 non-null  object \n",
            " 21  valor_pago                    18225 non-null  float64\n",
            " 22  num_proc_ano                  18225 non-null  int32  \n",
            " 23  numero_processo_regex         18225 non-null  object \n",
            " 24  obj_problemas_operacionais    18225 non-null  bool   \n",
            " 25  obj_bagagem                   18225 non-null  bool   \n",
            " 26  obj_contrato                  18225 non-null  bool   \n",
            " 27  obj_outros                    18225 non-null  bool   \n",
            " 28  causa_nao_informado           18225 non-null  bool   \n",
            " 29  causa_forca_maior             18225 non-null  bool   \n",
            " 30  causa_fortuitos               18225 non-null  bool   \n",
            " 31  causa_terceiros               18225 non-null  bool   \n",
            " 32  causa_cliente                 18225 non-null  bool   \n",
            " 33  causa_aerea                   18225 non-null  bool   \n",
            " 34  causa_outros                  18225 non-null  bool   \n",
            " 35  situacao_processual_sentenca  18225 non-null  object \n",
            "dtypes: bool(11), float64(5), int32(2), object(18)\n",
            "memory usage: 4.2+ MB\n"
          ]
        }
      ],
      "source": [
        "dados_tap_novos.info()"
      ]
    },
    {
      "cell_type": "code",
      "execution_count": null,
      "metadata": {
        "id": "l3h_liyT0THC"
      },
      "outputs": [],
      "source": [
        "dados_tap_novos.to_csv('./TAP/final/ajust_dados_tap_novos.csv',index=False)"
      ]
    },
    {
      "cell_type": "markdown",
      "metadata": {
        "id": "DFqZfCkL0THC",
        "jp-MarkdownHeadingCollapsed": true
      },
      "source": [
        "#### Dados novos de 2023"
      ]
    },
    {
      "cell_type": "markdown",
      "metadata": {
        "id": "TnJFSykBrBB7",
        "jp-MarkdownHeadingCollapsed": true
      },
      "source": [
        "##### Importando os dados"
      ]
    },
    {
      "cell_type": "code",
      "execution_count": null,
      "metadata": {
        "id": "AJpQinss3SD0"
      },
      "outputs": [],
      "source": [
        "dados_tap_novos_2023 = pd.read_csv('./TAP/base_2023_tap.csv',\n",
        "                               delimiter=';',low_memory=False)"
      ]
    },
    {
      "cell_type": "markdown",
      "metadata": {
        "jp-MarkdownHeadingCollapsed": true,
        "id": "n4Zmnuesnozb"
      },
      "source": [
        "##### Ajustando as colunas e filtrando os dados"
      ]
    },
    {
      "cell_type": "code",
      "execution_count": null,
      "metadata": {
        "id": "uWkwz2Du0THC"
      },
      "outputs": [],
      "source": [
        "dados_tap_novos_2023 = dados_tap_novos_2023.drop(columns=['Comarca'])"
      ]
    },
    {
      "cell_type": "code",
      "execution_count": null,
      "metadata": {
        "id": "VJJ3pizt0THC"
      },
      "outputs": [],
      "source": [
        "dados_tap_novos_2023.columns = [\n",
        "  'numero_processo', 'empresa_re',  'data_distribuicao', 'UF',\n",
        "  'jurisdicao', 'obj_principal', 'subobj_principal',\n",
        "  'valor_pedido_inicial', 'n_autores', 'data_voo', 'operacao',\n",
        "  'causa_alegada', 'situacao_processual', 'instancia',\n",
        "  'resultado_decisao_sentenca', 'data_sentenca', 'valor_dano_moral',\n",
        "  'valor_dano_material', 'valor_total_condenacao'\n",
        "]"
      ]
    },
    {
      "cell_type": "code",
      "execution_count": null,
      "metadata": {
        "id": "0JYSvdgJ5Q_2"
      },
      "outputs": [],
      "source": [
        "dados_tap_novos_2023['cnpj_re'] = [''] * len(dados_tap_novos_2023)\n",
        "dados_tap_novos_2023['data_acordao'] = [''] * len(dados_tap_novos_2023)\n",
        "dados_tap_novos_2023['valor_pago'] = [''] * len(dados_tap_novos_2023)"
      ]
    },
    {
      "cell_type": "code",
      "execution_count": null,
      "metadata": {
        "id": "glxj16Cz6zp8"
      },
      "outputs": [],
      "source": [
        "dados_tap_novos_2023.subobj_principal = dados_tap_novos_2023.subobj_principal.fillna('').astype(str)\n",
        "dados_tap_novos_2023.data_voo = dados_tap_novos_2023.data_voo.fillna('').astype(str)\n",
        "dados_tap_novos_2023.operacao = dados_tap_novos_2023.operacao.fillna('Internacional').astype(str)\n",
        "dados_tap_novos_2023.causa_alegada = dados_tap_novos_2023.causa_alegada.fillna('').astype(str)"
      ]
    },
    {
      "cell_type": "code",
      "execution_count": null,
      "metadata": {
        "id": "1vVnTeCE0THD"
      },
      "outputs": [],
      "source": [
        "dados_tap_novos_2023['num_proc_ano'] = dados_tap_novos_2023['numero_processo']. \\\n",
        "                      str.extract(r'\\d{7}-\\d{2}\\.(\\d{4})\\.\\d\\.\\d{2}\\.\\d{4}')"
      ]
    },
    {
      "cell_type": "code",
      "execution_count": null,
      "metadata": {
        "id": "WcWaoLR-0THD"
      },
      "outputs": [],
      "source": [
        "dados_tap_novos_2023 = dados_tap_novos_2023.dropna(subset = ['num_proc_ano'], axis=0)\n",
        "dados_tap_novos_2023 = dados_tap_novos_2023.reset_index(drop=True)"
      ]
    },
    {
      "cell_type": "code",
      "execution_count": null,
      "metadata": {
        "id": "BfMnhAuM0THD"
      },
      "outputs": [],
      "source": [
        "dados_tap_novos_2023.num_proc_ano = pd.to_numeric(dados_tap_novos_2023.num_proc_ano).astype(int)"
      ]
    },
    {
      "cell_type": "code",
      "execution_count": null,
      "metadata": {
        "id": "mtNfjvcR0THE",
        "outputId": "eee08b6f-7655-4296-a17f-5beca16dfe1a"
      },
      "outputs": [
        {
          "data": {
            "text/plain": [
              "array([2022, 2020, 2021, 2023, 2019, 2018])"
            ]
          },
          "execution_count": 387,
          "metadata": {},
          "output_type": "execute_result"
        }
      ],
      "source": [
        "dados_tap_novos_2023.num_proc_ano.unique()"
      ]
    },
    {
      "cell_type": "code",
      "execution_count": null,
      "metadata": {
        "id": "bdefqGrg0THE"
      },
      "outputs": [],
      "source": [
        "dados_tap_novos_2023 = dados_tap_novos_2023[dados_tap_novos_2023['num_proc_ano'].\n",
        "                                          isin([2023])]"
      ]
    },
    {
      "cell_type": "code",
      "execution_count": null,
      "metadata": {
        "id": "Hn5f6GO30THE"
      },
      "outputs": [],
      "source": [
        "dados_tap_novos_2023.numero_processo = dados_tap_novos_2023.numero_processo.replace(pd.NA,'0')\n",
        "dados_tap_novos_2023['numero_processo_regex'] = dados_tap_novos_2023.numero_processo. \\\n",
        "      str.replace(r'[\\-\\\\.\\\\\" \"]', '', regex=True).str.slice(0,20)"
      ]
    },
    {
      "cell_type": "code",
      "execution_count": null,
      "metadata": {
        "id": "j0hfkr1R0THE"
      },
      "outputs": [],
      "source": [
        "dados_tap_novos_2023 = dados_tap_novos_2023[[\n",
        "    'empresa_re', 'numero_processo', 'cnpj_re', 'data_distribuicao', 'UF',\n",
        "       'jurisdicao', 'obj_principal', 'subobj_principal',\n",
        "       'valor_pedido_inicial', 'n_autores', 'data_voo', 'operacao',\n",
        "       'causa_alegada', 'situacao_processual', 'instancia',\n",
        "       'resultado_decisao_sentenca', 'data_sentenca', 'valor_dano_moral',\n",
        "       'valor_dano_material', 'valor_total_condenacao', 'data_acordao',\n",
        "       'valor_pago', 'num_proc_ano', 'numero_processo_regex'\n",
        "]]"
      ]
    },
    {
      "cell_type": "markdown",
      "metadata": {
        "id": "-01L733y0THF",
        "jp-MarkdownHeadingCollapsed": true
      },
      "source": [
        "##### Ajustando os dados"
      ]
    },
    {
      "cell_type": "code",
      "execution_count": null,
      "metadata": {
        "id": "QcKUNl120THF",
        "outputId": "d2fae916-ef6f-4e79-a669-b4c6f76fe274"
      },
      "outputs": [
        {
          "data": {
            "text/plain": [
              "array(['Transportes Aéreos Portugueses S/A'], dtype=object)"
            ]
          },
          "execution_count": 392,
          "metadata": {},
          "output_type": "execute_result"
        }
      ],
      "source": [
        "dados_tap_novos_2023.empresa_re.unique()"
      ]
    },
    {
      "cell_type": "code",
      "execution_count": null,
      "metadata": {
        "id": "_MeF97eR0THF"
      },
      "outputs": [],
      "source": [
        "dados_tap_novos_2023 = transforma_df(dados_tap_novos_2023)"
      ]
    },
    {
      "cell_type": "code",
      "execution_count": null,
      "metadata": {
        "id": "HJpVfftD0THF",
        "outputId": "153990a0-3b80-4660-d0c7-80cc464eaf5c"
      },
      "outputs": [
        {
          "name": "stdout",
          "output_type": "stream",
          "text": [
            "['Tap']\n",
            "['Não informado']\n",
            "['SP' 'MG' 'ES' 'PR' 'RJ' 'MS' 'DF' 'RS' 'MT' 'SC' 'GO']\n",
            "['Vara Cível' 'Juizado Especial Cível' 'Não informado' 'Outros']\n",
            "['Internacional']\n",
            "['Não informado' 'Condenação' 'Acordo'\n",
            " 'Decisão favorável à aérea (improcedência)']\n",
            "['1ª Instância' '2ª Instância' '3ª Instância']\n",
            "[2023]\n"
          ]
        }
      ],
      "source": [
        "print(dados_tap_novos_2023.empresa_re.unique())\n",
        "print(dados_tap_novos_2023.cnpj_re.unique())\n",
        "print(dados_tap_novos_2023.UF.unique())\n",
        "print(dados_tap_novos_2023.jurisdicao.unique())\n",
        "print(dados_tap_novos_2023.operacao.unique())\n",
        "print(dados_tap_novos_2023.situacao_processual_sentenca.unique())\n",
        "print(dados_tap_novos_2023.instancia.unique())\n",
        "print(dados_tap_novos_2023.num_proc_ano.unique())"
      ]
    },
    {
      "cell_type": "code",
      "execution_count": null,
      "metadata": {
        "id": "Kh_FyXuC0THF",
        "outputId": "38d658c4-a182-4ffd-a740-84b942ca35e2"
      },
      "outputs": [
        {
          "name": "stdout",
          "output_type": "stream",
          "text": [
            "<class 'pandas.core.frame.DataFrame'>\n",
            "Index: 3404 entries, 19 to 13989\n",
            "Data columns (total 36 columns):\n",
            " #   Column                        Non-Null Count  Dtype  \n",
            "---  ------                        --------------  -----  \n",
            " 0   empresa_re                    3404 non-null   object \n",
            " 1   numero_processo               3404 non-null   object \n",
            " 2   cnpj_re                       3404 non-null   object \n",
            " 3   data_distribuicao             3404 non-null   object \n",
            " 4   UF                            3404 non-null   object \n",
            " 5   jurisdicao                    3404 non-null   object \n",
            " 6   obj_principal                 3404 non-null   object \n",
            " 7   subobj_principal              3404 non-null   object \n",
            " 8   valor_pedido_inicial          3404 non-null   float64\n",
            " 9   n_autores                     3404 non-null   int32  \n",
            " 10  data_voo                      3404 non-null   object \n",
            " 11  operacao                      3404 non-null   object \n",
            " 12  causa_alegada                 3404 non-null   object \n",
            " 13  situacao_processual           3404 non-null   object \n",
            " 14  instancia                     3404 non-null   object \n",
            " 15  resultado_decisao_sentenca    3404 non-null   object \n",
            " 16  data_sentenca                 3404 non-null   object \n",
            " 17  valor_dano_moral              3404 non-null   float64\n",
            " 18  valor_dano_material           3404 non-null   float64\n",
            " 19  valor_total_condenacao        3404 non-null   float64\n",
            " 20  data_acordao                  3404 non-null   object \n",
            " 21  valor_pago                    3404 non-null   float64\n",
            " 22  num_proc_ano                  3404 non-null   int32  \n",
            " 23  numero_processo_regex         3404 non-null   object \n",
            " 24  obj_problemas_operacionais    3404 non-null   bool   \n",
            " 25  obj_bagagem                   3404 non-null   bool   \n",
            " 26  obj_contrato                  3404 non-null   bool   \n",
            " 27  obj_outros                    3404 non-null   bool   \n",
            " 28  causa_nao_informado           3404 non-null   bool   \n",
            " 29  causa_forca_maior             3404 non-null   bool   \n",
            " 30  causa_fortuitos               3404 non-null   bool   \n",
            " 31  causa_terceiros               3404 non-null   bool   \n",
            " 32  causa_cliente                 3404 non-null   bool   \n",
            " 33  causa_aerea                   3404 non-null   bool   \n",
            " 34  causa_outros                  3404 non-null   bool   \n",
            " 35  situacao_processual_sentenca  3404 non-null   object \n",
            "dtypes: bool(11), float64(5), int32(2), object(18)\n",
            "memory usage: 830.4+ KB\n"
          ]
        }
      ],
      "source": [
        "dados_tap_novos_2023.info()"
      ]
    },
    {
      "cell_type": "code",
      "execution_count": null,
      "metadata": {
        "id": "gkpmmjDc0THF"
      },
      "outputs": [],
      "source": [
        "dados_tap_novos_2023.to_csv('./TAP/final/ajust_dados_tap_novos_2023.csv',index=False)"
      ]
    },
    {
      "cell_type": "markdown",
      "metadata": {
        "id": "IAMyzJUJ0THG",
        "jp-MarkdownHeadingCollapsed": true
      },
      "source": [
        "#### Consolidando bases de dados Tap"
      ]
    },
    {
      "cell_type": "code",
      "execution_count": null,
      "metadata": {
        "id": "z6LKtNpL0THG"
      },
      "outputs": [],
      "source": [
        "dados_tap_original = pd.read_csv('./TAP/final/ajust_dados_tap_original.csv',\n",
        "                                 low_memory=False)"
      ]
    },
    {
      "cell_type": "code",
      "execution_count": null,
      "metadata": {
        "id": "2-h0dgOK0THG"
      },
      "outputs": [],
      "source": [
        "dados_tap_novos = pd.read_csv('./TAP/final/ajust_dados_tap_novos.csv',low_memory=False)"
      ]
    },
    {
      "cell_type": "code",
      "execution_count": null,
      "metadata": {
        "id": "eHPEgEG20THG"
      },
      "outputs": [],
      "source": [
        "dados_tap_novos_2023 = pd.read_csv('./TAP/final/ajust_dados_tap_novos_2023.csv',\n",
        "                                   low_memory=False)"
      ]
    },
    {
      "cell_type": "code",
      "execution_count": null,
      "metadata": {
        "id": "Jkl0Mm_-0THG"
      },
      "outputs": [],
      "source": [
        "dados_tap = pd.concat([dados_tap_original,dados_tap_novos,dados_tap_novos_2023],axis=0)"
      ]
    },
    {
      "cell_type": "code",
      "execution_count": null,
      "metadata": {
        "id": "nwHW_Asm0THG",
        "outputId": "ec1e1151-aa06-4752-cc86-b383d5c0e607"
      },
      "outputs": [
        {
          "data": {
            "text/plain": [
              "(39854, 36)"
            ]
          },
          "execution_count": 402,
          "metadata": {},
          "output_type": "execute_result"
        }
      ],
      "source": [
        "dados_tap.shape"
      ]
    },
    {
      "cell_type": "code",
      "execution_count": null,
      "metadata": {
        "id": "W6OXU_Wv0THG",
        "outputId": "0788b1ae-f898-4fca-aeb5-11fc525ccddc"
      },
      "outputs": [
        {
          "data": {
            "text/plain": [
              "empresa_re                          0\n",
              "numero_processo                     0\n",
              "cnpj_re                             0\n",
              "data_distribuicao                  28\n",
              "UF                                  0\n",
              "jurisdicao                          0\n",
              "obj_principal                       0\n",
              "subobj_principal                 3404\n",
              "valor_pedido_inicial                0\n",
              "n_autores                           0\n",
              "data_voo                         4110\n",
              "operacao                            0\n",
              "causa_alegada                   39854\n",
              "situacao_processual                 0\n",
              "instancia                           0\n",
              "resultado_decisao_sentenca       8955\n",
              "data_sentenca                   11065\n",
              "valor_dano_moral                    0\n",
              "valor_dano_material                 0\n",
              "valor_total_condenacao              0\n",
              "data_acordao                    39854\n",
              "valor_pago                          0\n",
              "num_proc_ano                        0\n",
              "numero_processo_regex               0\n",
              "obj_problemas_operacionais          0\n",
              "obj_bagagem                         0\n",
              "obj_contrato                        0\n",
              "obj_outros                          0\n",
              "causa_nao_informado                 0\n",
              "causa_forca_maior                   0\n",
              "causa_fortuitos                     0\n",
              "causa_terceiros                     0\n",
              "causa_cliente                       0\n",
              "causa_aerea                         0\n",
              "causa_outros                        0\n",
              "situacao_processual_sentenca        0\n",
              "dtype: int64"
            ]
          },
          "execution_count": 403,
          "metadata": {},
          "output_type": "execute_result"
        }
      ],
      "source": [
        "dados_tap.isnull().sum()"
      ]
    },
    {
      "cell_type": "code",
      "execution_count": null,
      "metadata": {
        "id": "2tCfOJMs0THG",
        "outputId": "e4fcd2d9-ab01-491d-df6c-45ab521e2830"
      },
      "outputs": [
        {
          "name": "stdout",
          "output_type": "stream",
          "text": [
            "<class 'pandas.core.frame.DataFrame'>\n",
            "Index: 39854 entries, 0 to 3403\n",
            "Data columns (total 36 columns):\n",
            " #   Column                        Non-Null Count  Dtype  \n",
            "---  ------                        --------------  -----  \n",
            " 0   empresa_re                    39854 non-null  object \n",
            " 1   numero_processo               39854 non-null  object \n",
            " 2   cnpj_re                       39854 non-null  object \n",
            " 3   data_distribuicao             39826 non-null  object \n",
            " 4   UF                            39854 non-null  object \n",
            " 5   jurisdicao                    39854 non-null  object \n",
            " 6   obj_principal                 39854 non-null  object \n",
            " 7   subobj_principal              36450 non-null  object \n",
            " 8   valor_pedido_inicial          39854 non-null  float64\n",
            " 9   n_autores                     39854 non-null  int64  \n",
            " 10  data_voo                      35744 non-null  object \n",
            " 11  operacao                      39854 non-null  object \n",
            " 12  causa_alegada                 0 non-null      float64\n",
            " 13  situacao_processual           39854 non-null  object \n",
            " 14  instancia                     39854 non-null  object \n",
            " 15  resultado_decisao_sentenca    30899 non-null  object \n",
            " 16  data_sentenca                 28789 non-null  object \n",
            " 17  valor_dano_moral              39854 non-null  float64\n",
            " 18  valor_dano_material           39854 non-null  float64\n",
            " 19  valor_total_condenacao        39854 non-null  float64\n",
            " 20  data_acordao                  0 non-null      float64\n",
            " 21  valor_pago                    39854 non-null  float64\n",
            " 22  num_proc_ano                  39854 non-null  int64  \n",
            " 23  numero_processo_regex         39854 non-null  object \n",
            " 24  obj_problemas_operacionais    39854 non-null  bool   \n",
            " 25  obj_bagagem                   39854 non-null  bool   \n",
            " 26  obj_contrato                  39854 non-null  bool   \n",
            " 27  obj_outros                    39854 non-null  bool   \n",
            " 28  causa_nao_informado           39854 non-null  bool   \n",
            " 29  causa_forca_maior             39854 non-null  bool   \n",
            " 30  causa_fortuitos               39854 non-null  bool   \n",
            " 31  causa_terceiros               39854 non-null  bool   \n",
            " 32  causa_cliente                 39854 non-null  bool   \n",
            " 33  causa_aerea                   39854 non-null  bool   \n",
            " 34  causa_outros                  39854 non-null  bool   \n",
            " 35  situacao_processual_sentenca  39854 non-null  object \n",
            "dtypes: bool(11), float64(7), int64(2), object(16)\n",
            "memory usage: 8.3+ MB\n"
          ]
        }
      ],
      "source": [
        "dados_tap.info()"
      ]
    },
    {
      "cell_type": "code",
      "execution_count": null,
      "metadata": {
        "id": "hGS4QtQr0THH"
      },
      "outputs": [],
      "source": [
        "dados_tap = dados_tap.sort_values(by=['empresa_re',\n",
        "                                      'numero_processo_regex'], ascending=True)"
      ]
    },
    {
      "cell_type": "code",
      "execution_count": null,
      "metadata": {
        "id": "s8YMZ0oN0THH"
      },
      "outputs": [],
      "source": [
        "dados_tap = dados_tap.drop_duplicates(subset=['empresa_re',\n",
        "                                        'numero_processo_regex'],keep='first')"
      ]
    },
    {
      "cell_type": "code",
      "execution_count": null,
      "metadata": {
        "id": "jwK0dC1u0THH"
      },
      "outputs": [],
      "source": [
        "dados_tap = dados_tap[dados_tap.UF.isin(['AM', 'BA', 'CE', 'DF', 'ES', 'GO',\n",
        "            'MG', 'MS', 'MT', 'PE', 'PR', 'RJ', 'RO', 'SC', 'SP', 'TO'])]"
      ]
    },
    {
      "cell_type": "code",
      "execution_count": null,
      "metadata": {
        "id": "3ls78PgI0THH"
      },
      "outputs": [],
      "source": [
        "dados_tap = dados_tap.reset_index(drop=True)"
      ]
    },
    {
      "cell_type": "code",
      "execution_count": null,
      "metadata": {
        "id": "EBpkVqA20THH",
        "outputId": "174fe231-1a2e-433c-e36d-f11d24ff10b1"
      },
      "outputs": [
        {
          "data": {
            "text/plain": [
              "(18467, 36)"
            ]
          },
          "execution_count": 409,
          "metadata": {},
          "output_type": "execute_result"
        }
      ],
      "source": [
        "dados_tap.shape"
      ]
    },
    {
      "cell_type": "code",
      "execution_count": null,
      "metadata": {
        "id": "IW6zJtG90THH"
      },
      "outputs": [],
      "source": [
        "dados_tap.to_csv('./TAP/final/tap_dados_consolidados_FINAL.csv',index=False)"
      ]
    },
    {
      "cell_type": "markdown",
      "metadata": {
        "id": "LdeE_E8c1qk1"
      },
      "source": [
        "### United"
      ]
    },
    {
      "cell_type": "markdown",
      "metadata": {
        "id": "oUcRPfbjD4MC",
        "jp-MarkdownHeadingCollapsed": true
      },
      "source": [
        "#### Coleta de Dados Original"
      ]
    },
    {
      "cell_type": "markdown",
      "metadata": {
        "id": "I065NyLOrL78",
        "jp-MarkdownHeadingCollapsed": true
      },
      "source": [
        "##### Importando os dados"
      ]
    },
    {
      "cell_type": "code",
      "execution_count": null,
      "metadata": {
        "id": "Ugq5Ns_WD4MD"
      },
      "outputs": [],
      "source": [
        "dados_united_original_1 = pd.read_csv('./UNITED/base_inicial_united_parte_1.csv',\n",
        "                                  delimiter=';', low_memory=False)\n",
        "\n",
        "dados_united_original_1 = dados_united_original_1.drop(columns=['Comarca'])\n",
        "\n",
        "dados_united_original_1.columns = [\n",
        "  'numero_processo', 'empresa_re', 'cnpj_re', 'data_distribuicao', 'UF',\n",
        "  'jurisdicao', 'obj_principal', 'subobj_principal',\n",
        "  'valor_pedido_inicial', 'n_autores', 'data_voo', 'operacao',\n",
        "  'causa_alegada', 'situacao_processual', 'instancia',\n",
        "  'resultado_decisao_sentenca', 'data_sentenca', 'valor_dano_moral',\n",
        "  'valor_dano_material', 'valor_total_condenacao', 'data_acordao', 'valor_pago'\n",
        "]"
      ]
    },
    {
      "cell_type": "code",
      "execution_count": null,
      "metadata": {
        "id": "3QtrsVYjEkIH"
      },
      "outputs": [],
      "source": [
        "dados_united_original_2 = pd.read_csv('./UNITED/base_inicial_united_parte_2.csv',\n",
        "                                  delimiter=';', low_memory=False)\n",
        "\n",
        "dados_united_original_2 = dados_united_original_2.drop(columns=['Comarca'])\n",
        "\n",
        "dados_united_original_2.columns = [\n",
        "  'numero_processo', 'empresa_re', 'cnpj_re', 'data_distribuicao', 'UF',\n",
        "  'jurisdicao', 'obj_principal', 'subobj_principal',\n",
        "  'valor_pedido_inicial', 'n_autores', 'data_voo', 'operacao',\n",
        "  'causa_alegada', 'situacao_processual', 'instancia',\n",
        "  'resultado_decisao_sentenca', 'data_sentenca', 'valor_dano_moral',\n",
        "  'valor_dano_material', 'valor_total_condenacao', 'data_acordao', 'valor_pago'\n",
        "]"
      ]
    },
    {
      "cell_type": "code",
      "execution_count": null,
      "metadata": {
        "id": "llLTgtkxExkj"
      },
      "outputs": [],
      "source": [
        "dados_united_original = pd.concat([dados_united_original_1,dados_united_original_2],axis=0)"
      ]
    },
    {
      "cell_type": "markdown",
      "metadata": {
        "jp-MarkdownHeadingCollapsed": true,
        "id": "fqeTEuJpnozh"
      },
      "source": [
        "##### Ajustando as colunas e filtrando os dados"
      ]
    },
    {
      "cell_type": "code",
      "execution_count": null,
      "metadata": {
        "id": "wqOjUnV4D4MH"
      },
      "outputs": [],
      "source": [
        "dados_united_original['num_proc_ano'] = dados_united_original['numero_processo']. \\\n",
        "                      str.extract(r'\\d{7}-\\d{2}\\.(\\d{4})\\.\\d\\.\\d{2}\\.\\d{4}')"
      ]
    },
    {
      "cell_type": "code",
      "execution_count": null,
      "metadata": {
        "id": "Ykfrgn_dD4MH"
      },
      "outputs": [],
      "source": [
        "dados_united_original = dados_united_original.dropna(subset = ['num_proc_ano'], axis=0)\n",
        "dados_united_original = dados_united_original.reset_index(drop=True)"
      ]
    },
    {
      "cell_type": "code",
      "execution_count": null,
      "metadata": {
        "id": "VvH50APGD4MI"
      },
      "outputs": [],
      "source": [
        "dados_united_original.num_proc_ano = pd.to_numeric(dados_united_original.num_proc_ano).astype(int)"
      ]
    },
    {
      "cell_type": "code",
      "execution_count": null,
      "metadata": {
        "id": "gsGSBDY3nozl",
        "outputId": "33897541-1dae-490a-a095-f273b6babb95"
      },
      "outputs": [
        {
          "data": {
            "text/plain": [
              "array([2019, 2020, 2021, 2022, 2018, 2017])"
            ]
          },
          "execution_count": 421,
          "metadata": {},
          "output_type": "execute_result"
        }
      ],
      "source": [
        "dados_united_original.num_proc_ano.unique()"
      ]
    },
    {
      "cell_type": "code",
      "execution_count": null,
      "metadata": {
        "id": "BGcB8wGVD4MI"
      },
      "outputs": [],
      "source": [
        "dados_united_original = dados_united_original[dados_united_original['num_proc_ano'].\n",
        "                                          isin([2019,2020,2021,2022,2023])]"
      ]
    },
    {
      "cell_type": "code",
      "execution_count": null,
      "metadata": {
        "id": "Yo1_NrWuD4MJ"
      },
      "outputs": [],
      "source": [
        "dados_united_original.numero_processo = dados_united_original.numero_processo.replace(pd.NA,'0')\n",
        "dados_united_original['numero_processo_regex'] = dados_united_original.numero_processo. \\\n",
        "      str.replace(r'[\\-\\\\.\\\\\" \"]', '', regex=True).str.slice(0,20)"
      ]
    },
    {
      "cell_type": "code",
      "execution_count": null,
      "metadata": {
        "id": "_iIwUOBzD4MK"
      },
      "outputs": [],
      "source": [
        "dados_united_original = dados_united_original[[\n",
        "    'empresa_re', 'numero_processo', 'cnpj_re', 'data_distribuicao', 'UF',\n",
        "       'jurisdicao', 'obj_principal', 'subobj_principal',\n",
        "       'valor_pedido_inicial', 'n_autores', 'data_voo', 'operacao',\n",
        "       'causa_alegada', 'situacao_processual', 'instancia',\n",
        "       'resultado_decisao_sentenca', 'data_sentenca', 'valor_dano_moral',\n",
        "       'valor_dano_material', 'valor_total_condenacao', 'data_acordao',\n",
        "       'valor_pago', 'num_proc_ano', 'numero_processo_regex'\n",
        "]]"
      ]
    },
    {
      "cell_type": "markdown",
      "metadata": {
        "id": "f7NXrpIRD4ML",
        "jp-MarkdownHeadingCollapsed": true
      },
      "source": [
        "##### Ajustando os dados"
      ]
    },
    {
      "cell_type": "code",
      "execution_count": null,
      "metadata": {
        "id": "XmUowwbaD4ML",
        "outputId": "905fe693-8ed6-4cbc-badf-76c56b461842"
      },
      "outputs": [
        {
          "data": {
            "text/plain": [
              "array(['United Airlines Inc.'], dtype=object)"
            ]
          },
          "execution_count": 426,
          "metadata": {},
          "output_type": "execute_result"
        }
      ],
      "source": [
        "dados_united_original.empresa_re.unique()"
      ]
    },
    {
      "cell_type": "code",
      "execution_count": null,
      "metadata": {
        "id": "1owMmePFD4ML"
      },
      "outputs": [],
      "source": [
        "dados_united_original = transforma_df(dados_united_original)"
      ]
    },
    {
      "cell_type": "code",
      "execution_count": null,
      "metadata": {
        "id": "eZwGEIv2D4MM",
        "outputId": "4dd53c3c-7d14-4e35-dda7-c943d13747d0"
      },
      "outputs": [
        {
          "name": "stdout",
          "output_type": "stream",
          "text": [
            "['United']\n",
            "['01.526.415/0001-66' '01.526.415/0001-86' '01.526.415/0001-99'\n",
            " '01.526.415/0001-313' '01.526.415/0001-90' '01.526.415/0001-119'\n",
            " '01.526.415/0001-221' '01.526.415/0001-225' '01.526.415/0001-175'\n",
            " '01.526.415/0001-551' '01.526.415/0001-100' '01.526.415/0001-193'\n",
            " '01.526.415/0001-574' '01.526.415/0001-340' '01.526.415/0001-339'\n",
            " '01.526.415/0001-457' '01.526.415/0001-320' '01.526.415/0001-294'\n",
            " '01.526.415/0001-128' '01.526.415/0001-127' '01.526.415/0001-445'\n",
            " '01.526.415/0001-502' '01.526.415/0001-322' '01.526.415/0001-515'\n",
            " '01.526.415/0001-451' '01.526.415/0001-296' '01.526.415/0001-498'\n",
            " '01.526.415/0001-605' '01.526.415/0001-120' '01.526.415/0001-511'\n",
            " '01.526.415/0001-522' '01.526.415/0001-470' '01.526.415/0001-162'\n",
            " '01.526.415/0001-354' '01.526.415/0001-358' '01.526.415/0001-433'\n",
            " '01.526.415/0001-91' '01.526.415/0001-510' '01.526.415/0001-331'\n",
            " '01.526.415/0001-342' '01.526.415/0001-373' '01.526.415/0001-401'\n",
            " '01.526.415/0001-345' '01.526.415/0001-346' '01.526.415/0001-235'\n",
            " '01.526.415/0001-67' '01.526.415/0001-93' '01.526.415/0001-130'\n",
            " '01.526.415/0001-106' '01.526.415/0001-504' '01.526.415/0001-456'\n",
            " '01.526.415/0001-557' '01.526.415/0001-115' '01.526.415/0001-116'\n",
            " '01.526.415/0001-458' '01.526.415/0001-591' '01.526.415/0001-439'\n",
            " '01.526.415/0001-161' '01.526.415/0001-280' '01.526.415/0001-126'\n",
            " '01.526.415/0001-68' '01.526.415/0001-407' '01.526.415/0001-153'\n",
            " '01.526.415/0001-467' '01.526.415/0001-618' '01.526.415/0001-135'\n",
            " '01.526.415/0001-379' '01.526.415/0001-186' '01.526.415/0001-463'\n",
            " '01.526.415/0001-464' '01.526.415/0001-159' '01.526.415/0001-160'\n",
            " '01.526.415/0001-208' '01.526.415/0001-218' '01.526.415/0001-206'\n",
            " '01.526.415/0001-200' '01.526.415/0001-385' '01.526.415/0001-560'\n",
            " '01.526.415/0001-430' '01.526.415/0001-383' '01.526.415/0001-73'\n",
            " '01.526.415/0001-230' '01.526.415/0001-179' '01.526.415/0001-190'\n",
            " '01.526.415/0001-486' '01.526.415/0001-250' '01.526.415/0001-249'\n",
            " '01.526.415/0001-252' '01.526.415/0001-402' '01.526.415/0001-205'\n",
            " '01.526.415/0001-254' '01.526.415/0001-265' '01.526.415/0001-304'\n",
            " '01.526.415/0001-204' '01.526.415/0001-484' '01.526.415/0001-413'\n",
            " '01.526.415/0001-281' '01.526.415/0001-224' '01.526.415/0001-492'\n",
            " '01.526.415/0001-242' '01.526.415/0001-247' '01.526.415/0001-672'\n",
            " '01.526.415/0001-679' '01.526.415/0001-282' '01.526.415/0001-279'\n",
            " '01.526.415/0001-624' '01.526.415/0001-667' '01.526.415/0001-332'\n",
            " '01.526.415/0001-207' '01.526.415/0001-143' '01.526.415/0001-122'\n",
            " '01.526.415/0001-333' '01.526.415/0001-684' '01.526.415/0001-446'\n",
            " '01.526.415/0001-113' '01.526.415/0001-660' '01.526.415/0001-114'\n",
            " '01.526.415/0001-351' '01.526.415/0001-537' '01.526.415/0001-541'\n",
            " '01.526.415/0001-366' '01.526.415/0001-394' '01.526.415/0001-395'\n",
            " '01.526.415/0001-133' '01.526.415/0001-176' '01.526.415/0001-137'\n",
            " '01.526.415/0001-374' '01.526.415/0001-70' '01.526.415/0001-588'\n",
            " '01.526.415/0001-400' '01.526.415/0001-211' '01.526.415/0001-151'\n",
            " '01.526.415/0001-212' '01.526.415/0001-599' '01.526.415/0001-157'\n",
            " '01.526.415/0001-209' '01.526.415/0001-615' '01.526.415/0001-392'\n",
            " '01.526.415/0001-198' '01.526.415/0001-398' '01.526.415/0001-399'\n",
            " '01.526.415/0001-662' '01.526.415/0001-210' '01.526.415/0001-405'\n",
            " '01.526.415/0001-671' '01.526.415/0001-408' '01.526.415/0001-299'\n",
            " '01.526.415/0001-477' '01.526.415/0001-253' '01.526.415/0001-264'\n",
            " '01.526.415/0001-278' '01.526.415/0001-283' '01.526.415/0001-142'\n",
            " '01.526.415/0001-98' '01.526.415/0001-121' '01.526.415/0001-199'\n",
            " '01.526.415/0001-149' '01.526.415/0001-306' '01.526.415/0001-499'\n",
            " '01.526.415/0001-553' '01.526.415/0001-110' '01.526.415/0001-453'\n",
            " '01.526.415/0001-359' '01.526.415/0001-431' '01.526.415/0001-466'\n",
            " '01.526.415/0001-452' '01.526.415/0001-180' '01.526.415/0001-80'\n",
            " '01.526.415/0001-559' '01.526.415/0001-223' '01.526.415/0001-604'\n",
            " '01.526.415/0001-621' '01.526.415/0001-478' '01.526.415/0001-494'\n",
            " '01.526.415/0001-497' '01.526.415/0001-488' '01.526.415/0001-566'\n",
            " '01.526.415/0001-493' '01.526.415/0001-496' '01.526.415/0001-495'\n",
            " '01.526.415/0001-582' '01.526.415/0001-593' '01.526.415/0001-432'\n",
            " '01.526.415/0001-528' '01.526.415/0001-215' '01.526.415/0001-202'\n",
            " '01.526.415/0001-508' '01.526.415/0001-490' '01.526.415/0001-350'\n",
            " '01.526.415/0001-681' '01.526.415/0001-302' '01.526.415/0001-514'\n",
            " '01.526.415/0001-506' '01.526.415/0001-568' '01.526.415/0001-288'\n",
            " '01.526.415/0001-569' '01.526.415/0001-465' '01.526.415/0001-526'\n",
            " '01.526.415/0001-409' '01.526.415/0001-622' '01.526.415/0001-530'\n",
            " '01.526.415/0001-658' '01.526.415/0001-670' '01.526.415/0001-144'\n",
            " '01.526.415/0001-554' '01.526.415/0001-571' '01.526.415/0001-576'\n",
            " '01.526.415/0001-579' '01.526.415/0001-642' '01.526.415/0001-248'\n",
            " '01.526.415/0001-573' '01.526.415/0001-640' '01.526.415/0001-545'\n",
            " '01.526.415/0001-546' '01.526.415/0001-651' '01.526.415/0001-619'\n",
            " '01.526.415/0001-563' '01.526.415/0001-648' '01.526.415/0001-578'\n",
            " '01.526.415/0001-246' '01.526.415/0001-653' '01.526.415/0001-656'\n",
            " '01.526.415/0001-501' '01.526.415/0001-355' '01.526.415/0001-422'\n",
            " '01.526.415/0001-311' '01.526.415/0001-94' '01.526.415/0001-310'\n",
            " '01.526.415/0001-309' '01.526.415/0001-426' '01.526.415/0001-317'\n",
            " '01.526.415/0001-427' '01.526.415/0001-343' '01.526.415/0001-321'\n",
            " '01.526.415/0001-325' '01.526.415/0001-503' '01.526.415/0001-335'\n",
            " '01.526.415/0001-532' '01.526.415/0001-369' '01.526.415/0001-380'\n",
            " '01.526.415/0001-518' '01.526.415/0001-434' '01.526.415/0001-377'\n",
            " '01.526.415/0001-105' '01.526.415/0001-131' '01.526.415/0001-189'\n",
            " '01.526.415/0001-396' '01.526.415/0001-124' '01.526.415/0001-347'\n",
            " '01.526.415/0001-410' '01.526.415/0001-527' '01.526.415/0001-191'\n",
            " '01.526.415/0001-148' '01.526.415/0001-255' '01.526.415/0001-500'\n",
            " '01.526.415/0001-613' '01.526.415/0001-318' '01.526.415/0001-455'\n",
            " '01.526.415/0001-319' '01.526.415/0001-177' '01.526.415/0001-424'\n",
            " '01.526.415/0001-291' '01.526.415/0001-389' '01.526.415/0001-269'\n",
            " '01.526.415/0001-534' '01.526.415/0001-397' '01.526.415/0001-474'\n",
            " '01.526.415/0001-469' '01.526.415/0001-226' '01.526.415/0001-168'\n",
            " '01.526.415/0001-539' '01.526.415/0001-382' '01.526.415/0001-661'\n",
            " '01.526.415/0001-140' '01.526.415/0001-258' '01.526.415/0001-412'\n",
            " '01.526.415/0001-428' '01.526.415/0001-631' '01.526.415/0001-602'\n",
            " '01.526.415/0001-509' '01.526.415/0001-391' '01.526.415/0001-136'\n",
            " '01.526.415/0001-285' '01.526.415/0001-75' '01.526.415/0001-544'\n",
            " '01.526.415/0001-387' '01.526.415/0001-170' '01.526.415/0001-101'\n",
            " '01.526.415/0001-429' '01.526.415/0001-364' '01.526.415/0001-592'\n",
            " '01.526.415/0001-232' '01.526.415/0001-634' '01.526.415/0001-185'\n",
            " '01.526.415/0001-608' '01.526.415/0001-423' '01.526.415/0001-260'\n",
            " '01.526.415/0001-590' '01.526.415/0001-107' '01.526.415/0001-338'\n",
            " '01.526.415/0001-415' '01.526.415/0001-649' '01.526.415/0001-341'\n",
            " '01.526.415/0001-220' '01.526.415/0001-344' '01.526.415/0001-606'\n",
            " '01.526.415/0001-386' '01.526.415/0001-336' '01.526.415/0001-367'\n",
            " '01.526.415/0001-276' '01.526.415/0001-614' '01.526.415/0001-437'\n",
            " '01.526.415/0001-348' '01.526.415/0001-117' '01.526.415/0001-349'\n",
            " '01.526.415/0001-610' '01.526.415/0001-214' '01.526.415/0001-664'\n",
            " '01.526.415/0001-626' '01.526.415/0001-438' '01.526.415/0001-472'\n",
            " '01.526.415/0001-357' '01.526.415/0001-637' '01.526.415/0001-416'\n",
            " '01.526.415/0001-132' '01.526.415/0001-441' '01.526.415/0001-442'\n",
            " '01.526.415/0001-361' '01.526.415/0001-363' '01.526.415/0001-362'\n",
            " '01.526.415/0001-123' '01.526.415/0001-443' '01.526.415/0001-289'\n",
            " '01.526.415/0001-275' '01.526.415/0001-138' '01.526.415/0001-421'\n",
            " '01.526.415/0001-360' '01.526.415/0001-141' '01.526.415/0001-447'\n",
            " '01.526.415/0001-372' '01.526.415/0001-147' '01.526.415/0001-146'\n",
            " '01.526.415/0001-529' '01.526.415/0001-259' '01.526.415/0001-607'\n",
            " '01.526.415/0001-165' '01.526.415/0001-491' '01.526.415/0001-378'\n",
            " '01.526.415/0001-256' '01.526.415/0001-257' '01.526.415/0001-381'\n",
            " '01.526.415/0001-169' '01.526.415/0001-460' '01.526.415/0001-171'\n",
            " '01.526.415/0001-172' '01.526.415/0001-173' '01.526.415/0001-76'\n",
            " '01.526.415/0001-174' '01.526.415/0001-536' '01.526.415/0001-535'\n",
            " '01.526.415/0001-388' '01.526.415/0001-462' '01.526.415/0001-187'\n",
            " '01.526.415/0001-540' '01.526.415/0001-564' '01.526.415/0001-550'\n",
            " '01.526.415/0001-192' '01.526.415/0001-195' '01.526.415/0001-555'\n",
            " '01.526.415/0001-393' '01.526.415/0001-201' '01.526.415/0001-567'\n",
            " '01.526.415/0001-572' '01.526.415/0001-219' '01.526.415/0001-233'\n",
            " '01.526.415/0001-241' '01.526.415/0001-236' '01.526.415/0001-238'\n",
            " '01.526.415/0001-237' '01.526.415/0001-243' '01.526.415/0001-406'\n",
            " '01.526.415/0001-404' '01.526.415/0001-251' '01.526.415/0001-609'\n",
            " '01.526.415/0001-612' '01.526.415/0001-273' '01.526.415/0001-277'\n",
            " '01.526.415/0001-305' '01.526.415/0001-418' '01.526.415/0001-639'\n",
            " '01.526.415/0001-483' '01.526.415/0001-646' '01.526.415/0001-647'\n",
            " '01.526.415/0001-293' '01.526.415/0001-485' '01.526.415/0001-298'\n",
            " '01.526.415/0001-655' '01.526.415/0001-675' '01.526.415/0001-597'\n",
            " '01.526.415/0001-440' '01.526.415/0001-118' '01.526.415/0001-517'\n",
            " '01.526.415/0001-629' '01.526.415/0001-228' '01.526.415/0001-334'\n",
            " '01.526.415/0001-182' '01.526.415/0001-507' '01.526.415/0001-315'\n",
            " '01.526.415/0001-158' '01.526.415/0001-268' '01.526.415/0001-314'\n",
            " '01.526.415/0001-312' '01.526.415/0001-164' '01.526.415/0001-301'\n",
            " '01.526.415/0001-217' '01.526.415/0001-326' '01.526.415/0001-370'\n",
            " '01.526.415/0001-150' '01.526.415/0001-461' '01.526.415/0001-531'\n",
            " '01.526.415/0001-295' '01.526.415/0001-505' '01.526.415/0001-435'\n",
            " '01.526.415/0001-308' '01.526.415/0001-512' '01.526.415/0001-234'\n",
            " '01.526.415/0001-414' '01.526.415/0001-632' '01.526.415/0001-353'\n",
            " '01.526.415/0001-516' '01.526.415/0001-145' '01.526.415/0001-328'\n",
            " '01.526.415/0001-475' '01.526.415/0001-450' '01.526.415/0001-611'\n",
            " '01.526.415/0001-524' '01.526.415/0001-166' '01.526.415/0001-678'\n",
            " '01.526.415/0001-596' '01.526.415/0001-384' '01.526.415/0001-570'\n",
            " '01.526.415/0001-652' '01.526.415/0001-620' '01.526.415/0001-371'\n",
            " '01.526.415/0001-444' '01.526.415/0001-556' '01.526.415/0001-565'\n",
            " '01.526.415/0001-595' '01.526.415/0001-468' '01.526.415/0001-356'\n",
            " '01.526.415/0001-538' '01.526.415/0001-630' '01.526.415/0001-300'\n",
            " '01.526.415/0001-641' '01.526.415/0001-594' '01.526.415/0001-561'\n",
            " '01.526.415/0001-368' '01.526.415/0001-668' '01.526.415/0001-683'\n",
            " '01.526.415/0001-513' '01.526.415/0001-403' '01.526.415/0001-454'\n",
            " '01.526.415/0001-376' '01.526.415/0001-459' '01.526.415/0001-547'\n",
            " '01.526.415/0001-598' '01.526.415/0001-548' '01.526.415/0001-287'\n",
            " '01.526.415/0001-625' '01.526.415/0001-589' '01.526.415/0001-487'\n",
            " '01.526.415/0001-489' '01.526.415/0001-617' '01.526.415/0001-657'\n",
            " '01.526.415/0001-623' '01.526.415/0001-627' '01.526.415/0001-680'\n",
            " '01.526.415/0001-654' '01.526.415/0001-665' '01.526.415/0001-156'\n",
            " '01.526.415/0001-583' '01.526.415/0001-272' '01.526.415/0001-111'\n",
            " '01.526.415/0001-585' '01.526.415/0001-167' '01.526.415/0001-263'\n",
            " '01.526.415/0001-316' '01.526.415/0001-337' '01.526.415/0001-390'\n",
            " '01.526.415/0001-125' '01.526.415/0001-89' '01.526.415/0001-266'\n",
            " '01.526.415/0001-102' '01.526.415/0001-103' '01.526.415/0001-108'\n",
            " '01.526.415/0001-134' '01.526.415/0001-154' '01.526.415/0001-139'\n",
            " '01.526.415/0001-77' '01.526.415/0001-78' '01.526.415/0001-194'\n",
            " '01.526.415/0001-229']\n",
            "['RJ' 'SP' 'PR' 'PE' 'BA' 'SE' 'MS' 'SC' 'DF' 'MG' 'RS' 'ES' 'TO' 'AP'\n",
            " 'CE' 'AM' 'AL' 'RN' 'MA' 'PI' 'PB' 'PA' 'MT' 'GO' 'RO']\n",
            "['Juizado Especial Cível' 'Vara Cível' 'Não informado' 'Outros']\n",
            "['Internacional']\n",
            "['Extinção sem julgamento do mérito'\n",
            " 'Decisão favorável à aérea (improcedência)' 'Condenação' 'Acordo'\n",
            " 'Não informado']\n",
            "['1ª Instância' '2ª Instância' 'Não informado']\n",
            "[2019 2020 2021 2022]\n"
          ]
        }
      ],
      "source": [
        "print(dados_united_original.empresa_re.unique())\n",
        "print(dados_united_original.cnpj_re.unique())\n",
        "print(dados_united_original.UF.unique())\n",
        "print(dados_united_original.jurisdicao.unique())\n",
        "print(dados_united_original.operacao.unique())\n",
        "print(dados_united_original.situacao_processual_sentenca.unique())\n",
        "print(dados_united_original.instancia.unique())\n",
        "print(dados_united_original.num_proc_ano.unique())"
      ]
    },
    {
      "cell_type": "code",
      "execution_count": null,
      "metadata": {
        "id": "yJ5WeDGwD4MM",
        "outputId": "a68aaabe-dcf7-49d6-8344-d49aa27f0e1e"
      },
      "outputs": [
        {
          "name": "stdout",
          "output_type": "stream",
          "text": [
            "<class 'pandas.core.frame.DataFrame'>\n",
            "Index: 10379 entries, 0 to 10388\n",
            "Data columns (total 36 columns):\n",
            " #   Column                        Non-Null Count  Dtype  \n",
            "---  ------                        --------------  -----  \n",
            " 0   empresa_re                    10379 non-null  object \n",
            " 1   numero_processo               10379 non-null  object \n",
            " 2   cnpj_re                       10379 non-null  object \n",
            " 3   data_distribuicao             10379 non-null  object \n",
            " 4   UF                            10379 non-null  object \n",
            " 5   jurisdicao                    10379 non-null  object \n",
            " 6   obj_principal                 10379 non-null  object \n",
            " 7   subobj_principal              10379 non-null  object \n",
            " 8   valor_pedido_inicial          10379 non-null  float64\n",
            " 9   n_autores                     10379 non-null  int32  \n",
            " 10  data_voo                      10379 non-null  object \n",
            " 11  operacao                      10379 non-null  object \n",
            " 12  causa_alegada                 10379 non-null  object \n",
            " 13  situacao_processual           10379 non-null  object \n",
            " 14  instancia                     10379 non-null  object \n",
            " 15  resultado_decisao_sentenca    10379 non-null  object \n",
            " 16  data_sentenca                 10379 non-null  object \n",
            " 17  valor_dano_moral              10379 non-null  float64\n",
            " 18  valor_dano_material           10379 non-null  float64\n",
            " 19  valor_total_condenacao        10379 non-null  float64\n",
            " 20  data_acordao                  10379 non-null  object \n",
            " 21  valor_pago                    10379 non-null  float64\n",
            " 22  num_proc_ano                  10379 non-null  int32  \n",
            " 23  numero_processo_regex         10379 non-null  object \n",
            " 24  obj_problemas_operacionais    10379 non-null  bool   \n",
            " 25  obj_bagagem                   10379 non-null  bool   \n",
            " 26  obj_contrato                  10379 non-null  bool   \n",
            " 27  obj_outros                    10379 non-null  bool   \n",
            " 28  causa_nao_informado           10379 non-null  bool   \n",
            " 29  causa_forca_maior             10379 non-null  bool   \n",
            " 30  causa_fortuitos               10379 non-null  bool   \n",
            " 31  causa_terceiros               10379 non-null  bool   \n",
            " 32  causa_cliente                 10379 non-null  bool   \n",
            " 33  causa_aerea                   10379 non-null  bool   \n",
            " 34  causa_outros                  10379 non-null  bool   \n",
            " 35  situacao_processual_sentenca  10379 non-null  object \n",
            "dtypes: bool(11), float64(5), int32(2), object(18)\n",
            "memory usage: 2.1+ MB\n"
          ]
        }
      ],
      "source": [
        "dados_united_original.info()"
      ]
    },
    {
      "cell_type": "code",
      "execution_count": null,
      "metadata": {
        "id": "Zx7guur8D4MN"
      },
      "outputs": [],
      "source": [
        "dados_united_original.to_csv('./UNITED/final/ajust_dados_united_original.csv',index=False)"
      ]
    },
    {
      "cell_type": "markdown",
      "metadata": {
        "id": "pOjQ1TK3D4MN",
        "jp-MarkdownHeadingCollapsed": true
      },
      "source": [
        "#### Dados complementares de 2019 a 2022"
      ]
    },
    {
      "cell_type": "markdown",
      "metadata": {
        "id": "awtx0pQZrSCk",
        "jp-MarkdownHeadingCollapsed": true
      },
      "source": [
        "##### Importando os dados"
      ]
    },
    {
      "cell_type": "code",
      "execution_count": null,
      "metadata": {
        "id": "svTVz54ED4MN"
      },
      "outputs": [],
      "source": [
        "dados_united_novos = pd.read_csv('./UNITED/base_complementar_united.csv',\n",
        "                               delimiter=';',low_memory=False)"
      ]
    },
    {
      "cell_type": "markdown",
      "metadata": {
        "jp-MarkdownHeadingCollapsed": true,
        "id": "inzb2jR6nozm"
      },
      "source": [
        "##### Ajustando as colunas e filtrando os dados"
      ]
    },
    {
      "cell_type": "code",
      "execution_count": null,
      "metadata": {
        "id": "t8WL6wJSD4MO"
      },
      "outputs": [],
      "source": [
        "dados_united_novos = dados_united_novos.drop(columns=['Ano', 'Situação processual_Sentenca'])"
      ]
    },
    {
      "cell_type": "code",
      "execution_count": null,
      "metadata": {
        "id": "AqeUg0kyD4MP"
      },
      "outputs": [],
      "source": [
        "dados_united_novos.columns = [\n",
        "  'empresa_re', 'cnpj_re', 'numero_processo', 'data_distribuicao', 'UF',\n",
        "  'n_autores', 'obj_principal', 'subobj_principal', 'operacao', 'jurisdicao',\n",
        "  'situacao_processual', 'resultado_decisao_sentenca', 'data_sentenca',\n",
        "  'data_acordao', 'valor_pedido_inicial', 'valor_dano_moral',\n",
        "  'valor_dano_material', 'valor_total_condenacao', 'valor_pago'\n",
        "]"
      ]
    },
    {
      "cell_type": "code",
      "execution_count": null,
      "metadata": {
        "id": "CfRYSj-OHQ0a"
      },
      "outputs": [],
      "source": [
        "dados_united_novos['data_voo'] = [''] * len(dados_united_novos)\n",
        "dados_united_novos['causa_alegada'] = [''] * len(dados_united_novos)\n",
        "dados_united_novos['instancia'] = [''] * len(dados_united_novos)"
      ]
    },
    {
      "cell_type": "code",
      "execution_count": null,
      "metadata": {
        "id": "EAmD6RxGD4MP"
      },
      "outputs": [],
      "source": [
        "# Criar coluna com ano baseado no número do processo\n",
        "dados_united_novos['num_proc_ano'] = dados_united_novos['numero_processo']. \\\n",
        "                      str.extract(r'\\d{7}-\\d{2}\\.(\\d{4})\\.\\d\\.\\d{2}\\.\\d{4}')"
      ]
    },
    {
      "cell_type": "code",
      "execution_count": null,
      "metadata": {
        "id": "ADQLq3dmD4MP"
      },
      "outputs": [],
      "source": [
        "dados_united_novos = dados_united_novos.dropna(subset = ['num_proc_ano'], axis=0)\n",
        "dados_united_novos = dados_united_novos.reset_index(drop=True)"
      ]
    },
    {
      "cell_type": "code",
      "execution_count": null,
      "metadata": {
        "id": "J80B-j1cD4MQ"
      },
      "outputs": [],
      "source": [
        "dados_united_novos.num_proc_ano = pd.to_numeric(dados_united_novos.num_proc_ano).astype(int)"
      ]
    },
    {
      "cell_type": "code",
      "execution_count": null,
      "metadata": {
        "id": "105Ab_Kcnozm",
        "outputId": "16c7ab11-9249-4164-c5d5-3de655728f7f"
      },
      "outputs": [
        {
          "data": {
            "text/plain": [
              "array([2019, 2020, 2021, 2022, 2023])"
            ]
          },
          "execution_count": 441,
          "metadata": {},
          "output_type": "execute_result"
        }
      ],
      "source": [
        "dados_united_novos.num_proc_ano.unique()"
      ]
    },
    {
      "cell_type": "code",
      "execution_count": null,
      "metadata": {
        "id": "nTPtBHI6D4MQ"
      },
      "outputs": [],
      "source": [
        "dados_united_novos = dados_united_novos[dados_united_novos['num_proc_ano'].\n",
        "                                          isin([2019,2020,2021,2022,2023])]"
      ]
    },
    {
      "cell_type": "code",
      "execution_count": null,
      "metadata": {
        "id": "7QH-MkB4D4MQ"
      },
      "outputs": [],
      "source": [
        "dados_united_novos.numero_processo = dados_united_novos.numero_processo.replace(pd.NA,'0')\n",
        "dados_united_novos['numero_processo_regex'] = dados_united_novos.numero_processo. \\\n",
        "      str.replace(r'[\\-\\\\.\\\\\" \"]', '', regex=True).str.slice(0,20)"
      ]
    },
    {
      "cell_type": "code",
      "execution_count": null,
      "metadata": {
        "id": "-mbgF35vD4MR"
      },
      "outputs": [],
      "source": [
        "dados_united_novos = dados_united_novos[[\n",
        "    'empresa_re', 'numero_processo', 'cnpj_re', 'data_distribuicao', 'UF',\n",
        "       'jurisdicao', 'obj_principal', 'subobj_principal',\n",
        "       'valor_pedido_inicial', 'n_autores', 'data_voo', 'operacao',\n",
        "       'causa_alegada', 'situacao_processual', 'instancia',\n",
        "       'resultado_decisao_sentenca', 'data_sentenca', 'valor_dano_moral',\n",
        "       'valor_dano_material', 'valor_total_condenacao', 'data_acordao',\n",
        "       'valor_pago', 'num_proc_ano', 'numero_processo_regex'\n",
        "]]"
      ]
    },
    {
      "cell_type": "markdown",
      "metadata": {
        "id": "RVbA8rE5D4MR",
        "jp-MarkdownHeadingCollapsed": true
      },
      "source": [
        "##### Ajustando os dados"
      ]
    },
    {
      "cell_type": "code",
      "execution_count": null,
      "metadata": {
        "id": "5IVgf6UOD4MS"
      },
      "outputs": [],
      "source": [
        "dados_united_novos = transforma_df(dados_united_novos)"
      ]
    },
    {
      "cell_type": "code",
      "execution_count": null,
      "metadata": {
        "id": "fsTOOlXgD4MS",
        "outputId": "ceb2d1d8-745f-4dc7-dc25-ee2e43c67113"
      },
      "outputs": [
        {
          "name": "stdout",
          "output_type": "stream",
          "text": [
            "['United']\n",
            "['01.526.415/0001-66']\n",
            "['RJ' 'MG' 'BA' 'ES' 'SP' 'SC' 'PR' 'DF' 'RO' 'CE' 'RS' 'PE' 'RN' 'GO'\n",
            " 'MT' 'MA' 'PB' 'MS' 'AL' 'AM' 'PA' 'SE' 'PI' 'TO']\n",
            "['Juizado Especial Cível' 'Vara Cível']\n",
            "['Internacional']\n",
            "['Não informado' 'Decisão favorável à aérea (improcedência)' 'Condenação'\n",
            " 'Acordo' 'Outros']\n",
            "['Não informado']\n",
            "[2019 2020 2021 2022 2023]\n"
          ]
        }
      ],
      "source": [
        "print(dados_united_novos.empresa_re.unique())\n",
        "print(dados_united_novos.cnpj_re.unique())\n",
        "print(dados_united_novos.UF.unique())\n",
        "print(dados_united_novos.jurisdicao.unique())\n",
        "print(dados_united_novos.operacao.unique())\n",
        "print(dados_united_novos.situacao_processual_sentenca.unique())\n",
        "print(dados_united_novos.instancia.unique())\n",
        "print(dados_united_novos.num_proc_ano.unique())"
      ]
    },
    {
      "cell_type": "code",
      "execution_count": null,
      "metadata": {
        "id": "YcesP25WD4MT",
        "outputId": "fd72535d-1309-4e03-8b41-cfc5d38f9011"
      },
      "outputs": [
        {
          "name": "stdout",
          "output_type": "stream",
          "text": [
            "<class 'pandas.core.frame.DataFrame'>\n",
            "RangeIndex: 3688 entries, 0 to 3687\n",
            "Data columns (total 36 columns):\n",
            " #   Column                        Non-Null Count  Dtype  \n",
            "---  ------                        --------------  -----  \n",
            " 0   empresa_re                    3688 non-null   object \n",
            " 1   numero_processo               3688 non-null   object \n",
            " 2   cnpj_re                       3688 non-null   object \n",
            " 3   data_distribuicao             3688 non-null   object \n",
            " 4   UF                            3688 non-null   object \n",
            " 5   jurisdicao                    3688 non-null   object \n",
            " 6   obj_principal                 3688 non-null   object \n",
            " 7   subobj_principal              3688 non-null   object \n",
            " 8   valor_pedido_inicial          3688 non-null   float64\n",
            " 9   n_autores                     3688 non-null   int32  \n",
            " 10  data_voo                      3688 non-null   object \n",
            " 11  operacao                      3688 non-null   object \n",
            " 12  causa_alegada                 3688 non-null   object \n",
            " 13  situacao_processual           3688 non-null   object \n",
            " 14  instancia                     3688 non-null   object \n",
            " 15  resultado_decisao_sentenca    3688 non-null   object \n",
            " 16  data_sentenca                 3688 non-null   object \n",
            " 17  valor_dano_moral              3688 non-null   float64\n",
            " 18  valor_dano_material           3688 non-null   float64\n",
            " 19  valor_total_condenacao        3688 non-null   float64\n",
            " 20  data_acordao                  3688 non-null   object \n",
            " 21  valor_pago                    3688 non-null   float64\n",
            " 22  num_proc_ano                  3688 non-null   int32  \n",
            " 23  numero_processo_regex         3688 non-null   object \n",
            " 24  obj_problemas_operacionais    3688 non-null   bool   \n",
            " 25  obj_bagagem                   3688 non-null   bool   \n",
            " 26  obj_contrato                  3688 non-null   bool   \n",
            " 27  obj_outros                    3688 non-null   bool   \n",
            " 28  causa_nao_informado           3688 non-null   bool   \n",
            " 29  causa_forca_maior             3688 non-null   bool   \n",
            " 30  causa_fortuitos               3688 non-null   bool   \n",
            " 31  causa_terceiros               3688 non-null   bool   \n",
            " 32  causa_cliente                 3688 non-null   bool   \n",
            " 33  causa_aerea                   3688 non-null   bool   \n",
            " 34  causa_outros                  3688 non-null   bool   \n",
            " 35  situacao_processual_sentenca  3688 non-null   object \n",
            "dtypes: bool(11), float64(5), int32(2), object(18)\n",
            "memory usage: 731.2+ KB\n"
          ]
        }
      ],
      "source": [
        "dados_united_novos.info()"
      ]
    },
    {
      "cell_type": "code",
      "execution_count": null,
      "metadata": {
        "id": "_ki9kxA4D4MT"
      },
      "outputs": [],
      "source": [
        "dados_united_novos.to_csv('./UNITED/final/ajust_dados_united_novos.csv',index=False)"
      ]
    },
    {
      "cell_type": "markdown",
      "metadata": {
        "id": "1r-EVHVvD4MZ",
        "jp-MarkdownHeadingCollapsed": true
      },
      "source": [
        "#### Consolidando bases de dados da United"
      ]
    },
    {
      "cell_type": "code",
      "execution_count": null,
      "metadata": {
        "id": "QpMOp9KbD4MZ"
      },
      "outputs": [],
      "source": [
        "dados_united_original = pd.read_csv('./UNITED/final/ajust_dados_united_original.csv',\n",
        "                                 low_memory=False)"
      ]
    },
    {
      "cell_type": "code",
      "execution_count": null,
      "metadata": {
        "id": "n_b3y6dOD4MZ"
      },
      "outputs": [],
      "source": [
        "dados_united_novos = pd.read_csv('./UNITED/final/ajust_dados_united_novos.csv',low_memory=False)"
      ]
    },
    {
      "cell_type": "code",
      "execution_count": null,
      "metadata": {
        "id": "ynWWJXXwD4Ma"
      },
      "outputs": [],
      "source": [
        "dados_united = pd.concat([dados_united_original,dados_united_novos],axis=0)"
      ]
    },
    {
      "cell_type": "code",
      "execution_count": null,
      "metadata": {
        "id": "9SBjwmi7D4Ma",
        "outputId": "d2676a39-28f8-4027-8cef-7c21434202bf"
      },
      "outputs": [
        {
          "data": {
            "text/plain": [
              "(14067, 36)"
            ]
          },
          "execution_count": 454,
          "metadata": {},
          "output_type": "execute_result"
        }
      ],
      "source": [
        "dados_united.shape"
      ]
    },
    {
      "cell_type": "code",
      "execution_count": null,
      "metadata": {
        "id": "SEMSj3N9D4Ma",
        "outputId": "123f1d50-88e0-4e0d-a181-e3cec596a7a9"
      },
      "outputs": [
        {
          "data": {
            "text/plain": [
              "empresa_re                          0\n",
              "numero_processo                     0\n",
              "cnpj_re                             0\n",
              "data_distribuicao                   0\n",
              "UF                                  0\n",
              "jurisdicao                          0\n",
              "obj_principal                       0\n",
              "subobj_principal                  595\n",
              "valor_pedido_inicial                0\n",
              "n_autores                           0\n",
              "data_voo                         3688\n",
              "operacao                            0\n",
              "causa_alegada                    3688\n",
              "situacao_processual                28\n",
              "instancia                           0\n",
              "resultado_decisao_sentenca        532\n",
              "data_sentenca                    1979\n",
              "valor_dano_moral                    0\n",
              "valor_dano_material                 0\n",
              "valor_total_condenacao              0\n",
              "data_acordao                    12276\n",
              "valor_pago                          0\n",
              "num_proc_ano                        0\n",
              "numero_processo_regex               0\n",
              "obj_problemas_operacionais          0\n",
              "obj_bagagem                         0\n",
              "obj_contrato                        0\n",
              "obj_outros                          0\n",
              "causa_nao_informado                 0\n",
              "causa_forca_maior                   0\n",
              "causa_fortuitos                     0\n",
              "causa_terceiros                     0\n",
              "causa_cliente                       0\n",
              "causa_aerea                         0\n",
              "causa_outros                        0\n",
              "situacao_processual_sentenca        0\n",
              "dtype: int64"
            ]
          },
          "execution_count": 455,
          "metadata": {},
          "output_type": "execute_result"
        }
      ],
      "source": [
        "dados_united.isnull().sum()"
      ]
    },
    {
      "cell_type": "code",
      "execution_count": null,
      "metadata": {
        "id": "zsRBpl0CD4Ma",
        "outputId": "a3733ec4-fe9c-482c-848c-6026b4c305a7"
      },
      "outputs": [
        {
          "name": "stdout",
          "output_type": "stream",
          "text": [
            "<class 'pandas.core.frame.DataFrame'>\n",
            "Index: 14067 entries, 0 to 3687\n",
            "Data columns (total 36 columns):\n",
            " #   Column                        Non-Null Count  Dtype  \n",
            "---  ------                        --------------  -----  \n",
            " 0   empresa_re                    14067 non-null  object \n",
            " 1   numero_processo               14067 non-null  object \n",
            " 2   cnpj_re                       14067 non-null  object \n",
            " 3   data_distribuicao             14067 non-null  object \n",
            " 4   UF                            14067 non-null  object \n",
            " 5   jurisdicao                    14067 non-null  object \n",
            " 6   obj_principal                 14067 non-null  object \n",
            " 7   subobj_principal              13472 non-null  object \n",
            " 8   valor_pedido_inicial          14067 non-null  float64\n",
            " 9   n_autores                     14067 non-null  int64  \n",
            " 10  data_voo                      10379 non-null  object \n",
            " 11  operacao                      14067 non-null  object \n",
            " 12  causa_alegada                 10379 non-null  object \n",
            " 13  situacao_processual           14039 non-null  object \n",
            " 14  instancia                     14067 non-null  object \n",
            " 15  resultado_decisao_sentenca    13535 non-null  object \n",
            " 16  data_sentenca                 12088 non-null  object \n",
            " 17  valor_dano_moral              14067 non-null  float64\n",
            " 18  valor_dano_material           14067 non-null  float64\n",
            " 19  valor_total_condenacao        14067 non-null  float64\n",
            " 20  data_acordao                  1791 non-null   object \n",
            " 21  valor_pago                    14067 non-null  float64\n",
            " 22  num_proc_ano                  14067 non-null  int64  \n",
            " 23  numero_processo_regex         14067 non-null  object \n",
            " 24  obj_problemas_operacionais    14067 non-null  bool   \n",
            " 25  obj_bagagem                   14067 non-null  bool   \n",
            " 26  obj_contrato                  14067 non-null  bool   \n",
            " 27  obj_outros                    14067 non-null  bool   \n",
            " 28  causa_nao_informado           14067 non-null  bool   \n",
            " 29  causa_forca_maior             14067 non-null  bool   \n",
            " 30  causa_fortuitos               14067 non-null  bool   \n",
            " 31  causa_terceiros               14067 non-null  bool   \n",
            " 32  causa_cliente                 14067 non-null  bool   \n",
            " 33  causa_aerea                   14067 non-null  bool   \n",
            " 34  causa_outros                  14067 non-null  bool   \n",
            " 35  situacao_processual_sentenca  14067 non-null  object \n",
            "dtypes: bool(11), float64(5), int64(2), object(18)\n",
            "memory usage: 2.9+ MB\n"
          ]
        }
      ],
      "source": [
        "dados_united.info()"
      ]
    },
    {
      "cell_type": "code",
      "execution_count": null,
      "metadata": {
        "id": "rMc3w5I_D4Ma"
      },
      "outputs": [],
      "source": [
        "dados_united = dados_united.sort_values(by=['empresa_re',\n",
        "                                      'numero_processo_regex'], ascending=True)"
      ]
    },
    {
      "cell_type": "code",
      "execution_count": null,
      "metadata": {
        "id": "QJfjBI8yD4Mb"
      },
      "outputs": [],
      "source": [
        "dados_united = dados_united.drop_duplicates(subset=['empresa_re',\n",
        "                                        'numero_processo_regex'],keep='first')"
      ]
    },
    {
      "cell_type": "code",
      "execution_count": null,
      "metadata": {
        "id": "Dy8muVdcD4Mb"
      },
      "outputs": [],
      "source": [
        "dados_united = dados_united[dados_united.UF.isin(['AM', 'BA', 'CE', 'DF', 'ES', 'GO',\n",
        "            'MG', 'MS', 'MT', 'PE', 'PR', 'RJ', 'RO', 'SC', 'SP', 'TO'])]"
      ]
    },
    {
      "cell_type": "code",
      "execution_count": null,
      "metadata": {
        "id": "DOmHda50D4Mb"
      },
      "outputs": [],
      "source": [
        "dados_united = dados_united.reset_index(drop=True)"
      ]
    },
    {
      "cell_type": "code",
      "execution_count": null,
      "metadata": {
        "id": "Pr1f74XgD4Mb",
        "outputId": "ca79cb9e-9dae-4f3d-d476-c32eea6e33e4"
      },
      "outputs": [
        {
          "data": {
            "text/plain": [
              "(8121, 36)"
            ]
          },
          "execution_count": 461,
          "metadata": {},
          "output_type": "execute_result"
        }
      ],
      "source": [
        "dados_united.shape"
      ]
    },
    {
      "cell_type": "code",
      "execution_count": null,
      "metadata": {
        "id": "VxV2vfeND4Mb"
      },
      "outputs": [],
      "source": [
        "dados_united.to_csv('./UNITED/final/united_dados_consolidados_FINAL.csv',index=False)"
      ]
    },
    {
      "cell_type": "markdown",
      "metadata": {
        "id": "06Wk2wUB-WKV",
        "jp-MarkdownHeadingCollapsed": true
      },
      "source": [
        "### Agrupando todas as bases e gerando arquivo único"
      ]
    },
    {
      "cell_type": "code",
      "execution_count": null,
      "metadata": {
        "id": "ciJSa-mbMPaH"
      },
      "outputs": [],
      "source": [
        "dados_azul = pd.read_csv('./AZUL/final/azul_dados_consolidados_FINAL.csv',low_memory=False)\n",
        "dados_gol = pd.read_csv('./GOL/final/gol_dados_consolidados_FINAL.csv',low_memory=False)\n",
        "dados_latam = pd.read_csv('./LATAM/final/latam_dados_consolidados_FINAL.csv',low_memory=False)\n",
        "dados_copa = pd.read_csv('./COPA/final/copa_dados_consolidados_FINAL.csv',low_memory=False)\n",
        "dados_tap = pd.read_csv('./TAP/final/tap_dados_consolidados_FINAL.csv',low_memory=False)\n",
        "dados_united = pd.read_csv('./UNITED/final/united_dados_consolidados_FINAL.csv',low_memory=False)"
      ]
    },
    {
      "cell_type": "code",
      "execution_count": null,
      "metadata": {
        "id": "hTLOogyPM2t_"
      },
      "outputs": [],
      "source": [
        "dados_judicializacao_final = pd.concat([dados_azul,dados_gol,dados_latam,dados_copa,\n",
        "                                   dados_tap,dados_united],axis=0)"
      ]
    },
    {
      "cell_type": "code",
      "execution_count": null,
      "metadata": {
        "id": "quJZ66c2Aq8Z",
        "outputId": "2d7a7fdd-391e-469d-a923-593077563b30"
      },
      "outputs": [
        {
          "data": {
            "text/plain": [
              "(555625, 36)"
            ]
          },
          "execution_count": 466,
          "metadata": {},
          "output_type": "execute_result"
        }
      ],
      "source": [
        "dados_judicializacao_final.shape"
      ]
    },
    {
      "cell_type": "code",
      "execution_count": null,
      "metadata": {
        "id": "H2ioE_mcbEWY",
        "outputId": "ad3c8ad2-acf7-41fc-b7b6-7ab80cbf8a4c"
      },
      "outputs": [
        {
          "name": "stdout",
          "output_type": "stream",
          "text": [
            "<class 'pandas.core.frame.DataFrame'>\n",
            "Index: 555625 entries, 0 to 8120\n",
            "Data columns (total 36 columns):\n",
            " #   Column                        Non-Null Count   Dtype  \n",
            "---  ------                        --------------   -----  \n",
            " 0   empresa_re                    555625 non-null  object \n",
            " 1   numero_processo               555625 non-null  object \n",
            " 2   cnpj_re                       555625 non-null  object \n",
            " 3   data_distribuicao             555525 non-null  object \n",
            " 4   UF                            555625 non-null  object \n",
            " 5   jurisdicao                    555625 non-null  object \n",
            " 6   obj_principal                 489101 non-null  object \n",
            " 7   subobj_principal              347341 non-null  object \n",
            " 8   valor_pedido_inicial          555625 non-null  float64\n",
            " 9   n_autores                     555625 non-null  int64  \n",
            " 10  data_voo                      486151 non-null  object \n",
            " 11  operacao                      555625 non-null  object \n",
            " 12  causa_alegada                 445426 non-null  object \n",
            " 13  situacao_processual           473616 non-null  object \n",
            " 14  instancia                     555625 non-null  object \n",
            " 15  resultado_decisao_sentenca    443259 non-null  object \n",
            " 16  data_sentenca                 376926 non-null  object \n",
            " 17  valor_dano_moral              555625 non-null  float64\n",
            " 18  valor_dano_material           555625 non-null  float64\n",
            " 19  valor_total_condenacao        555625 non-null  float64\n",
            " 20  data_acordao                  142517 non-null  object \n",
            " 21  valor_pago                    555625 non-null  float64\n",
            " 22  num_proc_ano                  555625 non-null  int64  \n",
            " 23  numero_processo_regex         555625 non-null  object \n",
            " 24  obj_problemas_operacionais    555625 non-null  bool   \n",
            " 25  obj_bagagem                   555625 non-null  bool   \n",
            " 26  obj_contrato                  555625 non-null  bool   \n",
            " 27  obj_outros                    555625 non-null  bool   \n",
            " 28  causa_nao_informado           555625 non-null  bool   \n",
            " 29  causa_forca_maior             555625 non-null  bool   \n",
            " 30  causa_fortuitos               555625 non-null  bool   \n",
            " 31  causa_terceiros               555625 non-null  bool   \n",
            " 32  causa_cliente                 555625 non-null  bool   \n",
            " 33  causa_aerea                   555625 non-null  bool   \n",
            " 34  causa_outros                  555625 non-null  bool   \n",
            " 35  situacao_processual_sentenca  555625 non-null  object \n",
            "dtypes: bool(11), float64(5), int64(2), object(18)\n",
            "memory usage: 116.0+ MB\n"
          ]
        }
      ],
      "source": [
        "dados_judicializacao_final.info()"
      ]
    },
    {
      "cell_type": "code",
      "execution_count": null,
      "metadata": {
        "id": "9fCkoTlQ-WKf"
      },
      "outputs": [],
      "source": [
        "dados_judicializacao_final.to_csv('base_judicializacao_ajustada.csv',index=False)"
      ]
    }
  ],
  "metadata": {
    "colab": {
      "collapsed_sections": [
        "MS1Gs1R2-agh",
        "ZEU7cs8lYB2r",
        "E0eYfLA9Y6q7",
        "Pb8STumCcG-I",
        "m5rKrS0ug6_N",
        "9GmQ2joJhquf",
        "q8wshjLglpSi",
        "U2EZpI3B_lLT",
        "xQt5BT83LKod",
        "KhxBJMPvboVU",
        "d2w3IPmLo45c",
        "Ms5rUWGVqDxi",
        "8tMIW-rUskgA",
        "qmYvDn7crnVj",
        "2d5h6eOn0Dir",
        "i9Gqzeqz0bH5",
        "t4soS4MR016h",
        "IFpBDmOb3XDw",
        "TYG6SLmd4Ddv",
        "DytotRAS4oJW",
        "-NsidW_8KZP1",
        "9Oq9Z2_5-e6s",
        "dQCy15279bTN",
        "nBv2o9zT-Yc5",
        "moVLSdC1fLfY",
        "VCMbLOPzVx5P",
        "bYfUU4jnJlyW",
        "GU9OmmuyJeFu",
        "qXE6eXb-2XQ-",
        "z9kbgB2MYJ5O",
        "4nxSwYN1RzRn",
        "Ww3IR_qsRzRn",
        "fPieid22D4xx",
        "iRkKQIWwZx3s",
        "Ty9Fz8RwGv_m",
        "UvLLUjq2Gv_p",
        "YSPJ9QwIR1TQ",
        "e3atTnpnY8AE",
        "bcx9fYNOk3rY",
        "In2Pp9O7feAk",
        "wQqQR3MIar-z",
        "yg8nPjHmfeAn",
        "hJ9-IexwfeAo",
        "GG95tAPw-myz",
        "wC3PndRBcXfy",
        "45sVtFIUksfS",
        "xRFA7lYWrSGB",
        "mVMeeBIB44bo",
        "CznxVU0Xdedo",
        "uNoWy_8qc9kP",
        "ToJdkFMfeFSu",
        "Grog0JjoE30j",
        "RwtduNj4FQXD",
        "y-f-YRot5ptT",
        "7UcTqfgydAOI",
        "3tGdD8wpiWWm",
        "ZQV3GloKlhqD",
        "AAdlwYbweNIQ",
        "7K6DJzXAlkdy",
        "SSxNWpynl0lZ",
        "PqmF9mIyl8pC",
        "zGZq_lEQlr7a",
        "7_4Qp_vDxPIe",
        "RS-32PyCxPIg",
        "LabDFv4HmChb",
        "a7OCKzPomoTw",
        "c-JmcQ-mzs5N",
        "u34kSRWizs5N",
        "m6WPZnnMmG1S",
        "8dDRndsZmLdU",
        "dyHsRzEZhazY",
        "uAW0ki8f55AV",
        "2rXuorOpoEXe",
        "Khh_8SBY55Ac",
        "BPs-vKUR55Ad",
        "TG8H6XtylRRN",
        "JVZUgsTjqiQc",
        "apDLLqoHthHH",
        "wfXs5sg6thHI",
        "wZgQi5KYssE1",
        "oayxAngqqpds",
        "Uhvureknv_lH",
        "1RO-3DUZv_lI",
        "95c8dEvTwfMd",
        "F7i7-AVcwfMf",
        "rfs6UZ6Y1ocU",
        "DtCNEMsn0TG7",
        "yR5VZlqvq1U0",
        "3qbocgxS0TG9",
        "b0m3LSWT0TG-",
        "25912n9D0TG_",
        "53l1kLVIq67T",
        "-fm38k1T0THB",
        "F3uMFfcp0THB",
        "DFqZfCkL0THC",
        "TnJFSykBrBB7",
        "-01L733y0THF",
        "wehOFSxW0THF",
        "IAMyzJUJ0THG",
        "UpltEtkB0THH",
        "LdeE_E8c1qk1",
        "oUcRPfbjD4MC",
        "I065NyLOrL78",
        "f7NXrpIRD4ML",
        "tvgQ2A4bD4MM",
        "pOjQ1TK3D4MN",
        "awtx0pQZrSCk",
        "RVbA8rE5D4MR",
        "HrCz1258D4MS",
        "1r-EVHVvD4MZ",
        "LZFjZiN3D4Mb",
        "06Wk2wUB-WKV",
        "jIF4bU1CMQ0j",
        "LA6P4GN5-rfd",
        "moz_YAAIJ6yx",
        "viXcEw31KCxB",
        "IdVipHyj7DPm",
        "zc81-xKwUcFz",
        "6pNL05ZBE9BX",
        "mdgh17O-23iM",
        "aDMZ5VA6cQJm",
        "4NYgvRrTxeQp",
        "qy2Z16x1cZtW"
      ],
      "provenance": [],
      "include_colab_link": true
    },
    "kernelspec": {
      "display_name": "Python 3 (ipykernel)",
      "language": "python",
      "name": "python3"
    },
    "language_info": {
      "codemirror_mode": {
        "name": "ipython",
        "version": 3
      },
      "file_extension": ".py",
      "mimetype": "text/x-python",
      "name": "python",
      "nbconvert_exporter": "python",
      "pygments_lexer": "ipython3",
      "version": "3.12.4"
    }
  },
  "nbformat": 4,
  "nbformat_minor": 0
}
